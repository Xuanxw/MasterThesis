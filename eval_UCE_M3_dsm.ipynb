{
 "cells": [
  {
   "cell_type": "code",
   "execution_count": 2,
   "metadata": {},
   "outputs": [],
   "source": [
    "import numpy as np\n",
    "import plotly.graph_objects as go\n",
    "import plotly.express as px\n",
    "from plotly.subplots import make_subplots"
   ]
  },
  {
   "cell_type": "code",
   "execution_count": 3,
   "metadata": {},
   "outputs": [
    {
     "data": {
      "application/vnd.plotly.v1+json": {
       "config": {
        "plotlyServerURL": "https://plot.ly"
       },
       "data": [
        {
         "legendgroup": "UCE-M3",
         "marker": {
          "color": "green"
         },
         "mode": "lines+markers",
         "name": "UCE-M3",
         "opacity": 0.6,
         "showlegend": true,
         "type": "scatter",
         "x": [
          0,
          1,
          2,
          3,
          4,
          5,
          6,
          7,
          8,
          9,
          10,
          11,
          12,
          13,
          14,
          15
         ],
         "xaxis": "x",
         "y": [
          0.063,
          -0.047,
          -0.019,
          0.01,
          0.062,
          0.056,
          0.046,
          0.044,
          0.056,
          0.025,
          0.04,
          0.053,
          0.002,
          0.097,
          0.068,
          0.028
         ],
         "yaxis": "y"
        },
        {
         "legendgroup": "UCE-4",
         "marker": {
          "color": "navy"
         },
         "mode": "lines+markers",
         "name": "Camera A",
         "opacity": 0.6,
         "showlegend": true,
         "type": "scatter",
         "x": [
          0,
          1,
          2,
          3,
          4,
          5,
          6,
          7,
          8,
          9,
          10,
          11,
          12,
          13,
          14,
          15
         ],
         "xaxis": "x",
         "y": [
          -0.018,
          0.024,
          -0.042,
          0.005,
          0.002,
          -0.019,
          0.045,
          0.015,
          -0.03,
          -0.024,
          -0.007,
          0.053,
          -0.024,
          0.063,
          0.013,
          0.011
         ],
         "yaxis": "y"
        },
        {
         "legendgroup": "DMC-4",
         "marker": {
          "color": "orange"
         },
         "mode": "lines+markers",
         "name": "Camera B",
         "opacity": 0.6,
         "showlegend": true,
         "type": "scatter",
         "x": [
          0,
          1,
          2,
          3,
          4,
          5,
          6,
          7,
          8,
          9,
          10,
          11,
          12,
          13,
          14,
          15
         ],
         "xaxis": "x",
         "y": [
          0.058,
          0.196,
          -0.001,
          0.016,
          0.079,
          0.054,
          0.147,
          0.152,
          0.11,
          0.034,
          0.147,
          0.123,
          0.061,
          0.179,
          0.075,
          0.024
         ],
         "yaxis": "y"
        },
        {
         "legendgroup": "UM-2",
         "marker": {
          "color": "red"
         },
         "mode": "lines+markers",
         "name": "Camera C",
         "opacity": 0.6,
         "showlegend": true,
         "type": "scatter",
         "x": [
          0,
          1,
          2,
          3,
          4,
          5,
          6,
          7,
          8,
          9,
          10,
          11,
          12,
          13,
          14,
          15
         ],
         "xaxis": "x",
         "y": [
          -0.004,
          0.02,
          -0.034,
          -0.017,
          0.019,
          -0.039,
          0.078,
          -0.027,
          -0.064,
          -0.017,
          -0.051,
          -0.034,
          -0.085,
          -0.01,
          -0.02,
          -0.07
         ],
         "yaxis": "y"
        },
        {
         "legendgroup": "UCE-M3",
         "marker": {
          "color": "green"
         },
         "mode": "lines+markers",
         "name": "UCE-M3",
         "opacity": 0.6,
         "showlegend": false,
         "type": "scatter",
         "x": [
          0,
          1,
          2,
          3,
          4,
          5,
          6,
          7,
          8,
          9,
          10,
          11,
          12
         ],
         "xaxis": "x2",
         "y": [
          0.014,
          0.073,
          0.043,
          0.06,
          0.022,
          0.049,
          0.06,
          0.044,
          0.087,
          0.064,
          0.075,
          0.085,
          0.061
         ],
         "yaxis": "y2"
        },
        {
         "legendgroup": "UCE-4",
         "marker": {
          "color": "navy"
         },
         "mode": "lines+markers",
         "name": "UCE-4",
         "opacity": 0.6,
         "showlegend": false,
         "type": "scatter",
         "x": [
          0,
          1,
          2,
          3,
          4,
          5,
          6,
          7,
          8,
          9,
          10,
          11,
          12
         ],
         "xaxis": "x2",
         "y": [
          0.006,
          -0.054,
          -0.012,
          -0.029,
          -0.004,
          -0.004,
          0.009,
          -0.022,
          0.005,
          -0.016,
          0.031,
          0.009,
          0.076
         ],
         "yaxis": "y2"
        },
        {
         "legendgroup": "DMC-4",
         "marker": {
          "color": "orange"
         },
         "mode": "lines+markers",
         "name": "DMC-4",
         "opacity": 0.6,
         "showlegend": false,
         "type": "scatter",
         "x": [
          0,
          1,
          2,
          3,
          4,
          5,
          6,
          7,
          8,
          9,
          10,
          11,
          12
         ],
         "xaxis": "x2",
         "y": [
          0.075,
          -0.005,
          0.089,
          0.076,
          0.114,
          0.185,
          0.115,
          0.011,
          0.076,
          0.138,
          0.052,
          0.134,
          0.14
         ],
         "yaxis": "y2"
        },
        {
         "legendgroup": "UM-2",
         "marker": {
          "color": "red"
         },
         "mode": "lines+markers",
         "name": "UM-2",
         "opacity": 0.6,
         "showlegend": false,
         "type": "scatter",
         "x": [
          0,
          1,
          2,
          3,
          4,
          5,
          6,
          7,
          8,
          9,
          10,
          11,
          12
         ],
         "xaxis": "x2",
         "y": [
          -0.039,
          -0.035,
          -0.05,
          -0.039,
          -0.068,
          -0.058,
          -0.054,
          -0.088,
          0.019,
          -0.038,
          -0.038,
          -0.001,
          0.012
         ],
         "yaxis": "y2"
        }
       ],
       "layout": {
        "annotations": [
         {
          "font": {
           "size": 16
          },
          "showarrow": false,
          "text": "Diff-Z between GCP and sampled DSM point",
          "x": 0.5,
          "xanchor": "center",
          "xref": "paper",
          "y": 1,
          "yanchor": "bottom",
          "yref": "paper"
         },
         {
          "font": {
           "size": 16
          },
          "showarrow": false,
          "text": "Diff-Z between ChP and sampled DSM point",
          "x": 0.5,
          "xanchor": "center",
          "xref": "paper",
          "y": 0.375,
          "yanchor": "bottom",
          "yref": "paper"
         }
        ],
        "plot_bgcolor": "white",
        "template": {
         "data": {
          "bar": [
           {
            "error_x": {
             "color": "#2a3f5f"
            },
            "error_y": {
             "color": "#2a3f5f"
            },
            "marker": {
             "line": {
              "color": "#E5ECF6",
              "width": 0.5
             },
             "pattern": {
              "fillmode": "overlay",
              "size": 10,
              "solidity": 0.2
             }
            },
            "type": "bar"
           }
          ],
          "barpolar": [
           {
            "marker": {
             "line": {
              "color": "#E5ECF6",
              "width": 0.5
             },
             "pattern": {
              "fillmode": "overlay",
              "size": 10,
              "solidity": 0.2
             }
            },
            "type": "barpolar"
           }
          ],
          "carpet": [
           {
            "aaxis": {
             "endlinecolor": "#2a3f5f",
             "gridcolor": "white",
             "linecolor": "white",
             "minorgridcolor": "white",
             "startlinecolor": "#2a3f5f"
            },
            "baxis": {
             "endlinecolor": "#2a3f5f",
             "gridcolor": "white",
             "linecolor": "white",
             "minorgridcolor": "white",
             "startlinecolor": "#2a3f5f"
            },
            "type": "carpet"
           }
          ],
          "choropleth": [
           {
            "colorbar": {
             "outlinewidth": 0,
             "ticks": ""
            },
            "type": "choropleth"
           }
          ],
          "contour": [
           {
            "colorbar": {
             "outlinewidth": 0,
             "ticks": ""
            },
            "colorscale": [
             [
              0,
              "#0d0887"
             ],
             [
              0.1111111111111111,
              "#46039f"
             ],
             [
              0.2222222222222222,
              "#7201a8"
             ],
             [
              0.3333333333333333,
              "#9c179e"
             ],
             [
              0.4444444444444444,
              "#bd3786"
             ],
             [
              0.5555555555555556,
              "#d8576b"
             ],
             [
              0.6666666666666666,
              "#ed7953"
             ],
             [
              0.7777777777777778,
              "#fb9f3a"
             ],
             [
              0.8888888888888888,
              "#fdca26"
             ],
             [
              1,
              "#f0f921"
             ]
            ],
            "type": "contour"
           }
          ],
          "contourcarpet": [
           {
            "colorbar": {
             "outlinewidth": 0,
             "ticks": ""
            },
            "type": "contourcarpet"
           }
          ],
          "heatmap": [
           {
            "colorbar": {
             "outlinewidth": 0,
             "ticks": ""
            },
            "colorscale": [
             [
              0,
              "#0d0887"
             ],
             [
              0.1111111111111111,
              "#46039f"
             ],
             [
              0.2222222222222222,
              "#7201a8"
             ],
             [
              0.3333333333333333,
              "#9c179e"
             ],
             [
              0.4444444444444444,
              "#bd3786"
             ],
             [
              0.5555555555555556,
              "#d8576b"
             ],
             [
              0.6666666666666666,
              "#ed7953"
             ],
             [
              0.7777777777777778,
              "#fb9f3a"
             ],
             [
              0.8888888888888888,
              "#fdca26"
             ],
             [
              1,
              "#f0f921"
             ]
            ],
            "type": "heatmap"
           }
          ],
          "heatmapgl": [
           {
            "colorbar": {
             "outlinewidth": 0,
             "ticks": ""
            },
            "colorscale": [
             [
              0,
              "#0d0887"
             ],
             [
              0.1111111111111111,
              "#46039f"
             ],
             [
              0.2222222222222222,
              "#7201a8"
             ],
             [
              0.3333333333333333,
              "#9c179e"
             ],
             [
              0.4444444444444444,
              "#bd3786"
             ],
             [
              0.5555555555555556,
              "#d8576b"
             ],
             [
              0.6666666666666666,
              "#ed7953"
             ],
             [
              0.7777777777777778,
              "#fb9f3a"
             ],
             [
              0.8888888888888888,
              "#fdca26"
             ],
             [
              1,
              "#f0f921"
             ]
            ],
            "type": "heatmapgl"
           }
          ],
          "histogram": [
           {
            "marker": {
             "pattern": {
              "fillmode": "overlay",
              "size": 10,
              "solidity": 0.2
             }
            },
            "type": "histogram"
           }
          ],
          "histogram2d": [
           {
            "colorbar": {
             "outlinewidth": 0,
             "ticks": ""
            },
            "colorscale": [
             [
              0,
              "#0d0887"
             ],
             [
              0.1111111111111111,
              "#46039f"
             ],
             [
              0.2222222222222222,
              "#7201a8"
             ],
             [
              0.3333333333333333,
              "#9c179e"
             ],
             [
              0.4444444444444444,
              "#bd3786"
             ],
             [
              0.5555555555555556,
              "#d8576b"
             ],
             [
              0.6666666666666666,
              "#ed7953"
             ],
             [
              0.7777777777777778,
              "#fb9f3a"
             ],
             [
              0.8888888888888888,
              "#fdca26"
             ],
             [
              1,
              "#f0f921"
             ]
            ],
            "type": "histogram2d"
           }
          ],
          "histogram2dcontour": [
           {
            "colorbar": {
             "outlinewidth": 0,
             "ticks": ""
            },
            "colorscale": [
             [
              0,
              "#0d0887"
             ],
             [
              0.1111111111111111,
              "#46039f"
             ],
             [
              0.2222222222222222,
              "#7201a8"
             ],
             [
              0.3333333333333333,
              "#9c179e"
             ],
             [
              0.4444444444444444,
              "#bd3786"
             ],
             [
              0.5555555555555556,
              "#d8576b"
             ],
             [
              0.6666666666666666,
              "#ed7953"
             ],
             [
              0.7777777777777778,
              "#fb9f3a"
             ],
             [
              0.8888888888888888,
              "#fdca26"
             ],
             [
              1,
              "#f0f921"
             ]
            ],
            "type": "histogram2dcontour"
           }
          ],
          "mesh3d": [
           {
            "colorbar": {
             "outlinewidth": 0,
             "ticks": ""
            },
            "type": "mesh3d"
           }
          ],
          "parcoords": [
           {
            "line": {
             "colorbar": {
              "outlinewidth": 0,
              "ticks": ""
             }
            },
            "type": "parcoords"
           }
          ],
          "pie": [
           {
            "automargin": true,
            "type": "pie"
           }
          ],
          "scatter": [
           {
            "fillpattern": {
             "fillmode": "overlay",
             "size": 10,
             "solidity": 0.2
            },
            "type": "scatter"
           }
          ],
          "scatter3d": [
           {
            "line": {
             "colorbar": {
              "outlinewidth": 0,
              "ticks": ""
             }
            },
            "marker": {
             "colorbar": {
              "outlinewidth": 0,
              "ticks": ""
             }
            },
            "type": "scatter3d"
           }
          ],
          "scattercarpet": [
           {
            "marker": {
             "colorbar": {
              "outlinewidth": 0,
              "ticks": ""
             }
            },
            "type": "scattercarpet"
           }
          ],
          "scattergeo": [
           {
            "marker": {
             "colorbar": {
              "outlinewidth": 0,
              "ticks": ""
             }
            },
            "type": "scattergeo"
           }
          ],
          "scattergl": [
           {
            "marker": {
             "colorbar": {
              "outlinewidth": 0,
              "ticks": ""
             }
            },
            "type": "scattergl"
           }
          ],
          "scattermapbox": [
           {
            "marker": {
             "colorbar": {
              "outlinewidth": 0,
              "ticks": ""
             }
            },
            "type": "scattermapbox"
           }
          ],
          "scatterpolar": [
           {
            "marker": {
             "colorbar": {
              "outlinewidth": 0,
              "ticks": ""
             }
            },
            "type": "scatterpolar"
           }
          ],
          "scatterpolargl": [
           {
            "marker": {
             "colorbar": {
              "outlinewidth": 0,
              "ticks": ""
             }
            },
            "type": "scatterpolargl"
           }
          ],
          "scatterternary": [
           {
            "marker": {
             "colorbar": {
              "outlinewidth": 0,
              "ticks": ""
             }
            },
            "type": "scatterternary"
           }
          ],
          "surface": [
           {
            "colorbar": {
             "outlinewidth": 0,
             "ticks": ""
            },
            "colorscale": [
             [
              0,
              "#0d0887"
             ],
             [
              0.1111111111111111,
              "#46039f"
             ],
             [
              0.2222222222222222,
              "#7201a8"
             ],
             [
              0.3333333333333333,
              "#9c179e"
             ],
             [
              0.4444444444444444,
              "#bd3786"
             ],
             [
              0.5555555555555556,
              "#d8576b"
             ],
             [
              0.6666666666666666,
              "#ed7953"
             ],
             [
              0.7777777777777778,
              "#fb9f3a"
             ],
             [
              0.8888888888888888,
              "#fdca26"
             ],
             [
              1,
              "#f0f921"
             ]
            ],
            "type": "surface"
           }
          ],
          "table": [
           {
            "cells": {
             "fill": {
              "color": "#EBF0F8"
             },
             "line": {
              "color": "white"
             }
            },
            "header": {
             "fill": {
              "color": "#C8D4E3"
             },
             "line": {
              "color": "white"
             }
            },
            "type": "table"
           }
          ]
         },
         "layout": {
          "annotationdefaults": {
           "arrowcolor": "#2a3f5f",
           "arrowhead": 0,
           "arrowwidth": 1
          },
          "autotypenumbers": "strict",
          "coloraxis": {
           "colorbar": {
            "outlinewidth": 0,
            "ticks": ""
           }
          },
          "colorscale": {
           "diverging": [
            [
             0,
             "#8e0152"
            ],
            [
             0.1,
             "#c51b7d"
            ],
            [
             0.2,
             "#de77ae"
            ],
            [
             0.3,
             "#f1b6da"
            ],
            [
             0.4,
             "#fde0ef"
            ],
            [
             0.5,
             "#f7f7f7"
            ],
            [
             0.6,
             "#e6f5d0"
            ],
            [
             0.7,
             "#b8e186"
            ],
            [
             0.8,
             "#7fbc41"
            ],
            [
             0.9,
             "#4d9221"
            ],
            [
             1,
             "#276419"
            ]
           ],
           "sequential": [
            [
             0,
             "#0d0887"
            ],
            [
             0.1111111111111111,
             "#46039f"
            ],
            [
             0.2222222222222222,
             "#7201a8"
            ],
            [
             0.3333333333333333,
             "#9c179e"
            ],
            [
             0.4444444444444444,
             "#bd3786"
            ],
            [
             0.5555555555555556,
             "#d8576b"
            ],
            [
             0.6666666666666666,
             "#ed7953"
            ],
            [
             0.7777777777777778,
             "#fb9f3a"
            ],
            [
             0.8888888888888888,
             "#fdca26"
            ],
            [
             1,
             "#f0f921"
            ]
           ],
           "sequentialminus": [
            [
             0,
             "#0d0887"
            ],
            [
             0.1111111111111111,
             "#46039f"
            ],
            [
             0.2222222222222222,
             "#7201a8"
            ],
            [
             0.3333333333333333,
             "#9c179e"
            ],
            [
             0.4444444444444444,
             "#bd3786"
            ],
            [
             0.5555555555555556,
             "#d8576b"
            ],
            [
             0.6666666666666666,
             "#ed7953"
            ],
            [
             0.7777777777777778,
             "#fb9f3a"
            ],
            [
             0.8888888888888888,
             "#fdca26"
            ],
            [
             1,
             "#f0f921"
            ]
           ]
          },
          "colorway": [
           "#636efa",
           "#EF553B",
           "#00cc96",
           "#ab63fa",
           "#FFA15A",
           "#19d3f3",
           "#FF6692",
           "#B6E880",
           "#FF97FF",
           "#FECB52"
          ],
          "font": {
           "color": "#2a3f5f"
          },
          "geo": {
           "bgcolor": "white",
           "lakecolor": "white",
           "landcolor": "#E5ECF6",
           "showlakes": true,
           "showland": true,
           "subunitcolor": "white"
          },
          "hoverlabel": {
           "align": "left"
          },
          "hovermode": "closest",
          "mapbox": {
           "style": "light"
          },
          "paper_bgcolor": "white",
          "plot_bgcolor": "#E5ECF6",
          "polar": {
           "angularaxis": {
            "gridcolor": "white",
            "linecolor": "white",
            "ticks": ""
           },
           "bgcolor": "#E5ECF6",
           "radialaxis": {
            "gridcolor": "white",
            "linecolor": "white",
            "ticks": ""
           }
          },
          "scene": {
           "xaxis": {
            "backgroundcolor": "#E5ECF6",
            "gridcolor": "white",
            "gridwidth": 2,
            "linecolor": "white",
            "showbackground": true,
            "ticks": "",
            "zerolinecolor": "white"
           },
           "yaxis": {
            "backgroundcolor": "#E5ECF6",
            "gridcolor": "white",
            "gridwidth": 2,
            "linecolor": "white",
            "showbackground": true,
            "ticks": "",
            "zerolinecolor": "white"
           },
           "zaxis": {
            "backgroundcolor": "#E5ECF6",
            "gridcolor": "white",
            "gridwidth": 2,
            "linecolor": "white",
            "showbackground": true,
            "ticks": "",
            "zerolinecolor": "white"
           }
          },
          "shapedefaults": {
           "line": {
            "color": "#2a3f5f"
           }
          },
          "ternary": {
           "aaxis": {
            "gridcolor": "white",
            "linecolor": "white",
            "ticks": ""
           },
           "baxis": {
            "gridcolor": "white",
            "linecolor": "white",
            "ticks": ""
           },
           "bgcolor": "#E5ECF6",
           "caxis": {
            "gridcolor": "white",
            "linecolor": "white",
            "ticks": ""
           }
          },
          "title": {
           "x": 0.05
          },
          "xaxis": {
           "automargin": true,
           "gridcolor": "white",
           "linecolor": "white",
           "ticks": "",
           "title": {
            "standoff": 15
           },
           "zerolinecolor": "white",
           "zerolinewidth": 2
          },
          "yaxis": {
           "automargin": true,
           "gridcolor": "white",
           "linecolor": "white",
           "ticks": "",
           "title": {
            "standoff": 15
           },
           "zerolinecolor": "white",
           "zerolinewidth": 2
          }
         }
        },
        "xaxis": {
         "anchor": "y",
         "domain": [
          0,
          1
         ],
         "linecolor": "black",
         "linewidth": 1,
         "mirror": true,
         "showgrid": false,
         "showline": true,
         "ticktext": [
          "113",
          "114",
          "117",
          "120",
          "121",
          "122",
          "123",
          "124",
          "125",
          "126",
          "127",
          "128",
          "129",
          "130",
          "131",
          "132"
         ],
         "tickvals": [
          0,
          1,
          2,
          3,
          4,
          5,
          6,
          7,
          8,
          9,
          10,
          11,
          12,
          13,
          14,
          15
         ],
         "title": {
          "text": "Point ID"
         },
         "zeroline": false
        },
        "xaxis2": {
         "anchor": "y2",
         "domain": [
          0,
          1
         ],
         "linecolor": "black",
         "linewidth": 1,
         "mirror": true,
         "showgrid": false,
         "showline": true,
         "ticktext": [
          "218",
          "219",
          "220",
          "221",
          "222",
          "223",
          "224",
          "225",
          "226",
          "227",
          "228",
          "229",
          "230"
         ],
         "tickvals": [
          0,
          1,
          2,
          3,
          4,
          5,
          6,
          7,
          8,
          9,
          10,
          11,
          12
         ],
         "title": {
          "text": "Point ID"
         },
         "zeroline": false
        },
        "yaxis": {
         "anchor": "x",
         "domain": [
          0.625,
          1
         ],
         "dtick": 0.05,
         "gridcolor": "lightgray",
         "linecolor": "black",
         "linewidth": 1,
         "mirror": true,
         "range": [
          -0.25,
          0.25
         ],
         "showgrid": true,
         "showline": true,
         "zeroline": true,
         "zerolinecolor": "darkgray",
         "zerolinewidth": 1
        },
        "yaxis2": {
         "anchor": "x2",
         "domain": [
          0,
          0.375
         ],
         "dtick": 0.05,
         "gridcolor": "lightgray",
         "linecolor": "black",
         "linewidth": 1,
         "mirror": true,
         "range": [
          -0.25,
          0.25
         ],
         "showgrid": true,
         "showline": true,
         "zeroline": true,
         "zerolinecolor": "darkgray",
         "zerolinewidth": 1
        }
       }
      }
     },
     "metadata": {},
     "output_type": "display_data"
    }
   ],
   "source": [
    "# GCP\n",
    "H_SURE_IGI_UM2_GCP = [-0.004, 0.020, -0.034, -0.017, 0.019, -0.039, 0.078, -\n",
    "                      0.027, -0.064, -0.017, -0.051, -0.034, -0.085, -0.010, -0.020, -0.070]\n",
    "H_SURE_UCE_M3_GCP = [0.063, -0.047, -0.019, 0.010, 0.062, 0.056, 0.046,\n",
    "                     0.044, 0.056, 0.025, 0.040, 0.053, 0.002, 0.097, 0.068, 0.028]\n",
    "H_SURE_UCE_4_GCP = [-0.018, 0.024, -0.042, 0.005, 0.002, -0.019, 0.045,\n",
    "                    0.015, -0.030, -0.024, -0.007, 0.053, -0.024, 0.063, 0.013, 0.011]\n",
    "H_SURE_DMC_4_GCP = [0.058,  0.196, -0.001, 0.016, 0.079, 0.054, 0.147,\n",
    "                    0.152, 0.110, 0.034, 0.147, 0.123, 0.061, 0.179, 0.075, 0.024]\n",
    "# ChP\n",
    "H_SURE_IGI_UM2_CP = [-0.039, -0.035, -0.050, -0.039, -0.068, -\n",
    "                     0.058, -0.054, -0.088, 0.019, -0.038, -0.038, -0.001, 0.012]\n",
    "H_SURE_UCE_M3_CP = [0.014, 0.073, 0.043, 0.060, 0.022,\n",
    "                    0.049, 0.060, 0.044, 0.087, 0.064, 0.075, 0.085, 0.061]\n",
    "H_SURE_UCE_4_CP = [0.006, -0.054, -0.012, -0.029, -0.004, -\n",
    "                   0.004, 0.009, -0.022, 0.005, -0.016, 0.031, 0.009, 0.076]\n",
    "H_SURE_DMC_4_CP = [0.075, -0.005, 0.089, 0.076, 0.114,\n",
    "                   0.185, 0.115, 0.011, 0.076, 0.138, 0.052, 0.134, 0.140]\n",
    "# Plot\n",
    "colors = ['green', 'navy', 'orange', 'red']\n",
    "gcp_ind = [x for x in np.arange(113, 133, 1) if x not in [\n",
    "    115, 116, 118, 119]]\n",
    "cp_ind = [x for x in np.arange(218, 231, 1)]\n",
    "# op_ind = np.append(gcp_ind, cp_ind)\n",
    "x_axis_1 = np.arange(0, len(gcp_ind))\n",
    "x_axis_2 = np.arange(0, len(cp_ind))\n",
    "fig = fig = make_subplots(rows=2, cols=1, subplot_titles=[\n",
    "    \"Diff-Z between GCP and sampled DSM point\", \"Diff-Z between ChP and sampled DSM point\"])\n",
    "fig.append_trace(go.Scatter(\n",
    "    name=\"UCE-M3\",\n",
    "    x=x_axis_1,\n",
    "    y=H_SURE_UCE_M3_GCP,\n",
    "    mode=\"lines+markers\",\n",
    "    legendgroup=\"UCE-M3\",\n",
    "    showlegend=True,\n",
    "    marker_color=colors[0]\n",
    "),\n",
    "    row=1,\n",
    "    col=1\n",
    ")\n",
    "fig.append_trace(go.Scatter(\n",
    "    name=\"Camera A\",\n",
    "    x=x_axis_1,\n",
    "    y=H_SURE_UCE_4_GCP,\n",
    "    mode=\"lines+markers\",\n",
    "    legendgroup=\"UCE-4\",\n",
    "    showlegend=True,\n",
    "    marker_color=colors[1]\n",
    "),\n",
    "    row=1,\n",
    "    col=1\n",
    ")\n",
    "fig.append_trace(go.Scatter(\n",
    "    name=\"Camera B\",\n",
    "    x=x_axis_1,\n",
    "    y=H_SURE_DMC_4_GCP,\n",
    "    mode=\"lines+markers\",\n",
    "    legendgroup=\"DMC-4\",\n",
    "    showlegend=True,\n",
    "    marker_color=colors[2]\n",
    "),\n",
    "    row=1,\n",
    "    col=1\n",
    ")\n",
    "fig.append_trace(go.Scatter(\n",
    "    name=\"Camera C\",\n",
    "    x=x_axis_1,\n",
    "    y=H_SURE_IGI_UM2_GCP,\n",
    "    mode=\"lines+markers\",\n",
    "    legendgroup=\"UM-2\",\n",
    "    showlegend=True,\n",
    "    marker_color=colors[3]\n",
    "),\n",
    "    row=1,\n",
    "    col=1\n",
    ")\n",
    "\n",
    "\n",
    "fig.append_trace(go.Scatter(\n",
    "    name=\"UCE-M3\",\n",
    "    x=x_axis_2,\n",
    "    y=H_SURE_UCE_M3_CP,\n",
    "    mode=\"lines+markers\",\n",
    "    legendgroup=\"UCE-M3\",\n",
    "    showlegend=False,\n",
    "    marker_color=colors[0]\n",
    "),\n",
    "    row=2,\n",
    "    col=1\n",
    ")\n",
    "fig.append_trace(go.Scatter(\n",
    "    name=\"UCE-4\",\n",
    "    x=x_axis_2,\n",
    "    y=H_SURE_UCE_4_CP,\n",
    "    mode=\"lines+markers\",\n",
    "    legendgroup=\"UCE-4\",\n",
    "    showlegend=False,\n",
    "    marker_color=colors[1]\n",
    "),\n",
    "    row=2,\n",
    "    col=1\n",
    ")\n",
    "fig.append_trace(go.Scatter(\n",
    "    name=\"DMC-4\",\n",
    "    x=x_axis_2,\n",
    "    y=H_SURE_DMC_4_CP,\n",
    "    mode=\"lines+markers\",\n",
    "    legendgroup=\"DMC-4\",\n",
    "    showlegend=False,\n",
    "    marker_color=colors[2]\n",
    "),\n",
    "    row=2,\n",
    "    col=1\n",
    ")\n",
    "fig.append_trace(go.Scatter(\n",
    "    name=\"UM-2\",\n",
    "    x=x_axis_2,\n",
    "    y=H_SURE_IGI_UM2_CP,\n",
    "    mode=\"lines+markers\",\n",
    "    legendgroup=\"UM-2\",\n",
    "    showlegend=False,\n",
    "    marker_color=colors[3]\n",
    "),\n",
    "    row=2,\n",
    "    col=1\n",
    ")\n",
    "\n",
    "fig.update_traces(opacity=0.6)\n",
    "fig.update_layout(\n",
    "    plot_bgcolor = 'white',\n",
    "    xaxis1={\"title\": \"Point ID\",\n",
    "            \"ticktext\": [str(id) for id in gcp_ind],\n",
    "            \"tickvals\": x_axis_1,\n",
    "            \"showgrid\": False,\n",
    "            \"zeroline\": False, \n",
    "            \"showline\": True,\n",
    "            \"linewidth\": 1, \n",
    "            \"linecolor\": \"black\", \n",
    "            \"mirror\": True},\n",
    "    xaxis2={\"title\": \"Point ID\",\n",
    "            \"ticktext\": [str(id) for id in cp_ind],\n",
    "            \"tickvals\": x_axis_2,\n",
    "            \"showgrid\": False,\n",
    "            \"zeroline\": False,\n",
    "            \"showline\": True,\n",
    "            \"linewidth\": 1, \n",
    "            \"linecolor\": \"black\", \n",
    "            \"mirror\": True},\n",
    "    yaxis1={\"range\": [-0.25, 0.25], \"dtick\": 0.05,\n",
    "            \"showgrid\": True, \"gridcolor\": \"lightgray\",\n",
    "            \"zeroline\": True, \"zerolinecolor\": 'darkgray', \"zerolinewidth\": 1,\n",
    "            \"showline\": True, \"linewidth\": 1, \"linecolor\": \"black\", \"mirror\": True},\n",
    "    yaxis2={\"range\": [-0.25, 0.25], \"dtick\": 0.05,\n",
    "            \"showgrid\": True, \"gridcolor\": \"lightgray\",\n",
    "            \"zeroline\": True, \"zerolinecolor\": 'darkgray', \"zerolinewidth\": 1,\n",
    "            \"showline\": True, \"linewidth\": 1, \"linecolor\": \"black\", \"mirror\": True},\n",
    "    # autosize=True\n",
    ")\n",
    "fig.show()\n",
    "fig.write_html(\"./Results/diffZ_DSM_PT.html\")"
   ]
  },
  {
   "cell_type": "code",
   "execution_count": 4,
   "metadata": {},
   "outputs": [
    {
     "data": {
      "application/vnd.plotly.v1+json": {
       "config": {
        "plotlyServerURL": "https://plot.ly"
       },
       "data": [
        {
         "legendgroup": "Match-AT + SURE",
         "marker": {
          "color": "navy"
         },
         "mode": "lines+markers",
         "name": "Match-AT + SURE",
         "opacity": 0.6,
         "showlegend": true,
         "type": "scatter",
         "x": [
          0,
          1,
          2,
          3,
          4,
          5,
          6,
          7,
          8,
          9,
          10,
          11,
          12,
          13,
          14,
          15,
          16,
          17,
          18,
          19,
          20,
          21,
          22,
          23,
          24,
          25,
          26,
          27,
          28,
          29,
          30,
          31,
          32
         ],
         "xaxis": "x",
         "y": [
          0.038,
          0.045,
          0.051,
          0.089,
          0.119,
          0.073,
          0.091,
          0.132,
          0.028,
          0.096,
          0.127,
          0.067,
          0.042,
          0.063,
          0.024,
          0.098,
          0.086,
          -0.019,
          -0.027,
          0.021,
          0.01,
          0.062,
          0.056,
          0.046,
          0.044,
          0.056,
          0.025,
          0.04,
          0.053,
          0.002,
          0.097,
          0.068,
          0.028
         ],
         "yaxis": "y"
        },
        {
         "legendgroup": "ArcGIS RS",
         "marker": {
          "color": "red"
         },
         "mode": "lines+markers",
         "name": "ArcGIS RS",
         "opacity": 0.6,
         "showlegend": true,
         "type": "scatter",
         "x": [
          0,
          1,
          2,
          3,
          4,
          5,
          6,
          7,
          8,
          9,
          10,
          11,
          12,
          13,
          14,
          15,
          16,
          17,
          18,
          19,
          20,
          21,
          22,
          23,
          24,
          25,
          26,
          27,
          28,
          29,
          30,
          31,
          32
         ],
         "xaxis": "x",
         "y": [
          0.087,
          0.039,
          0.052,
          0.027,
          0.038,
          0.05,
          0.036,
          0.038,
          0.009,
          0.038,
          0.076,
          0.051,
          0.039,
          0.011,
          0.016,
          0.046,
          0.072,
          -0.012,
          -0.064,
          -0.018,
          0.031,
          0.055,
          0.017,
          0.075,
          0.039,
          -0.011,
          -0.011,
          0.02,
          -0.003,
          0.036,
          0.026,
          0.048,
          0.039
         ],
         "yaxis": "y"
        },
        {
         "legendgroup": "Match-AT + SURE",
         "marker": {
          "color": "navy"
         },
         "mode": "lines+markers",
         "name": "Match-AT + SURE",
         "opacity": 0.6,
         "showlegend": false,
         "type": "scatter",
         "x": [
          0,
          1,
          2,
          3,
          4,
          5,
          6,
          7,
          8,
          9,
          10,
          11,
          12,
          13,
          14,
          15,
          16,
          17,
          18,
          19,
          20,
          21,
          22,
          23,
          24,
          25,
          26,
          27,
          28,
          29,
          30
         ],
         "xaxis": "x2",
         "y": [
          0.098,
          0.047,
          0.139,
          0.086,
          0.176,
          0.165,
          0.14,
          0.074,
          0.051,
          0.151,
          0.1,
          0.067,
          0.1,
          0.096,
          0.051,
          0.141,
          -0.013,
          -0.032,
          0.014,
          0.073,
          0.043,
          0.06,
          0.022,
          0.049,
          0.06,
          0.044,
          0.087,
          0.064,
          0.075,
          0.085,
          0.061
         ],
         "yaxis": "y2"
        },
        {
         "legendgroup": "ArcGIS RS",
         "marker": {
          "color": "red"
         },
         "mode": "lines+markers",
         "name": "ArcGIS RS",
         "opacity": 0.6,
         "showlegend": false,
         "type": "scatter",
         "x": [
          0,
          1,
          2,
          3,
          4,
          5,
          6,
          7,
          8,
          9,
          10,
          11,
          12,
          13,
          14,
          15,
          16,
          17,
          18,
          19,
          20,
          21,
          22,
          23,
          24,
          25,
          26,
          27,
          28,
          29,
          30
         ],
         "xaxis": "x2",
         "y": [
          0.036,
          0.04,
          0.033,
          0.023,
          0.008,
          0.008,
          0.114,
          0.074,
          0.019,
          0.081,
          0.042,
          -0.041,
          -0.006,
          -0.023,
          0.047,
          0.092,
          -0.016,
          -0.017,
          0.02,
          0.037,
          0.002,
          0.034,
          0.008,
          0.024,
          0.019,
          0.037,
          0.032,
          0.04,
          0.047,
          0.117,
          0.005
         ],
         "yaxis": "y2"
        }
       ],
       "layout": {
        "annotations": [
         {
          "font": {
           "size": 16
          },
          "showarrow": false,
          "text": "Diff-Z between GCP and sampled DSM point",
          "x": 0.5,
          "xanchor": "center",
          "xref": "paper",
          "y": 1,
          "yanchor": "bottom",
          "yref": "paper"
         },
         {
          "font": {
           "size": 16
          },
          "showarrow": false,
          "text": "Diff-Z between ChP and sampled DSM point",
          "x": 0.5,
          "xanchor": "center",
          "xref": "paper",
          "y": 0.375,
          "yanchor": "bottom",
          "yref": "paper"
         }
        ],
        "plot_bgcolor": "white",
        "template": {
         "data": {
          "bar": [
           {
            "error_x": {
             "color": "#2a3f5f"
            },
            "error_y": {
             "color": "#2a3f5f"
            },
            "marker": {
             "line": {
              "color": "#E5ECF6",
              "width": 0.5
             },
             "pattern": {
              "fillmode": "overlay",
              "size": 10,
              "solidity": 0.2
             }
            },
            "type": "bar"
           }
          ],
          "barpolar": [
           {
            "marker": {
             "line": {
              "color": "#E5ECF6",
              "width": 0.5
             },
             "pattern": {
              "fillmode": "overlay",
              "size": 10,
              "solidity": 0.2
             }
            },
            "type": "barpolar"
           }
          ],
          "carpet": [
           {
            "aaxis": {
             "endlinecolor": "#2a3f5f",
             "gridcolor": "white",
             "linecolor": "white",
             "minorgridcolor": "white",
             "startlinecolor": "#2a3f5f"
            },
            "baxis": {
             "endlinecolor": "#2a3f5f",
             "gridcolor": "white",
             "linecolor": "white",
             "minorgridcolor": "white",
             "startlinecolor": "#2a3f5f"
            },
            "type": "carpet"
           }
          ],
          "choropleth": [
           {
            "colorbar": {
             "outlinewidth": 0,
             "ticks": ""
            },
            "type": "choropleth"
           }
          ],
          "contour": [
           {
            "colorbar": {
             "outlinewidth": 0,
             "ticks": ""
            },
            "colorscale": [
             [
              0,
              "#0d0887"
             ],
             [
              0.1111111111111111,
              "#46039f"
             ],
             [
              0.2222222222222222,
              "#7201a8"
             ],
             [
              0.3333333333333333,
              "#9c179e"
             ],
             [
              0.4444444444444444,
              "#bd3786"
             ],
             [
              0.5555555555555556,
              "#d8576b"
             ],
             [
              0.6666666666666666,
              "#ed7953"
             ],
             [
              0.7777777777777778,
              "#fb9f3a"
             ],
             [
              0.8888888888888888,
              "#fdca26"
             ],
             [
              1,
              "#f0f921"
             ]
            ],
            "type": "contour"
           }
          ],
          "contourcarpet": [
           {
            "colorbar": {
             "outlinewidth": 0,
             "ticks": ""
            },
            "type": "contourcarpet"
           }
          ],
          "heatmap": [
           {
            "colorbar": {
             "outlinewidth": 0,
             "ticks": ""
            },
            "colorscale": [
             [
              0,
              "#0d0887"
             ],
             [
              0.1111111111111111,
              "#46039f"
             ],
             [
              0.2222222222222222,
              "#7201a8"
             ],
             [
              0.3333333333333333,
              "#9c179e"
             ],
             [
              0.4444444444444444,
              "#bd3786"
             ],
             [
              0.5555555555555556,
              "#d8576b"
             ],
             [
              0.6666666666666666,
              "#ed7953"
             ],
             [
              0.7777777777777778,
              "#fb9f3a"
             ],
             [
              0.8888888888888888,
              "#fdca26"
             ],
             [
              1,
              "#f0f921"
             ]
            ],
            "type": "heatmap"
           }
          ],
          "heatmapgl": [
           {
            "colorbar": {
             "outlinewidth": 0,
             "ticks": ""
            },
            "colorscale": [
             [
              0,
              "#0d0887"
             ],
             [
              0.1111111111111111,
              "#46039f"
             ],
             [
              0.2222222222222222,
              "#7201a8"
             ],
             [
              0.3333333333333333,
              "#9c179e"
             ],
             [
              0.4444444444444444,
              "#bd3786"
             ],
             [
              0.5555555555555556,
              "#d8576b"
             ],
             [
              0.6666666666666666,
              "#ed7953"
             ],
             [
              0.7777777777777778,
              "#fb9f3a"
             ],
             [
              0.8888888888888888,
              "#fdca26"
             ],
             [
              1,
              "#f0f921"
             ]
            ],
            "type": "heatmapgl"
           }
          ],
          "histogram": [
           {
            "marker": {
             "pattern": {
              "fillmode": "overlay",
              "size": 10,
              "solidity": 0.2
             }
            },
            "type": "histogram"
           }
          ],
          "histogram2d": [
           {
            "colorbar": {
             "outlinewidth": 0,
             "ticks": ""
            },
            "colorscale": [
             [
              0,
              "#0d0887"
             ],
             [
              0.1111111111111111,
              "#46039f"
             ],
             [
              0.2222222222222222,
              "#7201a8"
             ],
             [
              0.3333333333333333,
              "#9c179e"
             ],
             [
              0.4444444444444444,
              "#bd3786"
             ],
             [
              0.5555555555555556,
              "#d8576b"
             ],
             [
              0.6666666666666666,
              "#ed7953"
             ],
             [
              0.7777777777777778,
              "#fb9f3a"
             ],
             [
              0.8888888888888888,
              "#fdca26"
             ],
             [
              1,
              "#f0f921"
             ]
            ],
            "type": "histogram2d"
           }
          ],
          "histogram2dcontour": [
           {
            "colorbar": {
             "outlinewidth": 0,
             "ticks": ""
            },
            "colorscale": [
             [
              0,
              "#0d0887"
             ],
             [
              0.1111111111111111,
              "#46039f"
             ],
             [
              0.2222222222222222,
              "#7201a8"
             ],
             [
              0.3333333333333333,
              "#9c179e"
             ],
             [
              0.4444444444444444,
              "#bd3786"
             ],
             [
              0.5555555555555556,
              "#d8576b"
             ],
             [
              0.6666666666666666,
              "#ed7953"
             ],
             [
              0.7777777777777778,
              "#fb9f3a"
             ],
             [
              0.8888888888888888,
              "#fdca26"
             ],
             [
              1,
              "#f0f921"
             ]
            ],
            "type": "histogram2dcontour"
           }
          ],
          "mesh3d": [
           {
            "colorbar": {
             "outlinewidth": 0,
             "ticks": ""
            },
            "type": "mesh3d"
           }
          ],
          "parcoords": [
           {
            "line": {
             "colorbar": {
              "outlinewidth": 0,
              "ticks": ""
             }
            },
            "type": "parcoords"
           }
          ],
          "pie": [
           {
            "automargin": true,
            "type": "pie"
           }
          ],
          "scatter": [
           {
            "fillpattern": {
             "fillmode": "overlay",
             "size": 10,
             "solidity": 0.2
            },
            "type": "scatter"
           }
          ],
          "scatter3d": [
           {
            "line": {
             "colorbar": {
              "outlinewidth": 0,
              "ticks": ""
             }
            },
            "marker": {
             "colorbar": {
              "outlinewidth": 0,
              "ticks": ""
             }
            },
            "type": "scatter3d"
           }
          ],
          "scattercarpet": [
           {
            "marker": {
             "colorbar": {
              "outlinewidth": 0,
              "ticks": ""
             }
            },
            "type": "scattercarpet"
           }
          ],
          "scattergeo": [
           {
            "marker": {
             "colorbar": {
              "outlinewidth": 0,
              "ticks": ""
             }
            },
            "type": "scattergeo"
           }
          ],
          "scattergl": [
           {
            "marker": {
             "colorbar": {
              "outlinewidth": 0,
              "ticks": ""
             }
            },
            "type": "scattergl"
           }
          ],
          "scattermapbox": [
           {
            "marker": {
             "colorbar": {
              "outlinewidth": 0,
              "ticks": ""
             }
            },
            "type": "scattermapbox"
           }
          ],
          "scatterpolar": [
           {
            "marker": {
             "colorbar": {
              "outlinewidth": 0,
              "ticks": ""
             }
            },
            "type": "scatterpolar"
           }
          ],
          "scatterpolargl": [
           {
            "marker": {
             "colorbar": {
              "outlinewidth": 0,
              "ticks": ""
             }
            },
            "type": "scatterpolargl"
           }
          ],
          "scatterternary": [
           {
            "marker": {
             "colorbar": {
              "outlinewidth": 0,
              "ticks": ""
             }
            },
            "type": "scatterternary"
           }
          ],
          "surface": [
           {
            "colorbar": {
             "outlinewidth": 0,
             "ticks": ""
            },
            "colorscale": [
             [
              0,
              "#0d0887"
             ],
             [
              0.1111111111111111,
              "#46039f"
             ],
             [
              0.2222222222222222,
              "#7201a8"
             ],
             [
              0.3333333333333333,
              "#9c179e"
             ],
             [
              0.4444444444444444,
              "#bd3786"
             ],
             [
              0.5555555555555556,
              "#d8576b"
             ],
             [
              0.6666666666666666,
              "#ed7953"
             ],
             [
              0.7777777777777778,
              "#fb9f3a"
             ],
             [
              0.8888888888888888,
              "#fdca26"
             ],
             [
              1,
              "#f0f921"
             ]
            ],
            "type": "surface"
           }
          ],
          "table": [
           {
            "cells": {
             "fill": {
              "color": "#EBF0F8"
             },
             "line": {
              "color": "white"
             }
            },
            "header": {
             "fill": {
              "color": "#C8D4E3"
             },
             "line": {
              "color": "white"
             }
            },
            "type": "table"
           }
          ]
         },
         "layout": {
          "annotationdefaults": {
           "arrowcolor": "#2a3f5f",
           "arrowhead": 0,
           "arrowwidth": 1
          },
          "autotypenumbers": "strict",
          "coloraxis": {
           "colorbar": {
            "outlinewidth": 0,
            "ticks": ""
           }
          },
          "colorscale": {
           "diverging": [
            [
             0,
             "#8e0152"
            ],
            [
             0.1,
             "#c51b7d"
            ],
            [
             0.2,
             "#de77ae"
            ],
            [
             0.3,
             "#f1b6da"
            ],
            [
             0.4,
             "#fde0ef"
            ],
            [
             0.5,
             "#f7f7f7"
            ],
            [
             0.6,
             "#e6f5d0"
            ],
            [
             0.7,
             "#b8e186"
            ],
            [
             0.8,
             "#7fbc41"
            ],
            [
             0.9,
             "#4d9221"
            ],
            [
             1,
             "#276419"
            ]
           ],
           "sequential": [
            [
             0,
             "#0d0887"
            ],
            [
             0.1111111111111111,
             "#46039f"
            ],
            [
             0.2222222222222222,
             "#7201a8"
            ],
            [
             0.3333333333333333,
             "#9c179e"
            ],
            [
             0.4444444444444444,
             "#bd3786"
            ],
            [
             0.5555555555555556,
             "#d8576b"
            ],
            [
             0.6666666666666666,
             "#ed7953"
            ],
            [
             0.7777777777777778,
             "#fb9f3a"
            ],
            [
             0.8888888888888888,
             "#fdca26"
            ],
            [
             1,
             "#f0f921"
            ]
           ],
           "sequentialminus": [
            [
             0,
             "#0d0887"
            ],
            [
             0.1111111111111111,
             "#46039f"
            ],
            [
             0.2222222222222222,
             "#7201a8"
            ],
            [
             0.3333333333333333,
             "#9c179e"
            ],
            [
             0.4444444444444444,
             "#bd3786"
            ],
            [
             0.5555555555555556,
             "#d8576b"
            ],
            [
             0.6666666666666666,
             "#ed7953"
            ],
            [
             0.7777777777777778,
             "#fb9f3a"
            ],
            [
             0.8888888888888888,
             "#fdca26"
            ],
            [
             1,
             "#f0f921"
            ]
           ]
          },
          "colorway": [
           "#636efa",
           "#EF553B",
           "#00cc96",
           "#ab63fa",
           "#FFA15A",
           "#19d3f3",
           "#FF6692",
           "#B6E880",
           "#FF97FF",
           "#FECB52"
          ],
          "font": {
           "color": "#2a3f5f"
          },
          "geo": {
           "bgcolor": "white",
           "lakecolor": "white",
           "landcolor": "#E5ECF6",
           "showlakes": true,
           "showland": true,
           "subunitcolor": "white"
          },
          "hoverlabel": {
           "align": "left"
          },
          "hovermode": "closest",
          "mapbox": {
           "style": "light"
          },
          "paper_bgcolor": "white",
          "plot_bgcolor": "#E5ECF6",
          "polar": {
           "angularaxis": {
            "gridcolor": "white",
            "linecolor": "white",
            "ticks": ""
           },
           "bgcolor": "#E5ECF6",
           "radialaxis": {
            "gridcolor": "white",
            "linecolor": "white",
            "ticks": ""
           }
          },
          "scene": {
           "xaxis": {
            "backgroundcolor": "#E5ECF6",
            "gridcolor": "white",
            "gridwidth": 2,
            "linecolor": "white",
            "showbackground": true,
            "ticks": "",
            "zerolinecolor": "white"
           },
           "yaxis": {
            "backgroundcolor": "#E5ECF6",
            "gridcolor": "white",
            "gridwidth": 2,
            "linecolor": "white",
            "showbackground": true,
            "ticks": "",
            "zerolinecolor": "white"
           },
           "zaxis": {
            "backgroundcolor": "#E5ECF6",
            "gridcolor": "white",
            "gridwidth": 2,
            "linecolor": "white",
            "showbackground": true,
            "ticks": "",
            "zerolinecolor": "white"
           }
          },
          "shapedefaults": {
           "line": {
            "color": "#2a3f5f"
           }
          },
          "ternary": {
           "aaxis": {
            "gridcolor": "white",
            "linecolor": "white",
            "ticks": ""
           },
           "baxis": {
            "gridcolor": "white",
            "linecolor": "white",
            "ticks": ""
           },
           "bgcolor": "#E5ECF6",
           "caxis": {
            "gridcolor": "white",
            "linecolor": "white",
            "ticks": ""
           }
          },
          "title": {
           "x": 0.05
          },
          "xaxis": {
           "automargin": true,
           "gridcolor": "white",
           "linecolor": "white",
           "ticks": "",
           "title": {
            "standoff": 15
           },
           "zerolinecolor": "white",
           "zerolinewidth": 2
          },
          "yaxis": {
           "automargin": true,
           "gridcolor": "white",
           "linecolor": "white",
           "ticks": "",
           "title": {
            "standoff": 15
           },
           "zerolinecolor": "white",
           "zerolinewidth": 2
          }
         }
        },
        "xaxis": {
         "anchor": "y",
         "domain": [
          0,
          1
         ],
         "linecolor": "black",
         "linewidth": 1,
         "mirror": true,
         "showgrid": false,
         "showline": true,
         "ticktext": [
          "100",
          "101",
          "102",
          "103",
          "104",
          "105",
          "106",
          "107",
          "108",
          "109",
          "110",
          "111",
          "112",
          "113",
          "114",
          "115",
          "116",
          "117",
          "118",
          "119",
          "120",
          "121",
          "122",
          "123",
          "124",
          "125",
          "126",
          "127",
          "128",
          "129",
          "130",
          "131",
          "132"
         ],
         "tickvals": [
          0,
          1,
          2,
          3,
          4,
          5,
          6,
          7,
          8,
          9,
          10,
          11,
          12,
          13,
          14,
          15,
          16,
          17,
          18,
          19,
          20,
          21,
          22,
          23,
          24,
          25,
          26,
          27,
          28,
          29,
          30,
          31,
          32
         ],
         "title": {
          "text": "Point ID"
         },
         "zeroline": false
        },
        "xaxis2": {
         "anchor": "y2",
         "domain": [
          0,
          1
         ],
         "linecolor": "black",
         "linewidth": 1,
         "mirror": true,
         "showgrid": false,
         "showline": true,
         "ticktext": [
          "200",
          "201",
          "202",
          "203",
          "204",
          "205",
          "206",
          "207",
          "208",
          "209",
          "210",
          "211",
          "212",
          "213",
          "214",
          "215",
          "216",
          "217",
          "218",
          "219",
          "220",
          "221",
          "222",
          "223",
          "224",
          "225",
          "226",
          "227",
          "228",
          "229",
          "230"
         ],
         "tickvals": [
          0,
          1,
          2,
          3,
          4,
          5,
          6,
          7,
          8,
          9,
          10,
          11,
          12,
          13,
          14,
          15,
          16,
          17,
          18,
          19,
          20,
          21,
          22,
          23,
          24,
          25,
          26,
          27,
          28,
          29,
          30
         ],
         "title": {
          "text": "Point ID"
         },
         "zeroline": false
        },
        "yaxis": {
         "anchor": "x",
         "domain": [
          0.625,
          1
         ],
         "dtick": 0.05,
         "gridcolor": "lightgray",
         "linecolor": "black",
         "linewidth": 1,
         "mirror": true,
         "range": [
          -0.25,
          0.25
         ],
         "showgrid": true,
         "showline": true,
         "zeroline": true,
         "zerolinecolor": "darkgray",
         "zerolinewidth": 1
        },
        "yaxis2": {
         "anchor": "x2",
         "domain": [
          0,
          0.375
         ],
         "dtick": 0.05,
         "gridcolor": "lightgray",
         "linecolor": "black",
         "linewidth": 1,
         "mirror": true,
         "range": [
          -0.25,
          0.25
         ],
         "showgrid": true,
         "showline": true,
         "zeroline": true,
         "zerolinecolor": "darkgray",
         "zerolinewidth": 1
        }
       }
      }
     },
     "metadata": {},
     "output_type": "display_data"
    }
   ],
   "source": [
    "H_SURE_UCE_M3_GCP = [0.038, 0.045, 0.051, 0.089, 0.119, 0.073, 0.091, 0.132, 0.028, 0.096, 0.127, 0.067, 0.042, 0.063, 0.024,\n",
    "                     0.098, 0.086, -0.019, -0.027, 0.021, 0.010, 0.062, 0.056, 0.046, 0.044, 0.056, 0.025, 0.040, 0.053, 0.002, 0.097, 0.068, 0.028]\n",
    "H_RS_GCP = [0.087, 0.039, 0.052, 0.027, 0.038, 0.050, 0.036, 0.038, 0.009, 0.038, 0.076, 0.051, 0.039, 0.011, 0.016, 0.046,\n",
    "            0.072, -0.012, -0.064, -0.018, 0.031, 0.055, 0.017, 0.075, 0.039, -0.011, -0.011, 0.020, -0.003, 0.036, 0.026, 0.048, 0.039]\n",
    "\n",
    "H_SURE_UCE_M3_CP = [0.098, 0.047, 0.139, 0.086, 0.176, 0.165, 0.140, 0.074, 0.051, 0.151, 0.100, 0.067, 0.100, 0.096,\n",
    "                    0.051, 0.141, -0.013, -0.032, 0.014, 0.073, 0.043, 0.060, 0.022, 0.049, 0.060, 0.044, 0.087, 0.064, 0.075, 0.085, 0.061]\n",
    "H_RS_UCE_M3_CP = [0.036, 0.040, 0.033, 0.023, 0.008, 0.008, 0.114, 0.074, 0.019, 0.081, 0.042, -0.041, -0.006, -0.023,\n",
    "                  0.047, 0.092, -0.016, -0.017, 0.020, 0.037, 0.002, 0.034, 0.008, 0.024, 0.019, 0.037, 0.032, 0.040, 0.047, 0.117, 0.005]\n",
    "colors = ['navy', 'red']\n",
    "gcp_ind = [x for x in np.arange(100, 133, 1)]\n",
    "cp_ind = [x for x in np.arange(200, 231, 1)]\n",
    "# op_ind = np.append(gcp_ind, cp_ind)\n",
    "x_axis_1 = np.arange(0, len(gcp_ind))\n",
    "x_axis_2 = np.arange(0, len(cp_ind))\n",
    "fig = fig = make_subplots(rows=2, cols=1, subplot_titles=[\n",
    "    \"Diff-Z between GCP and sampled DSM point\", \"Diff-Z between ChP and sampled DSM point\"])\n",
    "fig.append_trace(go.Scatter(\n",
    "    name=\"Match-AT + SURE\",\n",
    "    x=x_axis_1,\n",
    "    y=H_SURE_UCE_M3_GCP,\n",
    "    mode=\"lines+markers\",\n",
    "    legendgroup=\"Match-AT + SURE\",\n",
    "    showlegend=True,\n",
    "    marker_color=colors[0]\n",
    "),\n",
    "    row=1,\n",
    "    col=1\n",
    ")\n",
    "fig.append_trace(go.Scatter(\n",
    "    name=\"ArcGIS RS\",\n",
    "    x=x_axis_1,\n",
    "    y=H_RS_GCP,\n",
    "    mode=\"lines+markers\",\n",
    "    legendgroup=\"ArcGIS RS\",\n",
    "    showlegend=True,\n",
    "    marker_color=colors[1]\n",
    "),\n",
    "    row=1,\n",
    "    col=1\n",
    ")\n",
    "\n",
    "fig.append_trace(go.Scatter(\n",
    "    name=\"Match-AT + SURE\",\n",
    "    x=x_axis_2,\n",
    "    y=H_SURE_UCE_M3_CP,\n",
    "    mode=\"lines+markers\",\n",
    "    legendgroup=\"Match-AT + SURE\",\n",
    "    showlegend=False,\n",
    "    marker_color=colors[0]\n",
    "),\n",
    "    row=2,\n",
    "    col=1\n",
    ")\n",
    "fig.append_trace(go.Scatter(\n",
    "    name=\"ArcGIS RS\",\n",
    "    x=x_axis_2,\n",
    "    y=H_RS_UCE_M3_CP,\n",
    "    mode=\"lines+markers\",\n",
    "    legendgroup=\"ArcGIS RS\",\n",
    "    showlegend=False,\n",
    "    marker_color=colors[1]\n",
    "),\n",
    "    row=2,\n",
    "    col=1\n",
    ")\n",
    "\n",
    "\n",
    "fig.update_traces(opacity=0.6)\n",
    "fig.update_layout(\n",
    "    plot_bgcolor = \"white\",\n",
    "    xaxis1={\"title\": \"Point ID\",\n",
    "            \"ticktext\": [str(id) for id in gcp_ind],\n",
    "            \"tickvals\": x_axis_1,\n",
    "            \"showgrid\": False,\n",
    "            \"zeroline\": False,\n",
    "            \"showline\": True,\n",
    "            \"linewidth\": 1, \n",
    "            \"linecolor\": \"black\", \n",
    "            \"mirror\": True},\n",
    "    xaxis2={\"title\": \"Point ID\",\n",
    "            \"ticktext\": [str(id) for id in cp_ind],\n",
    "            \"tickvals\": x_axis_2,\n",
    "            \"showgrid\": False,\n",
    "            \"zeroline\": False,\n",
    "            \"showline\": True,\n",
    "            \"linewidth\": 1, \n",
    "            \"linecolor\": \"black\", \n",
    "            \"mirror\": True},\n",
    "    yaxis1={\"range\": [-0.25, 0.25], \"dtick\": 0.05,\n",
    "            \"showgrid\": True, \"gridcolor\": \"lightgray\",\n",
    "            \"zeroline\": True, \"zerolinecolor\": 'darkgray', \"zerolinewidth\": 1,\n",
    "            \"showline\": True, \"linewidth\": 1, \"linecolor\": \"black\", \"mirror\": True},\n",
    "    yaxis2={\"range\": [-0.25, 0.25], \"dtick\": 0.05,\n",
    "            \"showgrid\": True, \"gridcolor\": \"lightgray\",\n",
    "            \"zeroline\": True, \"zerolinecolor\": 'darkgray', \"zerolinewidth\": 1,\n",
    "            \"showline\": True, \"linewidth\": 1, \"linecolor\": \"black\", \"mirror\": True}\n",
    "    # autosize=True\n",
    ")\n",
    "fig.show()\n",
    "fig.write_html(\"./Results/RS_analysis/diffZ_DSM_PT.html\")"
   ]
  }
 ],
 "metadata": {
  "kernelspec": {
   "display_name": "venv_309",
   "language": "python",
   "name": "python3"
  },
  "language_info": {
   "codemirror_mode": {
    "name": "ipython",
    "version": 3
   },
   "file_extension": ".py",
   "mimetype": "text/x-python",
   "name": "python",
   "nbconvert_exporter": "python",
   "pygments_lexer": "ipython3",
   "version": "3.9.13"
  }
 },
 "nbformat": 4,
 "nbformat_minor": 2
}
