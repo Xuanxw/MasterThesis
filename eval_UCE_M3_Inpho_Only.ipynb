{
 "cells": [
  {
   "cell_type": "markdown",
   "metadata": {},
   "source": [
    "# Evaluation of Inpho projects results - Camera: UCE-M3<br>\n",
    "\n",
    "\"\"\"<br>\n",
    "Compare the Match-AT results in different inpho project, which deploys different number of GCPs and CPs (all GCP; 4 GCP; 9 GCP;\n",
    "15 GCP). <br>\n",
    "The comparison occurs regarding the following parameters:\n",
    "@ Images standard deviation\n",
    "@ Ground control points residuals\n",
    "@ Check point residuals\n",
    "@ Mean residuals of all object points\n",
    "\"\"\"\n"
   ]
  },
  {
   "cell_type": "code",
   "execution_count": 30,
   "metadata": {},
   "outputs": [],
   "source": [
    "from math import atan2, pi\n",
    "import numpy as np\n",
    "import plotly.graph_objects as go\n",
    "import plotly.express as px\n",
    "from plotly.subplots import make_subplots\n",
    "import matplotlib.pyplot as plt\n",
    "from _parser_Inpho_prj_results import Inpho_prj_accuracy, ellipse"
   ]
  },
  {
   "cell_type": "code",
   "execution_count": 31,
   "metadata": {},
   "outputs": [
    {
     "name": "stdout",
     "output_type": "stream",
     "text": [
      "57.95618756179422\n",
      "26.573091731131303\n"
     ]
    }
   ],
   "source": [
    "def rad2deg(rad: float):\n",
    "    deg = rad*180/pi\n",
    "    return deg\n",
    "\n",
    "\n",
    "F_H = 107.000\n",
    "p_s = 3.76\n",
    "ss_cr = 31520*p_s*0.001\n",
    "ss_al = 13440*p_s*0.001\n",
    "FOV_cr = 2*atan2(ss_cr, 2*F_H)\n",
    "FOV_al = 2*atan2(ss_al, 2*F_H)\n",
    "\n",
    "print(rad2deg(FOV_cr))\n",
    "print(rad2deg(FOV_al))"
   ]
  },
  {
   "cell_type": "code",
   "execution_count": 32,
   "metadata": {},
   "outputs": [
    {
     "name": "stdout",
     "output_type": "stream",
     "text": [
      "Log file parser is done\n"
     ]
    }
   ],
   "source": [
    "\"\"\"[15GCP + 18CP] Parsing\"\"\"\n",
    "# Parse Inpho projects - 1\n",
    "GCP_path = './data/UCE_M3_dataset/PP_CP_Koordinaten_1.txt'\n",
    "\n",
    "# 15gcp\n",
    "# with correction and shifts in all axes are on and imu on\n",
    "project_15gcp_path_list = ['./data/UCE_M3_dataset/Inpho_projects/project_UCE_M3_rgb-15GCP+18CP',\n",
    "                           './data/UCE_4_dataset/Inpho_projects/project_UCE_4.1_rgb-15gcp+18cp',\n",
    "                           './data/Leica_DMC_4/Inpho_projects/project_leica_dmc_4_15gcp+18cp',\n",
    "                           './data/IGI_Urbanmapper2/Inpho_projects/project_IGI_UM2-15gcp+18cp',\n",
    "                           './data/PhaseOne_PAS880/test']\n",
    "\n",
    "prj_15GCP_uce_m3 = Inpho_prj_accuracy(\n",
    "    project_path=project_15gcp_path_list[0], gcp_path=GCP_path)\n",
    "_ = prj_15GCP_uce_m3.run()\n",
    "\n",
    "prj_15GCP_uce_4 = Inpho_prj_accuracy(\n",
    "    project_path=project_15gcp_path_list[1], gcp_path=GCP_path)\n",
    "_ = prj_15GCP_uce_4.run()\n",
    "\n",
    "prj_15GCP_leica = Inpho_prj_accuracy(\n",
    "    project_path=project_15gcp_path_list[2], gcp_path=GCP_path)\n",
    "_ = prj_15GCP_leica.run()\n",
    "\n",
    "prj_15GCP_igi = Inpho_prj_accuracy(\n",
    "    project_path=project_15gcp_path_list[3], gcp_path=GCP_path)\n",
    "_ = prj_15GCP_igi.run()\n",
    "\n",
    "prj_15GCP_pas = Inpho_prj_accuracy(\n",
    "    project_path=project_15gcp_path_list[4], gcp_path=GCP_path)\n",
    "_ = prj_15GCP_pas.run()\n",
    "print('Log file parser is done')"
   ]
  },
  {
   "cell_type": "code",
   "execution_count": 33,
   "metadata": {},
   "outputs": [
    {
     "name": "stdout",
     "output_type": "stream",
     "text": [
      "Log file parser is done\n"
     ]
    }
   ],
   "source": [
    "\"\"\"[4GCP + 18CP] Parsing\"\"\"\n",
    "# Parse Inpho projects - 2\n",
    "GCP_path = './data/UCE_M3_dataset/PP_CP_Koordinaten_1.txt'\n",
    "\n",
    "# 4gcp\n",
    "# with correction and shifts in all axes are on and imu on\n",
    "project_4gcp_path_list = ['./data/UCE_M3_dataset/Inpho_projects/project_UCE_M3_rgb-4GCP+18CP',\n",
    "                          './data/UCE_4_dataset/Inpho_projects/project_UCE_4.1_rgb-4gcp+18cp',\n",
    "                          './data/Leica_DMC_4/Inpho_projects/project_leica_dmc_4_4gcp+18cp',\n",
    "                          './data/IGI_Urbanmapper2/Inpho_projects/project_IGI_UM2-4gcp+18cp']\n",
    "\n",
    "prj_4GCP_uce_m3 = Inpho_prj_accuracy(\n",
    "    project_path=project_4gcp_path_list[0], gcp_path=GCP_path)\n",
    "_ = prj_4GCP_uce_m3.run()\n",
    "\n",
    "prj_4GCP_uce_4 = Inpho_prj_accuracy(\n",
    "    project_path=project_4gcp_path_list[1], gcp_path=GCP_path)\n",
    "_ = prj_4GCP_uce_4.run()\n",
    "\n",
    "prj_4GCP_leica = Inpho_prj_accuracy(\n",
    "    project_path=project_4gcp_path_list[2], gcp_path=GCP_path)\n",
    "_ = prj_4GCP_leica.run()\n",
    "\n",
    "prj_4GCP_igi = Inpho_prj_accuracy(\n",
    "    project_path=project_4gcp_path_list[3], gcp_path=GCP_path)\n",
    "_ = prj_4GCP_igi.run()\n",
    "\n",
    "\n",
    "print('Log file parser is done')"
   ]
  },
  {
   "cell_type": "code",
   "execution_count": 34,
   "metadata": {},
   "outputs": [
    {
     "name": "stdout",
     "output_type": "stream",
     "text": [
      "Log file parser is done\n"
     ]
    }
   ],
   "source": [
    "\"\"\"Lower Weight [33GCP + 31CP] Parsing\"\"\"\n",
    "# Parse Inpho projects - 2\n",
    "GCP_path = './data/UCE_M3_dataset/PP_CP_Koordinaten_1.txt'\n",
    "\n",
    "# 31cp\n",
    "# 33gcp\n",
    "# with correction and shifts in all axes are on and imu on\n",
    "project_33gcp_path_list = ['./data/UCE_M3_dataset/Inpho_projects/LowerWeigh/project_UCE_M3_rgb',\n",
    "                           './data/UCE_4_dataset/Inpho_projects/LowerWeigh/project_UCE_4.1_rgb-allgcp',\n",
    "                           './data/Leica_DMC_4/Inpho_projects/LowerWeigh/project_leica_dmc_4_allgcp',\n",
    "                           './data/IGI_Urbanmapper2/Inpho_projects/LowerWeigh/project_IGI_UM2-allgcp']\n",
    "\n",
    "prj_33GCP_uce_m3 = Inpho_prj_accuracy(\n",
    "    project_path=project_33gcp_path_list[0], gcp_path=GCP_path)\n",
    "_ = prj_33GCP_uce_m3.run()\n",
    "\n",
    "prj_33GCP_uce_4 = Inpho_prj_accuracy(\n",
    "    project_path=project_33gcp_path_list[1], gcp_path=GCP_path)\n",
    "_ = prj_33GCP_uce_4.run()\n",
    "\n",
    "prj_33GCP_leica = Inpho_prj_accuracy(\n",
    "    project_path=project_33gcp_path_list[2], gcp_path=GCP_path)\n",
    "_ = prj_33GCP_leica.run()\n",
    "\n",
    "prj_33GCP_igi = Inpho_prj_accuracy(\n",
    "    project_path=project_33gcp_path_list[3], gcp_path=GCP_path)\n",
    "_ = prj_33GCP_igi.run()\n",
    "\n",
    "\n",
    "print('Log file parser is done')"
   ]
  },
  {
   "cell_type": "code",
   "execution_count": 35,
   "metadata": {},
   "outputs": [
    {
     "name": "stdout",
     "output_type": "stream",
     "text": [
      "Log file parser is done\n"
     ]
    }
   ],
   "source": [
    "\"\"\"Lower Weight [15GCP + 18CP] Parsing\"\"\"\n",
    "# Parse Inpho projects - 1\n",
    "GCP_path = './data/UCE_M3_dataset/PP_CP_Koordinaten_1.txt'\n",
    "\n",
    "# 15gcp\n",
    "# with correction and shifts in all axes are on and imu on\n",
    "project_15gcp_path_list_LW = ['./data/UCE_M3_dataset/Inpho_projects/LowerWeigh/project_UCE_M3_rgb-15GCP+18CP',\n",
    "                              './data/UCE_4_dataset/Inpho_projects//LowerWeigh/project_UCE_4.1_rgb-15gcp+18cp',\n",
    "                              './data/Leica_DMC_4/Inpho_projects//LowerWeigh/project_leica_dmc_4_15gcp+18cp',\n",
    "                              './data/IGI_Urbanmapper2/Inpho_projects//LowerWeigh/project_IGI_UM2-15gcp+18cp']\n",
    "\n",
    "prj_15GCP_uce_m3_LW = Inpho_prj_accuracy(\n",
    "    project_path=project_15gcp_path_list_LW[0], gcp_path=GCP_path)\n",
    "_ = prj_15GCP_uce_m3_LW.run()\n",
    "\n",
    "prj_15GCP_uce_4_LW = Inpho_prj_accuracy(\n",
    "    project_path=project_15gcp_path_list_LW[1], gcp_path=GCP_path)\n",
    "_ = prj_15GCP_uce_4_LW.run()\n",
    "\n",
    "prj_15GCP_leica_LW = Inpho_prj_accuracy(\n",
    "    project_path=project_15gcp_path_list_LW[2], gcp_path=GCP_path)\n",
    "_ = prj_15GCP_leica_LW.run()\n",
    "\n",
    "prj_15GCP_igi_LW = Inpho_prj_accuracy(\n",
    "    project_path=project_15gcp_path_list_LW[3], gcp_path=GCP_path)\n",
    "_ = prj_15GCP_igi_LW.run()\n",
    "\n",
    "\n",
    "print('Log file parser is done')"
   ]
  },
  {
   "cell_type": "code",
   "execution_count": 36,
   "metadata": {},
   "outputs": [
    {
     "name": "stdout",
     "output_type": "stream",
     "text": [
      "Log file parser is done\n"
     ]
    }
   ],
   "source": [
    "\"\"\"Lower Weight [4GCP + 18CP] Parsing\"\"\"\n",
    "# Parse Inpho projects - 1\n",
    "GCP_path = './data/UCE_M3_dataset/PP_CP_Koordinaten_1.txt'\n",
    "\n",
    "# 15gcp\n",
    "# with correction and shifts in all axes are on and imu on\n",
    "project_4gcp_path_list_LW = ['./data/UCE_M3_dataset/Inpho_projects/LowerWeigh/project_UCE_M3_rgb-4GCP+18CP',\n",
    "                             './data/UCE_4_dataset/Inpho_projects//LowerWeigh/project_UCE_4.1_rgb-4gcp+18cp',\n",
    "                             './data/Leica_DMC_4/Inpho_projects/LowerWeigh/project_leica_dmc_4_4gcp+18cp',\n",
    "                             './data/IGI_Urbanmapper2/Inpho_projects//LowerWeigh/project_IGI_UM2-4gcp+18cp']\n",
    "\n",
    "prj_4GCP_uce_m3_LW = Inpho_prj_accuracy(\n",
    "    project_path=project_4gcp_path_list_LW[0], gcp_path=GCP_path)\n",
    "_ = prj_4GCP_uce_m3_LW.run()\n",
    "\n",
    "prj_4GCP_uce_4_LW = Inpho_prj_accuracy(\n",
    "    project_path=project_4gcp_path_list_LW[1], gcp_path=GCP_path)\n",
    "_ = prj_4GCP_uce_4_LW.run()\n",
    "\n",
    "prj_4GCP_leica_LW = Inpho_prj_accuracy(\n",
    "    project_path=project_4gcp_path_list_LW[2], gcp_path=GCP_path)\n",
    "_ = prj_4GCP_leica_LW.run()\n",
    "\n",
    "prj_4GCP_igi_LW = Inpho_prj_accuracy(\n",
    "    project_path=project_4gcp_path_list_LW[3], gcp_path=GCP_path)\n",
    "_ = prj_4GCP_igi_LW.run()\n",
    "\n",
    "\n",
    "print('Log file parser is done')"
   ]
  },
  {
   "cell_type": "code",
   "execution_count": 37,
   "metadata": {},
   "outputs": [],
   "source": [
    "\"\"\"NO GNSS/IMU [15 GCP + 18 CP] & [4 GCP + 18 GCP] Parsing\"\"\"\n",
    "# 15gcp\n",
    "# with correction and shifts in all axes are on and imu on\n",
    "project_15gcp_NOGNSS_path_list = ['./data/UCE_M3_dataset/Inpho_projects/no_GNSS/project_UCE_M3_rgb-15GCP',\n",
    "                                  './data/UCE_4_dataset/Inpho_projects/no_GNSS/project_UCE_4.1_rgb-15gcp',\n",
    "                                  './data/Leica_DMC_4/Inpho_projects/NoGNSS/project_leica_dmc_4_15gcp',\n",
    "                                  './data/IGI_Urbanmapper2/Inpho_projects/no_GNSS/project_IGI_UM2-15gcp']\n",
    "\n",
    "prj_15GCP_uce_m3_NOGNSS = Inpho_prj_accuracy(\n",
    "    project_path=project_15gcp_NOGNSS_path_list[0], gcp_path=GCP_path)\n",
    "_ = prj_15GCP_uce_m3_NOGNSS.run()\n",
    "\n",
    "prj_15GCP_uce_4_NOGNSS = Inpho_prj_accuracy(\n",
    "    project_path=project_15gcp_NOGNSS_path_list[1], gcp_path=GCP_path)\n",
    "_ = prj_15GCP_uce_4_NOGNSS.run()\n",
    "\n",
    "prj_15GCP_leica_NOGNSS = Inpho_prj_accuracy(\n",
    "    project_path=project_15gcp_NOGNSS_path_list[2], gcp_path=GCP_path)\n",
    "_ = prj_15GCP_leica_NOGNSS.run()\n",
    "\n",
    "prj_15GCP_igi_NOGNSS = Inpho_prj_accuracy(\n",
    "    project_path=project_15gcp_NOGNSS_path_list[3], gcp_path=GCP_path)\n",
    "_ = prj_15GCP_igi_NOGNSS.run()\n",
    "\n",
    "# 4 GCP\n",
    "project_4gcp_NOGNSS_path_list = ['./data/UCE_M3_dataset/Inpho_projects/no_GNSS/project_UCE_M3_rgb-4GCP',\n",
    "                                 './data/UCE_4_dataset/Inpho_projects/no_GNSS/project_UCE_4.1_rgb-4gcp',\n",
    "                                 './data/Leica_DMC_4/Inpho_projects/NoGNSS/project_leica_dmc_4_4gcp',\n",
    "                                 './data/IGI_Urbanmapper2/Inpho_projects/no_GNSS/project_IGI_UM2-4gcp']\n",
    "\n",
    "prj_4GCP_uce_m3_NOGNSS = Inpho_prj_accuracy(\n",
    "    project_path=project_4gcp_NOGNSS_path_list[0], gcp_path=GCP_path)\n",
    "_ = prj_4GCP_uce_m3_NOGNSS.run()\n",
    "\n",
    "prj_4GCP_uce_4_NOGNSS = Inpho_prj_accuracy(\n",
    "    project_path=project_4gcp_NOGNSS_path_list[1], gcp_path=GCP_path)\n",
    "_ = prj_4GCP_uce_4_NOGNSS.run()\n",
    "\n",
    "prj_4GCP_leica_NOGNSS = Inpho_prj_accuracy(\n",
    "    project_path=project_4gcp_NOGNSS_path_list[2], gcp_path=GCP_path)\n",
    "_ = prj_4GCP_leica_NOGNSS.run()\n",
    "\n",
    "prj_4GCP_igi_NOGNSS = Inpho_prj_accuracy(\n",
    "    project_path=project_4gcp_NOGNSS_path_list[3], gcp_path=GCP_path)\n",
    "_ = prj_4GCP_igi_NOGNSS.run()"
   ]
  },
  {
   "cell_type": "code",
   "execution_count": 38,
   "metadata": {},
   "outputs": [
    {
     "data": {
      "application/vnd.plotly.v1+json": {
       "config": {
        "plotlyServerURL": "https://plot.ly"
       },
       "data": [
        {
         "legendgroup": "18 Check point",
         "marker": {
          "color": "tomato",
          "size": 30,
          "symbol": "square-open-dot"
         },
         "mode": "markers+text",
         "name": "18 check points",
         "showlegend": true,
         "text": [
          "101",
          "102",
          "105",
          "108",
          "109",
          "111",
          "112",
          "115",
          "118",
          "119",
          "121",
          "122",
          "124",
          "125",
          "127",
          "128",
          "130",
          "131"
         ],
         "textfont": {
          "color": "tomato"
         },
         "textposition": "top left",
         "type": "scatter",
         "x": [
          558682.06,
          558684.28,
          563338.714,
          567957.88,
          568008.795,
          567972.59,
          567985.392,
          563009.069,
          558607.866,
          558539.067,
          560827.527,
          561288.347,
          562851.45,
          562957.395,
          564263.615,
          564408.111,
          565544.421,
          565647.671
         ],
         "y": [
          5992213.874,
          5992205.556,
          5992215.18,
          5992148.393,
          5992206.628,
          5989598.142,
          5989594.811,
          5989554.387,
          5989670.93,
          5989604.821,
          5991765.417,
          5990397.517,
          5991798.31,
          5990112.226,
          5991937.932,
          5989941.211,
          5990044.13,
          5991612.055
         ]
        },
        {
         "legendgroup": "31 Check point",
         "marker": {
          "color": "mediumseagreen",
          "size": 30,
          "symbol": "square-open-dot"
         },
         "mode": "markers+text",
         "name": "31 check points",
         "showlegend": true,
         "text": [
          "200",
          "201",
          "202",
          "203",
          "204",
          "205",
          "206",
          "207",
          "208",
          "209",
          "210",
          "211",
          "212",
          "213",
          "214",
          "215",
          "216",
          "217",
          "218",
          "219",
          "220",
          "221",
          "222",
          "223",
          "224",
          "225",
          "226",
          "227",
          "228",
          "229",
          "230"
         ],
         "textfont": {
          "color": "mediumseagreen"
         },
         "textposition": "top left",
         "type": "scatter",
         "x": [
          558737.803,
          558872.53,
          561133.756,
          563446.905,
          565737.447,
          566634.705,
          568517.9,
          568338.78,
          568108.599,
          567954.592,
          567312.874,
          565307.877,
          564949.92,
          562685.26,
          559991.917,
          559937.034,
          558408.579,
          558478.16,
          559506.141,
          560948.469,
          561731.606,
          562291.75,
          562718.226,
          563547.907,
          563598.695,
          563889.546,
          564682.775,
          565070.887,
          565948.006,
          566704.52,
          566819.04
         ],
         "y": [
          5992771.262,
          5992744.757,
          5992819.204,
          5993199.475,
          5993014.574,
          5992804.612,
          5992526.948,
          5991477.88,
          5989910.45,
          5988934.618,
          5988895.421,
          5988597.406,
          5989103.3,
          5989164.035,
          5989526.673,
          5989157.74,
          5990023.96,
          5991536.766,
          5991830.554,
          5990758.959,
          5991639.934,
          5989809.885,
          5991038.838,
          5991867.714,
          5990146.388,
          5990783.24,
          5989665.87,
          5991775.439,
          5990576.345,
          5991741.88,
          5990102.165
         ]
        },
        {
         "legendgroup": "4 GCP",
         "marker": {
          "color": "midnightblue",
          "size": 30,
          "symbol": "triangle-up-open-dot"
         },
         "mode": "markers+text",
         "name": "4 GCP",
         "showlegend": true,
         "text": [
          "100",
          "107",
          "110",
          "117"
         ],
         "textfont": {
          "color": "midnightblue"
         },
         "textposition": "top left",
         "type": "scatter",
         "x": [
          558662.507,
          567936.082,
          567924.523,
          558830.914
         ],
         "y": [
          5992183.732,
          5992170.968,
          5989626.687,
          5989786.701
         ]
        },
        {
         "legendgroup": "15 GCP",
         "marker": {
          "color": "midnightblue",
          "size": 30,
          "symbol": "triangle-up-open-dot"
         },
         "mode": "markers+text",
         "name": "15 GCP",
         "showlegend": true,
         "text": [
          "100",
          "103",
          "104",
          "106",
          "107",
          "110",
          "113",
          "114",
          "116",
          "117",
          "120",
          "123",
          "126",
          "129",
          "132"
         ],
         "textfont": {
          "color": "midnightblue"
         },
         "textposition": "top left",
         "type": "scatter",
         "x": [
          558662.507,
          561643.179,
          563338.074,
          565913.63,
          567936.082,
          567924.523,
          565649.772,
          563420.506,
          560596.111,
          558830.914,
          559926.887,
          561786.906,
          563320.951,
          564740.947,
          566598.799
         ],
         "y": [
          5992183.732,
          5992348.832,
          5992207.593,
          5992229.411,
          5992170.968,
          5989626.687,
          5989619.312,
          5989596.259,
          5989463.081,
          5989786.701,
          5990962.154,
          5991073.282,
          5990934.707,
          5990826.906,
          5990851.981
         ]
        },
        {
         "legendgroup": "33 GCP",
         "marker": {
          "color": "midnightblue",
          "size": 30,
          "symbol": "triangle-up-open-dot"
         },
         "mode": "markers+text",
         "name": "33 GCP",
         "showlegend": true,
         "text": [
          "100",
          "101",
          "102",
          "103",
          "104",
          "105",
          "106",
          "107",
          "108",
          "109",
          "110",
          "111",
          "112",
          "113",
          "114",
          "115",
          "116",
          "117",
          "118",
          "119",
          "120",
          "121",
          "122",
          "123",
          "124",
          "125",
          "126",
          "127",
          "128",
          "129",
          "130",
          "131",
          "132"
         ],
         "textfont": {
          "color": "midnightblue"
         },
         "textposition": "top left",
         "type": "scatter",
         "x": [
          558662.507,
          558682.06,
          558684.28,
          561643.179,
          563338.074,
          563338.714,
          565913.63,
          567936.082,
          567957.88,
          568008.795,
          567924.523,
          567972.59,
          567985.392,
          565649.772,
          563420.506,
          563009.069,
          560596.111,
          558830.914,
          558607.866,
          558539.067,
          559926.887,
          560827.527,
          561288.347,
          561786.906,
          562851.45,
          562957.395,
          563320.951,
          564263.615,
          564408.111,
          564740.947,
          565544.421,
          565647.671,
          566598.799
         ],
         "y": [
          5992183.732,
          5992213.874,
          5992205.556,
          5992348.832,
          5992207.593,
          5992215.18,
          5992229.411,
          5992170.968,
          5992148.393,
          5992206.628,
          5989626.687,
          5989598.142,
          5989594.811,
          5989619.312,
          5989596.259,
          5989554.387,
          5989463.081,
          5989786.701,
          5989670.93,
          5989604.821,
          5990962.154,
          5991765.417,
          5990397.517,
          5991073.282,
          5991798.31,
          5990112.226,
          5990934.707,
          5991937.932,
          5989941.211,
          5990826.906,
          5990044.13,
          5991612.055,
          5990851.981
         ]
        }
       ],
       "layout": {
        "legend": {
         "tracegroupgap": 20
        },
        "plot_bgcolor": "white",
        "template": {
         "data": {
          "bar": [
           {
            "error_x": {
             "color": "#2a3f5f"
            },
            "error_y": {
             "color": "#2a3f5f"
            },
            "marker": {
             "line": {
              "color": "#E5ECF6",
              "width": 0.5
             },
             "pattern": {
              "fillmode": "overlay",
              "size": 10,
              "solidity": 0.2
             }
            },
            "type": "bar"
           }
          ],
          "barpolar": [
           {
            "marker": {
             "line": {
              "color": "#E5ECF6",
              "width": 0.5
             },
             "pattern": {
              "fillmode": "overlay",
              "size": 10,
              "solidity": 0.2
             }
            },
            "type": "barpolar"
           }
          ],
          "carpet": [
           {
            "aaxis": {
             "endlinecolor": "#2a3f5f",
             "gridcolor": "white",
             "linecolor": "white",
             "minorgridcolor": "white",
             "startlinecolor": "#2a3f5f"
            },
            "baxis": {
             "endlinecolor": "#2a3f5f",
             "gridcolor": "white",
             "linecolor": "white",
             "minorgridcolor": "white",
             "startlinecolor": "#2a3f5f"
            },
            "type": "carpet"
           }
          ],
          "choropleth": [
           {
            "colorbar": {
             "outlinewidth": 0,
             "ticks": ""
            },
            "type": "choropleth"
           }
          ],
          "contour": [
           {
            "colorbar": {
             "outlinewidth": 0,
             "ticks": ""
            },
            "colorscale": [
             [
              0,
              "#0d0887"
             ],
             [
              0.1111111111111111,
              "#46039f"
             ],
             [
              0.2222222222222222,
              "#7201a8"
             ],
             [
              0.3333333333333333,
              "#9c179e"
             ],
             [
              0.4444444444444444,
              "#bd3786"
             ],
             [
              0.5555555555555556,
              "#d8576b"
             ],
             [
              0.6666666666666666,
              "#ed7953"
             ],
             [
              0.7777777777777778,
              "#fb9f3a"
             ],
             [
              0.8888888888888888,
              "#fdca26"
             ],
             [
              1,
              "#f0f921"
             ]
            ],
            "type": "contour"
           }
          ],
          "contourcarpet": [
           {
            "colorbar": {
             "outlinewidth": 0,
             "ticks": ""
            },
            "type": "contourcarpet"
           }
          ],
          "heatmap": [
           {
            "colorbar": {
             "outlinewidth": 0,
             "ticks": ""
            },
            "colorscale": [
             [
              0,
              "#0d0887"
             ],
             [
              0.1111111111111111,
              "#46039f"
             ],
             [
              0.2222222222222222,
              "#7201a8"
             ],
             [
              0.3333333333333333,
              "#9c179e"
             ],
             [
              0.4444444444444444,
              "#bd3786"
             ],
             [
              0.5555555555555556,
              "#d8576b"
             ],
             [
              0.6666666666666666,
              "#ed7953"
             ],
             [
              0.7777777777777778,
              "#fb9f3a"
             ],
             [
              0.8888888888888888,
              "#fdca26"
             ],
             [
              1,
              "#f0f921"
             ]
            ],
            "type": "heatmap"
           }
          ],
          "heatmapgl": [
           {
            "colorbar": {
             "outlinewidth": 0,
             "ticks": ""
            },
            "colorscale": [
             [
              0,
              "#0d0887"
             ],
             [
              0.1111111111111111,
              "#46039f"
             ],
             [
              0.2222222222222222,
              "#7201a8"
             ],
             [
              0.3333333333333333,
              "#9c179e"
             ],
             [
              0.4444444444444444,
              "#bd3786"
             ],
             [
              0.5555555555555556,
              "#d8576b"
             ],
             [
              0.6666666666666666,
              "#ed7953"
             ],
             [
              0.7777777777777778,
              "#fb9f3a"
             ],
             [
              0.8888888888888888,
              "#fdca26"
             ],
             [
              1,
              "#f0f921"
             ]
            ],
            "type": "heatmapgl"
           }
          ],
          "histogram": [
           {
            "marker": {
             "pattern": {
              "fillmode": "overlay",
              "size": 10,
              "solidity": 0.2
             }
            },
            "type": "histogram"
           }
          ],
          "histogram2d": [
           {
            "colorbar": {
             "outlinewidth": 0,
             "ticks": ""
            },
            "colorscale": [
             [
              0,
              "#0d0887"
             ],
             [
              0.1111111111111111,
              "#46039f"
             ],
             [
              0.2222222222222222,
              "#7201a8"
             ],
             [
              0.3333333333333333,
              "#9c179e"
             ],
             [
              0.4444444444444444,
              "#bd3786"
             ],
             [
              0.5555555555555556,
              "#d8576b"
             ],
             [
              0.6666666666666666,
              "#ed7953"
             ],
             [
              0.7777777777777778,
              "#fb9f3a"
             ],
             [
              0.8888888888888888,
              "#fdca26"
             ],
             [
              1,
              "#f0f921"
             ]
            ],
            "type": "histogram2d"
           }
          ],
          "histogram2dcontour": [
           {
            "colorbar": {
             "outlinewidth": 0,
             "ticks": ""
            },
            "colorscale": [
             [
              0,
              "#0d0887"
             ],
             [
              0.1111111111111111,
              "#46039f"
             ],
             [
              0.2222222222222222,
              "#7201a8"
             ],
             [
              0.3333333333333333,
              "#9c179e"
             ],
             [
              0.4444444444444444,
              "#bd3786"
             ],
             [
              0.5555555555555556,
              "#d8576b"
             ],
             [
              0.6666666666666666,
              "#ed7953"
             ],
             [
              0.7777777777777778,
              "#fb9f3a"
             ],
             [
              0.8888888888888888,
              "#fdca26"
             ],
             [
              1,
              "#f0f921"
             ]
            ],
            "type": "histogram2dcontour"
           }
          ],
          "mesh3d": [
           {
            "colorbar": {
             "outlinewidth": 0,
             "ticks": ""
            },
            "type": "mesh3d"
           }
          ],
          "parcoords": [
           {
            "line": {
             "colorbar": {
              "outlinewidth": 0,
              "ticks": ""
             }
            },
            "type": "parcoords"
           }
          ],
          "pie": [
           {
            "automargin": true,
            "type": "pie"
           }
          ],
          "scatter": [
           {
            "fillpattern": {
             "fillmode": "overlay",
             "size": 10,
             "solidity": 0.2
            },
            "type": "scatter"
           }
          ],
          "scatter3d": [
           {
            "line": {
             "colorbar": {
              "outlinewidth": 0,
              "ticks": ""
             }
            },
            "marker": {
             "colorbar": {
              "outlinewidth": 0,
              "ticks": ""
             }
            },
            "type": "scatter3d"
           }
          ],
          "scattercarpet": [
           {
            "marker": {
             "colorbar": {
              "outlinewidth": 0,
              "ticks": ""
             }
            },
            "type": "scattercarpet"
           }
          ],
          "scattergeo": [
           {
            "marker": {
             "colorbar": {
              "outlinewidth": 0,
              "ticks": ""
             }
            },
            "type": "scattergeo"
           }
          ],
          "scattergl": [
           {
            "marker": {
             "colorbar": {
              "outlinewidth": 0,
              "ticks": ""
             }
            },
            "type": "scattergl"
           }
          ],
          "scattermapbox": [
           {
            "marker": {
             "colorbar": {
              "outlinewidth": 0,
              "ticks": ""
             }
            },
            "type": "scattermapbox"
           }
          ],
          "scatterpolar": [
           {
            "marker": {
             "colorbar": {
              "outlinewidth": 0,
              "ticks": ""
             }
            },
            "type": "scatterpolar"
           }
          ],
          "scatterpolargl": [
           {
            "marker": {
             "colorbar": {
              "outlinewidth": 0,
              "ticks": ""
             }
            },
            "type": "scatterpolargl"
           }
          ],
          "scatterternary": [
           {
            "marker": {
             "colorbar": {
              "outlinewidth": 0,
              "ticks": ""
             }
            },
            "type": "scatterternary"
           }
          ],
          "surface": [
           {
            "colorbar": {
             "outlinewidth": 0,
             "ticks": ""
            },
            "colorscale": [
             [
              0,
              "#0d0887"
             ],
             [
              0.1111111111111111,
              "#46039f"
             ],
             [
              0.2222222222222222,
              "#7201a8"
             ],
             [
              0.3333333333333333,
              "#9c179e"
             ],
             [
              0.4444444444444444,
              "#bd3786"
             ],
             [
              0.5555555555555556,
              "#d8576b"
             ],
             [
              0.6666666666666666,
              "#ed7953"
             ],
             [
              0.7777777777777778,
              "#fb9f3a"
             ],
             [
              0.8888888888888888,
              "#fdca26"
             ],
             [
              1,
              "#f0f921"
             ]
            ],
            "type": "surface"
           }
          ],
          "table": [
           {
            "cells": {
             "fill": {
              "color": "#EBF0F8"
             },
             "line": {
              "color": "white"
             }
            },
            "header": {
             "fill": {
              "color": "#C8D4E3"
             },
             "line": {
              "color": "white"
             }
            },
            "type": "table"
           }
          ]
         },
         "layout": {
          "annotationdefaults": {
           "arrowcolor": "#2a3f5f",
           "arrowhead": 0,
           "arrowwidth": 1
          },
          "autotypenumbers": "strict",
          "coloraxis": {
           "colorbar": {
            "outlinewidth": 0,
            "ticks": ""
           }
          },
          "colorscale": {
           "diverging": [
            [
             0,
             "#8e0152"
            ],
            [
             0.1,
             "#c51b7d"
            ],
            [
             0.2,
             "#de77ae"
            ],
            [
             0.3,
             "#f1b6da"
            ],
            [
             0.4,
             "#fde0ef"
            ],
            [
             0.5,
             "#f7f7f7"
            ],
            [
             0.6,
             "#e6f5d0"
            ],
            [
             0.7,
             "#b8e186"
            ],
            [
             0.8,
             "#7fbc41"
            ],
            [
             0.9,
             "#4d9221"
            ],
            [
             1,
             "#276419"
            ]
           ],
           "sequential": [
            [
             0,
             "#0d0887"
            ],
            [
             0.1111111111111111,
             "#46039f"
            ],
            [
             0.2222222222222222,
             "#7201a8"
            ],
            [
             0.3333333333333333,
             "#9c179e"
            ],
            [
             0.4444444444444444,
             "#bd3786"
            ],
            [
             0.5555555555555556,
             "#d8576b"
            ],
            [
             0.6666666666666666,
             "#ed7953"
            ],
            [
             0.7777777777777778,
             "#fb9f3a"
            ],
            [
             0.8888888888888888,
             "#fdca26"
            ],
            [
             1,
             "#f0f921"
            ]
           ],
           "sequentialminus": [
            [
             0,
             "#0d0887"
            ],
            [
             0.1111111111111111,
             "#46039f"
            ],
            [
             0.2222222222222222,
             "#7201a8"
            ],
            [
             0.3333333333333333,
             "#9c179e"
            ],
            [
             0.4444444444444444,
             "#bd3786"
            ],
            [
             0.5555555555555556,
             "#d8576b"
            ],
            [
             0.6666666666666666,
             "#ed7953"
            ],
            [
             0.7777777777777778,
             "#fb9f3a"
            ],
            [
             0.8888888888888888,
             "#fdca26"
            ],
            [
             1,
             "#f0f921"
            ]
           ]
          },
          "colorway": [
           "#636efa",
           "#EF553B",
           "#00cc96",
           "#ab63fa",
           "#FFA15A",
           "#19d3f3",
           "#FF6692",
           "#B6E880",
           "#FF97FF",
           "#FECB52"
          ],
          "font": {
           "color": "#2a3f5f"
          },
          "geo": {
           "bgcolor": "white",
           "lakecolor": "white",
           "landcolor": "#E5ECF6",
           "showlakes": true,
           "showland": true,
           "subunitcolor": "white"
          },
          "hoverlabel": {
           "align": "left"
          },
          "hovermode": "closest",
          "mapbox": {
           "style": "light"
          },
          "paper_bgcolor": "white",
          "plot_bgcolor": "#E5ECF6",
          "polar": {
           "angularaxis": {
            "gridcolor": "white",
            "linecolor": "white",
            "ticks": ""
           },
           "bgcolor": "#E5ECF6",
           "radialaxis": {
            "gridcolor": "white",
            "linecolor": "white",
            "ticks": ""
           }
          },
          "scene": {
           "xaxis": {
            "backgroundcolor": "#E5ECF6",
            "gridcolor": "white",
            "gridwidth": 2,
            "linecolor": "white",
            "showbackground": true,
            "ticks": "",
            "zerolinecolor": "white"
           },
           "yaxis": {
            "backgroundcolor": "#E5ECF6",
            "gridcolor": "white",
            "gridwidth": 2,
            "linecolor": "white",
            "showbackground": true,
            "ticks": "",
            "zerolinecolor": "white"
           },
           "zaxis": {
            "backgroundcolor": "#E5ECF6",
            "gridcolor": "white",
            "gridwidth": 2,
            "linecolor": "white",
            "showbackground": true,
            "ticks": "",
            "zerolinecolor": "white"
           }
          },
          "shapedefaults": {
           "line": {
            "color": "#2a3f5f"
           }
          },
          "ternary": {
           "aaxis": {
            "gridcolor": "white",
            "linecolor": "white",
            "ticks": ""
           },
           "baxis": {
            "gridcolor": "white",
            "linecolor": "white",
            "ticks": ""
           },
           "bgcolor": "#E5ECF6",
           "caxis": {
            "gridcolor": "white",
            "linecolor": "white",
            "ticks": ""
           }
          },
          "title": {
           "x": 0.05
          },
          "xaxis": {
           "automargin": true,
           "gridcolor": "white",
           "linecolor": "white",
           "ticks": "",
           "title": {
            "standoff": 15
           },
           "zerolinecolor": "white",
           "zerolinewidth": 2
          },
          "yaxis": {
           "automargin": true,
           "gridcolor": "white",
           "linecolor": "white",
           "ticks": "",
           "title": {
            "standoff": 15
           },
           "zerolinecolor": "white",
           "zerolinewidth": 2
          }
         }
        },
        "xaxis": {
         "linecolor": "black",
         "linewidth": 1,
         "mirror": true,
         "showgrid": false,
         "showline": true,
         "showticklabels": false,
         "zeroline": false
        },
        "yaxis": {
         "linecolor": "black",
         "linewidth": 1,
         "mirror": true,
         "showgrid": false,
         "showline": true,
         "showticklabels": false,
         "zeroline": false
        }
       }
      }
     },
     "metadata": {},
     "output_type": "display_data"
    }
   ],
   "source": [
    "\"\"\"Point Distribution\"\"\"\n",
    "# Ploting of check points and ground control points distribution\n",
    "# Take UCE-M3 for example\n",
    "prj_list = [prj_4GCP_uce_m3, prj_15GCP_uce_m3, prj_33GCP_uce_m3]\n",
    "fig = go.Figure()\n",
    "\n",
    "# 18 check points\n",
    "fig.add_trace(go.Scatter(\n",
    "    # mode='markers+text'if prj == prj_list[0] else \"markers\",\n",
    "    mode='markers+text',\n",
    "    x=prj_list[0].cp_residual[:, 3],\n",
    "    y=prj_list[0].cp_residual[:, 4],\n",
    "    text=[str(id) for id in prj_list[0].cp_id],\n",
    "    marker={\"symbol\": \"square-open-dot\", \"color\": 'tomato', \"size\": 30},\n",
    "    legendgroup='18 Check point',\n",
    "    # legendgroup=legend + \"- check point\",\n",
    "    showlegend=True,\n",
    "    # name=legend + \"- check point\",\n",
    "    name='18 check points'\n",
    ")\n",
    ")\n",
    "# 31 check points\n",
    "fig.add_trace(go.Scatter(\n",
    "    # mode='markers+text'if prj == prj_list[0] else \"markers\",\n",
    "    mode='markers+text',\n",
    "    x=prj_list[2].cp_residual[:, 3],\n",
    "    y=prj_list[2].cp_residual[:, 4],\n",
    "    text=[str(id) for id in prj_list[2].cp_id],\n",
    "    marker={\"symbol\": \"square-open-dot\",\n",
    "            \"color\": 'mediumseagreen', \"size\": 30},\n",
    "    legendgroup='31 Check point',\n",
    "    # legendgroup=legend + \"- check point\",\n",
    "    showlegend=True,\n",
    "    # showlegend=True,\n",
    "    # name=legend + \"- check point\",\n",
    "    name='31 check points'\n",
    ")\n",
    ")\n",
    "# 4 control points\n",
    "fig.add_trace(go.Scatter(\n",
    "    # mode='markers+text' if prj == prj_list[0] else \"markers\",\n",
    "    mode='markers+text',\n",
    "    x=prj_list[0].gcp_residual[:, 3],\n",
    "    y=prj_list[0].gcp_residual[:, 4],\n",
    "    text=[str(id) for id in prj_list[0].gcp_id],\n",
    "    marker={\"symbol\": \"triangle-up-open-dot\",\n",
    "            \"color\": 'midnightblue', \"size\": 30},\n",
    "    legendgroup=\"4 GCP\",\n",
    "    # legendgroup='Ground control point',\n",
    "    # showlegend=(prj == prj_list_3[0]),\n",
    "    showlegend=True,\n",
    "    name=\"4 GCP\",\n",
    "    # name='Ground control point'\n",
    ")\n",
    ")\n",
    "# 15 GCP\n",
    "fig.add_trace(go.Scatter(\n",
    "    # mode='markers+text' if prj == prj_list[0] else \"markers\",\n",
    "    mode='markers+text',\n",
    "    x=prj_list[1].gcp_residual[:, 3],\n",
    "    y=prj_list[1].gcp_residual[:, 4],\n",
    "    text=[str(id) for id in prj_list[1].gcp_id],\n",
    "    marker={\"symbol\": \"triangle-up-open-dot\",\n",
    "            \"color\": 'midnightblue', \"size\": 30},\n",
    "    legendgroup=\"15 GCP\",\n",
    "    # legendgroup='Ground control point',\n",
    "    # showlegend=(prj == prj_list_3[0]),\n",
    "    showlegend=True,\n",
    "    name=\"15 GCP\",\n",
    "    # name='Ground control point'\n",
    ")\n",
    ")\n",
    "# 33 GCP\n",
    "fig.add_trace(go.Scatter(\n",
    "    # mode='markers+text' if prj == prj_list[0] else \"markers\",\n",
    "    mode='markers+text',\n",
    "    x=prj_list[2].gcp_residual[:, 3],\n",
    "    y=prj_list[2].gcp_residual[:, 4],\n",
    "    text=[str(id) for id in prj_list[2].gcp_id],\n",
    "    marker={\"symbol\": \"triangle-up-open-dot\",\n",
    "            \"color\": 'midnightblue', \"size\": 30},\n",
    "    legendgroup=\"33 GCP\",\n",
    "    # legendgroup='Ground control point',\n",
    "    # showlegend=(prj == prj_list_3[0]),\n",
    "    showlegend=True,\n",
    "    name=\"33 GCP\",\n",
    "    # name='Ground control point'\n",
    ")\n",
    ")\n",
    "# fig.update_traces(textposition='top left')\n",
    "fig.for_each_trace(lambda t: t.update(\n",
    "    textfont_color=t.marker.color, textposition='top left'))\n",
    "fig.update_layout(\n",
    "    # title=\"Points' distribution - With GNSS and drift of Z\",\n",
    "    xaxis={\"showgrid\": False, \"zeroline\": False},\n",
    "    yaxis={\"showgrid\": False, \"zeroline\": False},\n",
    "    legend_tracegroupgap=20,\n",
    "    # paper_bgcolor='rgba(0,0,0,0)',\n",
    "    plot_bgcolor='white'\n",
    ")\n",
    "fig.update_xaxes(showticklabels=False, showline=True,\n",
    "                 linewidth=1, linecolor='black', mirror=True)\n",
    "fig.update_yaxes(showticklabels=False, showline=True,\n",
    "                 linewidth=1, linecolor='black', mirror=True)\n",
    "fig.show()\n",
    "fig.write_html(\"./Results/pt_distribution.html\")"
   ]
  },
  {
   "cell_type": "code",
   "execution_count": 57,
   "metadata": {},
   "outputs": [
    {
     "data": {
      "application/vnd.plotly.v1+json": {
       "config": {
        "plotlyServerURL": "https://plot.ly"
       },
       "data": [
        {
         "cliponaxis": false,
         "legendgroup": "UCE-M3",
         "marker": {
          "color": "green"
         },
         "name": "UCE-M3",
         "opacity": 0.6,
         "showlegend": true,
         "text": [
          "0.026",
          "0.021",
          "0.043"
         ],
         "textangle": 0,
         "textfont": {
          "color": "black",
          "size": 15
         },
         "textposition": "outside",
         "type": "bar",
         "x": [
          "RMSE-X",
          "RMSE-Y",
          "RMSE-Z"
         ],
         "y": [
          0.026,
          0.021,
          0.043
         ]
        },
        {
         "cliponaxis": false,
         "legendgroup": "Camera A",
         "marker": {
          "color": "navy"
         },
         "name": "Camera A",
         "opacity": 0.6,
         "showlegend": true,
         "text": [
          "0.016",
          "0.012",
          "0.051"
         ],
         "textangle": 0,
         "textfont": {
          "color": "black",
          "size": 15
         },
         "textposition": "outside",
         "type": "bar",
         "x": [
          "RMSE-X",
          "RMSE-Y",
          "RMSE-Z"
         ],
         "y": [
          0.016,
          0.012,
          0.051
         ]
        },
        {
         "cliponaxis": false,
         "legendgroup": "Camera B",
         "marker": {
          "color": "orange"
         },
         "name": "Camera B",
         "opacity": 0.6,
         "showlegend": true,
         "text": [
          "0.015",
          "0.026",
          "0.044"
         ],
         "textangle": 0,
         "textfont": {
          "color": "black",
          "size": 15
         },
         "textposition": "outside",
         "type": "bar",
         "x": [
          "RMSE-X",
          "RMSE-Y",
          "RMSE-Z"
         ],
         "y": [
          0.015,
          0.026,
          0.044
         ]
        },
        {
         "cliponaxis": false,
         "legendgroup": "Camera C",
         "marker": {
          "color": "red"
         },
         "name": "Camera C",
         "opacity": 0.6,
         "showlegend": true,
         "text": [
          "0.03",
          "0.03",
          "0.046"
         ],
         "textangle": 0,
         "textfont": {
          "color": "black",
          "size": 15
         },
         "textposition": "outside",
         "type": "bar",
         "x": [
          "RMSE-X",
          "RMSE-Y",
          "RMSE-Z"
         ],
         "y": [
          0.03,
          0.03,
          0.046
         ]
        }
       ],
       "layout": {
        "legend": {
         "tracegroupgap": 20
        },
        "plot_bgcolor": "white",
        "template": {
         "data": {
          "bar": [
           {
            "error_x": {
             "color": "#2a3f5f"
            },
            "error_y": {
             "color": "#2a3f5f"
            },
            "marker": {
             "line": {
              "color": "#E5ECF6",
              "width": 0.5
             },
             "pattern": {
              "fillmode": "overlay",
              "size": 10,
              "solidity": 0.2
             }
            },
            "type": "bar"
           }
          ],
          "barpolar": [
           {
            "marker": {
             "line": {
              "color": "#E5ECF6",
              "width": 0.5
             },
             "pattern": {
              "fillmode": "overlay",
              "size": 10,
              "solidity": 0.2
             }
            },
            "type": "barpolar"
           }
          ],
          "carpet": [
           {
            "aaxis": {
             "endlinecolor": "#2a3f5f",
             "gridcolor": "white",
             "linecolor": "white",
             "minorgridcolor": "white",
             "startlinecolor": "#2a3f5f"
            },
            "baxis": {
             "endlinecolor": "#2a3f5f",
             "gridcolor": "white",
             "linecolor": "white",
             "minorgridcolor": "white",
             "startlinecolor": "#2a3f5f"
            },
            "type": "carpet"
           }
          ],
          "choropleth": [
           {
            "colorbar": {
             "outlinewidth": 0,
             "ticks": ""
            },
            "type": "choropleth"
           }
          ],
          "contour": [
           {
            "colorbar": {
             "outlinewidth": 0,
             "ticks": ""
            },
            "colorscale": [
             [
              0,
              "#0d0887"
             ],
             [
              0.1111111111111111,
              "#46039f"
             ],
             [
              0.2222222222222222,
              "#7201a8"
             ],
             [
              0.3333333333333333,
              "#9c179e"
             ],
             [
              0.4444444444444444,
              "#bd3786"
             ],
             [
              0.5555555555555556,
              "#d8576b"
             ],
             [
              0.6666666666666666,
              "#ed7953"
             ],
             [
              0.7777777777777778,
              "#fb9f3a"
             ],
             [
              0.8888888888888888,
              "#fdca26"
             ],
             [
              1,
              "#f0f921"
             ]
            ],
            "type": "contour"
           }
          ],
          "contourcarpet": [
           {
            "colorbar": {
             "outlinewidth": 0,
             "ticks": ""
            },
            "type": "contourcarpet"
           }
          ],
          "heatmap": [
           {
            "colorbar": {
             "outlinewidth": 0,
             "ticks": ""
            },
            "colorscale": [
             [
              0,
              "#0d0887"
             ],
             [
              0.1111111111111111,
              "#46039f"
             ],
             [
              0.2222222222222222,
              "#7201a8"
             ],
             [
              0.3333333333333333,
              "#9c179e"
             ],
             [
              0.4444444444444444,
              "#bd3786"
             ],
             [
              0.5555555555555556,
              "#d8576b"
             ],
             [
              0.6666666666666666,
              "#ed7953"
             ],
             [
              0.7777777777777778,
              "#fb9f3a"
             ],
             [
              0.8888888888888888,
              "#fdca26"
             ],
             [
              1,
              "#f0f921"
             ]
            ],
            "type": "heatmap"
           }
          ],
          "heatmapgl": [
           {
            "colorbar": {
             "outlinewidth": 0,
             "ticks": ""
            },
            "colorscale": [
             [
              0,
              "#0d0887"
             ],
             [
              0.1111111111111111,
              "#46039f"
             ],
             [
              0.2222222222222222,
              "#7201a8"
             ],
             [
              0.3333333333333333,
              "#9c179e"
             ],
             [
              0.4444444444444444,
              "#bd3786"
             ],
             [
              0.5555555555555556,
              "#d8576b"
             ],
             [
              0.6666666666666666,
              "#ed7953"
             ],
             [
              0.7777777777777778,
              "#fb9f3a"
             ],
             [
              0.8888888888888888,
              "#fdca26"
             ],
             [
              1,
              "#f0f921"
             ]
            ],
            "type": "heatmapgl"
           }
          ],
          "histogram": [
           {
            "marker": {
             "pattern": {
              "fillmode": "overlay",
              "size": 10,
              "solidity": 0.2
             }
            },
            "type": "histogram"
           }
          ],
          "histogram2d": [
           {
            "colorbar": {
             "outlinewidth": 0,
             "ticks": ""
            },
            "colorscale": [
             [
              0,
              "#0d0887"
             ],
             [
              0.1111111111111111,
              "#46039f"
             ],
             [
              0.2222222222222222,
              "#7201a8"
             ],
             [
              0.3333333333333333,
              "#9c179e"
             ],
             [
              0.4444444444444444,
              "#bd3786"
             ],
             [
              0.5555555555555556,
              "#d8576b"
             ],
             [
              0.6666666666666666,
              "#ed7953"
             ],
             [
              0.7777777777777778,
              "#fb9f3a"
             ],
             [
              0.8888888888888888,
              "#fdca26"
             ],
             [
              1,
              "#f0f921"
             ]
            ],
            "type": "histogram2d"
           }
          ],
          "histogram2dcontour": [
           {
            "colorbar": {
             "outlinewidth": 0,
             "ticks": ""
            },
            "colorscale": [
             [
              0,
              "#0d0887"
             ],
             [
              0.1111111111111111,
              "#46039f"
             ],
             [
              0.2222222222222222,
              "#7201a8"
             ],
             [
              0.3333333333333333,
              "#9c179e"
             ],
             [
              0.4444444444444444,
              "#bd3786"
             ],
             [
              0.5555555555555556,
              "#d8576b"
             ],
             [
              0.6666666666666666,
              "#ed7953"
             ],
             [
              0.7777777777777778,
              "#fb9f3a"
             ],
             [
              0.8888888888888888,
              "#fdca26"
             ],
             [
              1,
              "#f0f921"
             ]
            ],
            "type": "histogram2dcontour"
           }
          ],
          "mesh3d": [
           {
            "colorbar": {
             "outlinewidth": 0,
             "ticks": ""
            },
            "type": "mesh3d"
           }
          ],
          "parcoords": [
           {
            "line": {
             "colorbar": {
              "outlinewidth": 0,
              "ticks": ""
             }
            },
            "type": "parcoords"
           }
          ],
          "pie": [
           {
            "automargin": true,
            "type": "pie"
           }
          ],
          "scatter": [
           {
            "fillpattern": {
             "fillmode": "overlay",
             "size": 10,
             "solidity": 0.2
            },
            "type": "scatter"
           }
          ],
          "scatter3d": [
           {
            "line": {
             "colorbar": {
              "outlinewidth": 0,
              "ticks": ""
             }
            },
            "marker": {
             "colorbar": {
              "outlinewidth": 0,
              "ticks": ""
             }
            },
            "type": "scatter3d"
           }
          ],
          "scattercarpet": [
           {
            "marker": {
             "colorbar": {
              "outlinewidth": 0,
              "ticks": ""
             }
            },
            "type": "scattercarpet"
           }
          ],
          "scattergeo": [
           {
            "marker": {
             "colorbar": {
              "outlinewidth": 0,
              "ticks": ""
             }
            },
            "type": "scattergeo"
           }
          ],
          "scattergl": [
           {
            "marker": {
             "colorbar": {
              "outlinewidth": 0,
              "ticks": ""
             }
            },
            "type": "scattergl"
           }
          ],
          "scattermapbox": [
           {
            "marker": {
             "colorbar": {
              "outlinewidth": 0,
              "ticks": ""
             }
            },
            "type": "scattermapbox"
           }
          ],
          "scatterpolar": [
           {
            "marker": {
             "colorbar": {
              "outlinewidth": 0,
              "ticks": ""
             }
            },
            "type": "scatterpolar"
           }
          ],
          "scatterpolargl": [
           {
            "marker": {
             "colorbar": {
              "outlinewidth": 0,
              "ticks": ""
             }
            },
            "type": "scatterpolargl"
           }
          ],
          "scatterternary": [
           {
            "marker": {
             "colorbar": {
              "outlinewidth": 0,
              "ticks": ""
             }
            },
            "type": "scatterternary"
           }
          ],
          "surface": [
           {
            "colorbar": {
             "outlinewidth": 0,
             "ticks": ""
            },
            "colorscale": [
             [
              0,
              "#0d0887"
             ],
             [
              0.1111111111111111,
              "#46039f"
             ],
             [
              0.2222222222222222,
              "#7201a8"
             ],
             [
              0.3333333333333333,
              "#9c179e"
             ],
             [
              0.4444444444444444,
              "#bd3786"
             ],
             [
              0.5555555555555556,
              "#d8576b"
             ],
             [
              0.6666666666666666,
              "#ed7953"
             ],
             [
              0.7777777777777778,
              "#fb9f3a"
             ],
             [
              0.8888888888888888,
              "#fdca26"
             ],
             [
              1,
              "#f0f921"
             ]
            ],
            "type": "surface"
           }
          ],
          "table": [
           {
            "cells": {
             "fill": {
              "color": "#EBF0F8"
             },
             "line": {
              "color": "white"
             }
            },
            "header": {
             "fill": {
              "color": "#C8D4E3"
             },
             "line": {
              "color": "white"
             }
            },
            "type": "table"
           }
          ]
         },
         "layout": {
          "annotationdefaults": {
           "arrowcolor": "#2a3f5f",
           "arrowhead": 0,
           "arrowwidth": 1
          },
          "autotypenumbers": "strict",
          "coloraxis": {
           "colorbar": {
            "outlinewidth": 0,
            "ticks": ""
           }
          },
          "colorscale": {
           "diverging": [
            [
             0,
             "#8e0152"
            ],
            [
             0.1,
             "#c51b7d"
            ],
            [
             0.2,
             "#de77ae"
            ],
            [
             0.3,
             "#f1b6da"
            ],
            [
             0.4,
             "#fde0ef"
            ],
            [
             0.5,
             "#f7f7f7"
            ],
            [
             0.6,
             "#e6f5d0"
            ],
            [
             0.7,
             "#b8e186"
            ],
            [
             0.8,
             "#7fbc41"
            ],
            [
             0.9,
             "#4d9221"
            ],
            [
             1,
             "#276419"
            ]
           ],
           "sequential": [
            [
             0,
             "#0d0887"
            ],
            [
             0.1111111111111111,
             "#46039f"
            ],
            [
             0.2222222222222222,
             "#7201a8"
            ],
            [
             0.3333333333333333,
             "#9c179e"
            ],
            [
             0.4444444444444444,
             "#bd3786"
            ],
            [
             0.5555555555555556,
             "#d8576b"
            ],
            [
             0.6666666666666666,
             "#ed7953"
            ],
            [
             0.7777777777777778,
             "#fb9f3a"
            ],
            [
             0.8888888888888888,
             "#fdca26"
            ],
            [
             1,
             "#f0f921"
            ]
           ],
           "sequentialminus": [
            [
             0,
             "#0d0887"
            ],
            [
             0.1111111111111111,
             "#46039f"
            ],
            [
             0.2222222222222222,
             "#7201a8"
            ],
            [
             0.3333333333333333,
             "#9c179e"
            ],
            [
             0.4444444444444444,
             "#bd3786"
            ],
            [
             0.5555555555555556,
             "#d8576b"
            ],
            [
             0.6666666666666666,
             "#ed7953"
            ],
            [
             0.7777777777777778,
             "#fb9f3a"
            ],
            [
             0.8888888888888888,
             "#fdca26"
            ],
            [
             1,
             "#f0f921"
            ]
           ]
          },
          "colorway": [
           "#636efa",
           "#EF553B",
           "#00cc96",
           "#ab63fa",
           "#FFA15A",
           "#19d3f3",
           "#FF6692",
           "#B6E880",
           "#FF97FF",
           "#FECB52"
          ],
          "font": {
           "color": "#2a3f5f"
          },
          "geo": {
           "bgcolor": "white",
           "lakecolor": "white",
           "landcolor": "#E5ECF6",
           "showlakes": true,
           "showland": true,
           "subunitcolor": "white"
          },
          "hoverlabel": {
           "align": "left"
          },
          "hovermode": "closest",
          "mapbox": {
           "style": "light"
          },
          "paper_bgcolor": "white",
          "plot_bgcolor": "#E5ECF6",
          "polar": {
           "angularaxis": {
            "gridcolor": "white",
            "linecolor": "white",
            "ticks": ""
           },
           "bgcolor": "#E5ECF6",
           "radialaxis": {
            "gridcolor": "white",
            "linecolor": "white",
            "ticks": ""
           }
          },
          "scene": {
           "xaxis": {
            "backgroundcolor": "#E5ECF6",
            "gridcolor": "white",
            "gridwidth": 2,
            "linecolor": "white",
            "showbackground": true,
            "ticks": "",
            "zerolinecolor": "white"
           },
           "yaxis": {
            "backgroundcolor": "#E5ECF6",
            "gridcolor": "white",
            "gridwidth": 2,
            "linecolor": "white",
            "showbackground": true,
            "ticks": "",
            "zerolinecolor": "white"
           },
           "zaxis": {
            "backgroundcolor": "#E5ECF6",
            "gridcolor": "white",
            "gridwidth": 2,
            "linecolor": "white",
            "showbackground": true,
            "ticks": "",
            "zerolinecolor": "white"
           }
          },
          "shapedefaults": {
           "line": {
            "color": "#2a3f5f"
           }
          },
          "ternary": {
           "aaxis": {
            "gridcolor": "white",
            "linecolor": "white",
            "ticks": ""
           },
           "baxis": {
            "gridcolor": "white",
            "linecolor": "white",
            "ticks": ""
           },
           "bgcolor": "#E5ECF6",
           "caxis": {
            "gridcolor": "white",
            "linecolor": "white",
            "ticks": ""
           }
          },
          "title": {
           "x": 0.05
          },
          "xaxis": {
           "automargin": true,
           "gridcolor": "white",
           "linecolor": "white",
           "ticks": "",
           "title": {
            "standoff": 15
           },
           "zerolinecolor": "white",
           "zerolinewidth": 2
          },
          "yaxis": {
           "automargin": true,
           "gridcolor": "white",
           "linecolor": "white",
           "ticks": "",
           "title": {
            "standoff": 15
           },
           "zerolinecolor": "white",
           "zerolinewidth": 2
          }
         }
        },
        "title": {
         "text": "[15GCP+18CP] RMSE at check points in Match-AT projects using different camera systems"
        },
        "xaxis": {
         "linecolor": "black",
         "linewidth": 1,
         "mirror": true,
         "showgrid": false,
         "showline": true,
         "zeroline": false
        },
        "yaxis": {
         "gridcolor": "lightgray",
         "linecolor": "black",
         "linewidth": 1,
         "mirror": true,
         "range": [
          0,
          0.1
         ],
         "showgrid": true,
         "showline": true,
         "zeroline": false
        }
       }
      }
     },
     "metadata": {},
     "output_type": "display_data"
    }
   ],
   "source": [
    "\"\"\"[15GCP + 18CP] RMSE-BARPLOT\"\"\"\n",
    "# [15GCP+18CP] Bar subplot of RMSE - x/y/z\n",
    "\"\"\" \n",
    "Compare the results from Inpho projets with Match-AT setting: GNSS and shifts for all on, IMU on. Earth curvature and Refraction correction: on\n",
    "\"\"\"\n",
    "\n",
    "fig = go.Figure()\n",
    "# prj_15gcp_list = [prj_15GCP_uce_m3, prj_15GCP_uce_4,\n",
    "#                   prj_15GCP_leica, prj_15GCP_igi, prj_15GCP_pas]\n",
    "# camera_names = [\"UCE-M3\", \"UCE-4.1\", \"DMC-4\", \"UM-2\", \"PAS-880\"]\n",
    "# colors = ['green', 'navy', 'orange', 'red', 'deeppink']\n",
    "# camera_names = [\"UCE-M3\", \"UCE-4.1\", \"DMC-4\", \"UM-2\"] # Non-anonymized\n",
    "prj_15gcp_list = [prj_15GCP_uce_m3, prj_15GCP_uce_4,\n",
    "                  prj_15GCP_leica, prj_15GCP_igi]\n",
    "camera_names = [\"UCE-M3\", \"Camera A\", \"Camera B\", \"Camera C\"] #A: UCE-4.1, B: DMC-4, C: UM-2\n",
    "colors = ['green', 'navy', 'orange', 'red']\n",
    "x_axis = ['RMSE-X', 'RMSE-Y', 'RMSE-Z']\n",
    "\n",
    "for prj, color, name in zip(prj_15gcp_list, colors, camera_names):\n",
    "    fig.add_trace(go.Bar(\n",
    "        name=name,\n",
    "        x=x_axis,\n",
    "        y=prj.cp_RMS,\n",
    "        marker_color=color,\n",
    "        text=[str(num) for num in prj.cp_RMS],\n",
    "        textposition=\"inside\",\n",
    "        legendgroup=name,\n",
    "        showlegend=True\n",
    "    )\n",
    "    )\n",
    "\n",
    "\n",
    "fig.update_traces(opacity=0.6, textfont_size=15, textfont_color='black',textangle=0, textposition=\"outside\", cliponaxis=False)\n",
    "fig.update_layout(\n",
    "    title='[15GCP+18CP] RMSE at check points in Match-AT projects using different camera systems',\n",
    "    xaxis={\"showgrid\": False, \"zeroline\": False},\n",
    "    yaxis={\"showgrid\": True, \"zeroline\": False, \"range\": [0, 0.1]},\n",
    "    legend_tracegroupgap=20,\n",
    "    plot_bgcolor='white'\n",
    ")\n",
    "fig.update_xaxes(showline=True, linewidth=1, linecolor='black', mirror=True)\n",
    "fig.update_yaxes(showgrid=True, gridcolor='lightgray',\n",
    "                 showline=True, linewidth=1, linecolor='black', mirror=True)\n",
    "fig.show()\n",
    "fig.write_html(\"./Results/15+18/CP_RMS-15gcp+18cp_highweight.html\")"
   ]
  },
  {
   "cell_type": "code",
   "execution_count": 58,
   "metadata": {},
   "outputs": [
    {
     "data": {
      "application/vnd.plotly.v1+json": {
       "config": {
        "plotlyServerURL": "https://plot.ly"
       },
       "data": [
        {
         "legendgroup": "UCE-M3",
         "marker": {
          "color": "green"
         },
         "name": "UCE-M3",
         "opacity": 0.6,
         "type": "scatter",
         "x": [
          "101",
          "102",
          "105",
          "108",
          "109",
          "111",
          "112",
          "115",
          "118",
          "119",
          "121",
          "122",
          "124",
          "125",
          "127",
          "128",
          "130",
          "131"
         ],
         "xaxis": "x",
         "y": [
          0.017,
          0.022,
          0.017,
          0.048,
          0.033,
          0.014,
          0.038,
          0.017,
          -0.004,
          -0.031,
          -0.002,
          -0.015,
          0.018,
          0.005,
          0.012,
          0.053,
          0.023,
          0.033
         ],
         "yaxis": "y"
        },
        {
         "legendgroup": "UCE-M3",
         "marker": {
          "color": "green"
         },
         "name": "UCE-M3",
         "opacity": 0.6,
         "showlegend": false,
         "type": "scatter",
         "x": [
          "101",
          "102",
          "105",
          "108",
          "109",
          "111",
          "112",
          "115",
          "118",
          "119",
          "121",
          "122",
          "124",
          "125",
          "127",
          "128",
          "130",
          "131"
         ],
         "xaxis": "x2",
         "y": [
          -0.011,
          0.003,
          -0.02,
          -0.008,
          -0.013,
          0.005,
          0.009,
          0.037,
          0.038,
          0.053,
          0.004,
          0.02,
          0.005,
          -0.032,
          -0.011,
          0.003,
          -0.005,
          -0.008
         ],
         "yaxis": "y2"
        },
        {
         "legendgroup": "UCE-M3",
         "marker": {
          "color": "green"
         },
         "name": "UCE-M3",
         "opacity": 0.6,
         "showlegend": false,
         "type": "scatter",
         "x": [
          "101",
          "102",
          "105",
          "108",
          "109",
          "111",
          "112",
          "115",
          "118",
          "119",
          "121",
          "122",
          "124",
          "125",
          "127",
          "128",
          "130",
          "131"
         ],
         "xaxis": "x3",
         "y": [
          0.016,
          0.075,
          -0.027,
          -0.077,
          0.03,
          0.003,
          -0.022,
          -0.044,
          -0.077,
          -0.017,
          -0.03,
          0.004,
          0.008,
          0.036,
          -0.007,
          -0.091,
          -0.023,
          0.016
         ],
         "yaxis": "y3"
        },
        {
         "legendgroup": "Camera A",
         "marker": {
          "color": "navy"
         },
         "name": "Camera A",
         "opacity": 0.6,
         "type": "scatter",
         "x": [
          "101",
          "102",
          "105",
          "108",
          "109",
          "111",
          "112",
          "115",
          "118",
          "119",
          "121",
          "122",
          "124",
          "125",
          "127",
          "128",
          "130",
          "131"
         ],
         "xaxis": "x",
         "y": [
          0.013,
          0.027,
          0.022,
          0.017,
          0.025,
          -0.008,
          0.025,
          0.013,
          0.031,
          0.007,
          -0.005,
          -0.003,
          -0.005,
          -0.008,
          -0.003,
          -0.004,
          -0.012,
          -0.001
         ],
         "yaxis": "y"
        },
        {
         "legendgroup": "Camera A",
         "marker": {
          "color": "navy"
         },
         "name": "Camera A",
         "opacity": 0.6,
         "showlegend": false,
         "type": "scatter",
         "x": [
          "101",
          "102",
          "105",
          "108",
          "109",
          "111",
          "112",
          "115",
          "118",
          "119",
          "121",
          "122",
          "124",
          "125",
          "127",
          "128",
          "130",
          "131"
         ],
         "xaxis": "x2",
         "y": [
          0,
          -0.01,
          0.003,
          0.023,
          0.015,
          0.003,
          -0.012,
          0.01,
          0.019,
          0.011,
          -0.005,
          0.003,
          0.022,
          -0.01,
          0.01,
          0.004,
          -0.002,
          -0.019
         ],
         "yaxis": "y2"
        },
        {
         "legendgroup": "Camera A",
         "marker": {
          "color": "navy"
         },
         "name": "Camera A",
         "opacity": 0.6,
         "showlegend": false,
         "type": "scatter",
         "x": [
          "101",
          "102",
          "105",
          "108",
          "109",
          "111",
          "112",
          "115",
          "118",
          "119",
          "121",
          "122",
          "124",
          "125",
          "127",
          "128",
          "130",
          "131"
         ],
         "xaxis": "x3",
         "y": [
          0.023,
          0.041,
          0.013,
          -0.029,
          -0.096,
          -0.081,
          -0.103,
          0.028,
          0.088,
          0.005,
          -0.003,
          0.039,
          0.024,
          0.056,
          0.028,
          -0.015,
          -0.007,
          0.049
         ],
         "yaxis": "y3"
        },
        {
         "legendgroup": "Camera B",
         "marker": {
          "color": "orange"
         },
         "name": "Camera B",
         "opacity": 0.6,
         "type": "scatter",
         "x": [
          "101",
          "102",
          "105",
          "108",
          "109",
          "111",
          "112",
          "115",
          "118",
          "119",
          "121",
          "122",
          "124",
          "125",
          "127",
          "128",
          "130",
          "131"
         ],
         "xaxis": "x",
         "y": [
          -0.015,
          -0.01,
          0.01,
          0.021,
          0.01,
          -0.014,
          0.004,
          -0.007,
          -0.001,
          0.011,
          -0.013,
          0.014,
          -0.013,
          -0.039,
          0.003,
          -0.025,
          -0.008,
          0.005
         ],
         "yaxis": "y"
        },
        {
         "legendgroup": "Camera B",
         "marker": {
          "color": "orange"
         },
         "name": "Camera B",
         "opacity": 0.6,
         "showlegend": false,
         "type": "scatter",
         "x": [
          "101",
          "102",
          "105",
          "108",
          "109",
          "111",
          "112",
          "115",
          "118",
          "119",
          "121",
          "122",
          "124",
          "125",
          "127",
          "128",
          "130",
          "131"
         ],
         "xaxis": "x2",
         "y": [
          0.01,
          0.005,
          0.029,
          0.021,
          0.01,
          -0.068,
          -0.04,
          -0.004,
          0.036,
          0.027,
          0.01,
          0.012,
          0.032,
          -0.032,
          0.004,
          -0.014,
          0.005,
          -0.009
         ],
         "yaxis": "y2"
        },
        {
         "legendgroup": "Camera B",
         "marker": {
          "color": "orange"
         },
         "name": "Camera B",
         "opacity": 0.6,
         "showlegend": false,
         "type": "scatter",
         "x": [
          "101",
          "102",
          "105",
          "108",
          "109",
          "111",
          "112",
          "115",
          "118",
          "119",
          "121",
          "122",
          "124",
          "125",
          "127",
          "128",
          "130",
          "131"
         ],
         "xaxis": "x3",
         "y": [
          0.003,
          0.011,
          -0.059,
          -0.053,
          0.005,
          0.003,
          -0.014,
          -0.002,
          0.016,
          0.074,
          -0.05,
          -0.064,
          -0.088,
          -0.021,
          -0.057,
          -0.056,
          -0.026,
          0.012
         ],
         "yaxis": "y3"
        },
        {
         "legendgroup": "Camera C",
         "marker": {
          "color": "red"
         },
         "name": "Camera C",
         "opacity": 0.6,
         "type": "scatter",
         "x": [
          "101",
          "102",
          "105",
          "108",
          "109",
          "111",
          "112",
          "115",
          "118",
          "119",
          "121",
          "122",
          "124",
          "125",
          "127",
          "128",
          "130",
          "131"
         ],
         "xaxis": "x",
         "y": [
          0.055,
          0.058,
          0.017,
          -0.009,
          0.002,
          -0.05,
          -0.023,
          -0.02,
          0.027,
          0.022,
          0.011,
          0.007,
          0.024,
          -0.021,
          -0.002,
          -0.05,
          -0.032,
          -0.024
         ],
         "yaxis": "y"
        },
        {
         "legendgroup": "Camera C",
         "marker": {
          "color": "red"
         },
         "name": "Camera C",
         "opacity": 0.6,
         "showlegend": false,
         "type": "scatter",
         "x": [
          "101",
          "102",
          "105",
          "108",
          "109",
          "111",
          "112",
          "115",
          "118",
          "119",
          "121",
          "122",
          "124",
          "125",
          "127",
          "128",
          "130",
          "131"
         ],
         "xaxis": "x2",
         "y": [
          0.013,
          0.036,
          0.053,
          0.065,
          -0.015,
          -0.047,
          -0.037,
          -0.002,
          -0.014,
          -0.022,
          0.017,
          -0.012,
          0.029,
          -0.031,
          0.017,
          -0.015,
          -0.013,
          0.02
         ],
         "yaxis": "y2"
        },
        {
         "legendgroup": "Camera C",
         "marker": {
          "color": "red"
         },
         "name": "Camera C",
         "opacity": 0.6,
         "showlegend": false,
         "type": "scatter",
         "x": [
          "101",
          "102",
          "105",
          "108",
          "109",
          "111",
          "112",
          "115",
          "118",
          "119",
          "121",
          "122",
          "124",
          "125",
          "127",
          "128",
          "130",
          "131"
         ],
         "xaxis": "x3",
         "y": [
          -0.029,
          -0.045,
          -0.028,
          -0.063,
          -0.014,
          -0.058,
          -0.056,
          -0.039,
          -0.024,
          -0.002,
          0.04,
          0.03,
          0.03,
          0.066,
          0.05,
          0.093,
          0.029,
          0.038
         ],
         "yaxis": "y3"
        }
       ],
       "layout": {
        "annotations": [
         {
          "font": {
           "size": 16
          },
          "showarrow": false,
          "text": "ChP Residual-X",
          "x": 0.5,
          "xanchor": "center",
          "xref": "paper",
          "y": 1,
          "yanchor": "bottom",
          "yref": "paper"
         },
         {
          "font": {
           "size": 16
          },
          "showarrow": false,
          "text": "ChP Residual-Y",
          "x": 0.5,
          "xanchor": "center",
          "xref": "paper",
          "y": 0.6111111111111112,
          "yanchor": "bottom",
          "yref": "paper"
         },
         {
          "font": {
           "size": 16
          },
          "showarrow": false,
          "text": "ChP Residual-Z",
          "x": 0.5,
          "xanchor": "center",
          "xref": "paper",
          "y": 0.22222222222222224,
          "yanchor": "bottom",
          "yref": "paper"
         }
        ],
        "legend": {
         "tracegroupgap": 20
        },
        "plot_bgcolor": "white",
        "template": {
         "data": {
          "bar": [
           {
            "error_x": {
             "color": "#2a3f5f"
            },
            "error_y": {
             "color": "#2a3f5f"
            },
            "marker": {
             "line": {
              "color": "#E5ECF6",
              "width": 0.5
             },
             "pattern": {
              "fillmode": "overlay",
              "size": 10,
              "solidity": 0.2
             }
            },
            "type": "bar"
           }
          ],
          "barpolar": [
           {
            "marker": {
             "line": {
              "color": "#E5ECF6",
              "width": 0.5
             },
             "pattern": {
              "fillmode": "overlay",
              "size": 10,
              "solidity": 0.2
             }
            },
            "type": "barpolar"
           }
          ],
          "carpet": [
           {
            "aaxis": {
             "endlinecolor": "#2a3f5f",
             "gridcolor": "white",
             "linecolor": "white",
             "minorgridcolor": "white",
             "startlinecolor": "#2a3f5f"
            },
            "baxis": {
             "endlinecolor": "#2a3f5f",
             "gridcolor": "white",
             "linecolor": "white",
             "minorgridcolor": "white",
             "startlinecolor": "#2a3f5f"
            },
            "type": "carpet"
           }
          ],
          "choropleth": [
           {
            "colorbar": {
             "outlinewidth": 0,
             "ticks": ""
            },
            "type": "choropleth"
           }
          ],
          "contour": [
           {
            "colorbar": {
             "outlinewidth": 0,
             "ticks": ""
            },
            "colorscale": [
             [
              0,
              "#0d0887"
             ],
             [
              0.1111111111111111,
              "#46039f"
             ],
             [
              0.2222222222222222,
              "#7201a8"
             ],
             [
              0.3333333333333333,
              "#9c179e"
             ],
             [
              0.4444444444444444,
              "#bd3786"
             ],
             [
              0.5555555555555556,
              "#d8576b"
             ],
             [
              0.6666666666666666,
              "#ed7953"
             ],
             [
              0.7777777777777778,
              "#fb9f3a"
             ],
             [
              0.8888888888888888,
              "#fdca26"
             ],
             [
              1,
              "#f0f921"
             ]
            ],
            "type": "contour"
           }
          ],
          "contourcarpet": [
           {
            "colorbar": {
             "outlinewidth": 0,
             "ticks": ""
            },
            "type": "contourcarpet"
           }
          ],
          "heatmap": [
           {
            "colorbar": {
             "outlinewidth": 0,
             "ticks": ""
            },
            "colorscale": [
             [
              0,
              "#0d0887"
             ],
             [
              0.1111111111111111,
              "#46039f"
             ],
             [
              0.2222222222222222,
              "#7201a8"
             ],
             [
              0.3333333333333333,
              "#9c179e"
             ],
             [
              0.4444444444444444,
              "#bd3786"
             ],
             [
              0.5555555555555556,
              "#d8576b"
             ],
             [
              0.6666666666666666,
              "#ed7953"
             ],
             [
              0.7777777777777778,
              "#fb9f3a"
             ],
             [
              0.8888888888888888,
              "#fdca26"
             ],
             [
              1,
              "#f0f921"
             ]
            ],
            "type": "heatmap"
           }
          ],
          "heatmapgl": [
           {
            "colorbar": {
             "outlinewidth": 0,
             "ticks": ""
            },
            "colorscale": [
             [
              0,
              "#0d0887"
             ],
             [
              0.1111111111111111,
              "#46039f"
             ],
             [
              0.2222222222222222,
              "#7201a8"
             ],
             [
              0.3333333333333333,
              "#9c179e"
             ],
             [
              0.4444444444444444,
              "#bd3786"
             ],
             [
              0.5555555555555556,
              "#d8576b"
             ],
             [
              0.6666666666666666,
              "#ed7953"
             ],
             [
              0.7777777777777778,
              "#fb9f3a"
             ],
             [
              0.8888888888888888,
              "#fdca26"
             ],
             [
              1,
              "#f0f921"
             ]
            ],
            "type": "heatmapgl"
           }
          ],
          "histogram": [
           {
            "marker": {
             "pattern": {
              "fillmode": "overlay",
              "size": 10,
              "solidity": 0.2
             }
            },
            "type": "histogram"
           }
          ],
          "histogram2d": [
           {
            "colorbar": {
             "outlinewidth": 0,
             "ticks": ""
            },
            "colorscale": [
             [
              0,
              "#0d0887"
             ],
             [
              0.1111111111111111,
              "#46039f"
             ],
             [
              0.2222222222222222,
              "#7201a8"
             ],
             [
              0.3333333333333333,
              "#9c179e"
             ],
             [
              0.4444444444444444,
              "#bd3786"
             ],
             [
              0.5555555555555556,
              "#d8576b"
             ],
             [
              0.6666666666666666,
              "#ed7953"
             ],
             [
              0.7777777777777778,
              "#fb9f3a"
             ],
             [
              0.8888888888888888,
              "#fdca26"
             ],
             [
              1,
              "#f0f921"
             ]
            ],
            "type": "histogram2d"
           }
          ],
          "histogram2dcontour": [
           {
            "colorbar": {
             "outlinewidth": 0,
             "ticks": ""
            },
            "colorscale": [
             [
              0,
              "#0d0887"
             ],
             [
              0.1111111111111111,
              "#46039f"
             ],
             [
              0.2222222222222222,
              "#7201a8"
             ],
             [
              0.3333333333333333,
              "#9c179e"
             ],
             [
              0.4444444444444444,
              "#bd3786"
             ],
             [
              0.5555555555555556,
              "#d8576b"
             ],
             [
              0.6666666666666666,
              "#ed7953"
             ],
             [
              0.7777777777777778,
              "#fb9f3a"
             ],
             [
              0.8888888888888888,
              "#fdca26"
             ],
             [
              1,
              "#f0f921"
             ]
            ],
            "type": "histogram2dcontour"
           }
          ],
          "mesh3d": [
           {
            "colorbar": {
             "outlinewidth": 0,
             "ticks": ""
            },
            "type": "mesh3d"
           }
          ],
          "parcoords": [
           {
            "line": {
             "colorbar": {
              "outlinewidth": 0,
              "ticks": ""
             }
            },
            "type": "parcoords"
           }
          ],
          "pie": [
           {
            "automargin": true,
            "type": "pie"
           }
          ],
          "scatter": [
           {
            "fillpattern": {
             "fillmode": "overlay",
             "size": 10,
             "solidity": 0.2
            },
            "type": "scatter"
           }
          ],
          "scatter3d": [
           {
            "line": {
             "colorbar": {
              "outlinewidth": 0,
              "ticks": ""
             }
            },
            "marker": {
             "colorbar": {
              "outlinewidth": 0,
              "ticks": ""
             }
            },
            "type": "scatter3d"
           }
          ],
          "scattercarpet": [
           {
            "marker": {
             "colorbar": {
              "outlinewidth": 0,
              "ticks": ""
             }
            },
            "type": "scattercarpet"
           }
          ],
          "scattergeo": [
           {
            "marker": {
             "colorbar": {
              "outlinewidth": 0,
              "ticks": ""
             }
            },
            "type": "scattergeo"
           }
          ],
          "scattergl": [
           {
            "marker": {
             "colorbar": {
              "outlinewidth": 0,
              "ticks": ""
             }
            },
            "type": "scattergl"
           }
          ],
          "scattermapbox": [
           {
            "marker": {
             "colorbar": {
              "outlinewidth": 0,
              "ticks": ""
             }
            },
            "type": "scattermapbox"
           }
          ],
          "scatterpolar": [
           {
            "marker": {
             "colorbar": {
              "outlinewidth": 0,
              "ticks": ""
             }
            },
            "type": "scatterpolar"
           }
          ],
          "scatterpolargl": [
           {
            "marker": {
             "colorbar": {
              "outlinewidth": 0,
              "ticks": ""
             }
            },
            "type": "scatterpolargl"
           }
          ],
          "scatterternary": [
           {
            "marker": {
             "colorbar": {
              "outlinewidth": 0,
              "ticks": ""
             }
            },
            "type": "scatterternary"
           }
          ],
          "surface": [
           {
            "colorbar": {
             "outlinewidth": 0,
             "ticks": ""
            },
            "colorscale": [
             [
              0,
              "#0d0887"
             ],
             [
              0.1111111111111111,
              "#46039f"
             ],
             [
              0.2222222222222222,
              "#7201a8"
             ],
             [
              0.3333333333333333,
              "#9c179e"
             ],
             [
              0.4444444444444444,
              "#bd3786"
             ],
             [
              0.5555555555555556,
              "#d8576b"
             ],
             [
              0.6666666666666666,
              "#ed7953"
             ],
             [
              0.7777777777777778,
              "#fb9f3a"
             ],
             [
              0.8888888888888888,
              "#fdca26"
             ],
             [
              1,
              "#f0f921"
             ]
            ],
            "type": "surface"
           }
          ],
          "table": [
           {
            "cells": {
             "fill": {
              "color": "#EBF0F8"
             },
             "line": {
              "color": "white"
             }
            },
            "header": {
             "fill": {
              "color": "#C8D4E3"
             },
             "line": {
              "color": "white"
             }
            },
            "type": "table"
           }
          ]
         },
         "layout": {
          "annotationdefaults": {
           "arrowcolor": "#2a3f5f",
           "arrowhead": 0,
           "arrowwidth": 1
          },
          "autotypenumbers": "strict",
          "coloraxis": {
           "colorbar": {
            "outlinewidth": 0,
            "ticks": ""
           }
          },
          "colorscale": {
           "diverging": [
            [
             0,
             "#8e0152"
            ],
            [
             0.1,
             "#c51b7d"
            ],
            [
             0.2,
             "#de77ae"
            ],
            [
             0.3,
             "#f1b6da"
            ],
            [
             0.4,
             "#fde0ef"
            ],
            [
             0.5,
             "#f7f7f7"
            ],
            [
             0.6,
             "#e6f5d0"
            ],
            [
             0.7,
             "#b8e186"
            ],
            [
             0.8,
             "#7fbc41"
            ],
            [
             0.9,
             "#4d9221"
            ],
            [
             1,
             "#276419"
            ]
           ],
           "sequential": [
            [
             0,
             "#0d0887"
            ],
            [
             0.1111111111111111,
             "#46039f"
            ],
            [
             0.2222222222222222,
             "#7201a8"
            ],
            [
             0.3333333333333333,
             "#9c179e"
            ],
            [
             0.4444444444444444,
             "#bd3786"
            ],
            [
             0.5555555555555556,
             "#d8576b"
            ],
            [
             0.6666666666666666,
             "#ed7953"
            ],
            [
             0.7777777777777778,
             "#fb9f3a"
            ],
            [
             0.8888888888888888,
             "#fdca26"
            ],
            [
             1,
             "#f0f921"
            ]
           ],
           "sequentialminus": [
            [
             0,
             "#0d0887"
            ],
            [
             0.1111111111111111,
             "#46039f"
            ],
            [
             0.2222222222222222,
             "#7201a8"
            ],
            [
             0.3333333333333333,
             "#9c179e"
            ],
            [
             0.4444444444444444,
             "#bd3786"
            ],
            [
             0.5555555555555556,
             "#d8576b"
            ],
            [
             0.6666666666666666,
             "#ed7953"
            ],
            [
             0.7777777777777778,
             "#fb9f3a"
            ],
            [
             0.8888888888888888,
             "#fdca26"
            ],
            [
             1,
             "#f0f921"
            ]
           ]
          },
          "colorway": [
           "#636efa",
           "#EF553B",
           "#00cc96",
           "#ab63fa",
           "#FFA15A",
           "#19d3f3",
           "#FF6692",
           "#B6E880",
           "#FF97FF",
           "#FECB52"
          ],
          "font": {
           "color": "#2a3f5f"
          },
          "geo": {
           "bgcolor": "white",
           "lakecolor": "white",
           "landcolor": "#E5ECF6",
           "showlakes": true,
           "showland": true,
           "subunitcolor": "white"
          },
          "hoverlabel": {
           "align": "left"
          },
          "hovermode": "closest",
          "mapbox": {
           "style": "light"
          },
          "paper_bgcolor": "white",
          "plot_bgcolor": "#E5ECF6",
          "polar": {
           "angularaxis": {
            "gridcolor": "white",
            "linecolor": "white",
            "ticks": ""
           },
           "bgcolor": "#E5ECF6",
           "radialaxis": {
            "gridcolor": "white",
            "linecolor": "white",
            "ticks": ""
           }
          },
          "scene": {
           "xaxis": {
            "backgroundcolor": "#E5ECF6",
            "gridcolor": "white",
            "gridwidth": 2,
            "linecolor": "white",
            "showbackground": true,
            "ticks": "",
            "zerolinecolor": "white"
           },
           "yaxis": {
            "backgroundcolor": "#E5ECF6",
            "gridcolor": "white",
            "gridwidth": 2,
            "linecolor": "white",
            "showbackground": true,
            "ticks": "",
            "zerolinecolor": "white"
           },
           "zaxis": {
            "backgroundcolor": "#E5ECF6",
            "gridcolor": "white",
            "gridwidth": 2,
            "linecolor": "white",
            "showbackground": true,
            "ticks": "",
            "zerolinecolor": "white"
           }
          },
          "shapedefaults": {
           "line": {
            "color": "#2a3f5f"
           }
          },
          "ternary": {
           "aaxis": {
            "gridcolor": "white",
            "linecolor": "white",
            "ticks": ""
           },
           "baxis": {
            "gridcolor": "white",
            "linecolor": "white",
            "ticks": ""
           },
           "bgcolor": "#E5ECF6",
           "caxis": {
            "gridcolor": "white",
            "linecolor": "white",
            "ticks": ""
           }
          },
          "title": {
           "x": 0.05
          },
          "xaxis": {
           "automargin": true,
           "gridcolor": "white",
           "linecolor": "white",
           "ticks": "",
           "title": {
            "standoff": 15
           },
           "zerolinecolor": "white",
           "zerolinewidth": 2
          },
          "yaxis": {
           "automargin": true,
           "gridcolor": "white",
           "linecolor": "white",
           "ticks": "",
           "title": {
            "standoff": 15
           },
           "zerolinecolor": "white",
           "zerolinewidth": 2
          }
         }
        },
        "title": {
         "text": "[15GCP+18CP] Residuals at check points in Match-AT projects using different camera systems"
        },
        "xaxis": {
         "anchor": "y",
         "domain": [
          0,
          1
         ],
         "linecolor": "black",
         "linewidth": 1,
         "mirror": true,
         "showline": true,
         "zeroline": true
        },
        "xaxis2": {
         "anchor": "y2",
         "domain": [
          0,
          1
         ],
         "linecolor": "black",
         "linewidth": 1,
         "mirror": true,
         "showline": true,
         "zeroline": true
        },
        "xaxis3": {
         "anchor": "y3",
         "domain": [
          0,
          1
         ],
         "linecolor": "black",
         "linewidth": 1,
         "mirror": true,
         "showline": true,
         "zeroline": true
        },
        "yaxis": {
         "anchor": "x",
         "domain": [
          0.7777777777777778,
          1
         ],
         "dtick": 0.05,
         "gridcolor": "lightgray",
         "linecolor": "black",
         "linewidth": 1,
         "mirror": true,
         "range": [
          -0.15,
          0.15
         ],
         "showgrid": true,
         "showline": true,
         "zeroline": true,
         "zerolinecolor": "black",
         "zerolinewidth": 1
        },
        "yaxis2": {
         "anchor": "x2",
         "domain": [
          0.3888888888888889,
          0.6111111111111112
         ],
         "dtick": 0.05,
         "gridcolor": "lightgray",
         "linecolor": "black",
         "linewidth": 1,
         "mirror": true,
         "range": [
          -0.15,
          0.15
         ],
         "showgrid": true,
         "showline": true,
         "zeroline": true,
         "zerolinecolor": "black",
         "zerolinewidth": 1
        },
        "yaxis3": {
         "anchor": "x3",
         "domain": [
          0,
          0.22222222222222224
         ],
         "dtick": 0.05,
         "gridcolor": "lightgray",
         "linecolor": "black",
         "linewidth": 1,
         "mirror": true,
         "range": [
          -0.15,
          0.15
         ],
         "showgrid": true,
         "showline": true,
         "zeroline": true,
         "zerolinecolor": "black",
         "zerolinewidth": 1
        }
       }
      }
     },
     "metadata": {},
     "output_type": "display_data"
    },
    {
     "name": "stdout",
     "output_type": "stream",
     "text": [
      "The min residual X/Y/Z for 4 camera sets are [['-0.031', '-0.032', '-0.091'], ['-0.012', '-0.019', '-0.103'], ['-0.039', '-0.068', '-0.088'], ['-0.050', '-0.047', '-0.063']]\n",
      "The max residual X/Y/Z for 4 camera sets are [['0.053', '0.053', '0.075'], ['0.031', '0.023', '0.088'], ['0.021', '0.036', '0.074'], ['0.058', '0.065', '0.093']]\n",
      "The mean residual X/Y/Z for 4 camera sets are [['0.017', '0.004', '-0.013'], ['0.007', '0.004', '0.003'], ['-0.004', '0.002', '-0.020'], ['-0.000', '0.002', '0.001']]\n",
      "The std.dev residual X/Y/Z for 4 camera sets are [['0.021', '0.021', '0.041'], ['0.014', '0.012', '0.051'], ['0.015', '0.026', '0.039'], ['0.030', '0.030', '0.046']]\n"
     ]
    }
   ],
   "source": [
    "\"\"\"[15GCP + 18CP] Residual-SCATTERPLOT\"\"\"\n",
    "# [15GCP+18CP] Scatter subplot of Residuals - x/y/z\n",
    "# prj_15gcp_list = [prj_15GCP_uce_m3, prj_15GCP_uce_4,\n",
    "#                   prj_15GCP_leica, prj_15GCP_igi, prj_15GCP_pas]\n",
    "# camera_names = [\"UCE-M3\", \"UCE-4.1\", \"DMC-4\", \"UM-2\", \"PAS-880\"]\n",
    "# colors = ['green', 'navy', 'orange', 'red', 'deeppink']\n",
    "prj_15gcp_list = [prj_15GCP_uce_m3, prj_15GCP_uce_4,\n",
    "                  prj_15GCP_leica, prj_15GCP_igi]\n",
    "camera_names = [\"UCE-M3\", \"Camera A\", \"Camera B\", \"Camera C\"] #A: UCE-4.1, B: DMC-4, C: UM-2\n",
    "colors = ['green', 'navy', 'orange', 'red']\n",
    "min_res_list = []\n",
    "max_res_list = []\n",
    "mean_res_list = []\n",
    "std_res_list = []\n",
    "\n",
    "fig = make_subplots(rows=3, cols=1, subplot_titles=[\n",
    "                    \"ChP Residual-X\", \"ChP Residual-Y\", \"ChP Residual-Z\"])\n",
    "for prj, color, name in zip(prj_15gcp_list, colors, camera_names):\n",
    "    # Compute the min/max/mean/std value of all the residuals\n",
    "    prj_min_res = np.min(prj.cp_residual[:, :3], axis=0)\n",
    "    min_res_list.append(prj_min_res)\n",
    "    prj_max_res = np.max(prj.cp_residual[:, :3], axis=0)\n",
    "    max_res_list.append(prj_max_res)\n",
    "    prj_mean_res = np.mean(prj.cp_residual[:, :3], axis=0)\n",
    "    mean_res_list.append(prj_mean_res)\n",
    "    prj_std_res = np.std(prj.cp_residual[:, :3], axis=0)\n",
    "    std_res_list.append(prj_std_res)\n",
    "    fig.add_trace(go.Scatter(\n",
    "        name=name,\n",
    "        x=[str(id) for id in prj.cp_id],\n",
    "        y=prj.cp_residual[:, 0],\n",
    "        marker_color=color,\n",
    "        legendgroup=name\n",
    "    ),\n",
    "        row=1,\n",
    "        col=1\n",
    "    )\n",
    "    fig.add_trace(go.Scatter(\n",
    "        name=name,\n",
    "        x=[str(id) for id in prj.cp_id],\n",
    "        y=prj.cp_residual[:, 1],\n",
    "        marker_color=color,\n",
    "        showlegend=False,\n",
    "        legendgroup=name\n",
    "    ),\n",
    "        row=2,\n",
    "        col=1\n",
    "    )\n",
    "    fig.add_trace(go.Scatter(\n",
    "        name=name,\n",
    "        x=[str(id) for id in prj.cp_id],\n",
    "        y=prj.cp_residual[:, 2],\n",
    "        marker_color=color,\n",
    "        showlegend=False,\n",
    "        legendgroup=name\n",
    "    ),\n",
    "        row=3,\n",
    "        col=1\n",
    "    )\n",
    "\n",
    "fig.update_traces(opacity=0.6)\n",
    "fig.update_layout(\n",
    "    title='[15GCP+18CP] Residuals at check points in Match-AT projects using different camera systems',\n",
    "    plot_bgcolor='white',\n",
    "    xaxis1={\"zeroline\": True, \"showline\": True,\n",
    "            \"linewidth\": 1, \"linecolor\": \"black\", \"mirror\": True},\n",
    "    yaxis1={\"range\": [-0.15, 0.15], \"dtick\": 0.05,\n",
    "            \"showgrid\": True, \"gridcolor\": \"lightgray\",\n",
    "            \"zeroline\": True, \"zerolinecolor\": 'black', \"zerolinewidth\": 1,\n",
    "            \"showline\": True, \"linewidth\": 1, \"linecolor\": \"black\", \"mirror\": True},\n",
    "    xaxis2={\"zeroline\": True, \"showline\": True,\n",
    "            \"linewidth\": 1, \"linecolor\": \"black\", \"mirror\": True},\n",
    "    yaxis2={\"range\": [-0.15, 0.15], \"dtick\": 0.05,\n",
    "            \"showgrid\": True, \"gridcolor\": \"lightgray\",\n",
    "            \"zeroline\": True, \"zerolinecolor\": 'black', \"zerolinewidth\": 1,\n",
    "            \"showline\": True, \"linewidth\": 1, \"linecolor\": \"black\", \"mirror\": True},\n",
    "    xaxis3={\"zeroline\": True, \"showline\": True,\n",
    "            \"linewidth\": 1, \"linecolor\": \"black\", \"mirror\": True},\n",
    "    yaxis3={\"range\": [-0.15, 0.15], \"dtick\": 0.05,\n",
    "            \"showgrid\": True, \"gridcolor\": \"lightgray\",\n",
    "            \"zeroline\": True, \"zerolinecolor\": 'black', \"zerolinewidth\": 1,\n",
    "            \"showline\": True, \"linewidth\": 1, \"linecolor\": \"black\", \"mirror\": True},\n",
    "    legend_tracegroupgap=20\n",
    ")\n",
    "fig.update_xaxes = {\n",
    "    \"dtick\": 0.2,\n",
    "    \"showgrid\": False,\n",
    "    \"zeroline\": False\n",
    "}\n",
    "fig.update_yaxes = {\n",
    "    \"showgrid\": True,\n",
    "    \"zeroline\": True,\n",
    "    \"zerolinecolor\": 'black',\n",
    "    \"zerolinewidth\": 1\n",
    "}\n",
    "fig.show()\n",
    "fig.write_html(\"./Results/15+18/CP_Residuals-15gcp+18cp_highweight.html\")\n",
    "print('The min residual X/Y/Z for 4 camera sets are',\n",
    "      [[f'{item:.3f}' for item in sublist] for sublist in min_res_list])\n",
    "print('The max residual X/Y/Z for 4 camera sets are',\n",
    "      [[f'{item:.3f}' for item in sublist] for sublist in max_res_list])\n",
    "print('The mean residual X/Y/Z for 4 camera sets are',\n",
    "      [[f'{item:.3f}' for item in sublist] for sublist in mean_res_list])\n",
    "print('The std.dev residual X/Y/Z for 4 camera sets are',\n",
    "      [[f'{item:.3f}' for item in sublist] for sublist in std_res_list])"
   ]
  },
  {
   "cell_type": "code",
   "execution_count": 59,
   "metadata": {},
   "outputs": [
    {
     "data": {
      "image/png": "[encoded data removed]",
      "text/plain": [
       "<Figure size 640x480 with 1 Axes>"
      ]
     },
     "metadata": {},
     "output_type": "display_data"
    },
    {
     "data": {
      "image/png": "[encoded data removed]",
      "text/plain": [
       "<Figure size 640x480 with 1 Axes>"
      ]
     },
     "metadata": {},
     "output_type": "display_data"
    },
    {
     "data": {
      "image/png": "[encoded data removed]",
      "text/plain": [
       "<Figure size 640x480 with 1 Axes>"
      ]
     },
     "metadata": {},
     "output_type": "display_data"
    },
    {
     "data": {
      "image/png": "[encoded data removed]",
      "text/plain": [
       "<Figure size 640x480 with 1 Axes>"
      ]
     },
     "metadata": {},
     "output_type": "display_data"
    }
   ],
   "source": [
    "\"\"\"Residual-XY arrows\"\"\"\n",
    "# XY-Residual of object points[error ellipse]\n",
    "\"\"\" \n",
    "Compare the results from inpho projects, with Match-AT setting: GNSS off/ only GNSS on/ GNSS and shifts for z on\n",
    "\"\"\"\n",
    "\n",
    "# set the scale factor\n",
    "scalef = 5\n",
    "# prj_list = [prj_15GCP_uce_m3, prj_15GCP_uce_4,\n",
    "#             prj_15GCP_leica, prj_15GCP_igi, prj_15GCP_pas]\n",
    "# legend_list = [\"UCE M3\", \"UCE 4.1\",\n",
    "#                \"DMC-4\", 'UM-2', 'PAS-880']\n",
    "prj_list = [prj_15GCP_uce_m3, prj_15GCP_uce_4,\n",
    "            prj_15GCP_leica, prj_15GCP_igi]\n",
    "legend_list = [\"UCE-M3\", \"Camera A\", \"Camera B\", \"Camera C\"] #A: UCE-4.1, B: DMC-4, C: UM-2\n",
    "\n",
    "for prj, legend in zip(prj_list, legend_list):\n",
    "    # fig, ax = plt.subplots()\n",
    "    origin = np.array([prj.cp_residual[:, 3], prj.cp_residual[:, 4]])\n",
    "    rs_x = prj.cp_residual[:, 0]\n",
    "    rs_y = prj.cp_residual[:, 1]\n",
    "    # plot\n",
    "    Q = plt.quiver(*origin,\n",
    "                   rs_x*scalef,\n",
    "                   rs_y*scalef,\n",
    "                   angles='xy',\n",
    "                   scale=1,\n",
    "                   scale_units='inches',\n",
    "                   width=0.003)\n",
    "    plt.scatter(*origin, color='r', s=2)\n",
    "    plt.scatter(prj.cp_residual[:, 3]+rs_x*11000,\n",
    "                prj.cp_residual[:, 4]+rs_y*11000, s=0)\n",
    "\n",
    "    for i, txt in enumerate(prj.cp_id):\n",
    "        plt.annotate(str(txt), (prj.cp_residual[i, 3], prj.cp_residual[i, 4]),\n",
    "                     size=8, color='black')\n",
    "\n",
    "    qk = plt.quiverkey(Q, X=0.85, Y=0.9, U=0.1*scalef,\n",
    "                       label='0.1 m',\n",
    "                       fontproperties={'size': 8},\n",
    "                       labelpos='E',\n",
    "                       coordinates='figure')\n",
    "\n",
    "   # disabling xticks by Setting xticks to an empty list\n",
    "    plt.xticks([])\n",
    "\n",
    "    # disabling yticks by setting yticks to an empty list\n",
    "    plt.yticks([])\n",
    "    # w, h = fig.get_size_inches()\n",
    "    # fig.set_size_inches(w * zoom, h * zoom)\n",
    "    plt.title('Residual-XY '+legend, fontsize=10)\n",
    "    plt.show()"
   ]
  },
  {
   "cell_type": "code",
   "execution_count": 60,
   "metadata": {},
   "outputs": [
    {
     "data": {
      "image/png": "[encoded data removed]",
      "text/plain": [
       "<Figure size 640x480 with 1 Axes>"
      ]
     },
     "metadata": {},
     "output_type": "display_data"
    },
    {
     "data": {
      "image/png": "[encoded data removed]",
      "text/plain": [
       "<Figure size 640x480 with 1 Axes>"
      ]
     },
     "metadata": {},
     "output_type": "display_data"
    },
    {
     "data": {
      "image/png": "[encoded data removed]",
      "text/plain": [
       "<Figure size 640x480 with 1 Axes>"
      ]
     },
     "metadata": {},
     "output_type": "display_data"
    },
    {
     "data": {
      "image/png": "[encoded data removed]",
      "text/plain": [
       "<Figure size 640x480 with 1 Axes>"
      ]
     },
     "metadata": {},
     "output_type": "display_data"
    }
   ],
   "source": [
    "\"\"\"[15GCP + 18 CP] Residual-Z arrows\"\"\"\n",
    "# XY-Residual of object points[error ellipse]\n",
    "\"\"\" \n",
    "Compare the results from inpho projects, with Match-AT setting: GNSS off/ only GNSS on/ GNSS and shifts for z on\n",
    "\"\"\"\n",
    "# set the key length\n",
    "lkey = 0.1\n",
    "# set the scale factor\n",
    "scalef = 5\n",
    "# prj_list = [prj_15GCP_uce_m3, prj_15GCP_uce_4,\n",
    "#             prj_15GCP_leica, prj_15GCP_igi, prj_15GCP_pas]\n",
    "# legend_list = [\"UCE M3\", \"UCE 4.1\",\n",
    "#                \"DMC-4\", 'UM-2', 'PAS-880']\n",
    "prj_list = [prj_15GCP_uce_m3, prj_15GCP_uce_4,\n",
    "            prj_15GCP_leica, prj_15GCP_igi]\n",
    "legend_list = [\"UCE-M3\", \"Camera A\", \"Camera B\", \"Camera C\"] #A: UCE-4.1, B: DMC-4, C: UM-2\n",
    "for prj, legend in zip(prj_list, legend_list):\n",
    "    # fig, ax = plt.subplots()\n",
    "    origin = np.array([prj.cp_residual[:, 3], prj.cp_residual[:, 4]])\n",
    "    rs_z = prj.cp_residual[:, 2]\n",
    "\n",
    "    # plot\n",
    "    Q = plt.quiver(*origin,\n",
    "                   np.zeros_like(rs_x),\n",
    "                   rs_z*scalef,\n",
    "                   angles='xy',\n",
    "                   scale_units='inches',\n",
    "                   scale=1,\n",
    "                   width=0.003)\n",
    "    plt.scatter(*origin, color='r', s=2)\n",
    "    plt.scatter(prj.cp_residual[:, 3], prj.cp_residual[:, 4]+rs_z*10000, s=0)\n",
    "\n",
    "    for i, txt in enumerate(prj.cp_id):\n",
    "        plt.annotate(str(txt), (prj.cp_residual[i, 3], prj.cp_residual[i, 4]),\n",
    "                     size=8, color='black')\n",
    "\n",
    "    qk = plt.quiverkey(Q, X=0.85, Y=0.9, U=scalef*lkey,\n",
    "                       label='0.1 m',\n",
    "                       fontproperties={'size': 8},\n",
    "                       labelpos='E',\n",
    "                       coordinates='figure')\n",
    "\n",
    "   # disabling xticks by Setting xticks to an empty list\n",
    "    plt.xticks([])\n",
    "\n",
    "    # disabling yticks by setting yticks to an empty list\n",
    "    plt.yticks([])\n",
    "    plt.title('Residual-Z '+legend, fontsize=10)\n",
    "    plt.show()"
   ]
  },
  {
   "cell_type": "code",
   "execution_count": 62,
   "metadata": {
    "slideshow": {
     "slide_type": "skip"
    }
   },
   "outputs": [],
   "source": [
    "# \"\"\"[15GCP + 18CP] Residual-XY Ellipse/XY arrows\"\"\"\n",
    "\n",
    "# # XY-Residual of object points[error ellipse]\n",
    "\n",
    "# \"\"\"\n",
    "# Compare the results from inpho projects, with Match-AT setting: GNSS off/ only GNSS on/ GNSS and shifts for z on\n",
    "# \"\"\"\n",
    "\n",
    "# # XY-Residuals of 3 prjs\n",
    "\n",
    "# residual_scale = 10\n",
    "# prj_list = [prj_15GCP_uce_m3, prj_15GCP_uce_4, prj_15GCP_leica, prj_15GCP_igi]\n",
    "# legend_list = [\"Project UCE-M3 (15GCP)\", \"Project UCE-4.1 (15GCP)\",\n",
    "# \"Project DMC-4 (15GCP)\", 'Project UM-2 (15GCP)']\n",
    "# fig = go.Figure()\n",
    "# for prj, legend in zip(prj_list, legend_list): # scatter check points\n",
    "# fig.add_trace(go.Scatter( # mode='markers+text'if prj == prj_list[0] else \"markers\",\n",
    "# mode='markers+text',\n",
    "# x=prj.cp_residual[:, 3],\n",
    "# y=prj.cp_residual[:, 4],\n",
    "# text=[str(id) for id in prj.cp_id],\n",
    "# marker={\"symbol\": \"square-open-dot\", \"color\": 'tomato', \"size\": 8},\n",
    "# legendgroup=\"[\" + legend + \"] check points\",\n",
    "# showlegend=True,\n",
    "# name=\"[\" + legend + \"] check points\"\n",
    "# )\n",
    "# ) # scatter control points\n",
    "# fig.add_trace(go.Scatter( # mode='markers+text' if prj == prj_list[0] else \"markers\",\n",
    "# mode='markers+text',\n",
    "# x=prj.gcp_residual[:, 3],\n",
    "# y=prj.gcp_residual[:, 4],\n",
    "# text=[str(id) for id in prj.gcp_id],\n",
    "# marker={\"symbol\": \"triangle-up-open-dot\",\n",
    "# \"color\": 'limegreen', \"size\": 8},\n",
    "# legendgroup=\"[\" + legend + \"] control points\",\n",
    "# showlegend=True,\n",
    "# name=\"[\" + legend + \"] control points\"\n",
    "# )\n",
    "# ) # Arrow - XY # check points\n",
    "# for ind, pt in enumerate(prj.cp_residual):\n",
    "# fig.add_trace(go.Scatter(\n",
    "# mode='lines',\n",
    "# x=[pt[3], pt[3]+pt[0]*1000*residual_scale],\n",
    "# y=[pt[4], pt[4]+pt[1]*1000*residual_scale],\n",
    "# line={\"color\": 'tomato', \"width\": 2},\n",
    "# legendgroup=\"[\" + legend +\n",
    "# \"] XY-residual vector at check points\",\n",
    "# showlegend=(ind == 0),\n",
    "# name=\"[\" + legend + \"] XY-residual vector at check points\"\n",
    "# )\n",
    "# ) # control points\n",
    "# for ind, pt in enumerate(prj.gcp_residual):\n",
    "# fig.add_trace(go.Scatter(\n",
    "# mode='lines',\n",
    "# x=[pt[3], pt[3]+pt[0]*1000*residual_scale],\n",
    "# y=[pt[4], pt[4]+pt[1]*1000*residual_scale],\n",
    "# line={\"color\": 'mediumseagreen', \"width\": 2},\n",
    "# legendgroup=\"[\" + legend +\n",
    "# \"] XY-residual vector at control points\",\n",
    "# showlegend=(ind == 0),\n",
    "# name=\"[\" + legend + \"] XY-residual vector at control points\"\n",
    "# )\n",
    "# )\n",
    "\n",
    "#     # # Error Ellipse - XY\n",
    "#     # # check points\n",
    "#     # for ind, pt in enumerate(prj.cp_residual):\n",
    "#     #     error_ellipse_xy = ellipse(center_x=pt[3],\n",
    "#     #                                center_y=pt[4],\n",
    "#     #                                a=pt[0] * 1000.0 * residual_scale,\n",
    "#     #                                b=pt[1] * 1000.0 * residual_scale)\n",
    "#     #     elp_pt_len = np.shape(error_ellipse_xy)[1]\n",
    "#     #     error_ellipse_z = np.ones(elp_pt_len, dtype=float) * pt[5]\n",
    "#     #     fig.add_trace(go.Scatter(\n",
    "#     #         mode='lines',\n",
    "#     #         x=error_ellipse_xy[0],\n",
    "#     #         y=error_ellipse_xy[1],\n",
    "#     #         line={\"color\": 'tomato', \"width\": 2},\n",
    "#     #         legendgroup=\"[\" + legend + \"] XY-error ellipse at check points\",\n",
    "#     #         showlegend=(ind == 0),\n",
    "#     #         name=\"[\" + legend + \"] XY-error ellipse at check points\"\n",
    "#     #     )\n",
    "#     #     )\n",
    "\n",
    "#     # for ind, pt in enumerate(prj.gcp_residual):\n",
    "#     #     error_ellipse_xy = ellipse(center_x=pt[3],\n",
    "#     #                                center_y=pt[4],\n",
    "#     #                                a=pt[0] * 1000.0 * residual_scale,\n",
    "#     #                                b=pt[1] * 1000.0 * residual_scale)\n",
    "#     #     elp_pt_len = np.shape(error_ellipse_xy)[1]\n",
    "#     #     error_ellipse_z = np.ones(elp_pt_len, dtype=float) * pt[5]\n",
    "#     #     fig.add_trace(go.Scatter(\n",
    "#     #         mode='lines',\n",
    "#     #         x=error_ellipse_xy[0],\n",
    "#     #         y=error_ellipse_xy[1],\n",
    "#     #         line={\"color\": 'mediumseagreen', \"width\": 2},\n",
    "#     #         legendgroup=\"[\" + legend +\n",
    "#     #         \"] XY-error ellipse at control points\",\n",
    "#     #         showlegend=(ind == 0),\n",
    "#     #         name=\"[\" + legend + \"] XY-error ellipse at control points\"\n",
    "#     #     )\n",
    "#     #     )\n",
    "\n",
    "# fig.update_traces(textposition='top left')\n",
    "# fig.update_layout(title=\"XY-residual vector of Object Points\",\n",
    "# xaxis={\"showgrid\": False, \"zeroline\": False},\n",
    "# yaxis={\"showgrid\": True, \"zeroline\": False})\n",
    "# fig.update_xaxes(showticklabels=False)\n",
    "# fig.update_yaxes(showticklabels=False)\n",
    "# fig.show()\n",
    "# fig.write_html(\"./Results/15+18/pt_xy_residual_vector_highweight.html\")\n"
   ]
  },
  {
   "cell_type": "code",
   "execution_count": 61,
   "metadata": {},
   "outputs": [],
   "source": [
    "# \"\"\"[15GCP + 18CP] Residual-Z Vector\"\"\"\n",
    "\n",
    "# # Z-Residual of object points[vector]\n",
    "\n",
    "# \"\"\"\n",
    "# Compare the results from inpho projects, with Match-AT setting: GNSS off/ only GNSS on/ GNSS and shifts for z on\n",
    "# \"\"\"\n",
    "\n",
    "# # Z-Residuals of 3 prjs\n",
    "\n",
    "# residual_scale = 10.0\n",
    "# prj_list = [prj_15GCP_uce_m3, prj_15GCP_uce_4, prj_15GCP_leica, prj_15GCP_igi]\n",
    "# legend_list = [\"Project UCE-M3 (15GCP)\", \"Project UCE-4.1 (15GCP)\",\n",
    "# \"Project DMC-4 (15GCP)\", 'Project UM-2 (15GCP)']\n",
    "# fig = go.Figure()\n",
    "\n",
    "# for prj, legend in zip(prj*list, legend_list): # scatter check point\n",
    "# fig.add_trace(go.Scatter( # mode='markers+text'if prj == prj_list[0] else \"markers\",\n",
    "# mode='markers+text',\n",
    "# x=prj.cp_residual[:, 3],\n",
    "# y=prj.cp_residual[:, 4],\n",
    "# text=[str(id) for id in prj.cp_id],\n",
    "# marker={\"symbol\": \"square-open-dot\", \"color\": 'tomato', \"size\": 8},\n",
    "# legendgroup=\"[\" + legend + \"] check points\",\n",
    "# showlegend=True,\n",
    "# name=\"[\" + legend + \"] check points\"\n",
    "# )\n",
    "# ) # scatter control point\n",
    "# fig.add_trace(go.Scatter( # mode='markers+text' if prj == prj_list[0] else \"markers\",\n",
    "# mode='markers+text',\n",
    "# x=prj.gcp_residual[:, 3],\n",
    "# y=prj.gcp_residual[:, 4],\n",
    "# text=[str(id) for id in prj.gcp_id],\n",
    "# marker={\"symbol\": \"triangle-up-open-dot\",\n",
    "# \"color\": 'limegreen', \"size\": 8},\n",
    "# legendgroup=\"[\" + legend + \"] control points\",\n",
    "# showlegend=True,\n",
    "# name=\"[\" + legend + \"] control points\"\n",
    "# )\n",
    "# ) # Z vector # check points\n",
    "# for ind, pt in enumerate(prj.cp_residual):\n",
    "# fig.add_trace(go.Scatter(\n",
    "# mode='lines',\n",
    "# x=[pt[3], pt[3]],\n",
    "# y=[pt[4], pt[4] + pt[2] * 1000.0 _ residual_scale],\n",
    "# line={\"color\": 'tomato', \"width\": 2},\n",
    "# legendgroup=\"[\" + legend +\n",
    "# \"] Z-residual vector at check points\",\n",
    "# showlegend=(ind == 0),\n",
    "# name=\"[\" + legend + \"] Z-residual vector at check points\"\n",
    "# )\n",
    "# ) # control points\n",
    "# for ind, pt in enumerate(prj.gcp_residual):\n",
    "# fig.add_trace(go.Scatter(\n",
    "# mode='lines',\n",
    "# x=[pt[3], pt[3]],\n",
    "# y=[pt[4], pt[4] + pt[2] _ 1000.0 \\_ residual_scale],\n",
    "# line={\"color\": 'mediumseagreen', \"width\": 2},\n",
    "# legendgroup=\"[\" + legend +\n",
    "# \"] Z-residual vector at control points\",\n",
    "# showlegend=(ind == 0),\n",
    "# name=\"[\" + legend + \"] Z-residual vector at control points\"\n",
    "# )\n",
    "# )\n",
    "\n",
    "# fig.update_traces(textposition='top left')\n",
    "# fig.update_layout(title=\"Z vector of Object Points\",\n",
    "# xaxis={\"showgrid\": False, \"zeroline\": False},\n",
    "# yaxis={\"showgrid\": False, \"zeroline\": False})\n",
    "# fig.update_xaxes(showticklabels=False)\n",
    "# fig.update_yaxes(showticklabels=False)\n",
    "# fig.show()\n",
    "# fig.write_html(\"./Results/15+18/pt_z_residual_vetor_highweight.html\")\n"
   ]
  },
  {
   "cell_type": "code",
   "execution_count": 63,
   "metadata": {},
   "outputs": [
    {
     "data": {
      "application/vnd.plotly.v1+json": {
       "config": {
        "plotlyServerURL": "https://plot.ly"
       },
       "data": [
        {
         "cliponaxis": false,
         "legendgroup": "UCE-M3",
         "marker": {
          "color": "green"
         },
         "name": "UCE-M3",
         "opacity": 0.6,
         "showlegend": true,
         "text": [
          "0.02",
          "0.025",
          "0.047"
         ],
         "textangle": 0,
         "textfont": {
          "color": "black",
          "size": 15
         },
         "textposition": "outside",
         "type": "bar",
         "x": [
          "RMSE-X",
          "RMSE-Y",
          "RMSE-Z"
         ],
         "y": [
          0.02,
          0.025,
          0.047
         ]
        },
        {
         "cliponaxis": false,
         "legendgroup": "Camera A",
         "marker": {
          "color": "navy"
         },
         "name": "Camera A",
         "opacity": 0.6,
         "showlegend": true,
         "text": [
          "0.023",
          "0.02",
          "0.053"
         ],
         "textangle": 0,
         "textfont": {
          "color": "black",
          "size": 15
         },
         "textposition": "outside",
         "type": "bar",
         "x": [
          "RMSE-X",
          "RMSE-Y",
          "RMSE-Z"
         ],
         "y": [
          0.023,
          0.02,
          0.053
         ]
        },
        {
         "cliponaxis": false,
         "legendgroup": "Camera B",
         "marker": {
          "color": "orange"
         },
         "name": "Camera B",
         "opacity": 0.6,
         "showlegend": true,
         "text": [
          "0.023",
          "0.03",
          "0.06"
         ],
         "textangle": 0,
         "textfont": {
          "color": "black",
          "size": 15
         },
         "textposition": "outside",
         "type": "bar",
         "x": [
          "RMSE-X",
          "RMSE-Y",
          "RMSE-Z"
         ],
         "y": [
          0.023,
          0.03,
          0.06
         ]
        },
        {
         "cliponaxis": false,
         "legendgroup": "Camera C",
         "marker": {
          "color": "red"
         },
         "name": "Camera C",
         "opacity": 0.6,
         "showlegend": true,
         "text": [
          "0.04",
          "0.033",
          "0.048"
         ],
         "textangle": 0,
         "textfont": {
          "color": "black",
          "size": 15
         },
         "textposition": "outside",
         "type": "bar",
         "x": [
          "RMSE-X",
          "RMSE-Y",
          "RMSE-Z"
         ],
         "y": [
          0.04,
          0.033,
          0.048
         ]
        }
       ],
       "layout": {
        "legend": {
         "tracegroupgap": 20
        },
        "plot_bgcolor": "white",
        "template": {
         "data": {
          "bar": [
           {
            "error_x": {
             "color": "#2a3f5f"
            },
            "error_y": {
             "color": "#2a3f5f"
            },
            "marker": {
             "line": {
              "color": "#E5ECF6",
              "width": 0.5
             },
             "pattern": {
              "fillmode": "overlay",
              "size": 10,
              "solidity": 0.2
             }
            },
            "type": "bar"
           }
          ],
          "barpolar": [
           {
            "marker": {
             "line": {
              "color": "#E5ECF6",
              "width": 0.5
             },
             "pattern": {
              "fillmode": "overlay",
              "size": 10,
              "solidity": 0.2
             }
            },
            "type": "barpolar"
           }
          ],
          "carpet": [
           {
            "aaxis": {
             "endlinecolor": "#2a3f5f",
             "gridcolor": "white",
             "linecolor": "white",
             "minorgridcolor": "white",
             "startlinecolor": "#2a3f5f"
            },
            "baxis": {
             "endlinecolor": "#2a3f5f",
             "gridcolor": "white",
             "linecolor": "white",
             "minorgridcolor": "white",
             "startlinecolor": "#2a3f5f"
            },
            "type": "carpet"
           }
          ],
          "choropleth": [
           {
            "colorbar": {
             "outlinewidth": 0,
             "ticks": ""
            },
            "type": "choropleth"
           }
          ],
          "contour": [
           {
            "colorbar": {
             "outlinewidth": 0,
             "ticks": ""
            },
            "colorscale": [
             [
              0,
              "#0d0887"
             ],
             [
              0.1111111111111111,
              "#46039f"
             ],
             [
              0.2222222222222222,
              "#7201a8"
             ],
             [
              0.3333333333333333,
              "#9c179e"
             ],
             [
              0.4444444444444444,
              "#bd3786"
             ],
             [
              0.5555555555555556,
              "#d8576b"
             ],
             [
              0.6666666666666666,
              "#ed7953"
             ],
             [
              0.7777777777777778,
              "#fb9f3a"
             ],
             [
              0.8888888888888888,
              "#fdca26"
             ],
             [
              1,
              "#f0f921"
             ]
            ],
            "type": "contour"
           }
          ],
          "contourcarpet": [
           {
            "colorbar": {
             "outlinewidth": 0,
             "ticks": ""
            },
            "type": "contourcarpet"
           }
          ],
          "heatmap": [
           {
            "colorbar": {
             "outlinewidth": 0,
             "ticks": ""
            },
            "colorscale": [
             [
              0,
              "#0d0887"
             ],
             [
              0.1111111111111111,
              "#46039f"
             ],
             [
              0.2222222222222222,
              "#7201a8"
             ],
             [
              0.3333333333333333,
              "#9c179e"
             ],
             [
              0.4444444444444444,
              "#bd3786"
             ],
             [
              0.5555555555555556,
              "#d8576b"
             ],
             [
              0.6666666666666666,
              "#ed7953"
             ],
             [
              0.7777777777777778,
              "#fb9f3a"
             ],
             [
              0.8888888888888888,
              "#fdca26"
             ],
             [
              1,
              "#f0f921"
             ]
            ],
            "type": "heatmap"
           }
          ],
          "heatmapgl": [
           {
            "colorbar": {
             "outlinewidth": 0,
             "ticks": ""
            },
            "colorscale": [
             [
              0,
              "#0d0887"
             ],
             [
              0.1111111111111111,
              "#46039f"
             ],
             [
              0.2222222222222222,
              "#7201a8"
             ],
             [
              0.3333333333333333,
              "#9c179e"
             ],
             [
              0.4444444444444444,
              "#bd3786"
             ],
             [
              0.5555555555555556,
              "#d8576b"
             ],
             [
              0.6666666666666666,
              "#ed7953"
             ],
             [
              0.7777777777777778,
              "#fb9f3a"
             ],
             [
              0.8888888888888888,
              "#fdca26"
             ],
             [
              1,
              "#f0f921"
             ]
            ],
            "type": "heatmapgl"
           }
          ],
          "histogram": [
           {
            "marker": {
             "pattern": {
              "fillmode": "overlay",
              "size": 10,
              "solidity": 0.2
             }
            },
            "type": "histogram"
           }
          ],
          "histogram2d": [
           {
            "colorbar": {
             "outlinewidth": 0,
             "ticks": ""
            },
            "colorscale": [
             [
              0,
              "#0d0887"
             ],
             [
              0.1111111111111111,
              "#46039f"
             ],
             [
              0.2222222222222222,
              "#7201a8"
             ],
             [
              0.3333333333333333,
              "#9c179e"
             ],
             [
              0.4444444444444444,
              "#bd3786"
             ],
             [
              0.5555555555555556,
              "#d8576b"
             ],
             [
              0.6666666666666666,
              "#ed7953"
             ],
             [
              0.7777777777777778,
              "#fb9f3a"
             ],
             [
              0.8888888888888888,
              "#fdca26"
             ],
             [
              1,
              "#f0f921"
             ]
            ],
            "type": "histogram2d"
           }
          ],
          "histogram2dcontour": [
           {
            "colorbar": {
             "outlinewidth": 0,
             "ticks": ""
            },
            "colorscale": [
             [
              0,
              "#0d0887"
             ],
             [
              0.1111111111111111,
              "#46039f"
             ],
             [
              0.2222222222222222,
              "#7201a8"
             ],
             [
              0.3333333333333333,
              "#9c179e"
             ],
             [
              0.4444444444444444,
              "#bd3786"
             ],
             [
              0.5555555555555556,
              "#d8576b"
             ],
             [
              0.6666666666666666,
              "#ed7953"
             ],
             [
              0.7777777777777778,
              "#fb9f3a"
             ],
             [
              0.8888888888888888,
              "#fdca26"
             ],
             [
              1,
              "#f0f921"
             ]
            ],
            "type": "histogram2dcontour"
           }
          ],
          "mesh3d": [
           {
            "colorbar": {
             "outlinewidth": 0,
             "ticks": ""
            },
            "type": "mesh3d"
           }
          ],
          "parcoords": [
           {
            "line": {
             "colorbar": {
              "outlinewidth": 0,
              "ticks": ""
             }
            },
            "type": "parcoords"
           }
          ],
          "pie": [
           {
            "automargin": true,
            "type": "pie"
           }
          ],
          "scatter": [
           {
            "fillpattern": {
             "fillmode": "overlay",
             "size": 10,
             "solidity": 0.2
            },
            "type": "scatter"
           }
          ],
          "scatter3d": [
           {
            "line": {
             "colorbar": {
              "outlinewidth": 0,
              "ticks": ""
             }
            },
            "marker": {
             "colorbar": {
              "outlinewidth": 0,
              "ticks": ""
             }
            },
            "type": "scatter3d"
           }
          ],
          "scattercarpet": [
           {
            "marker": {
             "colorbar": {
              "outlinewidth": 0,
              "ticks": ""
             }
            },
            "type": "scattercarpet"
           }
          ],
          "scattergeo": [
           {
            "marker": {
             "colorbar": {
              "outlinewidth": 0,
              "ticks": ""
             }
            },
            "type": "scattergeo"
           }
          ],
          "scattergl": [
           {
            "marker": {
             "colorbar": {
              "outlinewidth": 0,
              "ticks": ""
             }
            },
            "type": "scattergl"
           }
          ],
          "scattermapbox": [
           {
            "marker": {
             "colorbar": {
              "outlinewidth": 0,
              "ticks": ""
             }
            },
            "type": "scattermapbox"
           }
          ],
          "scatterpolar": [
           {
            "marker": {
             "colorbar": {
              "outlinewidth": 0,
              "ticks": ""
             }
            },
            "type": "scatterpolar"
           }
          ],
          "scatterpolargl": [
           {
            "marker": {
             "colorbar": {
              "outlinewidth": 0,
              "ticks": ""
             }
            },
            "type": "scatterpolargl"
           }
          ],
          "scatterternary": [
           {
            "marker": {
             "colorbar": {
              "outlinewidth": 0,
              "ticks": ""
             }
            },
            "type": "scatterternary"
           }
          ],
          "surface": [
           {
            "colorbar": {
             "outlinewidth": 0,
             "ticks": ""
            },
            "colorscale": [
             [
              0,
              "#0d0887"
             ],
             [
              0.1111111111111111,
              "#46039f"
             ],
             [
              0.2222222222222222,
              "#7201a8"
             ],
             [
              0.3333333333333333,
              "#9c179e"
             ],
             [
              0.4444444444444444,
              "#bd3786"
             ],
             [
              0.5555555555555556,
              "#d8576b"
             ],
             [
              0.6666666666666666,
              "#ed7953"
             ],
             [
              0.7777777777777778,
              "#fb9f3a"
             ],
             [
              0.8888888888888888,
              "#fdca26"
             ],
             [
              1,
              "#f0f921"
             ]
            ],
            "type": "surface"
           }
          ],
          "table": [
           {
            "cells": {
             "fill": {
              "color": "#EBF0F8"
             },
             "line": {
              "color": "white"
             }
            },
            "header": {
             "fill": {
              "color": "#C8D4E3"
             },
             "line": {
              "color": "white"
             }
            },
            "type": "table"
           }
          ]
         },
         "layout": {
          "annotationdefaults": {
           "arrowcolor": "#2a3f5f",
           "arrowhead": 0,
           "arrowwidth": 1
          },
          "autotypenumbers": "strict",
          "coloraxis": {
           "colorbar": {
            "outlinewidth": 0,
            "ticks": ""
           }
          },
          "colorscale": {
           "diverging": [
            [
             0,
             "#8e0152"
            ],
            [
             0.1,
             "#c51b7d"
            ],
            [
             0.2,
             "#de77ae"
            ],
            [
             0.3,
             "#f1b6da"
            ],
            [
             0.4,
             "#fde0ef"
            ],
            [
             0.5,
             "#f7f7f7"
            ],
            [
             0.6,
             "#e6f5d0"
            ],
            [
             0.7,
             "#b8e186"
            ],
            [
             0.8,
             "#7fbc41"
            ],
            [
             0.9,
             "#4d9221"
            ],
            [
             1,
             "#276419"
            ]
           ],
           "sequential": [
            [
             0,
             "#0d0887"
            ],
            [
             0.1111111111111111,
             "#46039f"
            ],
            [
             0.2222222222222222,
             "#7201a8"
            ],
            [
             0.3333333333333333,
             "#9c179e"
            ],
            [
             0.4444444444444444,
             "#bd3786"
            ],
            [
             0.5555555555555556,
             "#d8576b"
            ],
            [
             0.6666666666666666,
             "#ed7953"
            ],
            [
             0.7777777777777778,
             "#fb9f3a"
            ],
            [
             0.8888888888888888,
             "#fdca26"
            ],
            [
             1,
             "#f0f921"
            ]
           ],
           "sequentialminus": [
            [
             0,
             "#0d0887"
            ],
            [
             0.1111111111111111,
             "#46039f"
            ],
            [
             0.2222222222222222,
             "#7201a8"
            ],
            [
             0.3333333333333333,
             "#9c179e"
            ],
            [
             0.4444444444444444,
             "#bd3786"
            ],
            [
             0.5555555555555556,
             "#d8576b"
            ],
            [
             0.6666666666666666,
             "#ed7953"
            ],
            [
             0.7777777777777778,
             "#fb9f3a"
            ],
            [
             0.8888888888888888,
             "#fdca26"
            ],
            [
             1,
             "#f0f921"
            ]
           ]
          },
          "colorway": [
           "#636efa",
           "#EF553B",
           "#00cc96",
           "#ab63fa",
           "#FFA15A",
           "#19d3f3",
           "#FF6692",
           "#B6E880",
           "#FF97FF",
           "#FECB52"
          ],
          "font": {
           "color": "#2a3f5f"
          },
          "geo": {
           "bgcolor": "white",
           "lakecolor": "white",
           "landcolor": "#E5ECF6",
           "showlakes": true,
           "showland": true,
           "subunitcolor": "white"
          },
          "hoverlabel": {
           "align": "left"
          },
          "hovermode": "closest",
          "mapbox": {
           "style": "light"
          },
          "paper_bgcolor": "white",
          "plot_bgcolor": "#E5ECF6",
          "polar": {
           "angularaxis": {
            "gridcolor": "white",
            "linecolor": "white",
            "ticks": ""
           },
           "bgcolor": "#E5ECF6",
           "radialaxis": {
            "gridcolor": "white",
            "linecolor": "white",
            "ticks": ""
           }
          },
          "scene": {
           "xaxis": {
            "backgroundcolor": "#E5ECF6",
            "gridcolor": "white",
            "gridwidth": 2,
            "linecolor": "white",
            "showbackground": true,
            "ticks": "",
            "zerolinecolor": "white"
           },
           "yaxis": {
            "backgroundcolor": "#E5ECF6",
            "gridcolor": "white",
            "gridwidth": 2,
            "linecolor": "white",
            "showbackground": true,
            "ticks": "",
            "zerolinecolor": "white"
           },
           "zaxis": {
            "backgroundcolor": "#E5ECF6",
            "gridcolor": "white",
            "gridwidth": 2,
            "linecolor": "white",
            "showbackground": true,
            "ticks": "",
            "zerolinecolor": "white"
           }
          },
          "shapedefaults": {
           "line": {
            "color": "#2a3f5f"
           }
          },
          "ternary": {
           "aaxis": {
            "gridcolor": "white",
            "linecolor": "white",
            "ticks": ""
           },
           "baxis": {
            "gridcolor": "white",
            "linecolor": "white",
            "ticks": ""
           },
           "bgcolor": "#E5ECF6",
           "caxis": {
            "gridcolor": "white",
            "linecolor": "white",
            "ticks": ""
           }
          },
          "title": {
           "x": 0.05
          },
          "xaxis": {
           "automargin": true,
           "gridcolor": "white",
           "linecolor": "white",
           "ticks": "",
           "title": {
            "standoff": 15
           },
           "zerolinecolor": "white",
           "zerolinewidth": 2
          },
          "yaxis": {
           "automargin": true,
           "gridcolor": "white",
           "linecolor": "white",
           "ticks": "",
           "title": {
            "standoff": 15
           },
           "zerolinecolor": "white",
           "zerolinewidth": 2
          }
         }
        },
        "title": {
         "text": "[4GCP+18CP] RMSE at check points in Match-AT projects using different camera systems"
        },
        "xaxis": {
         "linecolor": "black",
         "linewidth": 1,
         "mirror": true,
         "showgrid": false,
         "showline": true,
         "zeroline": false
        },
        "yaxis": {
         "gridcolor": "lightgray",
         "linecolor": "black",
         "linewidth": 1,
         "mirror": true,
         "range": [
          0,
          0.1
         ],
         "showgrid": true,
         "showline": true,
         "zeroline": false
        }
       }
      }
     },
     "metadata": {},
     "output_type": "display_data"
    }
   ],
   "source": [
    "\"\"\"[4GCP + 18 CP] RMSE-BARPLOT\"\"\"\n",
    "\"\"\" \n",
    "Compare the results from Inpho projets with Match-AT setting: GNSS and shifts for all on, IMU on. Earth curvature and Refraction correction: on\n",
    "\"\"\"\n",
    "\n",
    "prj_4gcp_list = [prj_4GCP_uce_m3, prj_4GCP_uce_4,\n",
    "                 prj_4GCP_leica, prj_4GCP_igi]\n",
    "fig = go.Figure()\n",
    "camera_names = [\"UCE-M3\", \"Camera A\", \"Camera B\", \"Camera C\"] #A: UCE-4.1, B: DMC-4, C: UM-2\n",
    "colors = ['green', 'navy', 'orange', 'red']\n",
    "x_axis = ['RMSE-X', 'RMSE-Y', 'RMSE-Z']\n",
    "\n",
    "for prj, color, name in zip(prj_4gcp_list, colors, camera_names):\n",
    "    fig.add_trace(go.Bar(\n",
    "        name=name,\n",
    "        x=x_axis,\n",
    "        y=prj.cp_RMS,\n",
    "        marker_color=color,\n",
    "        text=[str(num) for num in prj.cp_RMS],\n",
    "        textposition=\"inside\",\n",
    "        legendgroup=name,\n",
    "        showlegend=True\n",
    "    )\n",
    "    )\n",
    "\n",
    "\n",
    "fig.update_traces(opacity=0.6, textfont_size=15, textfont_color='black',textangle=0, textposition=\"outside\", cliponaxis=False)\n",
    "fig.update_layout(\n",
    "    title='[4GCP+18CP] RMSE at check points in Match-AT projects using different camera systems',\n",
    "    xaxis={\"showgrid\": False, \"zeroline\": False},\n",
    "    yaxis={\"showgrid\": True, \"zeroline\": False, \"range\": [0, 0.1]},\n",
    "    legend_tracegroupgap=20,\n",
    "    plot_bgcolor='white'\n",
    ")\n",
    "fig.update_xaxes(showline=True, linewidth=1, linecolor='black', mirror=True)\n",
    "fig.update_yaxes(showgrid=True, gridcolor='lightgray',\n",
    "                 showline=True, linewidth=1, linecolor='black', mirror=True)\n",
    "fig.show()\n",
    "fig.write_html(\"./Results/4+18/CP_RMS-4gcp+18cp_highweight.html\")"
   ]
  },
  {
   "cell_type": "code",
   "execution_count": 64,
   "metadata": {},
   "outputs": [
    {
     "data": {
      "application/vnd.plotly.v1+json": {
       "config": {
        "plotlyServerURL": "https://plot.ly"
       },
       "data": [
        {
         "legendgroup": "UCE-M3",
         "marker": {
          "color": "green"
         },
         "name": "UCE-M3",
         "opacity": 0.6,
         "type": "scatter",
         "x": [
          "101",
          "102",
          "105",
          "108",
          "109",
          "111",
          "112",
          "115",
          "118",
          "119",
          "121",
          "122",
          "124",
          "125",
          "127",
          "128",
          "130",
          "131"
         ],
         "xaxis": "x",
         "y": [
          0.009,
          0.014,
          0.001,
          0.037,
          0.022,
          0.002,
          0.025,
          -0.002,
          -0.012,
          -0.039,
          -0.015,
          -0.031,
          0.002,
          -0.013,
          -0.002,
          0.037,
          0.008,
          0.019
         ],
         "yaxis": "y"
        },
        {
         "legendgroup": "UCE-M3",
         "marker": {
          "color": "green"
         },
         "name": "UCE-M3",
         "opacity": 0.6,
         "showlegend": false,
         "type": "scatter",
         "x": [
          "101",
          "102",
          "105",
          "108",
          "109",
          "111",
          "112",
          "115",
          "118",
          "119",
          "121",
          "122",
          "124",
          "125",
          "127",
          "128",
          "130",
          "131"
         ],
         "xaxis": "x2",
         "y": [
          -0.005,
          0.009,
          -0.014,
          -0.005,
          -0.009,
          0.006,
          0.01,
          0.043,
          0.051,
          0.067,
          0.011,
          0.029,
          0.012,
          -0.025,
          -0.005,
          0.007,
          -0.002,
          -0.004
         ],
         "yaxis": "y2"
        },
        {
         "legendgroup": "UCE-M3",
         "marker": {
          "color": "green"
         },
         "name": "UCE-M3",
         "opacity": 0.6,
         "showlegend": false,
         "type": "scatter",
         "x": [
          "101",
          "102",
          "105",
          "108",
          "109",
          "111",
          "112",
          "115",
          "118",
          "119",
          "121",
          "122",
          "124",
          "125",
          "127",
          "128",
          "130",
          "131"
         ],
         "xaxis": "x3",
         "y": [
          0.018,
          0.077,
          -0.034,
          -0.09,
          0.016,
          -0.008,
          -0.033,
          -0.052,
          -0.075,
          -0.016,
          -0.031,
          0.002,
          0.003,
          0.03,
          -0.017,
          -0.102,
          -0.036,
          0.002
         ],
         "yaxis": "y3"
        },
        {
         "legendgroup": "Camera A",
         "marker": {
          "color": "navy"
         },
         "name": "Camera A",
         "opacity": 0.6,
         "type": "scatter",
         "x": [
          "101",
          "102",
          "105",
          "108",
          "109",
          "111",
          "112",
          "115",
          "118",
          "119",
          "121",
          "122",
          "124",
          "125",
          "127",
          "128",
          "130",
          "131"
         ],
         "xaxis": "x",
         "y": [
          -0.009,
          0.005,
          -0.007,
          0.011,
          0.02,
          -0.019,
          0.013,
          -0.016,
          0.016,
          -0.008,
          -0.034,
          -0.03,
          -0.034,
          -0.036,
          -0.028,
          -0.03,
          -0.033,
          -0.02
         ],
         "yaxis": "y"
        },
        {
         "legendgroup": "Camera A",
         "marker": {
          "color": "navy"
         },
         "name": "Camera A",
         "opacity": 0.6,
         "showlegend": false,
         "type": "scatter",
         "x": [
          "101",
          "102",
          "105",
          "108",
          "109",
          "111",
          "112",
          "115",
          "118",
          "119",
          "121",
          "122",
          "124",
          "125",
          "127",
          "128",
          "130",
          "131"
         ],
         "xaxis": "x2",
         "y": [
          0,
          -0.01,
          0.02,
          0.036,
          0.028,
          0.004,
          -0.011,
          0.023,
          0.029,
          0.021,
          0.004,
          0.016,
          0.037,
          0.003,
          0.028,
          0.014,
          0.006,
          -0.004
         ],
         "yaxis": "y2"
        },
        {
         "legendgroup": "Camera A",
         "marker": {
          "color": "navy"
         },
         "name": "Camera A",
         "opacity": 0.6,
         "showlegend": false,
         "type": "scatter",
         "x": [
          "101",
          "102",
          "105",
          "108",
          "109",
          "111",
          "112",
          "115",
          "118",
          "119",
          "121",
          "122",
          "124",
          "125",
          "127",
          "128",
          "130",
          "131"
         ],
         "xaxis": "x3",
         "y": [
          0.022,
          0.04,
          -0.005,
          -0.04,
          -0.106,
          -0.084,
          -0.106,
          0.028,
          0.099,
          0.016,
          -0.009,
          0.04,
          0.009,
          0.053,
          0.011,
          -0.021,
          -0.014,
          0.035
         ],
         "yaxis": "y3"
        },
        {
         "legendgroup": "Camera B",
         "marker": {
          "color": "orange"
         },
         "name": "Camera B",
         "opacity": 0.6,
         "type": "scatter",
         "x": [
          "101",
          "102",
          "105",
          "108",
          "109",
          "111",
          "112",
          "115",
          "118",
          "119",
          "121",
          "122",
          "124",
          "125",
          "127",
          "128",
          "130",
          "131"
         ],
         "xaxis": "x",
         "y": [
          -0.028,
          -0.023,
          0.002,
          0.042,
          0.031,
          0.007,
          0.024,
          -0.014,
          -0.013,
          -0.001,
          -0.028,
          0.001,
          -0.022,
          -0.046,
          0.002,
          -0.024,
          0.001,
          0.014
         ],
         "yaxis": "y"
        },
        {
         "legendgroup": "Camera B",
         "marker": {
          "color": "orange"
         },
         "name": "Camera B",
         "opacity": 0.6,
         "showlegend": false,
         "type": "scatter",
         "x": [
          "101",
          "102",
          "105",
          "108",
          "109",
          "111",
          "112",
          "115",
          "118",
          "119",
          "121",
          "122",
          "124",
          "125",
          "127",
          "128",
          "130",
          "131"
         ],
         "xaxis": "x2",
         "y": [
          0.015,
          0.009,
          0.046,
          0.035,
          0.025,
          -0.064,
          -0.036,
          -0.002,
          0.042,
          0.033,
          0.018,
          0.018,
          0.045,
          -0.027,
          0.02,
          -0.011,
          0.01,
          0.006
         ],
         "yaxis": "y2"
        },
        {
         "legendgroup": "Camera B",
         "marker": {
          "color": "orange"
         },
         "name": "Camera B",
         "opacity": 0.6,
         "showlegend": false,
         "type": "scatter",
         "x": [
          "101",
          "102",
          "105",
          "108",
          "109",
          "111",
          "112",
          "115",
          "118",
          "119",
          "121",
          "122",
          "124",
          "125",
          "127",
          "128",
          "130",
          "131"
         ],
         "xaxis": "x3",
         "y": [
          0.011,
          0.019,
          -0.086,
          -0.064,
          -0.006,
          -0.016,
          -0.032,
          -0.036,
          0.02,
          0.079,
          -0.047,
          -0.069,
          -0.111,
          -0.052,
          -0.09,
          -0.098,
          -0.063,
          -0.02
         ],
         "yaxis": "y3"
        },
        {
         "legendgroup": "Camera C",
         "marker": {
          "color": "red"
         },
         "name": "Camera C",
         "opacity": 0.6,
         "type": "scatter",
         "x": [
          "101",
          "102",
          "105",
          "108",
          "109",
          "111",
          "112",
          "115",
          "118",
          "119",
          "121",
          "122",
          "124",
          "125",
          "127",
          "128",
          "130",
          "131"
         ],
         "xaxis": "x",
         "y": [
          0.037,
          0.041,
          -0.015,
          -0.019,
          -0.008,
          -0.066,
          -0.04,
          -0.05,
          0.011,
          0.006,
          -0.016,
          -0.019,
          -0.008,
          -0.052,
          -0.031,
          -0.081,
          -0.061,
          -0.049
         ],
         "yaxis": "y"
        },
        {
         "legendgroup": "Camera C",
         "marker": {
          "color": "red"
         },
         "name": "Camera C",
         "opacity": 0.6,
         "showlegend": false,
         "type": "scatter",
         "x": [
          "101",
          "102",
          "105",
          "108",
          "109",
          "111",
          "112",
          "115",
          "118",
          "119",
          "121",
          "122",
          "124",
          "125",
          "127",
          "128",
          "130",
          "131"
         ],
         "xaxis": "x2",
         "y": [
          0.006,
          0.03,
          0.061,
          0.071,
          -0.01,
          -0.054,
          -0.045,
          0.005,
          -0.01,
          -0.018,
          0.016,
          -0.008,
          0.034,
          -0.026,
          0.026,
          -0.012,
          -0.013,
          0.028
         ],
         "yaxis": "y2"
        },
        {
         "legendgroup": "Camera C",
         "marker": {
          "color": "red"
         },
         "name": "Camera C",
         "opacity": 0.6,
         "showlegend": false,
         "type": "scatter",
         "x": [
          "101",
          "102",
          "105",
          "108",
          "109",
          "111",
          "112",
          "115",
          "118",
          "119",
          "121",
          "122",
          "124",
          "125",
          "127",
          "128",
          "130",
          "131"
         ],
         "xaxis": "x3",
         "y": [
          -0.008,
          -0.025,
          -0.021,
          -0.067,
          -0.018,
          -0.059,
          -0.057,
          -0.025,
          -0.008,
          0.014,
          0.065,
          0.051,
          0.042,
          0.08,
          0.05,
          0.094,
          0.024,
          0.031
         ],
         "yaxis": "y3"
        }
       ],
       "layout": {
        "annotations": [
         {
          "font": {
           "size": 16
          },
          "showarrow": false,
          "text": "CP Residual-X",
          "x": 0.5,
          "xanchor": "center",
          "xref": "paper",
          "y": 1,
          "yanchor": "bottom",
          "yref": "paper"
         },
         {
          "font": {
           "size": 16
          },
          "showarrow": false,
          "text": "CP Residual-Y",
          "x": 0.5,
          "xanchor": "center",
          "xref": "paper",
          "y": 0.6111111111111112,
          "yanchor": "bottom",
          "yref": "paper"
         },
         {
          "font": {
           "size": 16
          },
          "showarrow": false,
          "text": "CP Residual-Z",
          "x": 0.5,
          "xanchor": "center",
          "xref": "paper",
          "y": 0.22222222222222224,
          "yanchor": "bottom",
          "yref": "paper"
         }
        ],
        "legend": {
         "tracegroupgap": 20
        },
        "plot_bgcolor": "white",
        "template": {
         "data": {
          "bar": [
           {
            "error_x": {
             "color": "#2a3f5f"
            },
            "error_y": {
             "color": "#2a3f5f"
            },
            "marker": {
             "line": {
              "color": "#E5ECF6",
              "width": 0.5
             },
             "pattern": {
              "fillmode": "overlay",
              "size": 10,
              "solidity": 0.2
             }
            },
            "type": "bar"
           }
          ],
          "barpolar": [
           {
            "marker": {
             "line": {
              "color": "#E5ECF6",
              "width": 0.5
             },
             "pattern": {
              "fillmode": "overlay",
              "size": 10,
              "solidity": 0.2
             }
            },
            "type": "barpolar"
           }
          ],
          "carpet": [
           {
            "aaxis": {
             "endlinecolor": "#2a3f5f",
             "gridcolor": "white",
             "linecolor": "white",
             "minorgridcolor": "white",
             "startlinecolor": "#2a3f5f"
            },
            "baxis": {
             "endlinecolor": "#2a3f5f",
             "gridcolor": "white",
             "linecolor": "white",
             "minorgridcolor": "white",
             "startlinecolor": "#2a3f5f"
            },
            "type": "carpet"
           }
          ],
          "choropleth": [
           {
            "colorbar": {
             "outlinewidth": 0,
             "ticks": ""
            },
            "type": "choropleth"
           }
          ],
          "contour": [
           {
            "colorbar": {
             "outlinewidth": 0,
             "ticks": ""
            },
            "colorscale": [
             [
              0,
              "#0d0887"
             ],
             [
              0.1111111111111111,
              "#46039f"
             ],
             [
              0.2222222222222222,
              "#7201a8"
             ],
             [
              0.3333333333333333,
              "#9c179e"
             ],
             [
              0.4444444444444444,
              "#bd3786"
             ],
             [
              0.5555555555555556,
              "#d8576b"
             ],
             [
              0.6666666666666666,
              "#ed7953"
             ],
             [
              0.7777777777777778,
              "#fb9f3a"
             ],
             [
              0.8888888888888888,
              "#fdca26"
             ],
             [
              1,
              "#f0f921"
             ]
            ],
            "type": "contour"
           }
          ],
          "contourcarpet": [
           {
            "colorbar": {
             "outlinewidth": 0,
             "ticks": ""
            },
            "type": "contourcarpet"
           }
          ],
          "heatmap": [
           {
            "colorbar": {
             "outlinewidth": 0,
             "ticks": ""
            },
            "colorscale": [
             [
              0,
              "#0d0887"
             ],
             [
              0.1111111111111111,
              "#46039f"
             ],
             [
              0.2222222222222222,
              "#7201a8"
             ],
             [
              0.3333333333333333,
              "#9c179e"
             ],
             [
              0.4444444444444444,
              "#bd3786"
             ],
             [
              0.5555555555555556,
              "#d8576b"
             ],
             [
              0.6666666666666666,
              "#ed7953"
             ],
             [
              0.7777777777777778,
              "#fb9f3a"
             ],
             [
              0.8888888888888888,
              "#fdca26"
             ],
             [
              1,
              "#f0f921"
             ]
            ],
            "type": "heatmap"
           }
          ],
          "heatmapgl": [
           {
            "colorbar": {
             "outlinewidth": 0,
             "ticks": ""
            },
            "colorscale": [
             [
              0,
              "#0d0887"
             ],
             [
              0.1111111111111111,
              "#46039f"
             ],
             [
              0.2222222222222222,
              "#7201a8"
             ],
             [
              0.3333333333333333,
              "#9c179e"
             ],
             [
              0.4444444444444444,
              "#bd3786"
             ],
             [
              0.5555555555555556,
              "#d8576b"
             ],
             [
              0.6666666666666666,
              "#ed7953"
             ],
             [
              0.7777777777777778,
              "#fb9f3a"
             ],
             [
              0.8888888888888888,
              "#fdca26"
             ],
             [
              1,
              "#f0f921"
             ]
            ],
            "type": "heatmapgl"
           }
          ],
          "histogram": [
           {
            "marker": {
             "pattern": {
              "fillmode": "overlay",
              "size": 10,
              "solidity": 0.2
             }
            },
            "type": "histogram"
           }
          ],
          "histogram2d": [
           {
            "colorbar": {
             "outlinewidth": 0,
             "ticks": ""
            },
            "colorscale": [
             [
              0,
              "#0d0887"
             ],
             [
              0.1111111111111111,
              "#46039f"
             ],
             [
              0.2222222222222222,
              "#7201a8"
             ],
             [
              0.3333333333333333,
              "#9c179e"
             ],
             [
              0.4444444444444444,
              "#bd3786"
             ],
             [
              0.5555555555555556,
              "#d8576b"
             ],
             [
              0.6666666666666666,
              "#ed7953"
             ],
             [
              0.7777777777777778,
              "#fb9f3a"
             ],
             [
              0.8888888888888888,
              "#fdca26"
             ],
             [
              1,
              "#f0f921"
             ]
            ],
            "type": "histogram2d"
           }
          ],
          "histogram2dcontour": [
           {
            "colorbar": {
             "outlinewidth": 0,
             "ticks": ""
            },
            "colorscale": [
             [
              0,
              "#0d0887"
             ],
             [
              0.1111111111111111,
              "#46039f"
             ],
             [
              0.2222222222222222,
              "#7201a8"
             ],
             [
              0.3333333333333333,
              "#9c179e"
             ],
             [
              0.4444444444444444,
              "#bd3786"
             ],
             [
              0.5555555555555556,
              "#d8576b"
             ],
             [
              0.6666666666666666,
              "#ed7953"
             ],
             [
              0.7777777777777778,
              "#fb9f3a"
             ],
             [
              0.8888888888888888,
              "#fdca26"
             ],
             [
              1,
              "#f0f921"
             ]
            ],
            "type": "histogram2dcontour"
           }
          ],
          "mesh3d": [
           {
            "colorbar": {
             "outlinewidth": 0,
             "ticks": ""
            },
            "type": "mesh3d"
           }
          ],
          "parcoords": [
           {
            "line": {
             "colorbar": {
              "outlinewidth": 0,
              "ticks": ""
             }
            },
            "type": "parcoords"
           }
          ],
          "pie": [
           {
            "automargin": true,
            "type": "pie"
           }
          ],
          "scatter": [
           {
            "fillpattern": {
             "fillmode": "overlay",
             "size": 10,
             "solidity": 0.2
            },
            "type": "scatter"
           }
          ],
          "scatter3d": [
           {
            "line": {
             "colorbar": {
              "outlinewidth": 0,
              "ticks": ""
             }
            },
            "marker": {
             "colorbar": {
              "outlinewidth": 0,
              "ticks": ""
             }
            },
            "type": "scatter3d"
           }
          ],
          "scattercarpet": [
           {
            "marker": {
             "colorbar": {
              "outlinewidth": 0,
              "ticks": ""
             }
            },
            "type": "scattercarpet"
           }
          ],
          "scattergeo": [
           {
            "marker": {
             "colorbar": {
              "outlinewidth": 0,
              "ticks": ""
             }
            },
            "type": "scattergeo"
           }
          ],
          "scattergl": [
           {
            "marker": {
             "colorbar": {
              "outlinewidth": 0,
              "ticks": ""
             }
            },
            "type": "scattergl"
           }
          ],
          "scattermapbox": [
           {
            "marker": {
             "colorbar": {
              "outlinewidth": 0,
              "ticks": ""
             }
            },
            "type": "scattermapbox"
           }
          ],
          "scatterpolar": [
           {
            "marker": {
             "colorbar": {
              "outlinewidth": 0,
              "ticks": ""
             }
            },
            "type": "scatterpolar"
           }
          ],
          "scatterpolargl": [
           {
            "marker": {
             "colorbar": {
              "outlinewidth": 0,
              "ticks": ""
             }
            },
            "type": "scatterpolargl"
           }
          ],
          "scatterternary": [
           {
            "marker": {
             "colorbar": {
              "outlinewidth": 0,
              "ticks": ""
             }
            },
            "type": "scatterternary"
           }
          ],
          "surface": [
           {
            "colorbar": {
             "outlinewidth": 0,
             "ticks": ""
            },
            "colorscale": [
             [
              0,
              "#0d0887"
             ],
             [
              0.1111111111111111,
              "#46039f"
             ],
             [
              0.2222222222222222,
              "#7201a8"
             ],
             [
              0.3333333333333333,
              "#9c179e"
             ],
             [
              0.4444444444444444,
              "#bd3786"
             ],
             [
              0.5555555555555556,
              "#d8576b"
             ],
             [
              0.6666666666666666,
              "#ed7953"
             ],
             [
              0.7777777777777778,
              "#fb9f3a"
             ],
             [
              0.8888888888888888,
              "#fdca26"
             ],
             [
              1,
              "#f0f921"
             ]
            ],
            "type": "surface"
           }
          ],
          "table": [
           {
            "cells": {
             "fill": {
              "color": "#EBF0F8"
             },
             "line": {
              "color": "white"
             }
            },
            "header": {
             "fill": {
              "color": "#C8D4E3"
             },
             "line": {
              "color": "white"
             }
            },
            "type": "table"
           }
          ]
         },
         "layout": {
          "annotationdefaults": {
           "arrowcolor": "#2a3f5f",
           "arrowhead": 0,
           "arrowwidth": 1
          },
          "autotypenumbers": "strict",
          "coloraxis": {
           "colorbar": {
            "outlinewidth": 0,
            "ticks": ""
           }
          },
          "colorscale": {
           "diverging": [
            [
             0,
             "#8e0152"
            ],
            [
             0.1,
             "#c51b7d"
            ],
            [
             0.2,
             "#de77ae"
            ],
            [
             0.3,
             "#f1b6da"
            ],
            [
             0.4,
             "#fde0ef"
            ],
            [
             0.5,
             "#f7f7f7"
            ],
            [
             0.6,
             "#e6f5d0"
            ],
            [
             0.7,
             "#b8e186"
            ],
            [
             0.8,
             "#7fbc41"
            ],
            [
             0.9,
             "#4d9221"
            ],
            [
             1,
             "#276419"
            ]
           ],
           "sequential": [
            [
             0,
             "#0d0887"
            ],
            [
             0.1111111111111111,
             "#46039f"
            ],
            [
             0.2222222222222222,
             "#7201a8"
            ],
            [
             0.3333333333333333,
             "#9c179e"
            ],
            [
             0.4444444444444444,
             "#bd3786"
            ],
            [
             0.5555555555555556,
             "#d8576b"
            ],
            [
             0.6666666666666666,
             "#ed7953"
            ],
            [
             0.7777777777777778,
             "#fb9f3a"
            ],
            [
             0.8888888888888888,
             "#fdca26"
            ],
            [
             1,
             "#f0f921"
            ]
           ],
           "sequentialminus": [
            [
             0,
             "#0d0887"
            ],
            [
             0.1111111111111111,
             "#46039f"
            ],
            [
             0.2222222222222222,
             "#7201a8"
            ],
            [
             0.3333333333333333,
             "#9c179e"
            ],
            [
             0.4444444444444444,
             "#bd3786"
            ],
            [
             0.5555555555555556,
             "#d8576b"
            ],
            [
             0.6666666666666666,
             "#ed7953"
            ],
            [
             0.7777777777777778,
             "#fb9f3a"
            ],
            [
             0.8888888888888888,
             "#fdca26"
            ],
            [
             1,
             "#f0f921"
            ]
           ]
          },
          "colorway": [
           "#636efa",
           "#EF553B",
           "#00cc96",
           "#ab63fa",
           "#FFA15A",
           "#19d3f3",
           "#FF6692",
           "#B6E880",
           "#FF97FF",
           "#FECB52"
          ],
          "font": {
           "color": "#2a3f5f"
          },
          "geo": {
           "bgcolor": "white",
           "lakecolor": "white",
           "landcolor": "#E5ECF6",
           "showlakes": true,
           "showland": true,
           "subunitcolor": "white"
          },
          "hoverlabel": {
           "align": "left"
          },
          "hovermode": "closest",
          "mapbox": {
           "style": "light"
          },
          "paper_bgcolor": "white",
          "plot_bgcolor": "#E5ECF6",
          "polar": {
           "angularaxis": {
            "gridcolor": "white",
            "linecolor": "white",
            "ticks": ""
           },
           "bgcolor": "#E5ECF6",
           "radialaxis": {
            "gridcolor": "white",
            "linecolor": "white",
            "ticks": ""
           }
          },
          "scene": {
           "xaxis": {
            "backgroundcolor": "#E5ECF6",
            "gridcolor": "white",
            "gridwidth": 2,
            "linecolor": "white",
            "showbackground": true,
            "ticks": "",
            "zerolinecolor": "white"
           },
           "yaxis": {
            "backgroundcolor": "#E5ECF6",
            "gridcolor": "white",
            "gridwidth": 2,
            "linecolor": "white",
            "showbackground": true,
            "ticks": "",
            "zerolinecolor": "white"
           },
           "zaxis": {
            "backgroundcolor": "#E5ECF6",
            "gridcolor": "white",
            "gridwidth": 2,
            "linecolor": "white",
            "showbackground": true,
            "ticks": "",
            "zerolinecolor": "white"
           }
          },
          "shapedefaults": {
           "line": {
            "color": "#2a3f5f"
           }
          },
          "ternary": {
           "aaxis": {
            "gridcolor": "white",
            "linecolor": "white",
            "ticks": ""
           },
           "baxis": {
            "gridcolor": "white",
            "linecolor": "white",
            "ticks": ""
           },
           "bgcolor": "#E5ECF6",
           "caxis": {
            "gridcolor": "white",
            "linecolor": "white",
            "ticks": ""
           }
          },
          "title": {
           "x": 0.05
          },
          "xaxis": {
           "automargin": true,
           "gridcolor": "white",
           "linecolor": "white",
           "ticks": "",
           "title": {
            "standoff": 15
           },
           "zerolinecolor": "white",
           "zerolinewidth": 2
          },
          "yaxis": {
           "automargin": true,
           "gridcolor": "white",
           "linecolor": "white",
           "ticks": "",
           "title": {
            "standoff": 15
           },
           "zerolinecolor": "white",
           "zerolinewidth": 2
          }
         }
        },
        "title": {
         "text": "[4GCP+18CP] Residuals at check points in Match-AT projects using different camera systems"
        },
        "xaxis": {
         "anchor": "y",
         "domain": [
          0,
          1
         ],
         "linecolor": "black",
         "linewidth": 1,
         "mirror": true,
         "showline": true,
         "zeroline": true
        },
        "xaxis2": {
         "anchor": "y2",
         "domain": [
          0,
          1
         ],
         "linecolor": "black",
         "linewidth": 1,
         "mirror": true,
         "showline": true,
         "zeroline": true
        },
        "xaxis3": {
         "anchor": "y3",
         "domain": [
          0,
          1
         ],
         "linecolor": "black",
         "linewidth": 1,
         "mirror": true,
         "showline": true,
         "zeroline": true
        },
        "yaxis": {
         "anchor": "x",
         "domain": [
          0.7777777777777778,
          1
         ],
         "dtick": 0.05,
         "gridcolor": "lightgray",
         "linecolor": "black",
         "linewidth": 1,
         "mirror": true,
         "range": [
          -0.15,
          0.15
         ],
         "showgrid": true,
         "showline": true,
         "zeroline": true,
         "zerolinecolor": "black",
         "zerolinewidth": 1
        },
        "yaxis2": {
         "anchor": "x2",
         "domain": [
          0.3888888888888889,
          0.6111111111111112
         ],
         "dtick": 0.05,
         "gridcolor": "lightgray",
         "linecolor": "black",
         "linewidth": 1,
         "mirror": true,
         "range": [
          -0.15,
          0.15
         ],
         "showgrid": true,
         "showline": true,
         "zeroline": true,
         "zerolinecolor": "black",
         "zerolinewidth": 1
        },
        "yaxis3": {
         "anchor": "x3",
         "domain": [
          0,
          0.22222222222222224
         ],
         "dtick": 0.05,
         "gridcolor": "lightgray",
         "linecolor": "black",
         "linewidth": 1,
         "mirror": true,
         "range": [
          -0.15,
          0.15
         ],
         "showgrid": true,
         "showline": true,
         "zeroline": true,
         "zerolinecolor": "black",
         "zerolinewidth": 1
        }
       }
      }
     },
     "metadata": {},
     "output_type": "display_data"
    }
   ],
   "source": [
    "\"\"\"[4GCP + 18 CP] Residual-SCATTERPLOT\"\"\"\n",
    "prj_4gcp_list = [prj_4GCP_uce_m3, prj_4GCP_uce_4,\n",
    "                 prj_4GCP_leica, prj_4GCP_igi]\n",
    "camera_names = [\"UCE-M3\", \"Camera A\", \"Camera B\", \"Camera C\"] #A: UCE-4.1, B: DMC-4, C: UM-2\n",
    "colors = ['green', 'navy', 'orange', 'red']\n",
    "\n",
    "fig = make_subplots(rows=3, cols=1, subplot_titles=[\n",
    "                    \"CP Residual-X\", \"CP Residual-Y\", \"CP Residual-Z\"])\n",
    "for prj, color, name in zip(prj_4gcp_list, colors, camera_names):\n",
    "    fig.append_trace(go.Scatter(\n",
    "        name=name,\n",
    "        x=[str(id) for id in prj.cp_id],\n",
    "        y=prj.cp_residual[:, 0],\n",
    "        marker_color=color,\n",
    "        legendgroup=name\n",
    "    ),\n",
    "        row=1,\n",
    "        col=1\n",
    "    )\n",
    "    fig.append_trace(go.Scatter(\n",
    "        name=name,\n",
    "        x=[str(id) for id in prj.cp_id],\n",
    "        y=prj.cp_residual[:, 1],\n",
    "        marker_color=color,\n",
    "        showlegend=False,\n",
    "        legendgroup=name\n",
    "    ),\n",
    "        row=2,\n",
    "        col=1\n",
    "    )\n",
    "    fig.append_trace(go.Scatter(\n",
    "        name=name,\n",
    "        x=[str(id) for id in prj.cp_id],\n",
    "        y=prj.cp_residual[:, 2],\n",
    "        marker_color=color,\n",
    "        showlegend=False,\n",
    "        legendgroup=name\n",
    "    ),\n",
    "        row=3,\n",
    "        col=1\n",
    "    )\n",
    "\n",
    "fig.update_traces(opacity=0.6)\n",
    "fig.update_layout(\n",
    "    title='[4GCP+18CP] Residuals at check points in Match-AT projects using different camera systems',\n",
    "    plot_bgcolor='white',\n",
    "    xaxis1={\"zeroline\": True, \"showline\": True,\n",
    "            \"linewidth\": 1, \"linecolor\": \"black\", \"mirror\": True},\n",
    "    yaxis1={\"range\": [-0.15, 0.15], \"dtick\": 0.05,\n",
    "            \"showgrid\": True, \"gridcolor\": \"lightgray\",\n",
    "            \"zeroline\": True, \"zerolinecolor\": 'black', \"zerolinewidth\": 1,\n",
    "            \"showline\": True, \"linewidth\": 1, \"linecolor\": \"black\", \"mirror\": True},\n",
    "    xaxis2={\"zeroline\": True, \"showline\": True,\n",
    "            \"linewidth\": 1, \"linecolor\": \"black\", \"mirror\": True},\n",
    "    yaxis2={\"range\": [-0.15, 0.15], \"dtick\": 0.05,\n",
    "            \"showgrid\": True, \"gridcolor\": \"lightgray\",\n",
    "            \"zeroline\": True, \"zerolinecolor\": 'black', \"zerolinewidth\": 1,\n",
    "            \"showline\": True, \"linewidth\": 1, \"linecolor\": \"black\", \"mirror\": True},\n",
    "    xaxis3={\"zeroline\": True, \"showline\": True,\n",
    "            \"linewidth\": 1, \"linecolor\": \"black\", \"mirror\": True},\n",
    "    yaxis3={\"range\": [-0.15, 0.15], \"dtick\": 0.05,\n",
    "            \"showgrid\": True, \"gridcolor\": \"lightgray\",\n",
    "            \"zeroline\": True, \"zerolinecolor\": 'black', \"zerolinewidth\": 1,\n",
    "            \"showline\": True, \"linewidth\": 1, \"linecolor\": \"black\", \"mirror\": True},\n",
    "    legend_tracegroupgap=20\n",
    ")\n",
    "fig.update_xaxes = {\n",
    "    \"dtick\": 0.2,\n",
    "    \"showgrid\": False,\n",
    "    \"zeroline\": False\n",
    "}\n",
    "fig.show()\n",
    "fig.write_html(\"./Results/4+18/CP_Residuals-4gcp+18cp_highweight.html\")"
   ]
  },
  {
   "cell_type": "code",
   "execution_count": 65,
   "metadata": {},
   "outputs": [
    {
     "data": {
      "application/vnd.plotly.v1+json": {
       "config": {
        "plotlyServerURL": "https://plot.ly"
       },
       "data": [
        {
         "cliponaxis": false,
         "legendgroup": "UCE-M3",
         "marker": {
          "color": "green"
         },
         "name": "UCE-M3",
         "opacity": 0.6,
         "showlegend": true,
         "text": [
          "0.031",
          "0.022",
          "0.047"
         ],
         "textangle": 0,
         "textfont": {
          "color": "black",
          "size": 15
         },
         "textposition": "outside",
         "type": "bar",
         "x": [
          "RMSE-X",
          "RMSE-Y",
          "RMSE-Z"
         ],
         "y": [
          0.031,
          0.022,
          0.047
         ]
        },
        {
         "cliponaxis": false,
         "legendgroup": "Camera A",
         "marker": {
          "color": "navy"
         },
         "name": "Camera A",
         "opacity": 0.6,
         "showlegend": true,
         "text": [
          "0.021",
          "0.018",
          "0.061"
         ],
         "textangle": 0,
         "textfont": {
          "color": "black",
          "size": 15
         },
         "textposition": "outside",
         "type": "bar",
         "x": [
          "RMSE-X",
          "RMSE-Y",
          "RMSE-Z"
         ],
         "y": [
          0.021,
          0.018,
          0.061
         ]
        },
        {
         "cliponaxis": false,
         "legendgroup": "Camera B",
         "marker": {
          "color": "orange"
         },
         "name": "Camera B",
         "opacity": 0.6,
         "showlegend": true,
         "text": [
          "0.037",
          "0.036",
          "0.053"
         ],
         "textangle": 0,
         "textfont": {
          "color": "black",
          "size": 15
         },
         "textposition": "outside",
         "type": "bar",
         "x": [
          "RMSE-X",
          "RMSE-Y",
          "RMSE-Z"
         ],
         "y": [
          0.037,
          0.036,
          0.053
         ]
        },
        {
         "cliponaxis": false,
         "legendgroup": "Camera C",
         "marker": {
          "color": "red"
         },
         "name": "Camera C",
         "opacity": 0.6,
         "showlegend": true,
         "text": [
          "0.049",
          "0.028",
          "0.053"
         ],
         "textangle": 0,
         "textfont": {
          "color": "black",
          "size": 15
         },
         "textposition": "outside",
         "type": "bar",
         "x": [
          "RMSE-X",
          "RMSE-Y",
          "RMSE-Z"
         ],
         "y": [
          0.049,
          0.028,
          0.053
         ]
        }
       ],
       "layout": {
        "legend": {
         "tracegroupgap": 20
        },
        "plot_bgcolor": "white",
        "template": {
         "data": {
          "bar": [
           {
            "error_x": {
             "color": "#2a3f5f"
            },
            "error_y": {
             "color": "#2a3f5f"
            },
            "marker": {
             "line": {
              "color": "#E5ECF6",
              "width": 0.5
             },
             "pattern": {
              "fillmode": "overlay",
              "size": 10,
              "solidity": 0.2
             }
            },
            "type": "bar"
           }
          ],
          "barpolar": [
           {
            "marker": {
             "line": {
              "color": "#E5ECF6",
              "width": 0.5
             },
             "pattern": {
              "fillmode": "overlay",
              "size": 10,
              "solidity": 0.2
             }
            },
            "type": "barpolar"
           }
          ],
          "carpet": [
           {
            "aaxis": {
             "endlinecolor": "#2a3f5f",
             "gridcolor": "white",
             "linecolor": "white",
             "minorgridcolor": "white",
             "startlinecolor": "#2a3f5f"
            },
            "baxis": {
             "endlinecolor": "#2a3f5f",
             "gridcolor": "white",
             "linecolor": "white",
             "minorgridcolor": "white",
             "startlinecolor": "#2a3f5f"
            },
            "type": "carpet"
           }
          ],
          "choropleth": [
           {
            "colorbar": {
             "outlinewidth": 0,
             "ticks": ""
            },
            "type": "choropleth"
           }
          ],
          "contour": [
           {
            "colorbar": {
             "outlinewidth": 0,
             "ticks": ""
            },
            "colorscale": [
             [
              0,
              "#0d0887"
             ],
             [
              0.1111111111111111,
              "#46039f"
             ],
             [
              0.2222222222222222,
              "#7201a8"
             ],
             [
              0.3333333333333333,
              "#9c179e"
             ],
             [
              0.4444444444444444,
              "#bd3786"
             ],
             [
              0.5555555555555556,
              "#d8576b"
             ],
             [
              0.6666666666666666,
              "#ed7953"
             ],
             [
              0.7777777777777778,
              "#fb9f3a"
             ],
             [
              0.8888888888888888,
              "#fdca26"
             ],
             [
              1,
              "#f0f921"
             ]
            ],
            "type": "contour"
           }
          ],
          "contourcarpet": [
           {
            "colorbar": {
             "outlinewidth": 0,
             "ticks": ""
            },
            "type": "contourcarpet"
           }
          ],
          "heatmap": [
           {
            "colorbar": {
             "outlinewidth": 0,
             "ticks": ""
            },
            "colorscale": [
             [
              0,
              "#0d0887"
             ],
             [
              0.1111111111111111,
              "#46039f"
             ],
             [
              0.2222222222222222,
              "#7201a8"
             ],
             [
              0.3333333333333333,
              "#9c179e"
             ],
             [
              0.4444444444444444,
              "#bd3786"
             ],
             [
              0.5555555555555556,
              "#d8576b"
             ],
             [
              0.6666666666666666,
              "#ed7953"
             ],
             [
              0.7777777777777778,
              "#fb9f3a"
             ],
             [
              0.8888888888888888,
              "#fdca26"
             ],
             [
              1,
              "#f0f921"
             ]
            ],
            "type": "heatmap"
           }
          ],
          "heatmapgl": [
           {
            "colorbar": {
             "outlinewidth": 0,
             "ticks": ""
            },
            "colorscale": [
             [
              0,
              "#0d0887"
             ],
             [
              0.1111111111111111,
              "#46039f"
             ],
             [
              0.2222222222222222,
              "#7201a8"
             ],
             [
              0.3333333333333333,
              "#9c179e"
             ],
             [
              0.4444444444444444,
              "#bd3786"
             ],
             [
              0.5555555555555556,
              "#d8576b"
             ],
             [
              0.6666666666666666,
              "#ed7953"
             ],
             [
              0.7777777777777778,
              "#fb9f3a"
             ],
             [
              0.8888888888888888,
              "#fdca26"
             ],
             [
              1,
              "#f0f921"
             ]
            ],
            "type": "heatmapgl"
           }
          ],
          "histogram": [
           {
            "marker": {
             "pattern": {
              "fillmode": "overlay",
              "size": 10,
              "solidity": 0.2
             }
            },
            "type": "histogram"
           }
          ],
          "histogram2d": [
           {
            "colorbar": {
             "outlinewidth": 0,
             "ticks": ""
            },
            "colorscale": [
             [
              0,
              "#0d0887"
             ],
             [
              0.1111111111111111,
              "#46039f"
             ],
             [
              0.2222222222222222,
              "#7201a8"
             ],
             [
              0.3333333333333333,
              "#9c179e"
             ],
             [
              0.4444444444444444,
              "#bd3786"
             ],
             [
              0.5555555555555556,
              "#d8576b"
             ],
             [
              0.6666666666666666,
              "#ed7953"
             ],
             [
              0.7777777777777778,
              "#fb9f3a"
             ],
             [
              0.8888888888888888,
              "#fdca26"
             ],
             [
              1,
              "#f0f921"
             ]
            ],
            "type": "histogram2d"
           }
          ],
          "histogram2dcontour": [
           {
            "colorbar": {
             "outlinewidth": 0,
             "ticks": ""
            },
            "colorscale": [
             [
              0,
              "#0d0887"
             ],
             [
              0.1111111111111111,
              "#46039f"
             ],
             [
              0.2222222222222222,
              "#7201a8"
             ],
             [
              0.3333333333333333,
              "#9c179e"
             ],
             [
              0.4444444444444444,
              "#bd3786"
             ],
             [
              0.5555555555555556,
              "#d8576b"
             ],
             [
              0.6666666666666666,
              "#ed7953"
             ],
             [
              0.7777777777777778,
              "#fb9f3a"
             ],
             [
              0.8888888888888888,
              "#fdca26"
             ],
             [
              1,
              "#f0f921"
             ]
            ],
            "type": "histogram2dcontour"
           }
          ],
          "mesh3d": [
           {
            "colorbar": {
             "outlinewidth": 0,
             "ticks": ""
            },
            "type": "mesh3d"
           }
          ],
          "parcoords": [
           {
            "line": {
             "colorbar": {
              "outlinewidth": 0,
              "ticks": ""
             }
            },
            "type": "parcoords"
           }
          ],
          "pie": [
           {
            "automargin": true,
            "type": "pie"
           }
          ],
          "scatter": [
           {
            "fillpattern": {
             "fillmode": "overlay",
             "size": 10,
             "solidity": 0.2
            },
            "type": "scatter"
           }
          ],
          "scatter3d": [
           {
            "line": {
             "colorbar": {
              "outlinewidth": 0,
              "ticks": ""
             }
            },
            "marker": {
             "colorbar": {
              "outlinewidth": 0,
              "ticks": ""
             }
            },
            "type": "scatter3d"
           }
          ],
          "scattercarpet": [
           {
            "marker": {
             "colorbar": {
              "outlinewidth": 0,
              "ticks": ""
             }
            },
            "type": "scattercarpet"
           }
          ],
          "scattergeo": [
           {
            "marker": {
             "colorbar": {
              "outlinewidth": 0,
              "ticks": ""
             }
            },
            "type": "scattergeo"
           }
          ],
          "scattergl": [
           {
            "marker": {
             "colorbar": {
              "outlinewidth": 0,
              "ticks": ""
             }
            },
            "type": "scattergl"
           }
          ],
          "scattermapbox": [
           {
            "marker": {
             "colorbar": {
              "outlinewidth": 0,
              "ticks": ""
             }
            },
            "type": "scattermapbox"
           }
          ],
          "scatterpolar": [
           {
            "marker": {
             "colorbar": {
              "outlinewidth": 0,
              "ticks": ""
             }
            },
            "type": "scatterpolar"
           }
          ],
          "scatterpolargl": [
           {
            "marker": {
             "colorbar": {
              "outlinewidth": 0,
              "ticks": ""
             }
            },
            "type": "scatterpolargl"
           }
          ],
          "scatterternary": [
           {
            "marker": {
             "colorbar": {
              "outlinewidth": 0,
              "ticks": ""
             }
            },
            "type": "scatterternary"
           }
          ],
          "surface": [
           {
            "colorbar": {
             "outlinewidth": 0,
             "ticks": ""
            },
            "colorscale": [
             [
              0,
              "#0d0887"
             ],
             [
              0.1111111111111111,
              "#46039f"
             ],
             [
              0.2222222222222222,
              "#7201a8"
             ],
             [
              0.3333333333333333,
              "#9c179e"
             ],
             [
              0.4444444444444444,
              "#bd3786"
             ],
             [
              0.5555555555555556,
              "#d8576b"
             ],
             [
              0.6666666666666666,
              "#ed7953"
             ],
             [
              0.7777777777777778,
              "#fb9f3a"
             ],
             [
              0.8888888888888888,
              "#fdca26"
             ],
             [
              1,
              "#f0f921"
             ]
            ],
            "type": "surface"
           }
          ],
          "table": [
           {
            "cells": {
             "fill": {
              "color": "#EBF0F8"
             },
             "line": {
              "color": "white"
             }
            },
            "header": {
             "fill": {
              "color": "#C8D4E3"
             },
             "line": {
              "color": "white"
             }
            },
            "type": "table"
           }
          ]
         },
         "layout": {
          "annotationdefaults": {
           "arrowcolor": "#2a3f5f",
           "arrowhead": 0,
           "arrowwidth": 1
          },
          "autotypenumbers": "strict",
          "coloraxis": {
           "colorbar": {
            "outlinewidth": 0,
            "ticks": ""
           }
          },
          "colorscale": {
           "diverging": [
            [
             0,
             "#8e0152"
            ],
            [
             0.1,
             "#c51b7d"
            ],
            [
             0.2,
             "#de77ae"
            ],
            [
             0.3,
             "#f1b6da"
            ],
            [
             0.4,
             "#fde0ef"
            ],
            [
             0.5,
             "#f7f7f7"
            ],
            [
             0.6,
             "#e6f5d0"
            ],
            [
             0.7,
             "#b8e186"
            ],
            [
             0.8,
             "#7fbc41"
            ],
            [
             0.9,
             "#4d9221"
            ],
            [
             1,
             "#276419"
            ]
           ],
           "sequential": [
            [
             0,
             "#0d0887"
            ],
            [
             0.1111111111111111,
             "#46039f"
            ],
            [
             0.2222222222222222,
             "#7201a8"
            ],
            [
             0.3333333333333333,
             "#9c179e"
            ],
            [
             0.4444444444444444,
             "#bd3786"
            ],
            [
             0.5555555555555556,
             "#d8576b"
            ],
            [
             0.6666666666666666,
             "#ed7953"
            ],
            [
             0.7777777777777778,
             "#fb9f3a"
            ],
            [
             0.8888888888888888,
             "#fdca26"
            ],
            [
             1,
             "#f0f921"
            ]
           ],
           "sequentialminus": [
            [
             0,
             "#0d0887"
            ],
            [
             0.1111111111111111,
             "#46039f"
            ],
            [
             0.2222222222222222,
             "#7201a8"
            ],
            [
             0.3333333333333333,
             "#9c179e"
            ],
            [
             0.4444444444444444,
             "#bd3786"
            ],
            [
             0.5555555555555556,
             "#d8576b"
            ],
            [
             0.6666666666666666,
             "#ed7953"
            ],
            [
             0.7777777777777778,
             "#fb9f3a"
            ],
            [
             0.8888888888888888,
             "#fdca26"
            ],
            [
             1,
             "#f0f921"
            ]
           ]
          },
          "colorway": [
           "#636efa",
           "#EF553B",
           "#00cc96",
           "#ab63fa",
           "#FFA15A",
           "#19d3f3",
           "#FF6692",
           "#B6E880",
           "#FF97FF",
           "#FECB52"
          ],
          "font": {
           "color": "#2a3f5f"
          },
          "geo": {
           "bgcolor": "white",
           "lakecolor": "white",
           "landcolor": "#E5ECF6",
           "showlakes": true,
           "showland": true,
           "subunitcolor": "white"
          },
          "hoverlabel": {
           "align": "left"
          },
          "hovermode": "closest",
          "mapbox": {
           "style": "light"
          },
          "paper_bgcolor": "white",
          "plot_bgcolor": "#E5ECF6",
          "polar": {
           "angularaxis": {
            "gridcolor": "white",
            "linecolor": "white",
            "ticks": ""
           },
           "bgcolor": "#E5ECF6",
           "radialaxis": {
            "gridcolor": "white",
            "linecolor": "white",
            "ticks": ""
           }
          },
          "scene": {
           "xaxis": {
            "backgroundcolor": "#E5ECF6",
            "gridcolor": "white",
            "gridwidth": 2,
            "linecolor": "white",
            "showbackground": true,
            "ticks": "",
            "zerolinecolor": "white"
           },
           "yaxis": {
            "backgroundcolor": "#E5ECF6",
            "gridcolor": "white",
            "gridwidth": 2,
            "linecolor": "white",
            "showbackground": true,
            "ticks": "",
            "zerolinecolor": "white"
           },
           "zaxis": {
            "backgroundcolor": "#E5ECF6",
            "gridcolor": "white",
            "gridwidth": 2,
            "linecolor": "white",
            "showbackground": true,
            "ticks": "",
            "zerolinecolor": "white"
           }
          },
          "shapedefaults": {
           "line": {
            "color": "#2a3f5f"
           }
          },
          "ternary": {
           "aaxis": {
            "gridcolor": "white",
            "linecolor": "white",
            "ticks": ""
           },
           "baxis": {
            "gridcolor": "white",
            "linecolor": "white",
            "ticks": ""
           },
           "bgcolor": "#E5ECF6",
           "caxis": {
            "gridcolor": "white",
            "linecolor": "white",
            "ticks": ""
           }
          },
          "title": {
           "x": 0.05
          },
          "xaxis": {
           "automargin": true,
           "gridcolor": "white",
           "linecolor": "white",
           "ticks": "",
           "title": {
            "standoff": 15
           },
           "zerolinecolor": "white",
           "zerolinewidth": 2
          },
          "yaxis": {
           "automargin": true,
           "gridcolor": "white",
           "linecolor": "white",
           "ticks": "",
           "title": {
            "standoff": 15
           },
           "zerolinecolor": "white",
           "zerolinewidth": 2
          }
         }
        },
        "title": {
         "text": "[15GCP+18CP] RMSE at check points in Match-AT projects using different camera systems"
        },
        "xaxis": {
         "linecolor": "black",
         "linewidth": 1,
         "mirror": true,
         "showgrid": false,
         "showline": true,
         "zeroline": false
        },
        "yaxis": {
         "gridcolor": "lightgray",
         "linecolor": "black",
         "linewidth": 1,
         "mirror": true,
         "range": [
          0,
          0.1
         ],
         "showgrid": true,
         "showline": true,
         "zeroline": false
        }
       }
      }
     },
     "metadata": {},
     "output_type": "display_data"
    }
   ],
   "source": [
    "\"\"\" Lower Weight [15GCP + 18 CP] RMSE-BARPLOT\"\"\"\n",
    "# [15GCP+18CP] Bar subplot of RMSE - x/y/z\n",
    "\"\"\" \n",
    "Compare the results from Inpho projets with Match-AT setting: GNSS and shifts for all on, IMU on. Earth curvature and Refraction correction: on\n",
    "\"\"\"\n",
    "\n",
    "prj_15gcp_list_LW = [prj_15GCP_uce_m3_LW, prj_15GCP_uce_4_LW,\n",
    "                     prj_15GCP_leica_LW, prj_15GCP_igi_LW]\n",
    "fig = go.Figure()\n",
    "camera_names = [\"UCE-M3\", \"Camera A\", \"Camera B\", \"Camera C\"] #A: UCE-4.1, B: DMC-4, C: UM-2\n",
    "colors = ['green', 'navy', 'orange', 'red']\n",
    "x_axis = ['RMSE-X', 'RMSE-Y', 'RMSE-Z']\n",
    "\n",
    "for prj, color, name in zip(prj_15gcp_list_LW, colors, camera_names):\n",
    "    fig.add_trace(go.Bar(\n",
    "        name=name,\n",
    "        x=x_axis,\n",
    "        y=prj.cp_RMS,\n",
    "        marker_color=color,\n",
    "        text=[str(num) for num in prj.cp_RMS],\n",
    "        textposition=\"inside\",\n",
    "        legendgroup=name,\n",
    "        showlegend=True\n",
    "    )\n",
    "    )\n",
    "\n",
    "\n",
    "fig.update_traces(opacity=0.6, textfont_size=15, textfont_color='black',textangle=0, textposition=\"outside\", cliponaxis=False)\n",
    "fig.update_layout(\n",
    "    title='[15GCP+18CP] RMSE at check points in Match-AT projects using different camera systems',\n",
    "    xaxis={\"showgrid\": False, \"zeroline\": False},\n",
    "    yaxis={\"showgrid\": True, \"zeroline\": False, \"range\": [0, 0.1]},\n",
    "    legend_tracegroupgap=20,\n",
    "    plot_bgcolor='white'\n",
    ")\n",
    "fig.update_xaxes(showline=True, linewidth=1, linecolor='black', mirror=True)\n",
    "fig.update_yaxes(showgrid=True, gridcolor='lightgray',\n",
    "                 showline=True, linewidth=1, linecolor='black', mirror=True)\n",
    "fig.show()\n",
    "fig.write_html(\"./Results/15+18/CP_RMS-15gcp+18cp_lowweight.html\")"
   ]
  },
  {
   "cell_type": "code",
   "execution_count": 66,
   "metadata": {},
   "outputs": [
    {
     "data": {
      "application/vnd.plotly.v1+json": {
       "config": {
        "plotlyServerURL": "https://plot.ly"
       },
       "data": [
        {
         "legendgroup": "UCE-M3",
         "marker": {
          "color": "green"
         },
         "name": "UCE-M3",
         "opacity": 0.6,
         "type": "scatter",
         "x": [
          "101",
          "102",
          "105",
          "108",
          "109",
          "111",
          "112",
          "115",
          "118",
          "119",
          "121",
          "122",
          "124",
          "125",
          "127",
          "128",
          "130",
          "131"
         ],
         "xaxis": "x",
         "y": [
          0.015,
          0.02,
          0.012,
          0.06,
          0.045,
          0.031,
          0.054,
          0.012,
          -0.007,
          -0.034,
          -0.008,
          -0.022,
          0.013,
          0,
          0.011,
          0.054,
          0.028,
          0.036
         ],
         "yaxis": "y"
        },
        {
         "legendgroup": "UCE-M3",
         "marker": {
          "color": "green"
         },
         "name": "UCE-M3",
         "opacity": 0.6,
         "showlegend": false,
         "type": "scatter",
         "x": [
          "101",
          "102",
          "105",
          "108",
          "109",
          "111",
          "112",
          "115",
          "118",
          "119",
          "121",
          "122",
          "124",
          "125",
          "127",
          "128",
          "130",
          "131"
         ],
         "xaxis": "x2",
         "y": [
          -0.016,
          -0.002,
          -0.019,
          0,
          -0.004,
          0.004,
          0.008,
          0.032,
          0.043,
          0.059,
          0.002,
          0.019,
          0.006,
          -0.035,
          -0.008,
          -0.001,
          -0.008,
          -0.005
         ],
         "yaxis": "y2"
        },
        {
         "legendgroup": "UCE-M3",
         "marker": {
          "color": "green"
         },
         "name": "UCE-M3",
         "opacity": 0.6,
         "showlegend": false,
         "type": "scatter",
         "x": [
          "101",
          "102",
          "105",
          "108",
          "109",
          "111",
          "112",
          "115",
          "118",
          "119",
          "121",
          "122",
          "124",
          "125",
          "127",
          "128",
          "130",
          "131"
         ],
         "xaxis": "x3",
         "y": [
          0.031,
          0.09,
          -0.033,
          -0.083,
          0.024,
          -0.006,
          -0.03,
          -0.052,
          -0.067,
          -0.006,
          -0.029,
          0.002,
          0.002,
          0.028,
          -0.015,
          -0.103,
          -0.036,
          0.004
         ],
         "yaxis": "y3"
        },
        {
         "legendgroup": "Camera A",
         "marker": {
          "color": "navy"
         },
         "name": "Camera A",
         "opacity": 0.6,
         "type": "scatter",
         "x": [
          "101",
          "102",
          "105",
          "108",
          "109",
          "111",
          "112",
          "115",
          "118",
          "119",
          "121",
          "122",
          "124",
          "125",
          "127",
          "128",
          "130",
          "131"
         ],
         "xaxis": "x",
         "y": [
          0.021,
          0.034,
          0.014,
          0.024,
          0.032,
          0.006,
          0.039,
          0.008,
          0.041,
          0.017,
          -0.009,
          -0.005,
          -0.012,
          -0.012,
          -0.009,
          -0.007,
          -0.011,
          -0.002
         ],
         "yaxis": "y"
        },
        {
         "legendgroup": "Camera A",
         "marker": {
          "color": "navy"
         },
         "name": "Camera A",
         "opacity": 0.6,
         "showlegend": false,
         "type": "scatter",
         "x": [
          "101",
          "102",
          "105",
          "108",
          "109",
          "111",
          "112",
          "115",
          "118",
          "119",
          "121",
          "122",
          "124",
          "125",
          "127",
          "128",
          "130",
          "131"
         ],
         "xaxis": "x2",
         "y": [
          -0.021,
          -0.028,
          0.005,
          0.039,
          0.032,
          0.006,
          -0.009,
          0.01,
          0.018,
          0.01,
          -0.012,
          0.001,
          0.022,
          -0.01,
          0.015,
          0.004,
          -0.001,
          -0.012
         ],
         "yaxis": "y2"
        },
        {
         "legendgroup": "Camera A",
         "marker": {
          "color": "navy"
         },
         "name": "Camera A",
         "opacity": 0.6,
         "showlegend": false,
         "type": "scatter",
         "x": [
          "101",
          "102",
          "105",
          "108",
          "109",
          "111",
          "112",
          "115",
          "118",
          "119",
          "121",
          "122",
          "124",
          "125",
          "127",
          "128",
          "130",
          "131"
         ],
         "xaxis": "x3",
         "y": [
          0.049,
          0.063,
          0.008,
          -0.045,
          -0.112,
          -0.101,
          -0.123,
          0.03,
          0.107,
          0.025,
          0.006,
          0.048,
          0.021,
          0.057,
          0.022,
          -0.019,
          -0.015,
          0.039
         ],
         "yaxis": "y3"
        },
        {
         "legendgroup": "Camera B",
         "marker": {
          "color": "orange"
         },
         "name": "Camera B",
         "opacity": 0.6,
         "type": "scatter",
         "x": [
          "101",
          "102",
          "105",
          "108",
          "109",
          "111",
          "112",
          "115",
          "118",
          "119",
          "121",
          "122",
          "124",
          "125",
          "127",
          "128",
          "130",
          "131"
         ],
         "xaxis": "x",
         "y": [
          -0.048,
          -0.043,
          0.007,
          0.072,
          0.062,
          0.033,
          0.05,
          -0.017,
          -0.037,
          -0.025,
          -0.036,
          -0.007,
          -0.021,
          -0.048,
          0.009,
          -0.021,
          0.009,
          0.026
         ],
         "yaxis": "y"
        },
        {
         "legendgroup": "Camera B",
         "marker": {
          "color": "orange"
         },
         "name": "Camera B",
         "opacity": 0.6,
         "showlegend": false,
         "type": "scatter",
         "x": [
          "101",
          "102",
          "105",
          "108",
          "109",
          "111",
          "112",
          "115",
          "118",
          "119",
          "121",
          "122",
          "124",
          "125",
          "127",
          "128",
          "130",
          "131"
         ],
         "xaxis": "x2",
         "y": [
          0.021,
          0.016,
          0.042,
          0.028,
          0.018,
          -0.095,
          -0.067,
          -0.016,
          0.036,
          0.027,
          0.018,
          0.011,
          0.04,
          -0.039,
          0.013,
          -0.026,
          -0.009,
          -0.004
         ],
         "yaxis": "y2"
        },
        {
         "legendgroup": "Camera B",
         "marker": {
          "color": "orange"
         },
         "name": "Camera B",
         "opacity": 0.6,
         "showlegend": false,
         "type": "scatter",
         "x": [
          "101",
          "102",
          "105",
          "108",
          "109",
          "111",
          "112",
          "115",
          "118",
          "119",
          "121",
          "122",
          "124",
          "125",
          "127",
          "128",
          "130",
          "131"
         ],
         "xaxis": "x3",
         "y": [
          0.033,
          0.041,
          -0.068,
          -0.051,
          0.007,
          -0.005,
          -0.022,
          -0.02,
          0.036,
          0.095,
          -0.038,
          -0.061,
          -0.095,
          -0.036,
          -0.072,
          -0.078,
          -0.047,
          -0.006
         ],
         "yaxis": "y3"
        },
        {
         "legendgroup": "Camera C",
         "marker": {
          "color": "red"
         },
         "name": "Camera C",
         "opacity": 0.6,
         "type": "scatter",
         "x": [
          "101",
          "102",
          "105",
          "108",
          "109",
          "111",
          "112",
          "115",
          "118",
          "119",
          "121",
          "122",
          "124",
          "125",
          "127",
          "128",
          "130",
          "131"
         ],
         "xaxis": "x",
         "y": [
          0.095,
          0.099,
          0.008,
          -0.027,
          -0.017,
          -0.067,
          -0.041,
          -0.023,
          0.059,
          0.054,
          0.025,
          0.017,
          0.019,
          -0.025,
          -0.015,
          -0.062,
          -0.049,
          -0.041
         ],
         "yaxis": "y"
        },
        {
         "legendgroup": "Camera C",
         "marker": {
          "color": "red"
         },
         "name": "Camera C",
         "opacity": 0.6,
         "showlegend": false,
         "type": "scatter",
         "x": [
          "101",
          "102",
          "105",
          "108",
          "109",
          "111",
          "112",
          "115",
          "118",
          "119",
          "121",
          "122",
          "124",
          "125",
          "127",
          "128",
          "130",
          "131"
         ],
         "xaxis": "x2",
         "y": [
          0,
          0.025,
          0.049,
          0.074,
          -0.007,
          -0.042,
          -0.033,
          0.009,
          0,
          -0.007,
          0.009,
          -0.008,
          0.025,
          -0.024,
          0.017,
          -0.006,
          -0.006,
          0.024
         ],
         "yaxis": "y2"
        },
        {
         "legendgroup": "Camera C",
         "marker": {
          "color": "red"
         },
         "name": "Camera C",
         "opacity": 0.6,
         "showlegend": false,
         "type": "scatter",
         "x": [
          "101",
          "102",
          "105",
          "108",
          "109",
          "111",
          "112",
          "115",
          "118",
          "119",
          "121",
          "122",
          "124",
          "125",
          "127",
          "128",
          "130",
          "131"
         ],
         "xaxis": "x3",
         "y": [
          -0.021,
          -0.04,
          -0.024,
          -0.087,
          -0.038,
          -0.085,
          -0.083,
          -0.03,
          -0.023,
          -0.001,
          0.056,
          0.043,
          0.037,
          0.075,
          0.048,
          0.093,
          0.021,
          0.029
         ],
         "yaxis": "y3"
        }
       ],
       "layout": {
        "annotations": [
         {
          "font": {
           "size": 16
          },
          "showarrow": false,
          "text": "CP Residual-X",
          "x": 0.5,
          "xanchor": "center",
          "xref": "paper",
          "y": 1,
          "yanchor": "bottom",
          "yref": "paper"
         },
         {
          "font": {
           "size": 16
          },
          "showarrow": false,
          "text": "CP Residual-Y",
          "x": 0.5,
          "xanchor": "center",
          "xref": "paper",
          "y": 0.6111111111111112,
          "yanchor": "bottom",
          "yref": "paper"
         },
         {
          "font": {
           "size": 16
          },
          "showarrow": false,
          "text": "CP Residual-Z",
          "x": 0.5,
          "xanchor": "center",
          "xref": "paper",
          "y": 0.22222222222222224,
          "yanchor": "bottom",
          "yref": "paper"
         }
        ],
        "legend": {
         "tracegroupgap": 20
        },
        "plot_bgcolor": "white",
        "template": {
         "data": {
          "bar": [
           {
            "error_x": {
             "color": "#2a3f5f"
            },
            "error_y": {
             "color": "#2a3f5f"
            },
            "marker": {
             "line": {
              "color": "#E5ECF6",
              "width": 0.5
             },
             "pattern": {
              "fillmode": "overlay",
              "size": 10,
              "solidity": 0.2
             }
            },
            "type": "bar"
           }
          ],
          "barpolar": [
           {
            "marker": {
             "line": {
              "color": "#E5ECF6",
              "width": 0.5
             },
             "pattern": {
              "fillmode": "overlay",
              "size": 10,
              "solidity": 0.2
             }
            },
            "type": "barpolar"
           }
          ],
          "carpet": [
           {
            "aaxis": {
             "endlinecolor": "#2a3f5f",
             "gridcolor": "white",
             "linecolor": "white",
             "minorgridcolor": "white",
             "startlinecolor": "#2a3f5f"
            },
            "baxis": {
             "endlinecolor": "#2a3f5f",
             "gridcolor": "white",
             "linecolor": "white",
             "minorgridcolor": "white",
             "startlinecolor": "#2a3f5f"
            },
            "type": "carpet"
           }
          ],
          "choropleth": [
           {
            "colorbar": {
             "outlinewidth": 0,
             "ticks": ""
            },
            "type": "choropleth"
           }
          ],
          "contour": [
           {
            "colorbar": {
             "outlinewidth": 0,
             "ticks": ""
            },
            "colorscale": [
             [
              0,
              "#0d0887"
             ],
             [
              0.1111111111111111,
              "#46039f"
             ],
             [
              0.2222222222222222,
              "#7201a8"
             ],
             [
              0.3333333333333333,
              "#9c179e"
             ],
             [
              0.4444444444444444,
              "#bd3786"
             ],
             [
              0.5555555555555556,
              "#d8576b"
             ],
             [
              0.6666666666666666,
              "#ed7953"
             ],
             [
              0.7777777777777778,
              "#fb9f3a"
             ],
             [
              0.8888888888888888,
              "#fdca26"
             ],
             [
              1,
              "#f0f921"
             ]
            ],
            "type": "contour"
           }
          ],
          "contourcarpet": [
           {
            "colorbar": {
             "outlinewidth": 0,
             "ticks": ""
            },
            "type": "contourcarpet"
           }
          ],
          "heatmap": [
           {
            "colorbar": {
             "outlinewidth": 0,
             "ticks": ""
            },
            "colorscale": [
             [
              0,
              "#0d0887"
             ],
             [
              0.1111111111111111,
              "#46039f"
             ],
             [
              0.2222222222222222,
              "#7201a8"
             ],
             [
              0.3333333333333333,
              "#9c179e"
             ],
             [
              0.4444444444444444,
              "#bd3786"
             ],
             [
              0.5555555555555556,
              "#d8576b"
             ],
             [
              0.6666666666666666,
              "#ed7953"
             ],
             [
              0.7777777777777778,
              "#fb9f3a"
             ],
             [
              0.8888888888888888,
              "#fdca26"
             ],
             [
              1,
              "#f0f921"
             ]
            ],
            "type": "heatmap"
           }
          ],
          "heatmapgl": [
           {
            "colorbar": {
             "outlinewidth": 0,
             "ticks": ""
            },
            "colorscale": [
             [
              0,
              "#0d0887"
             ],
             [
              0.1111111111111111,
              "#46039f"
             ],
             [
              0.2222222222222222,
              "#7201a8"
             ],
             [
              0.3333333333333333,
              "#9c179e"
             ],
             [
              0.4444444444444444,
              "#bd3786"
             ],
             [
              0.5555555555555556,
              "#d8576b"
             ],
             [
              0.6666666666666666,
              "#ed7953"
             ],
             [
              0.7777777777777778,
              "#fb9f3a"
             ],
             [
              0.8888888888888888,
              "#fdca26"
             ],
             [
              1,
              "#f0f921"
             ]
            ],
            "type": "heatmapgl"
           }
          ],
          "histogram": [
           {
            "marker": {
             "pattern": {
              "fillmode": "overlay",
              "size": 10,
              "solidity": 0.2
             }
            },
            "type": "histogram"
           }
          ],
          "histogram2d": [
           {
            "colorbar": {
             "outlinewidth": 0,
             "ticks": ""
            },
            "colorscale": [
             [
              0,
              "#0d0887"
             ],
             [
              0.1111111111111111,
              "#46039f"
             ],
             [
              0.2222222222222222,
              "#7201a8"
             ],
             [
              0.3333333333333333,
              "#9c179e"
             ],
             [
              0.4444444444444444,
              "#bd3786"
             ],
             [
              0.5555555555555556,
              "#d8576b"
             ],
             [
              0.6666666666666666,
              "#ed7953"
             ],
             [
              0.7777777777777778,
              "#fb9f3a"
             ],
             [
              0.8888888888888888,
              "#fdca26"
             ],
             [
              1,
              "#f0f921"
             ]
            ],
            "type": "histogram2d"
           }
          ],
          "histogram2dcontour": [
           {
            "colorbar": {
             "outlinewidth": 0,
             "ticks": ""
            },
            "colorscale": [
             [
              0,
              "#0d0887"
             ],
             [
              0.1111111111111111,
              "#46039f"
             ],
             [
              0.2222222222222222,
              "#7201a8"
             ],
             [
              0.3333333333333333,
              "#9c179e"
             ],
             [
              0.4444444444444444,
              "#bd3786"
             ],
             [
              0.5555555555555556,
              "#d8576b"
             ],
             [
              0.6666666666666666,
              "#ed7953"
             ],
             [
              0.7777777777777778,
              "#fb9f3a"
             ],
             [
              0.8888888888888888,
              "#fdca26"
             ],
             [
              1,
              "#f0f921"
             ]
            ],
            "type": "histogram2dcontour"
           }
          ],
          "mesh3d": [
           {
            "colorbar": {
             "outlinewidth": 0,
             "ticks": ""
            },
            "type": "mesh3d"
           }
          ],
          "parcoords": [
           {
            "line": {
             "colorbar": {
              "outlinewidth": 0,
              "ticks": ""
             }
            },
            "type": "parcoords"
           }
          ],
          "pie": [
           {
            "automargin": true,
            "type": "pie"
           }
          ],
          "scatter": [
           {
            "fillpattern": {
             "fillmode": "overlay",
             "size": 10,
             "solidity": 0.2
            },
            "type": "scatter"
           }
          ],
          "scatter3d": [
           {
            "line": {
             "colorbar": {
              "outlinewidth": 0,
              "ticks": ""
             }
            },
            "marker": {
             "colorbar": {
              "outlinewidth": 0,
              "ticks": ""
             }
            },
            "type": "scatter3d"
           }
          ],
          "scattercarpet": [
           {
            "marker": {
             "colorbar": {
              "outlinewidth": 0,
              "ticks": ""
             }
            },
            "type": "scattercarpet"
           }
          ],
          "scattergeo": [
           {
            "marker": {
             "colorbar": {
              "outlinewidth": 0,
              "ticks": ""
             }
            },
            "type": "scattergeo"
           }
          ],
          "scattergl": [
           {
            "marker": {
             "colorbar": {
              "outlinewidth": 0,
              "ticks": ""
             }
            },
            "type": "scattergl"
           }
          ],
          "scattermapbox": [
           {
            "marker": {
             "colorbar": {
              "outlinewidth": 0,
              "ticks": ""
             }
            },
            "type": "scattermapbox"
           }
          ],
          "scatterpolar": [
           {
            "marker": {
             "colorbar": {
              "outlinewidth": 0,
              "ticks": ""
             }
            },
            "type": "scatterpolar"
           }
          ],
          "scatterpolargl": [
           {
            "marker": {
             "colorbar": {
              "outlinewidth": 0,
              "ticks": ""
             }
            },
            "type": "scatterpolargl"
           }
          ],
          "scatterternary": [
           {
            "marker": {
             "colorbar": {
              "outlinewidth": 0,
              "ticks": ""
             }
            },
            "type": "scatterternary"
           }
          ],
          "surface": [
           {
            "colorbar": {
             "outlinewidth": 0,
             "ticks": ""
            },
            "colorscale": [
             [
              0,
              "#0d0887"
             ],
             [
              0.1111111111111111,
              "#46039f"
             ],
             [
              0.2222222222222222,
              "#7201a8"
             ],
             [
              0.3333333333333333,
              "#9c179e"
             ],
             [
              0.4444444444444444,
              "#bd3786"
             ],
             [
              0.5555555555555556,
              "#d8576b"
             ],
             [
              0.6666666666666666,
              "#ed7953"
             ],
             [
              0.7777777777777778,
              "#fb9f3a"
             ],
             [
              0.8888888888888888,
              "#fdca26"
             ],
             [
              1,
              "#f0f921"
             ]
            ],
            "type": "surface"
           }
          ],
          "table": [
           {
            "cells": {
             "fill": {
              "color": "#EBF0F8"
             },
             "line": {
              "color": "white"
             }
            },
            "header": {
             "fill": {
              "color": "#C8D4E3"
             },
             "line": {
              "color": "white"
             }
            },
            "type": "table"
           }
          ]
         },
         "layout": {
          "annotationdefaults": {
           "arrowcolor": "#2a3f5f",
           "arrowhead": 0,
           "arrowwidth": 1
          },
          "autotypenumbers": "strict",
          "coloraxis": {
           "colorbar": {
            "outlinewidth": 0,
            "ticks": ""
           }
          },
          "colorscale": {
           "diverging": [
            [
             0,
             "#8e0152"
            ],
            [
             0.1,
             "#c51b7d"
            ],
            [
             0.2,
             "#de77ae"
            ],
            [
             0.3,
             "#f1b6da"
            ],
            [
             0.4,
             "#fde0ef"
            ],
            [
             0.5,
             "#f7f7f7"
            ],
            [
             0.6,
             "#e6f5d0"
            ],
            [
             0.7,
             "#b8e186"
            ],
            [
             0.8,
             "#7fbc41"
            ],
            [
             0.9,
             "#4d9221"
            ],
            [
             1,
             "#276419"
            ]
           ],
           "sequential": [
            [
             0,
             "#0d0887"
            ],
            [
             0.1111111111111111,
             "#46039f"
            ],
            [
             0.2222222222222222,
             "#7201a8"
            ],
            [
             0.3333333333333333,
             "#9c179e"
            ],
            [
             0.4444444444444444,
             "#bd3786"
            ],
            [
             0.5555555555555556,
             "#d8576b"
            ],
            [
             0.6666666666666666,
             "#ed7953"
            ],
            [
             0.7777777777777778,
             "#fb9f3a"
            ],
            [
             0.8888888888888888,
             "#fdca26"
            ],
            [
             1,
             "#f0f921"
            ]
           ],
           "sequentialminus": [
            [
             0,
             "#0d0887"
            ],
            [
             0.1111111111111111,
             "#46039f"
            ],
            [
             0.2222222222222222,
             "#7201a8"
            ],
            [
             0.3333333333333333,
             "#9c179e"
            ],
            [
             0.4444444444444444,
             "#bd3786"
            ],
            [
             0.5555555555555556,
             "#d8576b"
            ],
            [
             0.6666666666666666,
             "#ed7953"
            ],
            [
             0.7777777777777778,
             "#fb9f3a"
            ],
            [
             0.8888888888888888,
             "#fdca26"
            ],
            [
             1,
             "#f0f921"
            ]
           ]
          },
          "colorway": [
           "#636efa",
           "#EF553B",
           "#00cc96",
           "#ab63fa",
           "#FFA15A",
           "#19d3f3",
           "#FF6692",
           "#B6E880",
           "#FF97FF",
           "#FECB52"
          ],
          "font": {
           "color": "#2a3f5f"
          },
          "geo": {
           "bgcolor": "white",
           "lakecolor": "white",
           "landcolor": "#E5ECF6",
           "showlakes": true,
           "showland": true,
           "subunitcolor": "white"
          },
          "hoverlabel": {
           "align": "left"
          },
          "hovermode": "closest",
          "mapbox": {
           "style": "light"
          },
          "paper_bgcolor": "white",
          "plot_bgcolor": "#E5ECF6",
          "polar": {
           "angularaxis": {
            "gridcolor": "white",
            "linecolor": "white",
            "ticks": ""
           },
           "bgcolor": "#E5ECF6",
           "radialaxis": {
            "gridcolor": "white",
            "linecolor": "white",
            "ticks": ""
           }
          },
          "scene": {
           "xaxis": {
            "backgroundcolor": "#E5ECF6",
            "gridcolor": "white",
            "gridwidth": 2,
            "linecolor": "white",
            "showbackground": true,
            "ticks": "",
            "zerolinecolor": "white"
           },
           "yaxis": {
            "backgroundcolor": "#E5ECF6",
            "gridcolor": "white",
            "gridwidth": 2,
            "linecolor": "white",
            "showbackground": true,
            "ticks": "",
            "zerolinecolor": "white"
           },
           "zaxis": {
            "backgroundcolor": "#E5ECF6",
            "gridcolor": "white",
            "gridwidth": 2,
            "linecolor": "white",
            "showbackground": true,
            "ticks": "",
            "zerolinecolor": "white"
           }
          },
          "shapedefaults": {
           "line": {
            "color": "#2a3f5f"
           }
          },
          "ternary": {
           "aaxis": {
            "gridcolor": "white",
            "linecolor": "white",
            "ticks": ""
           },
           "baxis": {
            "gridcolor": "white",
            "linecolor": "white",
            "ticks": ""
           },
           "bgcolor": "#E5ECF6",
           "caxis": {
            "gridcolor": "white",
            "linecolor": "white",
            "ticks": ""
           }
          },
          "title": {
           "x": 0.05
          },
          "xaxis": {
           "automargin": true,
           "gridcolor": "white",
           "linecolor": "white",
           "ticks": "",
           "title": {
            "standoff": 15
           },
           "zerolinecolor": "white",
           "zerolinewidth": 2
          },
          "yaxis": {
           "automargin": true,
           "gridcolor": "white",
           "linecolor": "white",
           "ticks": "",
           "title": {
            "standoff": 15
           },
           "zerolinecolor": "white",
           "zerolinewidth": 2
          }
         }
        },
        "title": {
         "text": "[15GCP+18CP] Residuals at check points in Match-AT projects using different camera systems"
        },
        "xaxis": {
         "anchor": "y",
         "domain": [
          0,
          1
         ],
         "linecolor": "black",
         "linewidth": 1,
         "mirror": true,
         "showline": true,
         "zeroline": true
        },
        "xaxis2": {
         "anchor": "y2",
         "domain": [
          0,
          1
         ],
         "linecolor": "black",
         "linewidth": 1,
         "mirror": true,
         "showline": true,
         "zeroline": true
        },
        "xaxis3": {
         "anchor": "y3",
         "domain": [
          0,
          1
         ],
         "linecolor": "black",
         "linewidth": 1,
         "mirror": true,
         "showline": true,
         "zeroline": true
        },
        "yaxis": {
         "anchor": "x",
         "domain": [
          0.7777777777777778,
          1
         ],
         "dtick": 0.05,
         "gridcolor": "lightgray",
         "linecolor": "black",
         "linewidth": 1,
         "mirror": true,
         "range": [
          -0.15,
          0.15
         ],
         "showgrid": true,
         "showline": true,
         "zeroline": true,
         "zerolinecolor": "black",
         "zerolinewidth": 1
        },
        "yaxis2": {
         "anchor": "x2",
         "domain": [
          0.3888888888888889,
          0.6111111111111112
         ],
         "dtick": 0.05,
         "gridcolor": "lightgray",
         "linecolor": "black",
         "linewidth": 1,
         "mirror": true,
         "range": [
          -0.15,
          0.15
         ],
         "showgrid": true,
         "showline": true,
         "zeroline": true,
         "zerolinecolor": "black",
         "zerolinewidth": 1
        },
        "yaxis3": {
         "anchor": "x3",
         "domain": [
          0,
          0.22222222222222224
         ],
         "dtick": 0.05,
         "gridcolor": "lightgray",
         "linecolor": "black",
         "linewidth": 1,
         "mirror": true,
         "range": [
          -0.15,
          0.15
         ],
         "showgrid": true,
         "showline": true,
         "zeroline": true,
         "zerolinecolor": "black",
         "zerolinewidth": 1
        }
       }
      }
     },
     "metadata": {},
     "output_type": "display_data"
    }
   ],
   "source": [
    "\"\"\" Lower Weight [15GCP + 18 CP] Residual-SCATTERPLOT\"\"\"\n",
    "# [15GCP+18CP] Scatter subplot of Residuals - x/y/z\n",
    "prj_15gcp_list_LW = [prj_15GCP_uce_m3_LW, prj_15GCP_uce_4_LW,\n",
    "                     prj_15GCP_leica_LW, prj_15GCP_igi_LW]\n",
    "camera_names = [\"UCE-M3\", \"Camera A\", \"Camera B\", \"Camera C\"] #A: UCE-4.1, B: DMC-4, C: UM-2\n",
    "colors = ['green', 'navy', 'orange', 'red']\n",
    "\n",
    "fig = make_subplots(rows=3, cols=1, subplot_titles=[\n",
    "                    \"CP Residual-X\", \"CP Residual-Y\", \"CP Residual-Z\"])\n",
    "for prj, color, name in zip(prj_15gcp_list_LW, colors, camera_names):\n",
    "    fig.append_trace(go.Scatter(\n",
    "        name=name,\n",
    "        x=[str(id) for id in prj.cp_id],\n",
    "        y=prj.cp_residual[:, 0],\n",
    "        marker_color=color,\n",
    "        legendgroup=name\n",
    "    ),\n",
    "        row=1,\n",
    "        col=1\n",
    "    )\n",
    "    fig.append_trace(go.Scatter(\n",
    "        name=name,\n",
    "        x=[str(id) for id in prj.cp_id],\n",
    "        y=prj.cp_residual[:, 1],\n",
    "        marker_color=color,\n",
    "        showlegend=False,\n",
    "        legendgroup=name\n",
    "    ),\n",
    "        row=2,\n",
    "        col=1\n",
    "    )\n",
    "    fig.append_trace(go.Scatter(\n",
    "        name=name,\n",
    "        x=[str(id) for id in prj.cp_id],\n",
    "        y=prj.cp_residual[:, 2],\n",
    "        marker_color=color,\n",
    "        showlegend=False,\n",
    "        legendgroup=name\n",
    "    ),\n",
    "        row=3,\n",
    "        col=1\n",
    "    )\n",
    "\n",
    "fig.update_traces(opacity=0.6)\n",
    "fig.update_layout(\n",
    "    title='[15GCP+18CP] Residuals at check points in Match-AT projects using different camera systems',\n",
    "    plot_bgcolor='white',\n",
    "    xaxis1={\"zeroline\": True, \"showline\": True,\n",
    "            \"linewidth\": 1, \"linecolor\": \"black\", \"mirror\": True},\n",
    "    yaxis1={\"range\": [-0.15, 0.15], \"dtick\": 0.05,\n",
    "            \"showgrid\": True, \"gridcolor\": \"lightgray\",\n",
    "            \"zeroline\": True, \"zerolinecolor\": 'black', \"zerolinewidth\": 1,\n",
    "            \"showline\": True, \"linewidth\": 1, \"linecolor\": \"black\", \"mirror\": True},\n",
    "    xaxis2={\"zeroline\": True, \"showline\": True,\n",
    "            \"linewidth\": 1, \"linecolor\": \"black\", \"mirror\": True},\n",
    "    yaxis2={\"range\": [-0.15, 0.15], \"dtick\": 0.05,\n",
    "            \"showgrid\": True, \"gridcolor\": \"lightgray\",\n",
    "            \"zeroline\": True, \"zerolinecolor\": 'black', \"zerolinewidth\": 1,\n",
    "            \"showline\": True, \"linewidth\": 1, \"linecolor\": \"black\", \"mirror\": True},\n",
    "    xaxis3={\"zeroline\": True, \"showline\": True,\n",
    "            \"linewidth\": 1, \"linecolor\": \"black\", \"mirror\": True},\n",
    "    yaxis3={\"range\": [-0.15, 0.15], \"dtick\": 0.05,\n",
    "            \"showgrid\": True, \"gridcolor\": \"lightgray\",\n",
    "            \"zeroline\": True, \"zerolinecolor\": 'black', \"zerolinewidth\": 1,\n",
    "            \"showline\": True, \"linewidth\": 1, \"linecolor\": \"black\", \"mirror\": True},\n",
    "    legend_tracegroupgap=20\n",
    ")\n",
    "fig.update_xaxes = {\n",
    "    \"dtick\": 0.2,\n",
    "    \"showgrid\": False,\n",
    "    \"zeroline\": False\n",
    "}\n",
    "fig.show()\n",
    "fig.write_html(\"./Results/15+18/CP_Residuals-15gcp+18cp_lowweight.html\")"
   ]
  },
  {
   "cell_type": "code",
   "execution_count": 67,
   "metadata": {},
   "outputs": [
    {
     "data": {
      "application/vnd.plotly.v1+json": {
       "config": {
        "plotlyServerURL": "https://plot.ly"
       },
       "data": [
        {
         "cliponaxis": false,
         "legendgroup": "UCE-M3",
         "marker": {
          "color": "green"
         },
         "name": "UCE-M3",
         "opacity": 0.6,
         "showlegend": true,
         "text": [
          "0.028",
          "0.024",
          "0.057"
         ],
         "textangle": 0,
         "textfont": {
          "color": "black",
          "size": 15
         },
         "textposition": "outside",
         "type": "bar",
         "x": [
          "RMSE-X",
          "RMSE-Y",
          "RMSE-Z"
         ],
         "y": [
          0.028,
          0.024,
          0.057
         ]
        },
        {
         "cliponaxis": false,
         "legendgroup": "Camera A",
         "marker": {
          "color": "navy"
         },
         "name": "Camera A",
         "opacity": 0.6,
         "showlegend": true,
         "text": [
          "0.027",
          "0.023",
          "0.066"
         ],
         "textangle": 0,
         "textfont": {
          "color": "black",
          "size": 15
         },
         "textposition": "outside",
         "type": "bar",
         "x": [
          "RMSE-X",
          "RMSE-Y",
          "RMSE-Z"
         ],
         "y": [
          0.027,
          0.023,
          0.066
         ]
        },
        {
         "cliponaxis": false,
         "legendgroup": "Camera B",
         "marker": {
          "color": "orange"
         },
         "name": "Camera B",
         "opacity": 0.6,
         "showlegend": true,
         "text": [
          "0.063",
          "0.044",
          "0.087"
         ],
         "textangle": 0,
         "textfont": {
          "color": "black",
          "size": 15
         },
         "textposition": "outside",
         "type": "bar",
         "x": [
          "RMSE-X",
          "RMSE-Y",
          "RMSE-Z"
         ],
         "y": [
          0.063,
          0.044,
          0.087
         ]
        },
        {
         "cliponaxis": false,
         "legendgroup": "Camera C",
         "marker": {
          "color": "red"
         },
         "name": "Camera C",
         "opacity": 0.6,
         "showlegend": true,
         "text": [
          "0.066",
          "0.027",
          "0.064"
         ],
         "textangle": 0,
         "textfont": {
          "color": "black",
          "size": 15
         },
         "textposition": "outside",
         "type": "bar",
         "x": [
          "RMSE-X",
          "RMSE-Y",
          "RMSE-Z"
         ],
         "y": [
          0.066,
          0.027,
          0.064
         ]
        }
       ],
       "layout": {
        "legend": {
         "tracegroupgap": 20
        },
        "plot_bgcolor": "white",
        "template": {
         "data": {
          "bar": [
           {
            "error_x": {
             "color": "#2a3f5f"
            },
            "error_y": {
             "color": "#2a3f5f"
            },
            "marker": {
             "line": {
              "color": "#E5ECF6",
              "width": 0.5
             },
             "pattern": {
              "fillmode": "overlay",
              "size": 10,
              "solidity": 0.2
             }
            },
            "type": "bar"
           }
          ],
          "barpolar": [
           {
            "marker": {
             "line": {
              "color": "#E5ECF6",
              "width": 0.5
             },
             "pattern": {
              "fillmode": "overlay",
              "size": 10,
              "solidity": 0.2
             }
            },
            "type": "barpolar"
           }
          ],
          "carpet": [
           {
            "aaxis": {
             "endlinecolor": "#2a3f5f",
             "gridcolor": "white",
             "linecolor": "white",
             "minorgridcolor": "white",
             "startlinecolor": "#2a3f5f"
            },
            "baxis": {
             "endlinecolor": "#2a3f5f",
             "gridcolor": "white",
             "linecolor": "white",
             "minorgridcolor": "white",
             "startlinecolor": "#2a3f5f"
            },
            "type": "carpet"
           }
          ],
          "choropleth": [
           {
            "colorbar": {
             "outlinewidth": 0,
             "ticks": ""
            },
            "type": "choropleth"
           }
          ],
          "contour": [
           {
            "colorbar": {
             "outlinewidth": 0,
             "ticks": ""
            },
            "colorscale": [
             [
              0,
              "#0d0887"
             ],
             [
              0.1111111111111111,
              "#46039f"
             ],
             [
              0.2222222222222222,
              "#7201a8"
             ],
             [
              0.3333333333333333,
              "#9c179e"
             ],
             [
              0.4444444444444444,
              "#bd3786"
             ],
             [
              0.5555555555555556,
              "#d8576b"
             ],
             [
              0.6666666666666666,
              "#ed7953"
             ],
             [
              0.7777777777777778,
              "#fb9f3a"
             ],
             [
              0.8888888888888888,
              "#fdca26"
             ],
             [
              1,
              "#f0f921"
             ]
            ],
            "type": "contour"
           }
          ],
          "contourcarpet": [
           {
            "colorbar": {
             "outlinewidth": 0,
             "ticks": ""
            },
            "type": "contourcarpet"
           }
          ],
          "heatmap": [
           {
            "colorbar": {
             "outlinewidth": 0,
             "ticks": ""
            },
            "colorscale": [
             [
              0,
              "#0d0887"
             ],
             [
              0.1111111111111111,
              "#46039f"
             ],
             [
              0.2222222222222222,
              "#7201a8"
             ],
             [
              0.3333333333333333,
              "#9c179e"
             ],
             [
              0.4444444444444444,
              "#bd3786"
             ],
             [
              0.5555555555555556,
              "#d8576b"
             ],
             [
              0.6666666666666666,
              "#ed7953"
             ],
             [
              0.7777777777777778,
              "#fb9f3a"
             ],
             [
              0.8888888888888888,
              "#fdca26"
             ],
             [
              1,
              "#f0f921"
             ]
            ],
            "type": "heatmap"
           }
          ],
          "heatmapgl": [
           {
            "colorbar": {
             "outlinewidth": 0,
             "ticks": ""
            },
            "colorscale": [
             [
              0,
              "#0d0887"
             ],
             [
              0.1111111111111111,
              "#46039f"
             ],
             [
              0.2222222222222222,
              "#7201a8"
             ],
             [
              0.3333333333333333,
              "#9c179e"
             ],
             [
              0.4444444444444444,
              "#bd3786"
             ],
             [
              0.5555555555555556,
              "#d8576b"
             ],
             [
              0.6666666666666666,
              "#ed7953"
             ],
             [
              0.7777777777777778,
              "#fb9f3a"
             ],
             [
              0.8888888888888888,
              "#fdca26"
             ],
             [
              1,
              "#f0f921"
             ]
            ],
            "type": "heatmapgl"
           }
          ],
          "histogram": [
           {
            "marker": {
             "pattern": {
              "fillmode": "overlay",
              "size": 10,
              "solidity": 0.2
             }
            },
            "type": "histogram"
           }
          ],
          "histogram2d": [
           {
            "colorbar": {
             "outlinewidth": 0,
             "ticks": ""
            },
            "colorscale": [
             [
              0,
              "#0d0887"
             ],
             [
              0.1111111111111111,
              "#46039f"
             ],
             [
              0.2222222222222222,
              "#7201a8"
             ],
             [
              0.3333333333333333,
              "#9c179e"
             ],
             [
              0.4444444444444444,
              "#bd3786"
             ],
             [
              0.5555555555555556,
              "#d8576b"
             ],
             [
              0.6666666666666666,
              "#ed7953"
             ],
             [
              0.7777777777777778,
              "#fb9f3a"
             ],
             [
              0.8888888888888888,
              "#fdca26"
             ],
             [
              1,
              "#f0f921"
             ]
            ],
            "type": "histogram2d"
           }
          ],
          "histogram2dcontour": [
           {
            "colorbar": {
             "outlinewidth": 0,
             "ticks": ""
            },
            "colorscale": [
             [
              0,
              "#0d0887"
             ],
             [
              0.1111111111111111,
              "#46039f"
             ],
             [
              0.2222222222222222,
              "#7201a8"
             ],
             [
              0.3333333333333333,
              "#9c179e"
             ],
             [
              0.4444444444444444,
              "#bd3786"
             ],
             [
              0.5555555555555556,
              "#d8576b"
             ],
             [
              0.6666666666666666,
              "#ed7953"
             ],
             [
              0.7777777777777778,
              "#fb9f3a"
             ],
             [
              0.8888888888888888,
              "#fdca26"
             ],
             [
              1,
              "#f0f921"
             ]
            ],
            "type": "histogram2dcontour"
           }
          ],
          "mesh3d": [
           {
            "colorbar": {
             "outlinewidth": 0,
             "ticks": ""
            },
            "type": "mesh3d"
           }
          ],
          "parcoords": [
           {
            "line": {
             "colorbar": {
              "outlinewidth": 0,
              "ticks": ""
             }
            },
            "type": "parcoords"
           }
          ],
          "pie": [
           {
            "automargin": true,
            "type": "pie"
           }
          ],
          "scatter": [
           {
            "fillpattern": {
             "fillmode": "overlay",
             "size": 10,
             "solidity": 0.2
            },
            "type": "scatter"
           }
          ],
          "scatter3d": [
           {
            "line": {
             "colorbar": {
              "outlinewidth": 0,
              "ticks": ""
             }
            },
            "marker": {
             "colorbar": {
              "outlinewidth": 0,
              "ticks": ""
             }
            },
            "type": "scatter3d"
           }
          ],
          "scattercarpet": [
           {
            "marker": {
             "colorbar": {
              "outlinewidth": 0,
              "ticks": ""
             }
            },
            "type": "scattercarpet"
           }
          ],
          "scattergeo": [
           {
            "marker": {
             "colorbar": {
              "outlinewidth": 0,
              "ticks": ""
             }
            },
            "type": "scattergeo"
           }
          ],
          "scattergl": [
           {
            "marker": {
             "colorbar": {
              "outlinewidth": 0,
              "ticks": ""
             }
            },
            "type": "scattergl"
           }
          ],
          "scattermapbox": [
           {
            "marker": {
             "colorbar": {
              "outlinewidth": 0,
              "ticks": ""
             }
            },
            "type": "scattermapbox"
           }
          ],
          "scatterpolar": [
           {
            "marker": {
             "colorbar": {
              "outlinewidth": 0,
              "ticks": ""
             }
            },
            "type": "scatterpolar"
           }
          ],
          "scatterpolargl": [
           {
            "marker": {
             "colorbar": {
              "outlinewidth": 0,
              "ticks": ""
             }
            },
            "type": "scatterpolargl"
           }
          ],
          "scatterternary": [
           {
            "marker": {
             "colorbar": {
              "outlinewidth": 0,
              "ticks": ""
             }
            },
            "type": "scatterternary"
           }
          ],
          "surface": [
           {
            "colorbar": {
             "outlinewidth": 0,
             "ticks": ""
            },
            "colorscale": [
             [
              0,
              "#0d0887"
             ],
             [
              0.1111111111111111,
              "#46039f"
             ],
             [
              0.2222222222222222,
              "#7201a8"
             ],
             [
              0.3333333333333333,
              "#9c179e"
             ],
             [
              0.4444444444444444,
              "#bd3786"
             ],
             [
              0.5555555555555556,
              "#d8576b"
             ],
             [
              0.6666666666666666,
              "#ed7953"
             ],
             [
              0.7777777777777778,
              "#fb9f3a"
             ],
             [
              0.8888888888888888,
              "#fdca26"
             ],
             [
              1,
              "#f0f921"
             ]
            ],
            "type": "surface"
           }
          ],
          "table": [
           {
            "cells": {
             "fill": {
              "color": "#EBF0F8"
             },
             "line": {
              "color": "white"
             }
            },
            "header": {
             "fill": {
              "color": "#C8D4E3"
             },
             "line": {
              "color": "white"
             }
            },
            "type": "table"
           }
          ]
         },
         "layout": {
          "annotationdefaults": {
           "arrowcolor": "#2a3f5f",
           "arrowhead": 0,
           "arrowwidth": 1
          },
          "autotypenumbers": "strict",
          "coloraxis": {
           "colorbar": {
            "outlinewidth": 0,
            "ticks": ""
           }
          },
          "colorscale": {
           "diverging": [
            [
             0,
             "#8e0152"
            ],
            [
             0.1,
             "#c51b7d"
            ],
            [
             0.2,
             "#de77ae"
            ],
            [
             0.3,
             "#f1b6da"
            ],
            [
             0.4,
             "#fde0ef"
            ],
            [
             0.5,
             "#f7f7f7"
            ],
            [
             0.6,
             "#e6f5d0"
            ],
            [
             0.7,
             "#b8e186"
            ],
            [
             0.8,
             "#7fbc41"
            ],
            [
             0.9,
             "#4d9221"
            ],
            [
             1,
             "#276419"
            ]
           ],
           "sequential": [
            [
             0,
             "#0d0887"
            ],
            [
             0.1111111111111111,
             "#46039f"
            ],
            [
             0.2222222222222222,
             "#7201a8"
            ],
            [
             0.3333333333333333,
             "#9c179e"
            ],
            [
             0.4444444444444444,
             "#bd3786"
            ],
            [
             0.5555555555555556,
             "#d8576b"
            ],
            [
             0.6666666666666666,
             "#ed7953"
            ],
            [
             0.7777777777777778,
             "#fb9f3a"
            ],
            [
             0.8888888888888888,
             "#fdca26"
            ],
            [
             1,
             "#f0f921"
            ]
           ],
           "sequentialminus": [
            [
             0,
             "#0d0887"
            ],
            [
             0.1111111111111111,
             "#46039f"
            ],
            [
             0.2222222222222222,
             "#7201a8"
            ],
            [
             0.3333333333333333,
             "#9c179e"
            ],
            [
             0.4444444444444444,
             "#bd3786"
            ],
            [
             0.5555555555555556,
             "#d8576b"
            ],
            [
             0.6666666666666666,
             "#ed7953"
            ],
            [
             0.7777777777777778,
             "#fb9f3a"
            ],
            [
             0.8888888888888888,
             "#fdca26"
            ],
            [
             1,
             "#f0f921"
            ]
           ]
          },
          "colorway": [
           "#636efa",
           "#EF553B",
           "#00cc96",
           "#ab63fa",
           "#FFA15A",
           "#19d3f3",
           "#FF6692",
           "#B6E880",
           "#FF97FF",
           "#FECB52"
          ],
          "font": {
           "color": "#2a3f5f"
          },
          "geo": {
           "bgcolor": "white",
           "lakecolor": "white",
           "landcolor": "#E5ECF6",
           "showlakes": true,
           "showland": true,
           "subunitcolor": "white"
          },
          "hoverlabel": {
           "align": "left"
          },
          "hovermode": "closest",
          "mapbox": {
           "style": "light"
          },
          "paper_bgcolor": "white",
          "plot_bgcolor": "#E5ECF6",
          "polar": {
           "angularaxis": {
            "gridcolor": "white",
            "linecolor": "white",
            "ticks": ""
           },
           "bgcolor": "#E5ECF6",
           "radialaxis": {
            "gridcolor": "white",
            "linecolor": "white",
            "ticks": ""
           }
          },
          "scene": {
           "xaxis": {
            "backgroundcolor": "#E5ECF6",
            "gridcolor": "white",
            "gridwidth": 2,
            "linecolor": "white",
            "showbackground": true,
            "ticks": "",
            "zerolinecolor": "white"
           },
           "yaxis": {
            "backgroundcolor": "#E5ECF6",
            "gridcolor": "white",
            "gridwidth": 2,
            "linecolor": "white",
            "showbackground": true,
            "ticks": "",
            "zerolinecolor": "white"
           },
           "zaxis": {
            "backgroundcolor": "#E5ECF6",
            "gridcolor": "white",
            "gridwidth": 2,
            "linecolor": "white",
            "showbackground": true,
            "ticks": "",
            "zerolinecolor": "white"
           }
          },
          "shapedefaults": {
           "line": {
            "color": "#2a3f5f"
           }
          },
          "ternary": {
           "aaxis": {
            "gridcolor": "white",
            "linecolor": "white",
            "ticks": ""
           },
           "baxis": {
            "gridcolor": "white",
            "linecolor": "white",
            "ticks": ""
           },
           "bgcolor": "#E5ECF6",
           "caxis": {
            "gridcolor": "white",
            "linecolor": "white",
            "ticks": ""
           }
          },
          "title": {
           "x": 0.05
          },
          "xaxis": {
           "automargin": true,
           "gridcolor": "white",
           "linecolor": "white",
           "ticks": "",
           "title": {
            "standoff": 15
           },
           "zerolinecolor": "white",
           "zerolinewidth": 2
          },
          "yaxis": {
           "automargin": true,
           "gridcolor": "white",
           "linecolor": "white",
           "ticks": "",
           "title": {
            "standoff": 15
           },
           "zerolinecolor": "white",
           "zerolinewidth": 2
          }
         }
        },
        "title": {
         "text": "[4GCP+18CP] RMSE at check points in Match-AT projects using different camera systems"
        },
        "xaxis": {
         "linecolor": "black",
         "linewidth": 1,
         "mirror": true,
         "showgrid": false,
         "showline": true,
         "zeroline": false
        },
        "yaxis": {
         "gridcolor": "lightgray",
         "linecolor": "black",
         "linewidth": 1,
         "mirror": true,
         "range": [
          0,
          0.1
         ],
         "showgrid": true,
         "showline": true,
         "zeroline": false
        }
       }
      }
     },
     "metadata": {},
     "output_type": "display_data"
    }
   ],
   "source": [
    "\"\"\" Lower Weight [4GCP + 18 CP] RMSE-BARPLOT\"\"\"\n",
    "\"\"\" \n",
    "Compare the results from Inpho projets with Match-AT setting: GNSS and shifts for all on, IMU on. Earth curvature and Refraction correction: on\n",
    "\"\"\"\n",
    "\n",
    "prj_4gcp_list_LW = [prj_4GCP_uce_m3_LW, prj_4GCP_uce_4_LW,\n",
    "                    prj_4GCP_leica_LW, prj_4GCP_igi_LW]\n",
    "fig = go.Figure()\n",
    "camera_names = [\"UCE-M3\", \"Camera A\", \"Camera B\", \"Camera C\"] #A: UCE-4.1, B: DMC-4, C: UM-2\n",
    "colors = ['green', 'navy', 'orange', 'red']\n",
    "x_axis = ['RMSE-X', 'RMSE-Y', 'RMSE-Z']\n",
    "\n",
    "for prj, color, name in zip(prj_4gcp_list_LW, colors, camera_names):\n",
    "    fig.add_trace(go.Bar(\n",
    "        name=name,\n",
    "        x=x_axis,\n",
    "        y=prj.cp_RMS,\n",
    "        marker_color=color,\n",
    "        text=[str(num) for num in prj.cp_RMS],\n",
    "        textposition=\"inside\",\n",
    "        legendgroup=name,\n",
    "        showlegend=True\n",
    "    )\n",
    "    )\n",
    "\n",
    "\n",
    "fig.update_traces(opacity=0.6, textfont_size=15, textfont_color='black',textangle=0, textposition=\"outside\", cliponaxis=False)\n",
    "fig.update_layout(\n",
    "    title='[4GCP+18CP] RMSE at check points in Match-AT projects using different camera systems',\n",
    "    xaxis={\"showgrid\": False, \"zeroline\": False},\n",
    "    yaxis={\"showgrid\": True, \"zeroline\": False, \"range\": [0, 0.1]},\n",
    "    legend_tracegroupgap=20,\n",
    "    plot_bgcolor='white'\n",
    ")\n",
    "fig.update_xaxes(showline=True, linewidth=1, linecolor='black', mirror=True)\n",
    "fig.update_yaxes(showgrid=True, gridcolor='lightgray',\n",
    "                 showline=True, linewidth=1, linecolor='black', mirror=True)\n",
    "fig.show()\n",
    "fig.write_html(\"./Results/4+18/CP_RMS-4gcp+18cp_lowweight.html\")"
   ]
  },
  {
   "cell_type": "code",
   "execution_count": 68,
   "metadata": {},
   "outputs": [
    {
     "data": {
      "application/vnd.plotly.v1+json": {
       "config": {
        "plotlyServerURL": "https://plot.ly"
       },
       "data": [
        {
         "legendgroup": "UCE-M3",
         "marker": {
          "color": "green"
         },
         "name": "UCE-M3",
         "opacity": 0.6,
         "type": "scatter",
         "x": [
          "101",
          "102",
          "105",
          "108",
          "109",
          "111",
          "112",
          "115",
          "118",
          "119",
          "121",
          "122",
          "124",
          "125",
          "127",
          "128",
          "130",
          "131"
         ],
         "xaxis": "x",
         "y": [
          -0.002,
          0.003,
          -0.007,
          0.05,
          0.035,
          0.021,
          0.044,
          -0.009,
          -0.026,
          -0.053,
          -0.028,
          -0.043,
          -0.007,
          -0.02,
          -0.007,
          0.035,
          0.012,
          0.021
         ],
         "yaxis": "y"
        },
        {
         "legendgroup": "UCE-M3",
         "marker": {
          "color": "green"
         },
         "name": "UCE-M3",
         "opacity": 0.6,
         "showlegend": false,
         "type": "scatter",
         "x": [
          "101",
          "102",
          "105",
          "108",
          "109",
          "111",
          "112",
          "115",
          "118",
          "119",
          "121",
          "122",
          "124",
          "125",
          "127",
          "128",
          "130",
          "131"
         ],
         "xaxis": "x2",
         "y": [
          -0.012,
          0.002,
          -0.014,
          0.005,
          0.001,
          0.003,
          0.008,
          0.035,
          0.051,
          0.067,
          0.007,
          0.024,
          0.01,
          -0.032,
          -0.004,
          0,
          -0.007,
          -0.001
         ],
         "yaxis": "y2"
        },
        {
         "legendgroup": "UCE-M3",
         "marker": {
          "color": "green"
         },
         "name": "UCE-M3",
         "opacity": 0.6,
         "showlegend": false,
         "type": "scatter",
         "x": [
          "101",
          "102",
          "105",
          "108",
          "109",
          "111",
          "112",
          "115",
          "118",
          "119",
          "121",
          "122",
          "124",
          "125",
          "127",
          "128",
          "130",
          "131"
         ],
         "xaxis": "x3",
         "y": [
          0.026,
          0.084,
          -0.052,
          -0.106,
          0.001,
          -0.028,
          -0.052,
          -0.071,
          -0.073,
          -0.012,
          -0.039,
          -0.011,
          -0.015,
          0.011,
          -0.037,
          -0.125,
          -0.061,
          -0.02
         ],
         "yaxis": "y3"
        },
        {
         "legendgroup": "Camera A",
         "marker": {
          "color": "navy"
         },
         "name": "Camera A",
         "opacity": 0.6,
         "type": "scatter",
         "x": [
          "101",
          "102",
          "105",
          "108",
          "109",
          "111",
          "112",
          "115",
          "118",
          "119",
          "121",
          "122",
          "124",
          "125",
          "127",
          "128",
          "130",
          "131"
         ],
         "xaxis": "x",
         "y": [
          -0.009,
          0.004,
          -0.018,
          0.011,
          0.02,
          -0.008,
          0.025,
          -0.021,
          0.015,
          -0.008,
          -0.042,
          -0.036,
          -0.044,
          -0.042,
          -0.038,
          -0.033,
          -0.034,
          -0.025
         ],
         "yaxis": "y"
        },
        {
         "legendgroup": "Camera A",
         "marker": {
          "color": "navy"
         },
         "name": "Camera A",
         "opacity": 0.6,
         "showlegend": false,
         "type": "scatter",
         "x": [
          "101",
          "102",
          "105",
          "108",
          "109",
          "111",
          "112",
          "115",
          "118",
          "119",
          "121",
          "122",
          "124",
          "125",
          "127",
          "128",
          "130",
          "131"
         ],
         "xaxis": "x2",
         "y": [
          -0.021,
          -0.028,
          0.017,
          0.054,
          0.047,
          0.01,
          -0.005,
          0.017,
          0.022,
          0.014,
          -0.007,
          0.008,
          0.032,
          -0.003,
          0.027,
          0.011,
          0.006,
          0.001
         ],
         "yaxis": "y2"
        },
        {
         "legendgroup": "Camera A",
         "marker": {
          "color": "navy"
         },
         "name": "Camera A",
         "opacity": 0.6,
         "showlegend": false,
         "type": "scatter",
         "x": [
          "101",
          "102",
          "105",
          "108",
          "109",
          "111",
          "112",
          "115",
          "118",
          "119",
          "121",
          "122",
          "124",
          "125",
          "127",
          "128",
          "130",
          "131"
         ],
         "xaxis": "x3",
         "y": [
          0.046,
          0.059,
          -0.011,
          -0.061,
          -0.128,
          -0.116,
          -0.138,
          0.018,
          0.109,
          0.027,
          -0.003,
          0.04,
          0.004,
          0.043,
          0,
          -0.037,
          -0.034,
          0.017
         ],
         "yaxis": "y3"
        },
        {
         "legendgroup": "Camera B",
         "marker": {
          "color": "orange"
         },
         "name": "Camera B",
         "opacity": 0.6,
         "type": "scatter",
         "x": [
          "101",
          "102",
          "105",
          "108",
          "109",
          "111",
          "112",
          "115",
          "118",
          "119",
          "121",
          "122",
          "124",
          "125",
          "127",
          "128",
          "130",
          "131"
         ],
         "xaxis": "x",
         "y": [
          -0.084,
          -0.079,
          0.001,
          0.11,
          0.1,
          0.071,
          0.088,
          -0.027,
          -0.075,
          -0.063,
          -0.062,
          -0.031,
          -0.031,
          -0.058,
          0.012,
          -0.017,
          0.025,
          0.043
         ],
         "yaxis": "y"
        },
        {
         "legendgroup": "Camera B",
         "marker": {
          "color": "orange"
         },
         "name": "Camera B",
         "opacity": 0.6,
         "showlegend": false,
         "type": "scatter",
         "x": [
          "101",
          "102",
          "105",
          "108",
          "109",
          "111",
          "112",
          "115",
          "118",
          "119",
          "121",
          "122",
          "124",
          "125",
          "127",
          "128",
          "130",
          "131"
         ],
         "xaxis": "x2",
         "y": [
          0.036,
          0.031,
          0.061,
          0.044,
          0.035,
          -0.1,
          -0.072,
          -0.02,
          0.039,
          0.03,
          0.032,
          0.016,
          0.056,
          -0.038,
          0.03,
          -0.029,
          -0.011,
          0.01
         ],
         "yaxis": "y2"
        },
        {
         "legendgroup": "Camera B",
         "marker": {
          "color": "orange"
         },
         "name": "Camera B",
         "opacity": 0.6,
         "showlegend": false,
         "type": "scatter",
         "x": [
          "101",
          "102",
          "105",
          "108",
          "109",
          "111",
          "112",
          "115",
          "118",
          "119",
          "121",
          "122",
          "124",
          "125",
          "127",
          "128",
          "130",
          "131"
         ],
         "xaxis": "x3",
         "y": [
          0.024,
          0.031,
          -0.121,
          -0.081,
          -0.022,
          -0.039,
          -0.055,
          -0.076,
          0.023,
          0.083,
          -0.068,
          -0.097,
          -0.145,
          -0.091,
          -0.128,
          -0.139,
          -0.104,
          -0.06
         ],
         "yaxis": "y3"
        },
        {
         "legendgroup": "Camera C",
         "marker": {
          "color": "red"
         },
         "name": "Camera C",
         "opacity": 0.6,
         "type": "scatter",
         "x": [
          "101",
          "102",
          "105",
          "108",
          "109",
          "111",
          "112",
          "115",
          "118",
          "119",
          "121",
          "122",
          "124",
          "125",
          "127",
          "128",
          "130",
          "131"
         ],
         "xaxis": "x",
         "y": [
          0.081,
          0.085,
          -0.03,
          -0.066,
          -0.055,
          -0.107,
          -0.081,
          -0.057,
          0.047,
          0.042,
          -0.001,
          -0.01,
          -0.017,
          -0.059,
          -0.055,
          -0.102,
          -0.09,
          -0.082
         ],
         "yaxis": "y"
        },
        {
         "legendgroup": "Camera C",
         "marker": {
          "color": "red"
         },
         "name": "Camera C",
         "opacity": 0.6,
         "showlegend": false,
         "type": "scatter",
         "x": [
          "101",
          "102",
          "105",
          "108",
          "109",
          "111",
          "112",
          "115",
          "118",
          "119",
          "121",
          "122",
          "124",
          "125",
          "127",
          "128",
          "130",
          "131"
         ],
         "xaxis": "x2",
         "y": [
          -0.011,
          0.015,
          0.045,
          0.074,
          -0.006,
          -0.044,
          -0.035,
          0.014,
          0.002,
          -0.005,
          0.001,
          -0.008,
          0.021,
          -0.022,
          0.015,
          -0.005,
          -0.006,
          0.024
         ],
         "yaxis": "y2"
        },
        {
         "legendgroup": "Camera C",
         "marker": {
          "color": "red"
         },
         "name": "Camera C",
         "opacity": 0.6,
         "showlegend": false,
         "type": "scatter",
         "x": [
          "101",
          "102",
          "105",
          "108",
          "109",
          "111",
          "112",
          "115",
          "118",
          "119",
          "121",
          "122",
          "124",
          "125",
          "127",
          "128",
          "130",
          "131"
         ],
         "xaxis": "x3",
         "y": [
          0.005,
          -0.014,
          0.003,
          -0.083,
          -0.035,
          -0.081,
          -0.078,
          0.002,
          0.002,
          0.024,
          0.093,
          0.079,
          0.068,
          0.107,
          0.069,
          0.114,
          0.033,
          0.041
         ],
         "yaxis": "y3"
        }
       ],
       "layout": {
        "annotations": [
         {
          "font": {
           "size": 16
          },
          "showarrow": false,
          "text": "CP Residual-X",
          "x": 0.5,
          "xanchor": "center",
          "xref": "paper",
          "y": 1,
          "yanchor": "bottom",
          "yref": "paper"
         },
         {
          "font": {
           "size": 16
          },
          "showarrow": false,
          "text": "CP Residual-Y",
          "x": 0.5,
          "xanchor": "center",
          "xref": "paper",
          "y": 0.6111111111111112,
          "yanchor": "bottom",
          "yref": "paper"
         },
         {
          "font": {
           "size": 16
          },
          "showarrow": false,
          "text": "CP Residual-Z",
          "x": 0.5,
          "xanchor": "center",
          "xref": "paper",
          "y": 0.22222222222222224,
          "yanchor": "bottom",
          "yref": "paper"
         }
        ],
        "legend": {
         "tracegroupgap": 20
        },
        "plot_bgcolor": "white",
        "template": {
         "data": {
          "bar": [
           {
            "error_x": {
             "color": "#2a3f5f"
            },
            "error_y": {
             "color": "#2a3f5f"
            },
            "marker": {
             "line": {
              "color": "#E5ECF6",
              "width": 0.5
             },
             "pattern": {
              "fillmode": "overlay",
              "size": 10,
              "solidity": 0.2
             }
            },
            "type": "bar"
           }
          ],
          "barpolar": [
           {
            "marker": {
             "line": {
              "color": "#E5ECF6",
              "width": 0.5
             },
             "pattern": {
              "fillmode": "overlay",
              "size": 10,
              "solidity": 0.2
             }
            },
            "type": "barpolar"
           }
          ],
          "carpet": [
           {
            "aaxis": {
             "endlinecolor": "#2a3f5f",
             "gridcolor": "white",
             "linecolor": "white",
             "minorgridcolor": "white",
             "startlinecolor": "#2a3f5f"
            },
            "baxis": {
             "endlinecolor": "#2a3f5f",
             "gridcolor": "white",
             "linecolor": "white",
             "minorgridcolor": "white",
             "startlinecolor": "#2a3f5f"
            },
            "type": "carpet"
           }
          ],
          "choropleth": [
           {
            "colorbar": {
             "outlinewidth": 0,
             "ticks": ""
            },
            "type": "choropleth"
           }
          ],
          "contour": [
           {
            "colorbar": {
             "outlinewidth": 0,
             "ticks": ""
            },
            "colorscale": [
             [
              0,
              "#0d0887"
             ],
             [
              0.1111111111111111,
              "#46039f"
             ],
             [
              0.2222222222222222,
              "#7201a8"
             ],
             [
              0.3333333333333333,
              "#9c179e"
             ],
             [
              0.4444444444444444,
              "#bd3786"
             ],
             [
              0.5555555555555556,
              "#d8576b"
             ],
             [
              0.6666666666666666,
              "#ed7953"
             ],
             [
              0.7777777777777778,
              "#fb9f3a"
             ],
             [
              0.8888888888888888,
              "#fdca26"
             ],
             [
              1,
              "#f0f921"
             ]
            ],
            "type": "contour"
           }
          ],
          "contourcarpet": [
           {
            "colorbar": {
             "outlinewidth": 0,
             "ticks": ""
            },
            "type": "contourcarpet"
           }
          ],
          "heatmap": [
           {
            "colorbar": {
             "outlinewidth": 0,
             "ticks": ""
            },
            "colorscale": [
             [
              0,
              "#0d0887"
             ],
             [
              0.1111111111111111,
              "#46039f"
             ],
             [
              0.2222222222222222,
              "#7201a8"
             ],
             [
              0.3333333333333333,
              "#9c179e"
             ],
             [
              0.4444444444444444,
              "#bd3786"
             ],
             [
              0.5555555555555556,
              "#d8576b"
             ],
             [
              0.6666666666666666,
              "#ed7953"
             ],
             [
              0.7777777777777778,
              "#fb9f3a"
             ],
             [
              0.8888888888888888,
              "#fdca26"
             ],
             [
              1,
              "#f0f921"
             ]
            ],
            "type": "heatmap"
           }
          ],
          "heatmapgl": [
           {
            "colorbar": {
             "outlinewidth": 0,
             "ticks": ""
            },
            "colorscale": [
             [
              0,
              "#0d0887"
             ],
             [
              0.1111111111111111,
              "#46039f"
             ],
             [
              0.2222222222222222,
              "#7201a8"
             ],
             [
              0.3333333333333333,
              "#9c179e"
             ],
             [
              0.4444444444444444,
              "#bd3786"
             ],
             [
              0.5555555555555556,
              "#d8576b"
             ],
             [
              0.6666666666666666,
              "#ed7953"
             ],
             [
              0.7777777777777778,
              "#fb9f3a"
             ],
             [
              0.8888888888888888,
              "#fdca26"
             ],
             [
              1,
              "#f0f921"
             ]
            ],
            "type": "heatmapgl"
           }
          ],
          "histogram": [
           {
            "marker": {
             "pattern": {
              "fillmode": "overlay",
              "size": 10,
              "solidity": 0.2
             }
            },
            "type": "histogram"
           }
          ],
          "histogram2d": [
           {
            "colorbar": {
             "outlinewidth": 0,
             "ticks": ""
            },
            "colorscale": [
             [
              0,
              "#0d0887"
             ],
             [
              0.1111111111111111,
              "#46039f"
             ],
             [
              0.2222222222222222,
              "#7201a8"
             ],
             [
              0.3333333333333333,
              "#9c179e"
             ],
             [
              0.4444444444444444,
              "#bd3786"
             ],
             [
              0.5555555555555556,
              "#d8576b"
             ],
             [
              0.6666666666666666,
              "#ed7953"
             ],
             [
              0.7777777777777778,
              "#fb9f3a"
             ],
             [
              0.8888888888888888,
              "#fdca26"
             ],
             [
              1,
              "#f0f921"
             ]
            ],
            "type": "histogram2d"
           }
          ],
          "histogram2dcontour": [
           {
            "colorbar": {
             "outlinewidth": 0,
             "ticks": ""
            },
            "colorscale": [
             [
              0,
              "#0d0887"
             ],
             [
              0.1111111111111111,
              "#46039f"
             ],
             [
              0.2222222222222222,
              "#7201a8"
             ],
             [
              0.3333333333333333,
              "#9c179e"
             ],
             [
              0.4444444444444444,
              "#bd3786"
             ],
             [
              0.5555555555555556,
              "#d8576b"
             ],
             [
              0.6666666666666666,
              "#ed7953"
             ],
             [
              0.7777777777777778,
              "#fb9f3a"
             ],
             [
              0.8888888888888888,
              "#fdca26"
             ],
             [
              1,
              "#f0f921"
             ]
            ],
            "type": "histogram2dcontour"
           }
          ],
          "mesh3d": [
           {
            "colorbar": {
             "outlinewidth": 0,
             "ticks": ""
            },
            "type": "mesh3d"
           }
          ],
          "parcoords": [
           {
            "line": {
             "colorbar": {
              "outlinewidth": 0,
              "ticks": ""
             }
            },
            "type": "parcoords"
           }
          ],
          "pie": [
           {
            "automargin": true,
            "type": "pie"
           }
          ],
          "scatter": [
           {
            "fillpattern": {
             "fillmode": "overlay",
             "size": 10,
             "solidity": 0.2
            },
            "type": "scatter"
           }
          ],
          "scatter3d": [
           {
            "line": {
             "colorbar": {
              "outlinewidth": 0,
              "ticks": ""
             }
            },
            "marker": {
             "colorbar": {
              "outlinewidth": 0,
              "ticks": ""
             }
            },
            "type": "scatter3d"
           }
          ],
          "scattercarpet": [
           {
            "marker": {
             "colorbar": {
              "outlinewidth": 0,
              "ticks": ""
             }
            },
            "type": "scattercarpet"
           }
          ],
          "scattergeo": [
           {
            "marker": {
             "colorbar": {
              "outlinewidth": 0,
              "ticks": ""
             }
            },
            "type": "scattergeo"
           }
          ],
          "scattergl": [
           {
            "marker": {
             "colorbar": {
              "outlinewidth": 0,
              "ticks": ""
             }
            },
            "type": "scattergl"
           }
          ],
          "scattermapbox": [
           {
            "marker": {
             "colorbar": {
              "outlinewidth": 0,
              "ticks": ""
             }
            },
            "type": "scattermapbox"
           }
          ],
          "scatterpolar": [
           {
            "marker": {
             "colorbar": {
              "outlinewidth": 0,
              "ticks": ""
             }
            },
            "type": "scatterpolar"
           }
          ],
          "scatterpolargl": [
           {
            "marker": {
             "colorbar": {
              "outlinewidth": 0,
              "ticks": ""
             }
            },
            "type": "scatterpolargl"
           }
          ],
          "scatterternary": [
           {
            "marker": {
             "colorbar": {
              "outlinewidth": 0,
              "ticks": ""
             }
            },
            "type": "scatterternary"
           }
          ],
          "surface": [
           {
            "colorbar": {
             "outlinewidth": 0,
             "ticks": ""
            },
            "colorscale": [
             [
              0,
              "#0d0887"
             ],
             [
              0.1111111111111111,
              "#46039f"
             ],
             [
              0.2222222222222222,
              "#7201a8"
             ],
             [
              0.3333333333333333,
              "#9c179e"
             ],
             [
              0.4444444444444444,
              "#bd3786"
             ],
             [
              0.5555555555555556,
              "#d8576b"
             ],
             [
              0.6666666666666666,
              "#ed7953"
             ],
             [
              0.7777777777777778,
              "#fb9f3a"
             ],
             [
              0.8888888888888888,
              "#fdca26"
             ],
             [
              1,
              "#f0f921"
             ]
            ],
            "type": "surface"
           }
          ],
          "table": [
           {
            "cells": {
             "fill": {
              "color": "#EBF0F8"
             },
             "line": {
              "color": "white"
             }
            },
            "header": {
             "fill": {
              "color": "#C8D4E3"
             },
             "line": {
              "color": "white"
             }
            },
            "type": "table"
           }
          ]
         },
         "layout": {
          "annotationdefaults": {
           "arrowcolor": "#2a3f5f",
           "arrowhead": 0,
           "arrowwidth": 1
          },
          "autotypenumbers": "strict",
          "coloraxis": {
           "colorbar": {
            "outlinewidth": 0,
            "ticks": ""
           }
          },
          "colorscale": {
           "diverging": [
            [
             0,
             "#8e0152"
            ],
            [
             0.1,
             "#c51b7d"
            ],
            [
             0.2,
             "#de77ae"
            ],
            [
             0.3,
             "#f1b6da"
            ],
            [
             0.4,
             "#fde0ef"
            ],
            [
             0.5,
             "#f7f7f7"
            ],
            [
             0.6,
             "#e6f5d0"
            ],
            [
             0.7,
             "#b8e186"
            ],
            [
             0.8,
             "#7fbc41"
            ],
            [
             0.9,
             "#4d9221"
            ],
            [
             1,
             "#276419"
            ]
           ],
           "sequential": [
            [
             0,
             "#0d0887"
            ],
            [
             0.1111111111111111,
             "#46039f"
            ],
            [
             0.2222222222222222,
             "#7201a8"
            ],
            [
             0.3333333333333333,
             "#9c179e"
            ],
            [
             0.4444444444444444,
             "#bd3786"
            ],
            [
             0.5555555555555556,
             "#d8576b"
            ],
            [
             0.6666666666666666,
             "#ed7953"
            ],
            [
             0.7777777777777778,
             "#fb9f3a"
            ],
            [
             0.8888888888888888,
             "#fdca26"
            ],
            [
             1,
             "#f0f921"
            ]
           ],
           "sequentialminus": [
            [
             0,
             "#0d0887"
            ],
            [
             0.1111111111111111,
             "#46039f"
            ],
            [
             0.2222222222222222,
             "#7201a8"
            ],
            [
             0.3333333333333333,
             "#9c179e"
            ],
            [
             0.4444444444444444,
             "#bd3786"
            ],
            [
             0.5555555555555556,
             "#d8576b"
            ],
            [
             0.6666666666666666,
             "#ed7953"
            ],
            [
             0.7777777777777778,
             "#fb9f3a"
            ],
            [
             0.8888888888888888,
             "#fdca26"
            ],
            [
             1,
             "#f0f921"
            ]
           ]
          },
          "colorway": [
           "#636efa",
           "#EF553B",
           "#00cc96",
           "#ab63fa",
           "#FFA15A",
           "#19d3f3",
           "#FF6692",
           "#B6E880",
           "#FF97FF",
           "#FECB52"
          ],
          "font": {
           "color": "#2a3f5f"
          },
          "geo": {
           "bgcolor": "white",
           "lakecolor": "white",
           "landcolor": "#E5ECF6",
           "showlakes": true,
           "showland": true,
           "subunitcolor": "white"
          },
          "hoverlabel": {
           "align": "left"
          },
          "hovermode": "closest",
          "mapbox": {
           "style": "light"
          },
          "paper_bgcolor": "white",
          "plot_bgcolor": "#E5ECF6",
          "polar": {
           "angularaxis": {
            "gridcolor": "white",
            "linecolor": "white",
            "ticks": ""
           },
           "bgcolor": "#E5ECF6",
           "radialaxis": {
            "gridcolor": "white",
            "linecolor": "white",
            "ticks": ""
           }
          },
          "scene": {
           "xaxis": {
            "backgroundcolor": "#E5ECF6",
            "gridcolor": "white",
            "gridwidth": 2,
            "linecolor": "white",
            "showbackground": true,
            "ticks": "",
            "zerolinecolor": "white"
           },
           "yaxis": {
            "backgroundcolor": "#E5ECF6",
            "gridcolor": "white",
            "gridwidth": 2,
            "linecolor": "white",
            "showbackground": true,
            "ticks": "",
            "zerolinecolor": "white"
           },
           "zaxis": {
            "backgroundcolor": "#E5ECF6",
            "gridcolor": "white",
            "gridwidth": 2,
            "linecolor": "white",
            "showbackground": true,
            "ticks": "",
            "zerolinecolor": "white"
           }
          },
          "shapedefaults": {
           "line": {
            "color": "#2a3f5f"
           }
          },
          "ternary": {
           "aaxis": {
            "gridcolor": "white",
            "linecolor": "white",
            "ticks": ""
           },
           "baxis": {
            "gridcolor": "white",
            "linecolor": "white",
            "ticks": ""
           },
           "bgcolor": "#E5ECF6",
           "caxis": {
            "gridcolor": "white",
            "linecolor": "white",
            "ticks": ""
           }
          },
          "title": {
           "x": 0.05
          },
          "xaxis": {
           "automargin": true,
           "gridcolor": "white",
           "linecolor": "white",
           "ticks": "",
           "title": {
            "standoff": 15
           },
           "zerolinecolor": "white",
           "zerolinewidth": 2
          },
          "yaxis": {
           "automargin": true,
           "gridcolor": "white",
           "linecolor": "white",
           "ticks": "",
           "title": {
            "standoff": 15
           },
           "zerolinecolor": "white",
           "zerolinewidth": 2
          }
         }
        },
        "title": {
         "text": "[4GCP+18CP] Residuals at check points in Match-AT projects using different camera systems"
        },
        "xaxis": {
         "anchor": "y",
         "domain": [
          0,
          1
         ],
         "linecolor": "black",
         "linewidth": 1,
         "mirror": true,
         "showline": true,
         "zeroline": true
        },
        "xaxis2": {
         "anchor": "y2",
         "domain": [
          0,
          1
         ],
         "linecolor": "black",
         "linewidth": 1,
         "mirror": true,
         "showline": true,
         "zeroline": true
        },
        "xaxis3": {
         "anchor": "y3",
         "domain": [
          0,
          1
         ],
         "linecolor": "black",
         "linewidth": 1,
         "mirror": true,
         "showline": true,
         "zeroline": true
        },
        "yaxis": {
         "anchor": "x",
         "domain": [
          0.7777777777777778,
          1
         ],
         "dtick": 0.05,
         "gridcolor": "lightgray",
         "linecolor": "black",
         "linewidth": 1,
         "mirror": true,
         "range": [
          -0.15,
          0.15
         ],
         "showgrid": true,
         "showline": true,
         "zeroline": true,
         "zerolinecolor": "black",
         "zerolinewidth": 1
        },
        "yaxis2": {
         "anchor": "x2",
         "domain": [
          0.3888888888888889,
          0.6111111111111112
         ],
         "dtick": 0.05,
         "gridcolor": "lightgray",
         "linecolor": "black",
         "linewidth": 1,
         "mirror": true,
         "range": [
          -0.15,
          0.15
         ],
         "showgrid": true,
         "showline": true,
         "zeroline": true,
         "zerolinecolor": "black",
         "zerolinewidth": 1
        },
        "yaxis3": {
         "anchor": "x3",
         "domain": [
          0,
          0.22222222222222224
         ],
         "dtick": 0.05,
         "gridcolor": "lightgray",
         "linecolor": "black",
         "linewidth": 1,
         "mirror": true,
         "range": [
          -0.15,
          0.15
         ],
         "showgrid": true,
         "showline": true,
         "zeroline": true,
         "zerolinecolor": "black",
         "zerolinewidth": 1
        }
       }
      }
     },
     "metadata": {},
     "output_type": "display_data"
    }
   ],
   "source": [
    "\"\"\" Lower Weight [4GCP + 18CP] Residual-SCATTERPLOT\"\"\"\n",
    "prj_4gcp_list_LW = [prj_4GCP_uce_m3_LW, prj_4GCP_uce_4_LW,\n",
    "                    prj_4GCP_leica_LW, prj_4GCP_igi_LW]\n",
    "camera_names = [\"UCE-M3\", \"Camera A\", \"Camera B\", \"Camera C\"] #A: UCE-4.1, B: DMC-4, C: UM-2\n",
    "colors = ['green', 'navy', 'orange', 'red']\n",
    "\n",
    "fig = make_subplots(rows=3, cols=1, subplot_titles=[\n",
    "                    \"CP Residual-X\", \"CP Residual-Y\", \"CP Residual-Z\"])\n",
    "for prj, color, name in zip(prj_4gcp_list_LW, colors, camera_names):\n",
    "    fig.append_trace(go.Scatter(\n",
    "        name=name,\n",
    "        x=[str(id) for id in prj.cp_id],\n",
    "        y=prj.cp_residual[:, 0],\n",
    "        marker_color=color,\n",
    "        legendgroup=name\n",
    "    ),\n",
    "        row=1,\n",
    "        col=1\n",
    "    )\n",
    "    fig.append_trace(go.Scatter(\n",
    "        name=name,\n",
    "        x=[str(id) for id in prj.cp_id],\n",
    "        y=prj.cp_residual[:, 1],\n",
    "        marker_color=color,\n",
    "        showlegend=False,\n",
    "        legendgroup=name\n",
    "    ),\n",
    "        row=2,\n",
    "        col=1\n",
    "    )\n",
    "    fig.append_trace(go.Scatter(\n",
    "        name=name,\n",
    "        x=[str(id) for id in prj.cp_id],\n",
    "        y=prj.cp_residual[:, 2],\n",
    "        marker_color=color,\n",
    "        showlegend=False,\n",
    "        legendgroup=name\n",
    "    ),\n",
    "        row=3,\n",
    "        col=1\n",
    "    )\n",
    "\n",
    "fig.update_traces(opacity=0.6)\n",
    "fig.update_layout(\n",
    "    title='[4GCP+18CP] Residuals at check points in Match-AT projects using different camera systems',\n",
    "    plot_bgcolor='white',\n",
    "    xaxis1={\"zeroline\": True, \"showline\": True,\n",
    "            \"linewidth\": 1, \"linecolor\": \"black\", \"mirror\": True},\n",
    "    yaxis1={\"range\": [-0.15, 0.15], \"dtick\": 0.05,\n",
    "            \"showgrid\": True, \"gridcolor\": \"lightgray\",\n",
    "            \"zeroline\": True, \"zerolinecolor\": 'black', \"zerolinewidth\": 1,\n",
    "            \"showline\": True, \"linewidth\": 1, \"linecolor\": \"black\", \"mirror\": True},\n",
    "    xaxis2={\"zeroline\": True, \"showline\": True,\n",
    "            \"linewidth\": 1, \"linecolor\": \"black\", \"mirror\": True},\n",
    "    yaxis2={\"range\": [-0.15, 0.15], \"dtick\": 0.05,\n",
    "            \"showgrid\": True, \"gridcolor\": \"lightgray\",\n",
    "            \"zeroline\": True, \"zerolinecolor\": 'black', \"zerolinewidth\": 1,\n",
    "            \"showline\": True, \"linewidth\": 1, \"linecolor\": \"black\", \"mirror\": True},\n",
    "    xaxis3={\"zeroline\": True, \"showline\": True,\n",
    "            \"linewidth\": 1, \"linecolor\": \"black\", \"mirror\": True},\n",
    "    yaxis3={\"range\": [-0.15, 0.15], \"dtick\": 0.05,\n",
    "            \"showgrid\": True, \"gridcolor\": \"lightgray\",\n",
    "            \"zeroline\": True, \"zerolinecolor\": 'black', \"zerolinewidth\": 1,\n",
    "            \"showline\": True, \"linewidth\": 1, \"linecolor\": \"black\", \"mirror\": True},\n",
    "    legend_tracegroupgap=20\n",
    ")\n",
    "fig.update_xaxes = {\n",
    "    \"dtick\": 0.2,\n",
    "    \"showgrid\": False,\n",
    "    \"zeroline\": False\n",
    "}\n",
    "fig.show()\n",
    "fig.write_html(\"./Results/4+18/CP_Residuals-4gcp+18cp_lowweight.html\")"
   ]
  },
  {
   "cell_type": "code",
   "execution_count": 69,
   "metadata": {},
   "outputs": [
    {
     "data": {
      "application/vnd.plotly.v1+json": {
       "config": {
        "plotlyServerURL": "https://plot.ly"
       },
       "data": [
        {
         "cliponaxis": false,
         "legendgroup": "UCE-M3",
         "marker": {
          "color": "green"
         },
         "name": "UCE-M3",
         "opacity": 0.6,
         "showlegend": true,
         "text": [
          "0.013",
          "0.012",
          "0.081"
         ],
         "textangle": 0,
         "textfont": {
          "color": "black",
          "size": 15
         },
         "textposition": "outside",
         "type": "bar",
         "x": [
          "RMSE-X",
          "RMSE-Y",
          "RMSE-Z"
         ],
         "y": [
          0.013,
          0.012,
          0.081
         ]
        },
        {
         "cliponaxis": false,
         "legendgroup": "Camera A",
         "marker": {
          "color": "navy"
         },
         "name": "Camera A",
         "opacity": 0.6,
         "showlegend": true,
         "text": [
          "0.014",
          "0.016",
          "0.113"
         ],
         "textangle": 0,
         "textfont": {
          "color": "black",
          "size": 15
         },
         "textposition": "outside",
         "type": "bar",
         "x": [
          "RMSE-X",
          "RMSE-Y",
          "RMSE-Z"
         ],
         "y": [
          0.014,
          0.016,
          0.113
         ]
        },
        {
         "cliponaxis": false,
         "legendgroup": "Camera B",
         "marker": {
          "color": "orange"
         },
         "name": "Camera B",
         "opacity": 0.6,
         "showlegend": true,
         "text": [
          "0.016",
          "0.017",
          "0.178"
         ],
         "textangle": 0,
         "textfont": {
          "color": "black",
          "size": 15
         },
         "textposition": "outside",
         "type": "bar",
         "x": [
          "RMSE-X",
          "RMSE-Y",
          "RMSE-Z"
         ],
         "y": [
          0.016,
          0.017,
          0.178
         ]
        },
        {
         "cliponaxis": false,
         "legendgroup": "Camera C",
         "marker": {
          "color": "red"
         },
         "name": "Camera C",
         "opacity": 0.6,
         "showlegend": true,
         "text": [
          "0.022",
          "0.026",
          "0.063"
         ],
         "textangle": 0,
         "textfont": {
          "color": "black",
          "size": 15
         },
         "textposition": "outside",
         "type": "bar",
         "x": [
          "RMSE-X",
          "RMSE-Y",
          "RMSE-Z"
         ],
         "y": [
          0.022,
          0.026,
          0.063
         ]
        }
       ],
       "layout": {
        "legend": {
         "tracegroupgap": 20
        },
        "plot_bgcolor": "white",
        "template": {
         "data": {
          "bar": [
           {
            "error_x": {
             "color": "#2a3f5f"
            },
            "error_y": {
             "color": "#2a3f5f"
            },
            "marker": {
             "line": {
              "color": "#E5ECF6",
              "width": 0.5
             },
             "pattern": {
              "fillmode": "overlay",
              "size": 10,
              "solidity": 0.2
             }
            },
            "type": "bar"
           }
          ],
          "barpolar": [
           {
            "marker": {
             "line": {
              "color": "#E5ECF6",
              "width": 0.5
             },
             "pattern": {
              "fillmode": "overlay",
              "size": 10,
              "solidity": 0.2
             }
            },
            "type": "barpolar"
           }
          ],
          "carpet": [
           {
            "aaxis": {
             "endlinecolor": "#2a3f5f",
             "gridcolor": "white",
             "linecolor": "white",
             "minorgridcolor": "white",
             "startlinecolor": "#2a3f5f"
            },
            "baxis": {
             "endlinecolor": "#2a3f5f",
             "gridcolor": "white",
             "linecolor": "white",
             "minorgridcolor": "white",
             "startlinecolor": "#2a3f5f"
            },
            "type": "carpet"
           }
          ],
          "choropleth": [
           {
            "colorbar": {
             "outlinewidth": 0,
             "ticks": ""
            },
            "type": "choropleth"
           }
          ],
          "contour": [
           {
            "colorbar": {
             "outlinewidth": 0,
             "ticks": ""
            },
            "colorscale": [
             [
              0,
              "#0d0887"
             ],
             [
              0.1111111111111111,
              "#46039f"
             ],
             [
              0.2222222222222222,
              "#7201a8"
             ],
             [
              0.3333333333333333,
              "#9c179e"
             ],
             [
              0.4444444444444444,
              "#bd3786"
             ],
             [
              0.5555555555555556,
              "#d8576b"
             ],
             [
              0.6666666666666666,
              "#ed7953"
             ],
             [
              0.7777777777777778,
              "#fb9f3a"
             ],
             [
              0.8888888888888888,
              "#fdca26"
             ],
             [
              1,
              "#f0f921"
             ]
            ],
            "type": "contour"
           }
          ],
          "contourcarpet": [
           {
            "colorbar": {
             "outlinewidth": 0,
             "ticks": ""
            },
            "type": "contourcarpet"
           }
          ],
          "heatmap": [
           {
            "colorbar": {
             "outlinewidth": 0,
             "ticks": ""
            },
            "colorscale": [
             [
              0,
              "#0d0887"
             ],
             [
              0.1111111111111111,
              "#46039f"
             ],
             [
              0.2222222222222222,
              "#7201a8"
             ],
             [
              0.3333333333333333,
              "#9c179e"
             ],
             [
              0.4444444444444444,
              "#bd3786"
             ],
             [
              0.5555555555555556,
              "#d8576b"
             ],
             [
              0.6666666666666666,
              "#ed7953"
             ],
             [
              0.7777777777777778,
              "#fb9f3a"
             ],
             [
              0.8888888888888888,
              "#fdca26"
             ],
             [
              1,
              "#f0f921"
             ]
            ],
            "type": "heatmap"
           }
          ],
          "heatmapgl": [
           {
            "colorbar": {
             "outlinewidth": 0,
             "ticks": ""
            },
            "colorscale": [
             [
              0,
              "#0d0887"
             ],
             [
              0.1111111111111111,
              "#46039f"
             ],
             [
              0.2222222222222222,
              "#7201a8"
             ],
             [
              0.3333333333333333,
              "#9c179e"
             ],
             [
              0.4444444444444444,
              "#bd3786"
             ],
             [
              0.5555555555555556,
              "#d8576b"
             ],
             [
              0.6666666666666666,
              "#ed7953"
             ],
             [
              0.7777777777777778,
              "#fb9f3a"
             ],
             [
              0.8888888888888888,
              "#fdca26"
             ],
             [
              1,
              "#f0f921"
             ]
            ],
            "type": "heatmapgl"
           }
          ],
          "histogram": [
           {
            "marker": {
             "pattern": {
              "fillmode": "overlay",
              "size": 10,
              "solidity": 0.2
             }
            },
            "type": "histogram"
           }
          ],
          "histogram2d": [
           {
            "colorbar": {
             "outlinewidth": 0,
             "ticks": ""
            },
            "colorscale": [
             [
              0,
              "#0d0887"
             ],
             [
              0.1111111111111111,
              "#46039f"
             ],
             [
              0.2222222222222222,
              "#7201a8"
             ],
             [
              0.3333333333333333,
              "#9c179e"
             ],
             [
              0.4444444444444444,
              "#bd3786"
             ],
             [
              0.5555555555555556,
              "#d8576b"
             ],
             [
              0.6666666666666666,
              "#ed7953"
             ],
             [
              0.7777777777777778,
              "#fb9f3a"
             ],
             [
              0.8888888888888888,
              "#fdca26"
             ],
             [
              1,
              "#f0f921"
             ]
            ],
            "type": "histogram2d"
           }
          ],
          "histogram2dcontour": [
           {
            "colorbar": {
             "outlinewidth": 0,
             "ticks": ""
            },
            "colorscale": [
             [
              0,
              "#0d0887"
             ],
             [
              0.1111111111111111,
              "#46039f"
             ],
             [
              0.2222222222222222,
              "#7201a8"
             ],
             [
              0.3333333333333333,
              "#9c179e"
             ],
             [
              0.4444444444444444,
              "#bd3786"
             ],
             [
              0.5555555555555556,
              "#d8576b"
             ],
             [
              0.6666666666666666,
              "#ed7953"
             ],
             [
              0.7777777777777778,
              "#fb9f3a"
             ],
             [
              0.8888888888888888,
              "#fdca26"
             ],
             [
              1,
              "#f0f921"
             ]
            ],
            "type": "histogram2dcontour"
           }
          ],
          "mesh3d": [
           {
            "colorbar": {
             "outlinewidth": 0,
             "ticks": ""
            },
            "type": "mesh3d"
           }
          ],
          "parcoords": [
           {
            "line": {
             "colorbar": {
              "outlinewidth": 0,
              "ticks": ""
             }
            },
            "type": "parcoords"
           }
          ],
          "pie": [
           {
            "automargin": true,
            "type": "pie"
           }
          ],
          "scatter": [
           {
            "fillpattern": {
             "fillmode": "overlay",
             "size": 10,
             "solidity": 0.2
            },
            "type": "scatter"
           }
          ],
          "scatter3d": [
           {
            "line": {
             "colorbar": {
              "outlinewidth": 0,
              "ticks": ""
             }
            },
            "marker": {
             "colorbar": {
              "outlinewidth": 0,
              "ticks": ""
             }
            },
            "type": "scatter3d"
           }
          ],
          "scattercarpet": [
           {
            "marker": {
             "colorbar": {
              "outlinewidth": 0,
              "ticks": ""
             }
            },
            "type": "scattercarpet"
           }
          ],
          "scattergeo": [
           {
            "marker": {
             "colorbar": {
              "outlinewidth": 0,
              "ticks": ""
             }
            },
            "type": "scattergeo"
           }
          ],
          "scattergl": [
           {
            "marker": {
             "colorbar": {
              "outlinewidth": 0,
              "ticks": ""
             }
            },
            "type": "scattergl"
           }
          ],
          "scattermapbox": [
           {
            "marker": {
             "colorbar": {
              "outlinewidth": 0,
              "ticks": ""
             }
            },
            "type": "scattermapbox"
           }
          ],
          "scatterpolar": [
           {
            "marker": {
             "colorbar": {
              "outlinewidth": 0,
              "ticks": ""
             }
            },
            "type": "scatterpolar"
           }
          ],
          "scatterpolargl": [
           {
            "marker": {
             "colorbar": {
              "outlinewidth": 0,
              "ticks": ""
             }
            },
            "type": "scatterpolargl"
           }
          ],
          "scatterternary": [
           {
            "marker": {
             "colorbar": {
              "outlinewidth": 0,
              "ticks": ""
             }
            },
            "type": "scatterternary"
           }
          ],
          "surface": [
           {
            "colorbar": {
             "outlinewidth": 0,
             "ticks": ""
            },
            "colorscale": [
             [
              0,
              "#0d0887"
             ],
             [
              0.1111111111111111,
              "#46039f"
             ],
             [
              0.2222222222222222,
              "#7201a8"
             ],
             [
              0.3333333333333333,
              "#9c179e"
             ],
             [
              0.4444444444444444,
              "#bd3786"
             ],
             [
              0.5555555555555556,
              "#d8576b"
             ],
             [
              0.6666666666666666,
              "#ed7953"
             ],
             [
              0.7777777777777778,
              "#fb9f3a"
             ],
             [
              0.8888888888888888,
              "#fdca26"
             ],
             [
              1,
              "#f0f921"
             ]
            ],
            "type": "surface"
           }
          ],
          "table": [
           {
            "cells": {
             "fill": {
              "color": "#EBF0F8"
             },
             "line": {
              "color": "white"
             }
            },
            "header": {
             "fill": {
              "color": "#C8D4E3"
             },
             "line": {
              "color": "white"
             }
            },
            "type": "table"
           }
          ]
         },
         "layout": {
          "annotationdefaults": {
           "arrowcolor": "#2a3f5f",
           "arrowhead": 0,
           "arrowwidth": 1
          },
          "autotypenumbers": "strict",
          "coloraxis": {
           "colorbar": {
            "outlinewidth": 0,
            "ticks": ""
           }
          },
          "colorscale": {
           "diverging": [
            [
             0,
             "#8e0152"
            ],
            [
             0.1,
             "#c51b7d"
            ],
            [
             0.2,
             "#de77ae"
            ],
            [
             0.3,
             "#f1b6da"
            ],
            [
             0.4,
             "#fde0ef"
            ],
            [
             0.5,
             "#f7f7f7"
            ],
            [
             0.6,
             "#e6f5d0"
            ],
            [
             0.7,
             "#b8e186"
            ],
            [
             0.8,
             "#7fbc41"
            ],
            [
             0.9,
             "#4d9221"
            ],
            [
             1,
             "#276419"
            ]
           ],
           "sequential": [
            [
             0,
             "#0d0887"
            ],
            [
             0.1111111111111111,
             "#46039f"
            ],
            [
             0.2222222222222222,
             "#7201a8"
            ],
            [
             0.3333333333333333,
             "#9c179e"
            ],
            [
             0.4444444444444444,
             "#bd3786"
            ],
            [
             0.5555555555555556,
             "#d8576b"
            ],
            [
             0.6666666666666666,
             "#ed7953"
            ],
            [
             0.7777777777777778,
             "#fb9f3a"
            ],
            [
             0.8888888888888888,
             "#fdca26"
            ],
            [
             1,
             "#f0f921"
            ]
           ],
           "sequentialminus": [
            [
             0,
             "#0d0887"
            ],
            [
             0.1111111111111111,
             "#46039f"
            ],
            [
             0.2222222222222222,
             "#7201a8"
            ],
            [
             0.3333333333333333,
             "#9c179e"
            ],
            [
             0.4444444444444444,
             "#bd3786"
            ],
            [
             0.5555555555555556,
             "#d8576b"
            ],
            [
             0.6666666666666666,
             "#ed7953"
            ],
            [
             0.7777777777777778,
             "#fb9f3a"
            ],
            [
             0.8888888888888888,
             "#fdca26"
            ],
            [
             1,
             "#f0f921"
            ]
           ]
          },
          "colorway": [
           "#636efa",
           "#EF553B",
           "#00cc96",
           "#ab63fa",
           "#FFA15A",
           "#19d3f3",
           "#FF6692",
           "#B6E880",
           "#FF97FF",
           "#FECB52"
          ],
          "font": {
           "color": "#2a3f5f"
          },
          "geo": {
           "bgcolor": "white",
           "lakecolor": "white",
           "landcolor": "#E5ECF6",
           "showlakes": true,
           "showland": true,
           "subunitcolor": "white"
          },
          "hoverlabel": {
           "align": "left"
          },
          "hovermode": "closest",
          "mapbox": {
           "style": "light"
          },
          "paper_bgcolor": "white",
          "plot_bgcolor": "#E5ECF6",
          "polar": {
           "angularaxis": {
            "gridcolor": "white",
            "linecolor": "white",
            "ticks": ""
           },
           "bgcolor": "#E5ECF6",
           "radialaxis": {
            "gridcolor": "white",
            "linecolor": "white",
            "ticks": ""
           }
          },
          "scene": {
           "xaxis": {
            "backgroundcolor": "#E5ECF6",
            "gridcolor": "white",
            "gridwidth": 2,
            "linecolor": "white",
            "showbackground": true,
            "ticks": "",
            "zerolinecolor": "white"
           },
           "yaxis": {
            "backgroundcolor": "#E5ECF6",
            "gridcolor": "white",
            "gridwidth": 2,
            "linecolor": "white",
            "showbackground": true,
            "ticks": "",
            "zerolinecolor": "white"
           },
           "zaxis": {
            "backgroundcolor": "#E5ECF6",
            "gridcolor": "white",
            "gridwidth": 2,
            "linecolor": "white",
            "showbackground": true,
            "ticks": "",
            "zerolinecolor": "white"
           }
          },
          "shapedefaults": {
           "line": {
            "color": "#2a3f5f"
           }
          },
          "ternary": {
           "aaxis": {
            "gridcolor": "white",
            "linecolor": "white",
            "ticks": ""
           },
           "baxis": {
            "gridcolor": "white",
            "linecolor": "white",
            "ticks": ""
           },
           "bgcolor": "#E5ECF6",
           "caxis": {
            "gridcolor": "white",
            "linecolor": "white",
            "ticks": ""
           }
          },
          "title": {
           "x": 0.05
          },
          "xaxis": {
           "automargin": true,
           "gridcolor": "white",
           "linecolor": "white",
           "ticks": "",
           "title": {
            "standoff": 15
           },
           "zerolinecolor": "white",
           "zerolinewidth": 2
          },
          "yaxis": {
           "automargin": true,
           "gridcolor": "white",
           "linecolor": "white",
           "ticks": "",
           "title": {
            "standoff": 15
           },
           "zerolinecolor": "white",
           "zerolinewidth": 2
          }
         }
        },
        "title": {
         "text": "NO GNSS - [15GCP+18CP] RMSE at check points in Match-AT projects using different camera systems"
        },
        "xaxis": {
         "linecolor": "black",
         "linewidth": 1,
         "mirror": true,
         "showgrid": false,
         "showline": true,
         "zeroline": false
        },
        "yaxis": {
         "dtick": 0.02,
         "gridcolor": "lightgray",
         "linecolor": "black",
         "linewidth": 1,
         "mirror": true,
         "range": [
          0,
          0.2
         ],
         "showgrid": true,
         "showline": true,
         "zeroline": false
        }
       }
      }
     },
     "metadata": {},
     "output_type": "display_data"
    }
   ],
   "source": [
    "\"\"\"NO GNSS - [15GCP + 18CP] RMSE-BARPLOT\"\"\"\n",
    "# [15GCP+18CP] Bar subplot of RMSE - x/y/z\n",
    "\"\"\" \n",
    "Compare the results from Inpho projets with Match-AT setting: GNSS and shifts for all on, IMU on. Earth curvature and Refraction correction: on\n",
    "\"\"\"\n",
    "\n",
    "prj_15gcp_list = [prj_15GCP_uce_m3_NOGNSS, prj_15GCP_uce_4_NOGNSS,\n",
    "                  prj_15GCP_leica_NOGNSS, prj_15GCP_igi_NOGNSS]\n",
    "fig = go.Figure()\n",
    "camera_names = [\"UCE-M3\", \"Camera A\", \"Camera B\", \"Camera C\"] #A: UCE-4.1, B: DMC-4, C: UM-2\n",
    "colors = ['green', 'navy', 'orange', 'red']\n",
    "x_axis = ['RMSE-X', 'RMSE-Y', 'RMSE-Z']\n",
    "\n",
    "for prj, color, name in zip(prj_15gcp_list, colors, camera_names):\n",
    "    fig.add_trace(go.Bar(\n",
    "        name=name,\n",
    "        x=x_axis,\n",
    "        y=prj.cp_RMS,\n",
    "        marker_color=color,\n",
    "        text=[str(num) for num in prj.cp_RMS],\n",
    "        textposition=\"inside\",\n",
    "        legendgroup=name,\n",
    "        showlegend=True\n",
    "    )\n",
    "    )\n",
    "\n",
    "\n",
    "fig.update_traces(opacity=0.6, textfont_size=15, textfont_color='black',textangle=0, textposition=\"outside\", cliponaxis=False)\n",
    "fig.update_layout(\n",
    "    title='NO GNSS - [15GCP+18CP] RMSE at check points in Match-AT projects using different camera systems',\n",
    "    xaxis={\"showgrid\": False, \"zeroline\": False},\n",
    "    yaxis={\"showgrid\": True, \"zeroline\": False,\n",
    "           \"range\": [0, 0.2], \"dtick\": 0.02},\n",
    "    legend_tracegroupgap=20,\n",
    "    plot_bgcolor='white'\n",
    ")\n",
    "fig.update_xaxes(showline=True, linewidth=1, linecolor='black', mirror=True)\n",
    "fig.update_yaxes(showgrid=True, gridcolor='lightgray',\n",
    "                 showline=True, linewidth=1, linecolor='black', mirror=True)\n",
    "fig.show()\n",
    "fig.write_html(\"./Results/15+18/CP_RMS-15gcp+18cp_NOGNSS.html\")"
   ]
  },
  {
   "cell_type": "code",
   "execution_count": 70,
   "metadata": {},
   "outputs": [
    {
     "data": {
      "application/vnd.plotly.v1+json": {
       "config": {
        "plotlyServerURL": "https://plot.ly"
       },
       "data": [
        {
         "cliponaxis": false,
         "legendgroup": "4 GCP",
         "marker": {
          "color": "navy"
         },
         "name": "4 GCP",
         "opacity": 0.6,
         "showlegend": true,
         "text": [
          "0.02",
          "0.025",
          "0.047"
         ],
         "textangle": 0,
         "textfont": {
          "color": "black",
          "size": 15
         },
         "textposition": "outside",
         "type": "bar",
         "x": [
          "RMSE-X",
          "RMSE-Y",
          "RMSE-Z"
         ],
         "xaxis": "x",
         "y": [
          0.02,
          0.025,
          0.047
         ],
         "yaxis": "y"
        },
        {
         "cliponaxis": false,
         "legendgroup": "4 GCP",
         "marker": {
          "color": "navy"
         },
         "name": "4 GCP",
         "opacity": 0.6,
         "showlegend": false,
         "text": [
          "0.023",
          "0.02",
          "0.053"
         ],
         "textangle": 0,
         "textfont": {
          "color": "black",
          "size": 15
         },
         "textposition": "outside",
         "type": "bar",
         "x": [
          "RMSE-X",
          "RMSE-Y",
          "RMSE-Z"
         ],
         "xaxis": "x2",
         "y": [
          0.023,
          0.02,
          0.053
         ],
         "yaxis": "y2"
        },
        {
         "cliponaxis": false,
         "legendgroup": "4 GCP",
         "marker": {
          "color": "navy"
         },
         "name": "4 GCP",
         "opacity": 0.6,
         "showlegend": false,
         "text": [
          "0.023",
          "0.03",
          "0.06"
         ],
         "textangle": 0,
         "textfont": {
          "color": "black",
          "size": 15
         },
         "textposition": "outside",
         "type": "bar",
         "x": [
          "RMSE-X",
          "RMSE-Y",
          "RMSE-Z"
         ],
         "xaxis": "x3",
         "y": [
          0.023,
          0.03,
          0.06
         ],
         "yaxis": "y3"
        },
        {
         "cliponaxis": false,
         "legendgroup": "4 GCP",
         "marker": {
          "color": "navy"
         },
         "name": "4 GCP",
         "opacity": 0.6,
         "showlegend": false,
         "text": [
          "0.04",
          "0.033",
          "0.048"
         ],
         "textangle": 0,
         "textfont": {
          "color": "black",
          "size": 15
         },
         "textposition": "outside",
         "type": "bar",
         "x": [
          "RMSE-X",
          "RMSE-Y",
          "RMSE-Z"
         ],
         "xaxis": "x4",
         "y": [
          0.04,
          0.033,
          0.048
         ],
         "yaxis": "y4"
        },
        {
         "cliponaxis": false,
         "legendgroup": "15 GCP",
         "marker": {
          "color": "red"
         },
         "name": "15 GCP",
         "opacity": 0.6,
         "showlegend": true,
         "text": [
          "0.026",
          "0.021",
          "0.043"
         ],
         "textangle": 0,
         "textfont": {
          "color": "black",
          "size": 15
         },
         "textposition": "outside",
         "type": "bar",
         "x": [
          "RMSE-X",
          "RMSE-Y",
          "RMSE-Z"
         ],
         "xaxis": "x",
         "y": [
          0.026,
          0.021,
          0.043
         ],
         "yaxis": "y"
        },
        {
         "cliponaxis": false,
         "legendgroup": "15 GCP",
         "marker": {
          "color": "red"
         },
         "name": "15 GCP",
         "opacity": 0.6,
         "showlegend": false,
         "text": [
          "0.016",
          "0.012",
          "0.051"
         ],
         "textangle": 0,
         "textfont": {
          "color": "black",
          "size": 15
         },
         "textposition": "outside",
         "type": "bar",
         "x": [
          "RMSE-X",
          "RMSE-Y",
          "RMSE-Z"
         ],
         "xaxis": "x2",
         "y": [
          0.016,
          0.012,
          0.051
         ],
         "yaxis": "y2"
        },
        {
         "cliponaxis": false,
         "legendgroup": "15 GCP",
         "marker": {
          "color": "red"
         },
         "name": "15 GCP",
         "opacity": 0.6,
         "showlegend": false,
         "text": [
          "0.015",
          "0.026",
          "0.044"
         ],
         "textangle": 0,
         "textfont": {
          "color": "black",
          "size": 15
         },
         "textposition": "outside",
         "type": "bar",
         "x": [
          "RMSE-X",
          "RMSE-Y",
          "RMSE-Z"
         ],
         "xaxis": "x3",
         "y": [
          0.015,
          0.026,
          0.044
         ],
         "yaxis": "y3"
        },
        {
         "cliponaxis": false,
         "legendgroup": "15 GCP",
         "marker": {
          "color": "red"
         },
         "name": "15 GCP",
         "opacity": 0.6,
         "showlegend": false,
         "text": [
          "0.03",
          "0.03",
          "0.046"
         ],
         "textangle": 0,
         "textfont": {
          "color": "black",
          "size": 15
         },
         "textposition": "outside",
         "type": "bar",
         "x": [
          "RMSE-X",
          "RMSE-Y",
          "RMSE-Z"
         ],
         "xaxis": "x4",
         "y": [
          0.03,
          0.03,
          0.046
         ],
         "yaxis": "y4"
        }
       ],
       "layout": {
        "annotations": [
         {
          "font": {
           "size": 16
          },
          "showarrow": false,
          "text": "Vexcel UCE-M3",
          "x": 0.225,
          "xanchor": "center",
          "xref": "paper",
          "y": 1,
          "yanchor": "bottom",
          "yref": "paper"
         },
         {
          "font": {
           "size": 16
          },
          "showarrow": false,
          "text": "Camera A",
          "x": 0.775,
          "xanchor": "center",
          "xref": "paper",
          "y": 1,
          "yanchor": "bottom",
          "yref": "paper"
         },
         {
          "font": {
           "size": 16
          },
          "showarrow": false,
          "text": "Camera B",
          "x": 0.225,
          "xanchor": "center",
          "xref": "paper",
          "y": 0.375,
          "yanchor": "bottom",
          "yref": "paper"
         },
         {
          "font": {
           "size": 16
          },
          "showarrow": false,
          "text": "Camera C",
          "x": 0.775,
          "xanchor": "center",
          "xref": "paper",
          "y": 0.375,
          "yanchor": "bottom",
          "yref": "paper"
         }
        ],
        "legend": {
         "tracegroupgap": 20
        },
        "plot_bgcolor": "white",
        "template": {
         "data": {
          "bar": [
           {
            "error_x": {
             "color": "#2a3f5f"
            },
            "error_y": {
             "color": "#2a3f5f"
            },
            "marker": {
             "line": {
              "color": "#E5ECF6",
              "width": 0.5
             },
             "pattern": {
              "fillmode": "overlay",
              "size": 10,
              "solidity": 0.2
             }
            },
            "type": "bar"
           }
          ],
          "barpolar": [
           {
            "marker": {
             "line": {
              "color": "#E5ECF6",
              "width": 0.5
             },
             "pattern": {
              "fillmode": "overlay",
              "size": 10,
              "solidity": 0.2
             }
            },
            "type": "barpolar"
           }
          ],
          "carpet": [
           {
            "aaxis": {
             "endlinecolor": "#2a3f5f",
             "gridcolor": "white",
             "linecolor": "white",
             "minorgridcolor": "white",
             "startlinecolor": "#2a3f5f"
            },
            "baxis": {
             "endlinecolor": "#2a3f5f",
             "gridcolor": "white",
             "linecolor": "white",
             "minorgridcolor": "white",
             "startlinecolor": "#2a3f5f"
            },
            "type": "carpet"
           }
          ],
          "choropleth": [
           {
            "colorbar": {
             "outlinewidth": 0,
             "ticks": ""
            },
            "type": "choropleth"
           }
          ],
          "contour": [
           {
            "colorbar": {
             "outlinewidth": 0,
             "ticks": ""
            },
            "colorscale": [
             [
              0,
              "#0d0887"
             ],
             [
              0.1111111111111111,
              "#46039f"
             ],
             [
              0.2222222222222222,
              "#7201a8"
             ],
             [
              0.3333333333333333,
              "#9c179e"
             ],
             [
              0.4444444444444444,
              "#bd3786"
             ],
             [
              0.5555555555555556,
              "#d8576b"
             ],
             [
              0.6666666666666666,
              "#ed7953"
             ],
             [
              0.7777777777777778,
              "#fb9f3a"
             ],
             [
              0.8888888888888888,
              "#fdca26"
             ],
             [
              1,
              "#f0f921"
             ]
            ],
            "type": "contour"
           }
          ],
          "contourcarpet": [
           {
            "colorbar": {
             "outlinewidth": 0,
             "ticks": ""
            },
            "type": "contourcarpet"
           }
          ],
          "heatmap": [
           {
            "colorbar": {
             "outlinewidth": 0,
             "ticks": ""
            },
            "colorscale": [
             [
              0,
              "#0d0887"
             ],
             [
              0.1111111111111111,
              "#46039f"
             ],
             [
              0.2222222222222222,
              "#7201a8"
             ],
             [
              0.3333333333333333,
              "#9c179e"
             ],
             [
              0.4444444444444444,
              "#bd3786"
             ],
             [
              0.5555555555555556,
              "#d8576b"
             ],
             [
              0.6666666666666666,
              "#ed7953"
             ],
             [
              0.7777777777777778,
              "#fb9f3a"
             ],
             [
              0.8888888888888888,
              "#fdca26"
             ],
             [
              1,
              "#f0f921"
             ]
            ],
            "type": "heatmap"
           }
          ],
          "heatmapgl": [
           {
            "colorbar": {
             "outlinewidth": 0,
             "ticks": ""
            },
            "colorscale": [
             [
              0,
              "#0d0887"
             ],
             [
              0.1111111111111111,
              "#46039f"
             ],
             [
              0.2222222222222222,
              "#7201a8"
             ],
             [
              0.3333333333333333,
              "#9c179e"
             ],
             [
              0.4444444444444444,
              "#bd3786"
             ],
             [
              0.5555555555555556,
              "#d8576b"
             ],
             [
              0.6666666666666666,
              "#ed7953"
             ],
             [
              0.7777777777777778,
              "#fb9f3a"
             ],
             [
              0.8888888888888888,
              "#fdca26"
             ],
             [
              1,
              "#f0f921"
             ]
            ],
            "type": "heatmapgl"
           }
          ],
          "histogram": [
           {
            "marker": {
             "pattern": {
              "fillmode": "overlay",
              "size": 10,
              "solidity": 0.2
             }
            },
            "type": "histogram"
           }
          ],
          "histogram2d": [
           {
            "colorbar": {
             "outlinewidth": 0,
             "ticks": ""
            },
            "colorscale": [
             [
              0,
              "#0d0887"
             ],
             [
              0.1111111111111111,
              "#46039f"
             ],
             [
              0.2222222222222222,
              "#7201a8"
             ],
             [
              0.3333333333333333,
              "#9c179e"
             ],
             [
              0.4444444444444444,
              "#bd3786"
             ],
             [
              0.5555555555555556,
              "#d8576b"
             ],
             [
              0.6666666666666666,
              "#ed7953"
             ],
             [
              0.7777777777777778,
              "#fb9f3a"
             ],
             [
              0.8888888888888888,
              "#fdca26"
             ],
             [
              1,
              "#f0f921"
             ]
            ],
            "type": "histogram2d"
           }
          ],
          "histogram2dcontour": [
           {
            "colorbar": {
             "outlinewidth": 0,
             "ticks": ""
            },
            "colorscale": [
             [
              0,
              "#0d0887"
             ],
             [
              0.1111111111111111,
              "#46039f"
             ],
             [
              0.2222222222222222,
              "#7201a8"
             ],
             [
              0.3333333333333333,
              "#9c179e"
             ],
             [
              0.4444444444444444,
              "#bd3786"
             ],
             [
              0.5555555555555556,
              "#d8576b"
             ],
             [
              0.6666666666666666,
              "#ed7953"
             ],
             [
              0.7777777777777778,
              "#fb9f3a"
             ],
             [
              0.8888888888888888,
              "#fdca26"
             ],
             [
              1,
              "#f0f921"
             ]
            ],
            "type": "histogram2dcontour"
           }
          ],
          "mesh3d": [
           {
            "colorbar": {
             "outlinewidth": 0,
             "ticks": ""
            },
            "type": "mesh3d"
           }
          ],
          "parcoords": [
           {
            "line": {
             "colorbar": {
              "outlinewidth": 0,
              "ticks": ""
             }
            },
            "type": "parcoords"
           }
          ],
          "pie": [
           {
            "automargin": true,
            "type": "pie"
           }
          ],
          "scatter": [
           {
            "fillpattern": {
             "fillmode": "overlay",
             "size": 10,
             "solidity": 0.2
            },
            "type": "scatter"
           }
          ],
          "scatter3d": [
           {
            "line": {
             "colorbar": {
              "outlinewidth": 0,
              "ticks": ""
             }
            },
            "marker": {
             "colorbar": {
              "outlinewidth": 0,
              "ticks": ""
             }
            },
            "type": "scatter3d"
           }
          ],
          "scattercarpet": [
           {
            "marker": {
             "colorbar": {
              "outlinewidth": 0,
              "ticks": ""
             }
            },
            "type": "scattercarpet"
           }
          ],
          "scattergeo": [
           {
            "marker": {
             "colorbar": {
              "outlinewidth": 0,
              "ticks": ""
             }
            },
            "type": "scattergeo"
           }
          ],
          "scattergl": [
           {
            "marker": {
             "colorbar": {
              "outlinewidth": 0,
              "ticks": ""
             }
            },
            "type": "scattergl"
           }
          ],
          "scattermapbox": [
           {
            "marker": {
             "colorbar": {
              "outlinewidth": 0,
              "ticks": ""
             }
            },
            "type": "scattermapbox"
           }
          ],
          "scatterpolar": [
           {
            "marker": {
             "colorbar": {
              "outlinewidth": 0,
              "ticks": ""
             }
            },
            "type": "scatterpolar"
           }
          ],
          "scatterpolargl": [
           {
            "marker": {
             "colorbar": {
              "outlinewidth": 0,
              "ticks": ""
             }
            },
            "type": "scatterpolargl"
           }
          ],
          "scatterternary": [
           {
            "marker": {
             "colorbar": {
              "outlinewidth": 0,
              "ticks": ""
             }
            },
            "type": "scatterternary"
           }
          ],
          "surface": [
           {
            "colorbar": {
             "outlinewidth": 0,
             "ticks": ""
            },
            "colorscale": [
             [
              0,
              "#0d0887"
             ],
             [
              0.1111111111111111,
              "#46039f"
             ],
             [
              0.2222222222222222,
              "#7201a8"
             ],
             [
              0.3333333333333333,
              "#9c179e"
             ],
             [
              0.4444444444444444,
              "#bd3786"
             ],
             [
              0.5555555555555556,
              "#d8576b"
             ],
             [
              0.6666666666666666,
              "#ed7953"
             ],
             [
              0.7777777777777778,
              "#fb9f3a"
             ],
             [
              0.8888888888888888,
              "#fdca26"
             ],
             [
              1,
              "#f0f921"
             ]
            ],
            "type": "surface"
           }
          ],
          "table": [
           {
            "cells": {
             "fill": {
              "color": "#EBF0F8"
             },
             "line": {
              "color": "white"
             }
            },
            "header": {
             "fill": {
              "color": "#C8D4E3"
             },
             "line": {
              "color": "white"
             }
            },
            "type": "table"
           }
          ]
         },
         "layout": {
          "annotationdefaults": {
           "arrowcolor": "#2a3f5f",
           "arrowhead": 0,
           "arrowwidth": 1
          },
          "autotypenumbers": "strict",
          "coloraxis": {
           "colorbar": {
            "outlinewidth": 0,
            "ticks": ""
           }
          },
          "colorscale": {
           "diverging": [
            [
             0,
             "#8e0152"
            ],
            [
             0.1,
             "#c51b7d"
            ],
            [
             0.2,
             "#de77ae"
            ],
            [
             0.3,
             "#f1b6da"
            ],
            [
             0.4,
             "#fde0ef"
            ],
            [
             0.5,
             "#f7f7f7"
            ],
            [
             0.6,
             "#e6f5d0"
            ],
            [
             0.7,
             "#b8e186"
            ],
            [
             0.8,
             "#7fbc41"
            ],
            [
             0.9,
             "#4d9221"
            ],
            [
             1,
             "#276419"
            ]
           ],
           "sequential": [
            [
             0,
             "#0d0887"
            ],
            [
             0.1111111111111111,
             "#46039f"
            ],
            [
             0.2222222222222222,
             "#7201a8"
            ],
            [
             0.3333333333333333,
             "#9c179e"
            ],
            [
             0.4444444444444444,
             "#bd3786"
            ],
            [
             0.5555555555555556,
             "#d8576b"
            ],
            [
             0.6666666666666666,
             "#ed7953"
            ],
            [
             0.7777777777777778,
             "#fb9f3a"
            ],
            [
             0.8888888888888888,
             "#fdca26"
            ],
            [
             1,
             "#f0f921"
            ]
           ],
           "sequentialminus": [
            [
             0,
             "#0d0887"
            ],
            [
             0.1111111111111111,
             "#46039f"
            ],
            [
             0.2222222222222222,
             "#7201a8"
            ],
            [
             0.3333333333333333,
             "#9c179e"
            ],
            [
             0.4444444444444444,
             "#bd3786"
            ],
            [
             0.5555555555555556,
             "#d8576b"
            ],
            [
             0.6666666666666666,
             "#ed7953"
            ],
            [
             0.7777777777777778,
             "#fb9f3a"
            ],
            [
             0.8888888888888888,
             "#fdca26"
            ],
            [
             1,
             "#f0f921"
            ]
           ]
          },
          "colorway": [
           "#636efa",
           "#EF553B",
           "#00cc96",
           "#ab63fa",
           "#FFA15A",
           "#19d3f3",
           "#FF6692",
           "#B6E880",
           "#FF97FF",
           "#FECB52"
          ],
          "font": {
           "color": "#2a3f5f"
          },
          "geo": {
           "bgcolor": "white",
           "lakecolor": "white",
           "landcolor": "#E5ECF6",
           "showlakes": true,
           "showland": true,
           "subunitcolor": "white"
          },
          "hoverlabel": {
           "align": "left"
          },
          "hovermode": "closest",
          "mapbox": {
           "style": "light"
          },
          "paper_bgcolor": "white",
          "plot_bgcolor": "#E5ECF6",
          "polar": {
           "angularaxis": {
            "gridcolor": "white",
            "linecolor": "white",
            "ticks": ""
           },
           "bgcolor": "#E5ECF6",
           "radialaxis": {
            "gridcolor": "white",
            "linecolor": "white",
            "ticks": ""
           }
          },
          "scene": {
           "xaxis": {
            "backgroundcolor": "#E5ECF6",
            "gridcolor": "white",
            "gridwidth": 2,
            "linecolor": "white",
            "showbackground": true,
            "ticks": "",
            "zerolinecolor": "white"
           },
           "yaxis": {
            "backgroundcolor": "#E5ECF6",
            "gridcolor": "white",
            "gridwidth": 2,
            "linecolor": "white",
            "showbackground": true,
            "ticks": "",
            "zerolinecolor": "white"
           },
           "zaxis": {
            "backgroundcolor": "#E5ECF6",
            "gridcolor": "white",
            "gridwidth": 2,
            "linecolor": "white",
            "showbackground": true,
            "ticks": "",
            "zerolinecolor": "white"
           }
          },
          "shapedefaults": {
           "line": {
            "color": "#2a3f5f"
           }
          },
          "ternary": {
           "aaxis": {
            "gridcolor": "white",
            "linecolor": "white",
            "ticks": ""
           },
           "baxis": {
            "gridcolor": "white",
            "linecolor": "white",
            "ticks": ""
           },
           "bgcolor": "#E5ECF6",
           "caxis": {
            "gridcolor": "white",
            "linecolor": "white",
            "ticks": ""
           }
          },
          "title": {
           "x": 0.05
          },
          "xaxis": {
           "automargin": true,
           "gridcolor": "white",
           "linecolor": "white",
           "ticks": "",
           "title": {
            "standoff": 15
           },
           "zerolinecolor": "white",
           "zerolinewidth": 2
          },
          "yaxis": {
           "automargin": true,
           "gridcolor": "white",
           "linecolor": "white",
           "ticks": "",
           "title": {
            "standoff": 15
           },
           "zerolinecolor": "white",
           "zerolinewidth": 2
          }
         }
        },
        "title": {
         "text": "[GNSS/IMU] RMSE at check points in Match-AT projects different GCP"
        },
        "xaxis": {
         "anchor": "y",
         "domain": [
          0,
          0.45
         ],
         "linecolor": "black",
         "linewidth": 1,
         "mirror": true,
         "showgrid": false,
         "showline": true,
         "zeroline": false
        },
        "xaxis2": {
         "anchor": "y2",
         "domain": [
          0.55,
          1
         ],
         "linecolor": "black",
         "linewidth": 1,
         "mirror": true,
         "showgrid": false,
         "showline": true,
         "zeroline": false
        },
        "xaxis3": {
         "anchor": "y3",
         "domain": [
          0,
          0.45
         ],
         "linecolor": "black",
         "linewidth": 1,
         "mirror": true,
         "showgrid": false,
         "showline": true,
         "zeroline": false
        },
        "xaxis4": {
         "anchor": "y4",
         "domain": [
          0.55,
          1
         ],
         "linecolor": "black",
         "linewidth": 1,
         "mirror": true,
         "showgrid": false,
         "showline": true,
         "zeroline": false
        },
        "xaxis5": {
         "linecolor": "black",
         "linewidth": 1,
         "mirror": true,
         "showgrid": false,
         "showline": true,
         "zeroline": false
        },
        "xaxis6": {
         "linecolor": "black",
         "linewidth": 1,
         "mirror": true,
         "showgrid": false,
         "showline": true,
         "zeroline": false
        },
        "yaxis": {
         "anchor": "x",
         "domain": [
          0.625,
          1
         ],
         "dtick": 0.02,
         "gridcolor": "lightgray",
         "linecolor": "black",
         "linewidth": 1,
         "mirror": true,
         "range": [
          0,
          0.1
         ],
         "showgrid": true,
         "showline": true,
         "zeroline": false
        },
        "yaxis2": {
         "anchor": "x2",
         "domain": [
          0.625,
          1
         ],
         "dtick": 0.02,
         "gridcolor": "lightgray",
         "linecolor": "black",
         "linewidth": 1,
         "mirror": true,
         "range": [
          0,
          0.1
         ],
         "showgrid": true,
         "showline": true,
         "zeroline": false
        },
        "yaxis3": {
         "anchor": "x3",
         "domain": [
          0,
          0.375
         ],
         "dtick": 0.02,
         "gridcolor": "lightgray",
         "linecolor": "black",
         "linewidth": 1,
         "mirror": true,
         "range": [
          0,
          0.1
         ],
         "showgrid": true,
         "showline": true,
         "zeroline": false
        },
        "yaxis4": {
         "anchor": "x4",
         "domain": [
          0,
          0.375
         ],
         "dtick": 0.02,
         "gridcolor": "lightgray",
         "linecolor": "black",
         "linewidth": 1,
         "mirror": true,
         "range": [
          0,
          0.1
         ],
         "showgrid": true,
         "showline": true,
         "zeroline": false
        },
        "yaxis5": {
         "dtick": 0.02,
         "gridcolor": "lightgray",
         "linecolor": "black",
         "linewidth": 1,
         "mirror": true,
         "range": [
          0,
          0.1
         ],
         "showgrid": true,
         "showline": true,
         "zeroline": false
        },
        "yaxis6": {
         "dtick": 0.02,
         "gridcolor": "lightgray",
         "linecolor": "black",
         "linewidth": 1,
         "mirror": true,
         "range": [
          0,
          0.1
         ],
         "showgrid": true,
         "showline": true,
         "zeroline": false
        }
       }
      }
     },
     "metadata": {},
     "output_type": "display_data"
    }
   ],
   "source": [
    "\"\"\"[GNSS + IMU]Parallel comparison of the GCP constellation variation: RMSE-BARPLOT\"\"\"\n",
    "\n",
    "prj_uce_m3_list = [prj_4GCP_uce_m3, prj_15GCP_uce_m3]\n",
    "prj_uce_4_list = [prj_4GCP_uce_4, prj_15GCP_uce_4]\n",
    "prj_leica_list = [prj_4GCP_leica, prj_15GCP_leica]\n",
    "prj_igi_list = [prj_4GCP_igi, prj_15GCP_igi]\n",
    "\n",
    "# fig = make_subplots(rows=2, cols=2, subplot_titles=[\n",
    "#                     \"Vexcel UCE-M3\", \"Vexcel UCE-4.1\",\n",
    "#                     \"Leica DMC-4\", \"IGI UM-2\"])\n",
    "fig = make_subplots(rows=2, cols=2, subplot_titles=[\n",
    "                    \"Vexcel UCE-M3\", \"Camera A\",\n",
    "                    \"Camera B\", \"Camera C\"])\n",
    "# camera_names = [\"UCE-M3\", \"UCE-4.1\", \"DMC-4\", \"UM-2\"]\n",
    "GCP_config_list = ['4 GCP', '15 GCP']\n",
    "colors = ['navy', 'red']\n",
    "x_axis = ['RMSE-X', 'RMSE-Y', 'RMSE-Z']\n",
    "\n",
    "for prj_u3, prj_u4, prj_dmc, prj_um, color, GCP_config in zip(prj_uce_m3_list, prj_uce_4_list, prj_leica_list, prj_igi_list, colors, GCP_config_list):\n",
    "    fig.append_trace(go.Bar(\n",
    "        name=GCP_config,\n",
    "        x=x_axis,\n",
    "        y=prj_u3.cp_RMS,\n",
    "        marker_color=color,\n",
    "        text=[str(num) for num in prj_u3.cp_RMS],\n",
    "        textposition=\"inside\",\n",
    "        legendgroup=GCP_config,\n",
    "        showlegend=True\n",
    "    ),\n",
    "        row=1,\n",
    "        col=1\n",
    "    )\n",
    "    fig.append_trace(go.Bar(\n",
    "        name=GCP_config,\n",
    "        x=x_axis,\n",
    "        y=prj_u4.cp_RMS,\n",
    "        marker_color=color,\n",
    "        text=[str(num) for num in prj_u4.cp_RMS],\n",
    "        textposition=\"inside\",\n",
    "        legendgroup=GCP_config,\n",
    "        showlegend=False\n",
    "    ),\n",
    "        row=1,\n",
    "        col=2\n",
    "    )\n",
    "    fig.append_trace(go.Bar(\n",
    "        name=GCP_config,\n",
    "        x=x_axis,\n",
    "        y=prj_dmc.cp_RMS,\n",
    "        marker_color=color,\n",
    "        text=[str(num) for num in prj_dmc.cp_RMS],\n",
    "        textposition=\"inside\",\n",
    "        legendgroup=GCP_config,\n",
    "        showlegend=False\n",
    "    ),\n",
    "        row=2,\n",
    "        col=1\n",
    "    )\n",
    "    fig.append_trace(go.Bar(\n",
    "        name=GCP_config,\n",
    "        x=x_axis,\n",
    "        y=prj_um.cp_RMS,\n",
    "        marker_color=color,\n",
    "        text=[str(num) for num in prj_um.cp_RMS],\n",
    "        textposition=\"inside\",\n",
    "        legendgroup=GCP_config,\n",
    "        showlegend=False\n",
    "    ),\n",
    "        row=2,\n",
    "        col=2\n",
    "    )\n",
    "\n",
    "fig.update_traces(opacity=0.6, textfont_size=15, textfont_color='black',textangle=0, textposition=\"outside\", cliponaxis=False)\n",
    "fig.update_layout(\n",
    "    title='[GNSS/IMU] RMSE at check points in Match-AT projects different GCP',\n",
    "    xaxis1={\"showgrid\": False, \"zeroline\": False},\n",
    "    yaxis1={\"showgrid\": True, \"zeroline\": False,\n",
    "            \"range\": [0, 0.1], \"dtick\": 0.02},\n",
    "    xaxis2={\"showgrid\": False, \"zeroline\": False},\n",
    "    yaxis2={\"showgrid\": True, \"zeroline\": False,\n",
    "            \"range\": [0, 0.1], \"dtick\": 0.02},\n",
    "    xaxis3={\"showgrid\": False, \"zeroline\": False},\n",
    "    yaxis3={\"showgrid\": True, \"zeroline\": False,\n",
    "            \"range\": [0, 0.1], \"dtick\": 0.02},\n",
    "    xaxis4={\"showgrid\": False, \"zeroline\": False},\n",
    "    yaxis4={\"showgrid\": True, \"zeroline\": False,\n",
    "            \"range\": [0, 0.1], \"dtick\": 0.02},\n",
    "    xaxis5={\"showgrid\": False, \"zeroline\": False},\n",
    "    yaxis5={\"showgrid\": True, \"zeroline\": False,\n",
    "            \"range\": [0, 0.1], \"dtick\": 0.02},\n",
    "    xaxis6={\"showgrid\": False, \"zeroline\": False},\n",
    "    yaxis6={\"showgrid\": True, \"zeroline\": False,\n",
    "            \"range\": [0, 0.1], \"dtick\": 0.02},\n",
    "    legend_tracegroupgap=20,\n",
    "    plot_bgcolor='white'\n",
    ")\n",
    "fig.update_xaxes(showline=True, linewidth=1, linecolor='black', mirror=True)\n",
    "fig.update_yaxes(showgrid=True, gridcolor='lightgray',\n",
    "                 showline=True, linewidth=1, linecolor='black', mirror=True)\n",
    "fig.show()\n",
    "fig.write_html(\"./Results/CP_RMS-GCPvariation.html\")"
   ]
  },
  {
   "cell_type": "code",
   "execution_count": 51,
   "metadata": {},
   "outputs": [
    {
     "data": {
      "application/vnd.plotly.v1+json": {
       "config": {
        "plotlyServerURL": "https://plot.ly"
       },
       "data": [
        {
         "cliponaxis": false,
         "legendgroup": "15GCP",
         "marker": {
          "color": "red"
         },
         "name": "15 GCP",
         "opacity": 0.6,
         "showlegend": true,
         "text": [
          "0.081",
          "0.113",
          "0.178",
          "0.063"
         ],
         "textangle": 0,
         "textfont": {
          "color": "black",
          "size": 15
         },
         "textposition": "outside",
         "type": "bar",
         "x": [
          "UCE M3",
          "UCE 4.1",
          "DMC-4",
          "UM-2"
         ],
         "xaxis": "x",
         "y": [
          0.081,
          0.113,
          0.178,
          0.063
         ],
         "yaxis": "y"
        },
        {
         "cliponaxis": false,
         "legendgroup": "4GCP",
         "marker": {
          "color": "navy"
         },
         "name": "4 GCP",
         "opacity": 0.6,
         "showlegend": true,
         "text": [
          "0.047",
          "0.053",
          "0.06",
          "0.048"
         ],
         "textangle": 0,
         "textfont": {
          "color": "black",
          "size": 15
         },
         "textposition": "outside",
         "type": "bar",
         "x": [
          "UCE M3",
          "UCE 4.1",
          "DMC-4",
          "UM-2"
         ],
         "xaxis": "x2",
         "y": [
          0.047,
          0.053,
          0.06,
          0.048
         ],
         "yaxis": "y2"
        },
        {
         "cliponaxis": false,
         "legendgroup": "15GCP",
         "marker": {
          "color": "red"
         },
         "name": "15 GCP",
         "opacity": 0.6,
         "showlegend": false,
         "text": [
          "0.043",
          "0.051",
          "0.044",
          "0.046"
         ],
         "textangle": 0,
         "textfont": {
          "color": "black",
          "size": 15
         },
         "textposition": "outside",
         "type": "bar",
         "x": [
          "UCE M3",
          "UCE 4.1",
          "DMC-4",
          "UM-2"
         ],
         "xaxis": "x2",
         "y": [
          0.043,
          0.051,
          0.044,
          0.046
         ],
         "yaxis": "y2"
        }
       ],
       "layout": {
        "annotations": [
         {
          "font": {
           "size": 16
          },
          "showarrow": false,
          "text": "Standard bundle adjustment",
          "x": 0.5,
          "xanchor": "center",
          "xref": "paper",
          "y": 1,
          "yanchor": "bottom",
          "yref": "paper"
         },
         {
          "font": {
           "size": 16
          },
          "showarrow": false,
          "text": "GNSS/IMU supported bundle adjustment",
          "x": 0.5,
          "xanchor": "center",
          "xref": "paper",
          "y": 0.375,
          "yanchor": "bottom",
          "yref": "paper"
         }
        ],
        "legend": {
         "tracegroupgap": 20
        },
        "plot_bgcolor": "white",
        "template": {
         "data": {
          "bar": [
           {
            "error_x": {
             "color": "#2a3f5f"
            },
            "error_y": {
             "color": "#2a3f5f"
            },
            "marker": {
             "line": {
              "color": "#E5ECF6",
              "width": 0.5
             },
             "pattern": {
              "fillmode": "overlay",
              "size": 10,
              "solidity": 0.2
             }
            },
            "type": "bar"
           }
          ],
          "barpolar": [
           {
            "marker": {
             "line": {
              "color": "#E5ECF6",
              "width": 0.5
             },
             "pattern": {
              "fillmode": "overlay",
              "size": 10,
              "solidity": 0.2
             }
            },
            "type": "barpolar"
           }
          ],
          "carpet": [
           {
            "aaxis": {
             "endlinecolor": "#2a3f5f",
             "gridcolor": "white",
             "linecolor": "white",
             "minorgridcolor": "white",
             "startlinecolor": "#2a3f5f"
            },
            "baxis": {
             "endlinecolor": "#2a3f5f",
             "gridcolor": "white",
             "linecolor": "white",
             "minorgridcolor": "white",
             "startlinecolor": "#2a3f5f"
            },
            "type": "carpet"
           }
          ],
          "choropleth": [
           {
            "colorbar": {
             "outlinewidth": 0,
             "ticks": ""
            },
            "type": "choropleth"
           }
          ],
          "contour": [
           {
            "colorbar": {
             "outlinewidth": 0,
             "ticks": ""
            },
            "colorscale": [
             [
              0,
              "#0d0887"
             ],
             [
              0.1111111111111111,
              "#46039f"
             ],
             [
              0.2222222222222222,
              "#7201a8"
             ],
             [
              0.3333333333333333,
              "#9c179e"
             ],
             [
              0.4444444444444444,
              "#bd3786"
             ],
             [
              0.5555555555555556,
              "#d8576b"
             ],
             [
              0.6666666666666666,
              "#ed7953"
             ],
             [
              0.7777777777777778,
              "#fb9f3a"
             ],
             [
              0.8888888888888888,
              "#fdca26"
             ],
             [
              1,
              "#f0f921"
             ]
            ],
            "type": "contour"
           }
          ],
          "contourcarpet": [
           {
            "colorbar": {
             "outlinewidth": 0,
             "ticks": ""
            },
            "type": "contourcarpet"
           }
          ],
          "heatmap": [
           {
            "colorbar": {
             "outlinewidth": 0,
             "ticks": ""
            },
            "colorscale": [
             [
              0,
              "#0d0887"
             ],
             [
              0.1111111111111111,
              "#46039f"
             ],
             [
              0.2222222222222222,
              "#7201a8"
             ],
             [
              0.3333333333333333,
              "#9c179e"
             ],
             [
              0.4444444444444444,
              "#bd3786"
             ],
             [
              0.5555555555555556,
              "#d8576b"
             ],
             [
              0.6666666666666666,
              "#ed7953"
             ],
             [
              0.7777777777777778,
              "#fb9f3a"
             ],
             [
              0.8888888888888888,
              "#fdca26"
             ],
             [
              1,
              "#f0f921"
             ]
            ],
            "type": "heatmap"
           }
          ],
          "heatmapgl": [
           {
            "colorbar": {
             "outlinewidth": 0,
             "ticks": ""
            },
            "colorscale": [
             [
              0,
              "#0d0887"
             ],
             [
              0.1111111111111111,
              "#46039f"
             ],
             [
              0.2222222222222222,
              "#7201a8"
             ],
             [
              0.3333333333333333,
              "#9c179e"
             ],
             [
              0.4444444444444444,
              "#bd3786"
             ],
             [
              0.5555555555555556,
              "#d8576b"
             ],
             [
              0.6666666666666666,
              "#ed7953"
             ],
             [
              0.7777777777777778,
              "#fb9f3a"
             ],
             [
              0.8888888888888888,
              "#fdca26"
             ],
             [
              1,
              "#f0f921"
             ]
            ],
            "type": "heatmapgl"
           }
          ],
          "histogram": [
           {
            "marker": {
             "pattern": {
              "fillmode": "overlay",
              "size": 10,
              "solidity": 0.2
             }
            },
            "type": "histogram"
           }
          ],
          "histogram2d": [
           {
            "colorbar": {
             "outlinewidth": 0,
             "ticks": ""
            },
            "colorscale": [
             [
              0,
              "#0d0887"
             ],
             [
              0.1111111111111111,
              "#46039f"
             ],
             [
              0.2222222222222222,
              "#7201a8"
             ],
             [
              0.3333333333333333,
              "#9c179e"
             ],
             [
              0.4444444444444444,
              "#bd3786"
             ],
             [
              0.5555555555555556,
              "#d8576b"
             ],
             [
              0.6666666666666666,
              "#ed7953"
             ],
             [
              0.7777777777777778,
              "#fb9f3a"
             ],
             [
              0.8888888888888888,
              "#fdca26"
             ],
             [
              1,
              "#f0f921"
             ]
            ],
            "type": "histogram2d"
           }
          ],
          "histogram2dcontour": [
           {
            "colorbar": {
             "outlinewidth": 0,
             "ticks": ""
            },
            "colorscale": [
             [
              0,
              "#0d0887"
             ],
             [
              0.1111111111111111,
              "#46039f"
             ],
             [
              0.2222222222222222,
              "#7201a8"
             ],
             [
              0.3333333333333333,
              "#9c179e"
             ],
             [
              0.4444444444444444,
              "#bd3786"
             ],
             [
              0.5555555555555556,
              "#d8576b"
             ],
             [
              0.6666666666666666,
              "#ed7953"
             ],
             [
              0.7777777777777778,
              "#fb9f3a"
             ],
             [
              0.8888888888888888,
              "#fdca26"
             ],
             [
              1,
              "#f0f921"
             ]
            ],
            "type": "histogram2dcontour"
           }
          ],
          "mesh3d": [
           {
            "colorbar": {
             "outlinewidth": 0,
             "ticks": ""
            },
            "type": "mesh3d"
           }
          ],
          "parcoords": [
           {
            "line": {
             "colorbar": {
              "outlinewidth": 0,
              "ticks": ""
             }
            },
            "type": "parcoords"
           }
          ],
          "pie": [
           {
            "automargin": true,
            "type": "pie"
           }
          ],
          "scatter": [
           {
            "fillpattern": {
             "fillmode": "overlay",
             "size": 10,
             "solidity": 0.2
            },
            "type": "scatter"
           }
          ],
          "scatter3d": [
           {
            "line": {
             "colorbar": {
              "outlinewidth": 0,
              "ticks": ""
             }
            },
            "marker": {
             "colorbar": {
              "outlinewidth": 0,
              "ticks": ""
             }
            },
            "type": "scatter3d"
           }
          ],
          "scattercarpet": [
           {
            "marker": {
             "colorbar": {
              "outlinewidth": 0,
              "ticks": ""
             }
            },
            "type": "scattercarpet"
           }
          ],
          "scattergeo": [
           {
            "marker": {
             "colorbar": {
              "outlinewidth": 0,
              "ticks": ""
             }
            },
            "type": "scattergeo"
           }
          ],
          "scattergl": [
           {
            "marker": {
             "colorbar": {
              "outlinewidth": 0,
              "ticks": ""
             }
            },
            "type": "scattergl"
           }
          ],
          "scattermapbox": [
           {
            "marker": {
             "colorbar": {
              "outlinewidth": 0,
              "ticks": ""
             }
            },
            "type": "scattermapbox"
           }
          ],
          "scatterpolar": [
           {
            "marker": {
             "colorbar": {
              "outlinewidth": 0,
              "ticks": ""
             }
            },
            "type": "scatterpolar"
           }
          ],
          "scatterpolargl": [
           {
            "marker": {
             "colorbar": {
              "outlinewidth": 0,
              "ticks": ""
             }
            },
            "type": "scatterpolargl"
           }
          ],
          "scatterternary": [
           {
            "marker": {
             "colorbar": {
              "outlinewidth": 0,
              "ticks": ""
             }
            },
            "type": "scatterternary"
           }
          ],
          "surface": [
           {
            "colorbar": {
             "outlinewidth": 0,
             "ticks": ""
            },
            "colorscale": [
             [
              0,
              "#0d0887"
             ],
             [
              0.1111111111111111,
              "#46039f"
             ],
             [
              0.2222222222222222,
              "#7201a8"
             ],
             [
              0.3333333333333333,
              "#9c179e"
             ],
             [
              0.4444444444444444,
              "#bd3786"
             ],
             [
              0.5555555555555556,
              "#d8576b"
             ],
             [
              0.6666666666666666,
              "#ed7953"
             ],
             [
              0.7777777777777778,
              "#fb9f3a"
             ],
             [
              0.8888888888888888,
              "#fdca26"
             ],
             [
              1,
              "#f0f921"
             ]
            ],
            "type": "surface"
           }
          ],
          "table": [
           {
            "cells": {
             "fill": {
              "color": "#EBF0F8"
             },
             "line": {
              "color": "white"
             }
            },
            "header": {
             "fill": {
              "color": "#C8D4E3"
             },
             "line": {
              "color": "white"
             }
            },
            "type": "table"
           }
          ]
         },
         "layout": {
          "annotationdefaults": {
           "arrowcolor": "#2a3f5f",
           "arrowhead": 0,
           "arrowwidth": 1
          },
          "autotypenumbers": "strict",
          "coloraxis": {
           "colorbar": {
            "outlinewidth": 0,
            "ticks": ""
           }
          },
          "colorscale": {
           "diverging": [
            [
             0,
             "#8e0152"
            ],
            [
             0.1,
             "#c51b7d"
            ],
            [
             0.2,
             "#de77ae"
            ],
            [
             0.3,
             "#f1b6da"
            ],
            [
             0.4,
             "#fde0ef"
            ],
            [
             0.5,
             "#f7f7f7"
            ],
            [
             0.6,
             "#e6f5d0"
            ],
            [
             0.7,
             "#b8e186"
            ],
            [
             0.8,
             "#7fbc41"
            ],
            [
             0.9,
             "#4d9221"
            ],
            [
             1,
             "#276419"
            ]
           ],
           "sequential": [
            [
             0,
             "#0d0887"
            ],
            [
             0.1111111111111111,
             "#46039f"
            ],
            [
             0.2222222222222222,
             "#7201a8"
            ],
            [
             0.3333333333333333,
             "#9c179e"
            ],
            [
             0.4444444444444444,
             "#bd3786"
            ],
            [
             0.5555555555555556,
             "#d8576b"
            ],
            [
             0.6666666666666666,
             "#ed7953"
            ],
            [
             0.7777777777777778,
             "#fb9f3a"
            ],
            [
             0.8888888888888888,
             "#fdca26"
            ],
            [
             1,
             "#f0f921"
            ]
           ],
           "sequentialminus": [
            [
             0,
             "#0d0887"
            ],
            [
             0.1111111111111111,
             "#46039f"
            ],
            [
             0.2222222222222222,
             "#7201a8"
            ],
            [
             0.3333333333333333,
             "#9c179e"
            ],
            [
             0.4444444444444444,
             "#bd3786"
            ],
            [
             0.5555555555555556,
             "#d8576b"
            ],
            [
             0.6666666666666666,
             "#ed7953"
            ],
            [
             0.7777777777777778,
             "#fb9f3a"
            ],
            [
             0.8888888888888888,
             "#fdca26"
            ],
            [
             1,
             "#f0f921"
            ]
           ]
          },
          "colorway": [
           "#636efa",
           "#EF553B",
           "#00cc96",
           "#ab63fa",
           "#FFA15A",
           "#19d3f3",
           "#FF6692",
           "#B6E880",
           "#FF97FF",
           "#FECB52"
          ],
          "font": {
           "color": "#2a3f5f"
          },
          "geo": {
           "bgcolor": "white",
           "lakecolor": "white",
           "landcolor": "#E5ECF6",
           "showlakes": true,
           "showland": true,
           "subunitcolor": "white"
          },
          "hoverlabel": {
           "align": "left"
          },
          "hovermode": "closest",
          "mapbox": {
           "style": "light"
          },
          "paper_bgcolor": "white",
          "plot_bgcolor": "#E5ECF6",
          "polar": {
           "angularaxis": {
            "gridcolor": "white",
            "linecolor": "white",
            "ticks": ""
           },
           "bgcolor": "#E5ECF6",
           "radialaxis": {
            "gridcolor": "white",
            "linecolor": "white",
            "ticks": ""
           }
          },
          "scene": {
           "xaxis": {
            "backgroundcolor": "#E5ECF6",
            "gridcolor": "white",
            "gridwidth": 2,
            "linecolor": "white",
            "showbackground": true,
            "ticks": "",
            "zerolinecolor": "white"
           },
           "yaxis": {
            "backgroundcolor": "#E5ECF6",
            "gridcolor": "white",
            "gridwidth": 2,
            "linecolor": "white",
            "showbackground": true,
            "ticks": "",
            "zerolinecolor": "white"
           },
           "zaxis": {
            "backgroundcolor": "#E5ECF6",
            "gridcolor": "white",
            "gridwidth": 2,
            "linecolor": "white",
            "showbackground": true,
            "ticks": "",
            "zerolinecolor": "white"
           }
          },
          "shapedefaults": {
           "line": {
            "color": "#2a3f5f"
           }
          },
          "ternary": {
           "aaxis": {
            "gridcolor": "white",
            "linecolor": "white",
            "ticks": ""
           },
           "baxis": {
            "gridcolor": "white",
            "linecolor": "white",
            "ticks": ""
           },
           "bgcolor": "#E5ECF6",
           "caxis": {
            "gridcolor": "white",
            "linecolor": "white",
            "ticks": ""
           }
          },
          "title": {
           "x": 0.05
          },
          "xaxis": {
           "automargin": true,
           "gridcolor": "white",
           "linecolor": "white",
           "ticks": "",
           "title": {
            "standoff": 15
           },
           "zerolinecolor": "white",
           "zerolinewidth": 2
          },
          "yaxis": {
           "automargin": true,
           "gridcolor": "white",
           "linecolor": "white",
           "ticks": "",
           "title": {
            "standoff": 15
           },
           "zerolinecolor": "white",
           "zerolinewidth": 2
          }
         }
        },
        "title": {
         "text": " RMSE-Z at check points in Match-AT projects different GCP"
        },
        "xaxis": {
         "anchor": "y",
         "domain": [
          0,
          1
         ],
         "linecolor": "black",
         "linewidth": 1,
         "mirror": true,
         "showgrid": false,
         "showline": true,
         "zeroline": false
        },
        "xaxis2": {
         "anchor": "y2",
         "domain": [
          0,
          1
         ],
         "linecolor": "black",
         "linewidth": 1,
         "mirror": true,
         "showgrid": false,
         "showline": true,
         "zeroline": false
        },
        "yaxis": {
         "anchor": "x",
         "domain": [
          0.625,
          1
         ],
         "dtick": 0.04,
         "gridcolor": "lightgray",
         "linecolor": "black",
         "linewidth": 1,
         "mirror": true,
         "range": [
          0,
          0.2
         ],
         "showgrid": true,
         "showline": true,
         "zeroline": false
        },
        "yaxis2": {
         "anchor": "x2",
         "domain": [
          0,
          0.375
         ],
         "dtick": 0.02,
         "gridcolor": "lightgray",
         "linecolor": "black",
         "linewidth": 1,
         "mirror": true,
         "range": [
          0,
          0.1
         ],
         "showgrid": true,
         "showline": true,
         "zeroline": false
        }
       }
      }
     },
     "metadata": {},
     "output_type": "display_data"
    }
   ],
   "source": [
    "\"\"\"Parallel comparison of the GCP constellation variation: RMSE-Z-BARPLOT\"\"\"\n",
    "\n",
    "prj_uce_m3_list = [prj_4GCP_uce_m3, prj_15GCP_uce_m3]\n",
    "prj_uce_4_list = [prj_4GCP_uce_4, prj_15GCP_uce_4]\n",
    "prj_leica_list = [prj_4GCP_leica, prj_15GCP_leica]\n",
    "prj_igi_list = [prj_4GCP_igi, prj_15GCP_igi]\n",
    "\n",
    "cprms_z_4gcp_nognss = [prj_4GCP_uce_m3_NOGNSS.cp_RMS[2], prj_4GCP_uce_4_NOGNSS.cp_RMS[2],\n",
    "                       prj_4GCP_leica_NOGNSS.cp_RMS[2], prj_4GCP_igi_NOGNSS.cp_RMS[2]]\n",
    "cprms_z_15gcp_nognss = [prj_15GCP_uce_m3_NOGNSS.cp_RMS[2], prj_15GCP_uce_4_NOGNSS.cp_RMS[2],\n",
    "                        prj_15GCP_leica_NOGNSS.cp_RMS[2], prj_15GCP_igi_NOGNSS.cp_RMS[2]]\n",
    "cprms_z_4gcp = [prj_4GCP_uce_m3.cp_RMS[2], prj_4GCP_uce_4.cp_RMS[2],\n",
    "                prj_4GCP_leica.cp_RMS[2], prj_4GCP_igi.cp_RMS[2]]\n",
    "cprms_z_15gcp = [prj_15GCP_uce_m3.cp_RMS[2], prj_15GCP_uce_4.cp_RMS[2],\n",
    "                 prj_15GCP_leica.cp_RMS[2], prj_15GCP_igi.cp_RMS[2]]\n",
    "\n",
    "\n",
    "fig = make_subplots(rows=2, cols=1, subplot_titles=[\n",
    "                    \"Standard bundle adjustment\",\n",
    "                    \"GNSS/IMU supported bundle adjustment\"])\n",
    "# camera_names = [\"UCE-M3\", \"UCE-4.1\", \"DMC-4\", \"UM-2\"]\n",
    "colors = ['navy', 'red']\n",
    "x_axis = [\"UCE M3\", \"UCE 4.1\", \"DMC-4\", \"UM-2\"]\n",
    "\n",
    "# fig.append_trace(go.Bar(\n",
    "#         name=\"4 GCP\",\n",
    "#         x=x_axis,\n",
    "#         y=cprms_z_4gcp_nognss,\n",
    "#         marker_color='navy',\n",
    "#         text=[str(num) for num in cprms_z_4gcp_nognss],\n",
    "#         textposition=\"inside\",\n",
    "#         legendgroup=\"4GCP\",\n",
    "#         showlegend=True\n",
    "#     ),\n",
    "#         row=1,\n",
    "#         col=1\n",
    "#     )\n",
    "fig.append_trace(go.Bar(\n",
    "    name=\"15 GCP\",\n",
    "    x=x_axis,\n",
    "    y=cprms_z_15gcp_nognss,\n",
    "    marker_color='red',\n",
    "    text=[str(num) for num in cprms_z_15gcp_nognss],\n",
    "    textposition=\"inside\",\n",
    "    legendgroup=\"15GCP\",\n",
    "    showlegend=True\n",
    "),\n",
    "    row=1,\n",
    "    col=1\n",
    ")\n",
    "\n",
    "fig.append_trace(go.Bar(\n",
    "    name=\"4 GCP\",\n",
    "    x=x_axis,\n",
    "    y=cprms_z_4gcp,\n",
    "    marker_color='navy',\n",
    "    text=[str(num) for num in cprms_z_4gcp],\n",
    "    textposition=\"inside\",\n",
    "    legendgroup=\"4GCP\",\n",
    "    showlegend=True\n",
    "),\n",
    "    row=2,\n",
    "    col=1\n",
    ")\n",
    "fig.append_trace(go.Bar(\n",
    "    name=\"15 GCP\",\n",
    "    x=x_axis,\n",
    "    y=cprms_z_15gcp,\n",
    "    marker_color='red',\n",
    "    text=[str(num) for num in cprms_z_15gcp],\n",
    "    textposition=\"inside\",\n",
    "    legendgroup=\"15GCP\",\n",
    "    showlegend=False\n",
    "),\n",
    "    row=2,\n",
    "    col=1\n",
    ")\n",
    "\n",
    "fig.update_traces(opacity=0.6, textfont_size=15, textfont_color='black',textangle=0, textposition=\"outside\", cliponaxis=False)\n",
    "fig.update_layout(\n",
    "    title=' RMSE-Z at check points in Match-AT projects different GCP',\n",
    "    xaxis1={\"showgrid\": False, \"zeroline\": False},\n",
    "    yaxis1={\"showgrid\": True, \"zeroline\": False,\n",
    "            \"range\": [0, 0.2], \"dtick\": 0.04},\n",
    "    xaxis2={\"showgrid\": False, \"zeroline\": False},\n",
    "    yaxis2={\"showgrid\": True, \"zeroline\": False,\n",
    "            \"range\": [0, 0.1], \"dtick\": 0.02},\n",
    "    legend_tracegroupgap=20,\n",
    "    plot_bgcolor='white'\n",
    ")\n",
    "fig.update_xaxes(showline=True, linewidth=1, linecolor='black', mirror=True)\n",
    "fig.update_yaxes(showgrid=True, gridcolor='lightgray',\n",
    "                 showline=True, linewidth=1, linecolor='black', mirror=True)\n",
    "fig.show()\n",
    "fig.write_html(\"./Results/CP_RMS_Z-GCPvariation_noGNSS_GNSS.html\")"
   ]
  },
  {
   "cell_type": "code",
   "execution_count": 52,
   "metadata": {},
   "outputs": [
    {
     "data": {
      "application/vnd.plotly.v1+json": {
       "config": {
        "plotlyServerURL": "https://plot.ly"
       },
       "data": [
        {
         "legendgroup": "Constellation (a)",
         "marker": {
          "color": "navy"
         },
         "name": "Constellation (a)",
         "opacity": 0.6,
         "type": "scatter",
         "x": [
          "101",
          "102",
          "105",
          "108",
          "109",
          "111",
          "112",
          "115",
          "118",
          "119",
          "121",
          "122",
          "124",
          "125",
          "127",
          "128",
          "130",
          "131"
         ],
         "xaxis": "x",
         "y": [
          -0.028,
          -0.023,
          0.002,
          0.042,
          0.031,
          0.007,
          0.024,
          -0.014,
          -0.013,
          -0.001,
          -0.028,
          0.001,
          -0.022,
          -0.046,
          0.002,
          -0.024,
          0.001,
          0.014
         ],
         "yaxis": "y"
        },
        {
         "legendgroup": "Constellation (a)",
         "marker": {
          "color": "navy"
         },
         "name": "Constellation (a)",
         "opacity": 0.6,
         "showlegend": false,
         "type": "scatter",
         "x": [
          "101",
          "102",
          "105",
          "108",
          "109",
          "111",
          "112",
          "115",
          "118",
          "119",
          "121",
          "122",
          "124",
          "125",
          "127",
          "128",
          "130",
          "131"
         ],
         "xaxis": "x3",
         "y": [
          0.015,
          0.009,
          0.046,
          0.035,
          0.025,
          -0.064,
          -0.036,
          -0.002,
          0.042,
          0.033,
          0.018,
          0.018,
          0.045,
          -0.027,
          0.02,
          -0.011,
          0.01,
          0.006
         ],
         "yaxis": "y3"
        },
        {
         "legendgroup": "Constellation (a)",
         "marker": {
          "color": "navy"
         },
         "name": "Constellation (a)",
         "opacity": 0.6,
         "showlegend": false,
         "type": "scatter",
         "x": [
          "101",
          "102",
          "105",
          "108",
          "109",
          "111",
          "112",
          "115",
          "118",
          "119",
          "121",
          "122",
          "124",
          "125",
          "127",
          "128",
          "130",
          "131"
         ],
         "xaxis": "x5",
         "y": [
          0.011,
          0.019,
          -0.086,
          -0.064,
          -0.006,
          -0.016,
          -0.032,
          -0.036,
          0.02,
          0.079,
          -0.047,
          -0.069,
          -0.111,
          -0.052,
          -0.09,
          -0.098,
          -0.063,
          -0.02
         ],
         "yaxis": "y5"
        },
        {
         "legendgroup": "Constellation (a)",
         "marker": {
          "color": "navy"
         },
         "name": "Constellation (a)",
         "opacity": 0.6,
         "showlegend": false,
         "type": "scatter",
         "x": [
          "101",
          "102",
          "105",
          "108",
          "109",
          "111",
          "112",
          "115",
          "118",
          "119",
          "121",
          "122",
          "124",
          "125",
          "127",
          "128",
          "130",
          "131"
         ],
         "xaxis": "x2",
         "y": [
          0.037,
          0.041,
          -0.015,
          -0.019,
          -0.008,
          -0.066,
          -0.04,
          -0.05,
          0.011,
          0.006,
          -0.016,
          -0.019,
          -0.008,
          -0.052,
          -0.031,
          -0.081,
          -0.061,
          -0.049
         ],
         "yaxis": "y2"
        },
        {
         "legendgroup": "Constellation (a)",
         "marker": {
          "color": "navy"
         },
         "name": "Constellation (a)",
         "opacity": 0.6,
         "showlegend": false,
         "type": "scatter",
         "x": [
          "101",
          "102",
          "105",
          "108",
          "109",
          "111",
          "112",
          "115",
          "118",
          "119",
          "121",
          "122",
          "124",
          "125",
          "127",
          "128",
          "130",
          "131"
         ],
         "xaxis": "x4",
         "y": [
          0.006,
          0.03,
          0.061,
          0.071,
          -0.01,
          -0.054,
          -0.045,
          0.005,
          -0.01,
          -0.018,
          0.016,
          -0.008,
          0.034,
          -0.026,
          0.026,
          -0.012,
          -0.013,
          0.028
         ],
         "yaxis": "y4"
        },
        {
         "legendgroup": "Constellation (a)",
         "marker": {
          "color": "navy"
         },
         "name": "Constellation (a)",
         "opacity": 0.6,
         "showlegend": false,
         "type": "scatter",
         "x": [
          "101",
          "102",
          "105",
          "108",
          "109",
          "111",
          "112",
          "115",
          "118",
          "119",
          "121",
          "122",
          "124",
          "125",
          "127",
          "128",
          "130",
          "131"
         ],
         "xaxis": "x6",
         "y": [
          -0.008,
          -0.025,
          -0.021,
          -0.067,
          -0.018,
          -0.059,
          -0.057,
          -0.025,
          -0.008,
          0.014,
          0.065,
          0.051,
          0.042,
          0.08,
          0.05,
          0.094,
          0.024,
          0.031
         ],
         "yaxis": "y6"
        },
        {
         "legendgroup": "Constellation (b)",
         "marker": {
          "color": "red"
         },
         "name": "Constellation (b)",
         "opacity": 0.6,
         "type": "scatter",
         "x": [
          "101",
          "102",
          "105",
          "108",
          "109",
          "111",
          "112",
          "115",
          "118",
          "119",
          "121",
          "122",
          "124",
          "125",
          "127",
          "128",
          "130",
          "131"
         ],
         "xaxis": "x",
         "y": [
          -0.084,
          -0.079,
          0.001,
          0.11,
          0.1,
          0.071,
          0.088,
          -0.027,
          -0.075,
          -0.063,
          -0.062,
          -0.031,
          -0.031,
          -0.058,
          0.012,
          -0.017,
          0.025,
          0.043
         ],
         "yaxis": "y"
        },
        {
         "legendgroup": "Constellation (b)",
         "marker": {
          "color": "red"
         },
         "name": "Constellation (b)",
         "opacity": 0.6,
         "showlegend": false,
         "type": "scatter",
         "x": [
          "101",
          "102",
          "105",
          "108",
          "109",
          "111",
          "112",
          "115",
          "118",
          "119",
          "121",
          "122",
          "124",
          "125",
          "127",
          "128",
          "130",
          "131"
         ],
         "xaxis": "x3",
         "y": [
          0.036,
          0.031,
          0.061,
          0.044,
          0.035,
          -0.1,
          -0.072,
          -0.02,
          0.039,
          0.03,
          0.032,
          0.016,
          0.056,
          -0.038,
          0.03,
          -0.029,
          -0.011,
          0.01
         ],
         "yaxis": "y3"
        },
        {
         "legendgroup": "Constellation (b)",
         "marker": {
          "color": "red"
         },
         "name": "Constellation (b)",
         "opacity": 0.6,
         "showlegend": false,
         "type": "scatter",
         "x": [
          "101",
          "102",
          "105",
          "108",
          "109",
          "111",
          "112",
          "115",
          "118",
          "119",
          "121",
          "122",
          "124",
          "125",
          "127",
          "128",
          "130",
          "131"
         ],
         "xaxis": "x5",
         "y": [
          0.024,
          0.031,
          -0.121,
          -0.081,
          -0.022,
          -0.039,
          -0.055,
          -0.076,
          0.023,
          0.083,
          -0.068,
          -0.097,
          -0.145,
          -0.091,
          -0.128,
          -0.139,
          -0.104,
          -0.06
         ],
         "yaxis": "y5"
        },
        {
         "legendgroup": "Constellation (b)",
         "marker": {
          "color": "red"
         },
         "name": "Constellation (b)",
         "opacity": 0.6,
         "showlegend": false,
         "type": "scatter",
         "x": [
          "101",
          "102",
          "105",
          "108",
          "109",
          "111",
          "112",
          "115",
          "118",
          "119",
          "121",
          "122",
          "124",
          "125",
          "127",
          "128",
          "130",
          "131"
         ],
         "xaxis": "x2",
         "y": [
          0.081,
          0.085,
          -0.03,
          -0.066,
          -0.055,
          -0.107,
          -0.081,
          -0.057,
          0.047,
          0.042,
          -0.001,
          -0.01,
          -0.017,
          -0.059,
          -0.055,
          -0.102,
          -0.09,
          -0.082
         ],
         "yaxis": "y2"
        },
        {
         "legendgroup": "Constellation (b)",
         "marker": {
          "color": "red"
         },
         "name": "Constellation (b)",
         "opacity": 0.6,
         "showlegend": false,
         "type": "scatter",
         "x": [
          "101",
          "102",
          "105",
          "108",
          "109",
          "111",
          "112",
          "115",
          "118",
          "119",
          "121",
          "122",
          "124",
          "125",
          "127",
          "128",
          "130",
          "131"
         ],
         "xaxis": "x4",
         "y": [
          -0.011,
          0.015,
          0.045,
          0.074,
          -0.006,
          -0.044,
          -0.035,
          0.014,
          0.002,
          -0.005,
          0.001,
          -0.008,
          0.021,
          -0.022,
          0.015,
          -0.005,
          -0.006,
          0.024
         ],
         "yaxis": "y4"
        },
        {
         "legendgroup": "Constellation (b)",
         "marker": {
          "color": "red"
         },
         "name": "Constellation (b)",
         "opacity": 0.6,
         "showlegend": false,
         "type": "scatter",
         "x": [
          "101",
          "102",
          "105",
          "108",
          "109",
          "111",
          "112",
          "115",
          "118",
          "119",
          "121",
          "122",
          "124",
          "125",
          "127",
          "128",
          "130",
          "131"
         ],
         "xaxis": "x6",
         "y": [
          0.005,
          -0.014,
          0.003,
          -0.083,
          -0.035,
          -0.081,
          -0.078,
          0.002,
          0.002,
          0.024,
          0.093,
          0.079,
          0.068,
          0.107,
          0.069,
          0.114,
          0.033,
          0.041
         ],
         "yaxis": "y6"
        }
       ],
       "layout": {
        "annotations": [
         {
          "font": {
           "size": 16
          },
          "showarrow": false,
          "text": "[DMC-4]ChP Residual-X",
          "x": 0.225,
          "xanchor": "center",
          "xref": "paper",
          "y": 1,
          "yanchor": "bottom",
          "yref": "paper"
         },
         {
          "font": {
           "size": 16
          },
          "showarrow": false,
          "text": "[UM-2]ChP Residual-X",
          "x": 0.775,
          "xanchor": "center",
          "xref": "paper",
          "y": 1,
          "yanchor": "bottom",
          "yref": "paper"
         },
         {
          "font": {
           "size": 16
          },
          "showarrow": false,
          "text": "[DMC-4]ChP Residual-Y",
          "x": 0.225,
          "xanchor": "center",
          "xref": "paper",
          "y": 0.6111111111111112,
          "yanchor": "bottom",
          "yref": "paper"
         },
         {
          "font": {
           "size": 16
          },
          "showarrow": false,
          "text": "[UM-2]ChP Residual-Y",
          "x": 0.775,
          "xanchor": "center",
          "xref": "paper",
          "y": 0.6111111111111112,
          "yanchor": "bottom",
          "yref": "paper"
         },
         {
          "font": {
           "size": 16
          },
          "showarrow": false,
          "text": "[DMC-4]ChP Residual-Z",
          "x": 0.225,
          "xanchor": "center",
          "xref": "paper",
          "y": 0.22222222222222224,
          "yanchor": "bottom",
          "yref": "paper"
         },
         {
          "font": {
           "size": 16
          },
          "showarrow": false,
          "text": "[UM-2]ChP Residual-Z",
          "x": 0.775,
          "xanchor": "center",
          "xref": "paper",
          "y": 0.22222222222222224,
          "yanchor": "bottom",
          "yref": "paper"
         }
        ],
        "legend": {
         "tracegroupgap": 20
        },
        "plot_bgcolor": "white",
        "template": {
         "data": {
          "bar": [
           {
            "error_x": {
             "color": "#2a3f5f"
            },
            "error_y": {
             "color": "#2a3f5f"
            },
            "marker": {
             "line": {
              "color": "#E5ECF6",
              "width": 0.5
             },
             "pattern": {
              "fillmode": "overlay",
              "size": 10,
              "solidity": 0.2
             }
            },
            "type": "bar"
           }
          ],
          "barpolar": [
           {
            "marker": {
             "line": {
              "color": "#E5ECF6",
              "width": 0.5
             },
             "pattern": {
              "fillmode": "overlay",
              "size": 10,
              "solidity": 0.2
             }
            },
            "type": "barpolar"
           }
          ],
          "carpet": [
           {
            "aaxis": {
             "endlinecolor": "#2a3f5f",
             "gridcolor": "white",
             "linecolor": "white",
             "minorgridcolor": "white",
             "startlinecolor": "#2a3f5f"
            },
            "baxis": {
             "endlinecolor": "#2a3f5f",
             "gridcolor": "white",
             "linecolor": "white",
             "minorgridcolor": "white",
             "startlinecolor": "#2a3f5f"
            },
            "type": "carpet"
           }
          ],
          "choropleth": [
           {
            "colorbar": {
             "outlinewidth": 0,
             "ticks": ""
            },
            "type": "choropleth"
           }
          ],
          "contour": [
           {
            "colorbar": {
             "outlinewidth": 0,
             "ticks": ""
            },
            "colorscale": [
             [
              0,
              "#0d0887"
             ],
             [
              0.1111111111111111,
              "#46039f"
             ],
             [
              0.2222222222222222,
              "#7201a8"
             ],
             [
              0.3333333333333333,
              "#9c179e"
             ],
             [
              0.4444444444444444,
              "#bd3786"
             ],
             [
              0.5555555555555556,
              "#d8576b"
             ],
             [
              0.6666666666666666,
              "#ed7953"
             ],
             [
              0.7777777777777778,
              "#fb9f3a"
             ],
             [
              0.8888888888888888,
              "#fdca26"
             ],
             [
              1,
              "#f0f921"
             ]
            ],
            "type": "contour"
           }
          ],
          "contourcarpet": [
           {
            "colorbar": {
             "outlinewidth": 0,
             "ticks": ""
            },
            "type": "contourcarpet"
           }
          ],
          "heatmap": [
           {
            "colorbar": {
             "outlinewidth": 0,
             "ticks": ""
            },
            "colorscale": [
             [
              0,
              "#0d0887"
             ],
             [
              0.1111111111111111,
              "#46039f"
             ],
             [
              0.2222222222222222,
              "#7201a8"
             ],
             [
              0.3333333333333333,
              "#9c179e"
             ],
             [
              0.4444444444444444,
              "#bd3786"
             ],
             [
              0.5555555555555556,
              "#d8576b"
             ],
             [
              0.6666666666666666,
              "#ed7953"
             ],
             [
              0.7777777777777778,
              "#fb9f3a"
             ],
             [
              0.8888888888888888,
              "#fdca26"
             ],
             [
              1,
              "#f0f921"
             ]
            ],
            "type": "heatmap"
           }
          ],
          "heatmapgl": [
           {
            "colorbar": {
             "outlinewidth": 0,
             "ticks": ""
            },
            "colorscale": [
             [
              0,
              "#0d0887"
             ],
             [
              0.1111111111111111,
              "#46039f"
             ],
             [
              0.2222222222222222,
              "#7201a8"
             ],
             [
              0.3333333333333333,
              "#9c179e"
             ],
             [
              0.4444444444444444,
              "#bd3786"
             ],
             [
              0.5555555555555556,
              "#d8576b"
             ],
             [
              0.6666666666666666,
              "#ed7953"
             ],
             [
              0.7777777777777778,
              "#fb9f3a"
             ],
             [
              0.8888888888888888,
              "#fdca26"
             ],
             [
              1,
              "#f0f921"
             ]
            ],
            "type": "heatmapgl"
           }
          ],
          "histogram": [
           {
            "marker": {
             "pattern": {
              "fillmode": "overlay",
              "size": 10,
              "solidity": 0.2
             }
            },
            "type": "histogram"
           }
          ],
          "histogram2d": [
           {
            "colorbar": {
             "outlinewidth": 0,
             "ticks": ""
            },
            "colorscale": [
             [
              0,
              "#0d0887"
             ],
             [
              0.1111111111111111,
              "#46039f"
             ],
             [
              0.2222222222222222,
              "#7201a8"
             ],
             [
              0.3333333333333333,
              "#9c179e"
             ],
             [
              0.4444444444444444,
              "#bd3786"
             ],
             [
              0.5555555555555556,
              "#d8576b"
             ],
             [
              0.6666666666666666,
              "#ed7953"
             ],
             [
              0.7777777777777778,
              "#fb9f3a"
             ],
             [
              0.8888888888888888,
              "#fdca26"
             ],
             [
              1,
              "#f0f921"
             ]
            ],
            "type": "histogram2d"
           }
          ],
          "histogram2dcontour": [
           {
            "colorbar": {
             "outlinewidth": 0,
             "ticks": ""
            },
            "colorscale": [
             [
              0,
              "#0d0887"
             ],
             [
              0.1111111111111111,
              "#46039f"
             ],
             [
              0.2222222222222222,
              "#7201a8"
             ],
             [
              0.3333333333333333,
              "#9c179e"
             ],
             [
              0.4444444444444444,
              "#bd3786"
             ],
             [
              0.5555555555555556,
              "#d8576b"
             ],
             [
              0.6666666666666666,
              "#ed7953"
             ],
             [
              0.7777777777777778,
              "#fb9f3a"
             ],
             [
              0.8888888888888888,
              "#fdca26"
             ],
             [
              1,
              "#f0f921"
             ]
            ],
            "type": "histogram2dcontour"
           }
          ],
          "mesh3d": [
           {
            "colorbar": {
             "outlinewidth": 0,
             "ticks": ""
            },
            "type": "mesh3d"
           }
          ],
          "parcoords": [
           {
            "line": {
             "colorbar": {
              "outlinewidth": 0,
              "ticks": ""
             }
            },
            "type": "parcoords"
           }
          ],
          "pie": [
           {
            "automargin": true,
            "type": "pie"
           }
          ],
          "scatter": [
           {
            "fillpattern": {
             "fillmode": "overlay",
             "size": 10,
             "solidity": 0.2
            },
            "type": "scatter"
           }
          ],
          "scatter3d": [
           {
            "line": {
             "colorbar": {
              "outlinewidth": 0,
              "ticks": ""
             }
            },
            "marker": {
             "colorbar": {
              "outlinewidth": 0,
              "ticks": ""
             }
            },
            "type": "scatter3d"
           }
          ],
          "scattercarpet": [
           {
            "marker": {
             "colorbar": {
              "outlinewidth": 0,
              "ticks": ""
             }
            },
            "type": "scattercarpet"
           }
          ],
          "scattergeo": [
           {
            "marker": {
             "colorbar": {
              "outlinewidth": 0,
              "ticks": ""
             }
            },
            "type": "scattergeo"
           }
          ],
          "scattergl": [
           {
            "marker": {
             "colorbar": {
              "outlinewidth": 0,
              "ticks": ""
             }
            },
            "type": "scattergl"
           }
          ],
          "scattermapbox": [
           {
            "marker": {
             "colorbar": {
              "outlinewidth": 0,
              "ticks": ""
             }
            },
            "type": "scattermapbox"
           }
          ],
          "scatterpolar": [
           {
            "marker": {
             "colorbar": {
              "outlinewidth": 0,
              "ticks": ""
             }
            },
            "type": "scatterpolar"
           }
          ],
          "scatterpolargl": [
           {
            "marker": {
             "colorbar": {
              "outlinewidth": 0,
              "ticks": ""
             }
            },
            "type": "scatterpolargl"
           }
          ],
          "scatterternary": [
           {
            "marker": {
             "colorbar": {
              "outlinewidth": 0,
              "ticks": ""
             }
            },
            "type": "scatterternary"
           }
          ],
          "surface": [
           {
            "colorbar": {
             "outlinewidth": 0,
             "ticks": ""
            },
            "colorscale": [
             [
              0,
              "#0d0887"
             ],
             [
              0.1111111111111111,
              "#46039f"
             ],
             [
              0.2222222222222222,
              "#7201a8"
             ],
             [
              0.3333333333333333,
              "#9c179e"
             ],
             [
              0.4444444444444444,
              "#bd3786"
             ],
             [
              0.5555555555555556,
              "#d8576b"
             ],
             [
              0.6666666666666666,
              "#ed7953"
             ],
             [
              0.7777777777777778,
              "#fb9f3a"
             ],
             [
              0.8888888888888888,
              "#fdca26"
             ],
             [
              1,
              "#f0f921"
             ]
            ],
            "type": "surface"
           }
          ],
          "table": [
           {
            "cells": {
             "fill": {
              "color": "#EBF0F8"
             },
             "line": {
              "color": "white"
             }
            },
            "header": {
             "fill": {
              "color": "#C8D4E3"
             },
             "line": {
              "color": "white"
             }
            },
            "type": "table"
           }
          ]
         },
         "layout": {
          "annotationdefaults": {
           "arrowcolor": "#2a3f5f",
           "arrowhead": 0,
           "arrowwidth": 1
          },
          "autotypenumbers": "strict",
          "coloraxis": {
           "colorbar": {
            "outlinewidth": 0,
            "ticks": ""
           }
          },
          "colorscale": {
           "diverging": [
            [
             0,
             "#8e0152"
            ],
            [
             0.1,
             "#c51b7d"
            ],
            [
             0.2,
             "#de77ae"
            ],
            [
             0.3,
             "#f1b6da"
            ],
            [
             0.4,
             "#fde0ef"
            ],
            [
             0.5,
             "#f7f7f7"
            ],
            [
             0.6,
             "#e6f5d0"
            ],
            [
             0.7,
             "#b8e186"
            ],
            [
             0.8,
             "#7fbc41"
            ],
            [
             0.9,
             "#4d9221"
            ],
            [
             1,
             "#276419"
            ]
           ],
           "sequential": [
            [
             0,
             "#0d0887"
            ],
            [
             0.1111111111111111,
             "#46039f"
            ],
            [
             0.2222222222222222,
             "#7201a8"
            ],
            [
             0.3333333333333333,
             "#9c179e"
            ],
            [
             0.4444444444444444,
             "#bd3786"
            ],
            [
             0.5555555555555556,
             "#d8576b"
            ],
            [
             0.6666666666666666,
             "#ed7953"
            ],
            [
             0.7777777777777778,
             "#fb9f3a"
            ],
            [
             0.8888888888888888,
             "#fdca26"
            ],
            [
             1,
             "#f0f921"
            ]
           ],
           "sequentialminus": [
            [
             0,
             "#0d0887"
            ],
            [
             0.1111111111111111,
             "#46039f"
            ],
            [
             0.2222222222222222,
             "#7201a8"
            ],
            [
             0.3333333333333333,
             "#9c179e"
            ],
            [
             0.4444444444444444,
             "#bd3786"
            ],
            [
             0.5555555555555556,
             "#d8576b"
            ],
            [
             0.6666666666666666,
             "#ed7953"
            ],
            [
             0.7777777777777778,
             "#fb9f3a"
            ],
            [
             0.8888888888888888,
             "#fdca26"
            ],
            [
             1,
             "#f0f921"
            ]
           ]
          },
          "colorway": [
           "#636efa",
           "#EF553B",
           "#00cc96",
           "#ab63fa",
           "#FFA15A",
           "#19d3f3",
           "#FF6692",
           "#B6E880",
           "#FF97FF",
           "#FECB52"
          ],
          "font": {
           "color": "#2a3f5f"
          },
          "geo": {
           "bgcolor": "white",
           "lakecolor": "white",
           "landcolor": "#E5ECF6",
           "showlakes": true,
           "showland": true,
           "subunitcolor": "white"
          },
          "hoverlabel": {
           "align": "left"
          },
          "hovermode": "closest",
          "mapbox": {
           "style": "light"
          },
          "paper_bgcolor": "white",
          "plot_bgcolor": "#E5ECF6",
          "polar": {
           "angularaxis": {
            "gridcolor": "white",
            "linecolor": "white",
            "ticks": ""
           },
           "bgcolor": "#E5ECF6",
           "radialaxis": {
            "gridcolor": "white",
            "linecolor": "white",
            "ticks": ""
           }
          },
          "scene": {
           "xaxis": {
            "backgroundcolor": "#E5ECF6",
            "gridcolor": "white",
            "gridwidth": 2,
            "linecolor": "white",
            "showbackground": true,
            "ticks": "",
            "zerolinecolor": "white"
           },
           "yaxis": {
            "backgroundcolor": "#E5ECF6",
            "gridcolor": "white",
            "gridwidth": 2,
            "linecolor": "white",
            "showbackground": true,
            "ticks": "",
            "zerolinecolor": "white"
           },
           "zaxis": {
            "backgroundcolor": "#E5ECF6",
            "gridcolor": "white",
            "gridwidth": 2,
            "linecolor": "white",
            "showbackground": true,
            "ticks": "",
            "zerolinecolor": "white"
           }
          },
          "shapedefaults": {
           "line": {
            "color": "#2a3f5f"
           }
          },
          "ternary": {
           "aaxis": {
            "gridcolor": "white",
            "linecolor": "white",
            "ticks": ""
           },
           "baxis": {
            "gridcolor": "white",
            "linecolor": "white",
            "ticks": ""
           },
           "bgcolor": "#E5ECF6",
           "caxis": {
            "gridcolor": "white",
            "linecolor": "white",
            "ticks": ""
           }
          },
          "title": {
           "x": 0.05
          },
          "xaxis": {
           "automargin": true,
           "gridcolor": "white",
           "linecolor": "white",
           "ticks": "",
           "title": {
            "standoff": 15
           },
           "zerolinecolor": "white",
           "zerolinewidth": 2
          },
          "yaxis": {
           "automargin": true,
           "gridcolor": "white",
           "linecolor": "white",
           "ticks": "",
           "title": {
            "standoff": 15
           },
           "zerolinecolor": "white",
           "zerolinewidth": 2
          }
         }
        },
        "title": {
         "text": "[4GCP+18CP] Residuals at check points in Match-AT projects using different A-priori Std.Dev.constellation"
        },
        "xaxis": {
         "anchor": "y",
         "domain": [
          0,
          0.45
         ],
         "linecolor": "black",
         "linewidth": 1,
         "mirror": true,
         "showline": true,
         "zeroline": true
        },
        "xaxis2": {
         "anchor": "y2",
         "domain": [
          0.55,
          1
         ],
         "linecolor": "black",
         "linewidth": 1,
         "mirror": true,
         "showline": true,
         "zeroline": true
        },
        "xaxis3": {
         "anchor": "y3",
         "domain": [
          0,
          0.45
         ],
         "linecolor": "black",
         "linewidth": 1,
         "mirror": true,
         "showline": true,
         "zeroline": true
        },
        "xaxis4": {
         "anchor": "y4",
         "domain": [
          0.55,
          1
         ],
         "linecolor": "black",
         "linewidth": 1,
         "mirror": true,
         "showline": true,
         "zeroline": true
        },
        "xaxis5": {
         "anchor": "y5",
         "domain": [
          0,
          0.45
         ],
         "linecolor": "black",
         "linewidth": 1,
         "mirror": true,
         "showline": true,
         "zeroline": true
        },
        "xaxis6": {
         "anchor": "y6",
         "domain": [
          0.55,
          1
         ],
         "linecolor": "black",
         "linewidth": 1,
         "mirror": true,
         "showline": true,
         "zeroline": true
        },
        "yaxis": {
         "anchor": "x",
         "domain": [
          0.7777777777777778,
          1
         ],
         "dtick": 0.05,
         "gridcolor": "lightgray",
         "linecolor": "black",
         "linewidth": 1,
         "mirror": true,
         "range": [
          -0.15,
          0.15
         ],
         "showgrid": true,
         "showline": true,
         "zeroline": true,
         "zerolinecolor": "black",
         "zerolinewidth": 1
        },
        "yaxis2": {
         "anchor": "x2",
         "domain": [
          0.7777777777777778,
          1
         ],
         "dtick": 0.05,
         "gridcolor": "lightgray",
         "linecolor": "black",
         "linewidth": 1,
         "mirror": true,
         "range": [
          -0.15,
          0.15
         ],
         "showgrid": true,
         "showline": true,
         "zeroline": true,
         "zerolinecolor": "black",
         "zerolinewidth": 1
        },
        "yaxis3": {
         "anchor": "x3",
         "domain": [
          0.3888888888888889,
          0.6111111111111112
         ],
         "dtick": 0.05,
         "gridcolor": "lightgray",
         "linecolor": "black",
         "linewidth": 1,
         "mirror": true,
         "range": [
          -0.15,
          0.15
         ],
         "showgrid": true,
         "showline": true,
         "zeroline": true,
         "zerolinecolor": "black",
         "zerolinewidth": 1
        },
        "yaxis4": {
         "anchor": "x4",
         "domain": [
          0.3888888888888889,
          0.6111111111111112
         ],
         "dtick": 0.05,
         "gridcolor": "lightgray",
         "linecolor": "black",
         "linewidth": 1,
         "mirror": true,
         "range": [
          -0.15,
          0.15
         ],
         "showgrid": true,
         "showline": true,
         "zeroline": true,
         "zerolinecolor": "black",
         "zerolinewidth": 1
        },
        "yaxis5": {
         "anchor": "x5",
         "domain": [
          0,
          0.22222222222222224
         ],
         "dtick": 0.05,
         "gridcolor": "lightgray",
         "linecolor": "black",
         "linewidth": 1,
         "mirror": true,
         "range": [
          -0.15,
          0.15
         ],
         "showgrid": true,
         "showline": true,
         "zeroline": true,
         "zerolinecolor": "black",
         "zerolinewidth": 1
        },
        "yaxis6": {
         "anchor": "x6",
         "domain": [
          0,
          0.22222222222222224
         ],
         "dtick": 0.05,
         "gridcolor": "lightgray",
         "linecolor": "black",
         "linewidth": 1,
         "mirror": true,
         "range": [
          -0.15,
          0.15
         ],
         "showgrid": true,
         "showline": true,
         "zeroline": true,
         "zerolinecolor": "black",
         "zerolinewidth": 1
        }
       }
      }
     },
     "metadata": {},
     "output_type": "display_data"
    }
   ],
   "source": [
    "\"\"\"Parallel comparison of IGI UM-2 and Leica DMC-4: [4GCP + 18CP] Residuals-SCATTERPLOT\"\"\"\n",
    "project_leica_list = [prj_4GCP_leica, prj_4GCP_leica_LW]\n",
    "project_igi_list = [prj_4GCP_igi, prj_4GCP_igi_LW]\n",
    "colors = ['navy', 'red']\n",
    "std_setting_list = ['Constellation (a)', 'Constellation (b)']\n",
    "fig = make_subplots(rows=3, cols=2, subplot_titles=[\n",
    "                    \"[DMC-4]ChP Residual-X\", \"[UM-2]ChP Residual-X\",\n",
    "                    \"[DMC-4]ChP Residual-Y\", \"[UM-2]ChP Residual-Y\",\n",
    "                    \"[DMC-4]ChP Residual-Z\", \"[UM-2]ChP Residual-Z\"])\n",
    "for prj_leica, prj_igi, color, std_setting in zip(project_leica_list, project_igi_list, colors, std_setting_list):\n",
    "    fig.append_trace(go.Scatter(\n",
    "        name=std_setting,\n",
    "        x=[str(id) for id in prj_leica.cp_id],\n",
    "        y=prj_leica.cp_residual[:, 0],\n",
    "        marker_color=color,\n",
    "        legendgroup=std_setting\n",
    "    ),\n",
    "        row=1,\n",
    "        col=1\n",
    "    )\n",
    "    fig.append_trace(go.Scatter(\n",
    "        name=std_setting,\n",
    "        x=[str(id) for id in prj_leica.cp_id],\n",
    "        y=prj_leica.cp_residual[:, 1],\n",
    "        marker_color=color,\n",
    "        legendgroup=std_setting,\n",
    "        showlegend=False\n",
    "    ),\n",
    "        row=2,\n",
    "        col=1\n",
    "    )\n",
    "    fig.append_trace(go.Scatter(\n",
    "        name=std_setting,\n",
    "        x=[str(id) for id in prj_leica.cp_id],\n",
    "        y=prj_leica.cp_residual[:, 2],\n",
    "        marker_color=color,\n",
    "        legendgroup=std_setting,\n",
    "        showlegend=False\n",
    "    ),\n",
    "        row=3,\n",
    "        col=1\n",
    "    )\n",
    "    fig.append_trace(go.Scatter(\n",
    "        name=std_setting,\n",
    "        x=[str(id) for id in prj_igi.cp_id],\n",
    "        y=prj_igi.cp_residual[:, 0],\n",
    "        marker_color=color,\n",
    "        legendgroup=std_setting,\n",
    "        showlegend=False\n",
    "    ),\n",
    "        row=1,\n",
    "        col=2\n",
    "    )\n",
    "    fig.append_trace(go.Scatter(\n",
    "        name=std_setting,\n",
    "        x=[str(id) for id in prj_igi.cp_id],\n",
    "        y=prj_igi.cp_residual[:, 1],\n",
    "        marker_color=color,\n",
    "        legendgroup=std_setting,\n",
    "        showlegend=False\n",
    "    ),\n",
    "        row=2,\n",
    "        col=2\n",
    "    )\n",
    "    fig.append_trace(go.Scatter(\n",
    "        name=std_setting,\n",
    "        x=[str(id) for id in prj_igi.cp_id],\n",
    "        y=prj_igi.cp_residual[:, 2],\n",
    "        marker_color=color,\n",
    "        legendgroup=std_setting,\n",
    "        showlegend=False\n",
    "    ),\n",
    "        row=3,\n",
    "        col=2\n",
    "    )\n",
    "\n",
    "fig.update_traces(opacity=0.6)\n",
    "fig.update_layout(\n",
    "    title='[4GCP+18CP] Residuals at check points in Match-AT projects using different A-priori Std.Dev.constellation',\n",
    "    plot_bgcolor='white',\n",
    "    xaxis1={\"zeroline\": True, \"showline\": True,\n",
    "            \"linewidth\": 1, \"linecolor\": \"black\", \"mirror\": True},\n",
    "    yaxis1={\"range\": [-0.15, 0.15], \"dtick\": 0.05,\n",
    "            \"showgrid\": True, \"gridcolor\": \"lightgray\",\n",
    "            \"zeroline\": True, \"zerolinecolor\": 'black', \"zerolinewidth\": 1,\n",
    "            \"showline\": True, \"linewidth\": 1, \"linecolor\": \"black\", \"mirror\": True},\n",
    "    xaxis2={\"zeroline\": True, \"showline\": True,\n",
    "            \"linewidth\": 1, \"linecolor\": \"black\", \"mirror\": True},\n",
    "    yaxis2={\"range\": [-0.15, 0.15], \"dtick\": 0.05,\n",
    "            \"showgrid\": True, \"gridcolor\": \"lightgray\",\n",
    "            \"zeroline\": True, \"zerolinecolor\": 'black', \"zerolinewidth\": 1,\n",
    "            \"showline\": True, \"linewidth\": 1, \"linecolor\": \"black\", \"mirror\": True},\n",
    "    xaxis3={\"zeroline\": True, \"showline\": True,\n",
    "            \"linewidth\": 1, \"linecolor\": \"black\", \"mirror\": True},\n",
    "    yaxis3={\"range\": [-0.15, 0.15], \"dtick\": 0.05,\n",
    "            \"showgrid\": True, \"gridcolor\": \"lightgray\",\n",
    "            \"zeroline\": True, \"zerolinecolor\": 'black', \"zerolinewidth\": 1,\n",
    "            \"showline\": True, \"linewidth\": 1, \"linecolor\": \"black\", \"mirror\": True},\n",
    "    xaxis4={\"zeroline\": True, \"showline\": True,\n",
    "            \"linewidth\": 1, \"linecolor\": \"black\", \"mirror\": True},\n",
    "    yaxis4={\"range\": [-0.15, 0.15], \"dtick\": 0.05,\n",
    "            \"showgrid\": True, \"gridcolor\": \"lightgray\",\n",
    "            \"zeroline\": True, \"zerolinecolor\": 'black', \"zerolinewidth\": 1,\n",
    "            \"showline\": True, \"linewidth\": 1, \"linecolor\": \"black\", \"mirror\": True},\n",
    "    xaxis5={\"zeroline\": True, \"showline\": True,\n",
    "            \"linewidth\": 1, \"linecolor\": \"black\", \"mirror\": True},\n",
    "    yaxis5={\"range\": [-0.15, 0.15], \"dtick\": 0.05,\n",
    "            \"showgrid\": True, \"gridcolor\": \"lightgray\",\n",
    "            \"zeroline\": True, \"zerolinecolor\": 'black', \"zerolinewidth\": 1,\n",
    "            \"showline\": True, \"linewidth\": 1, \"linecolor\": \"black\", \"mirror\": True},\n",
    "    xaxis6={\"zeroline\": True, \"showline\": True,\n",
    "            \"linewidth\": 1, \"linecolor\": \"black\", \"mirror\": True},\n",
    "    yaxis6={\"range\": [-0.15, 0.15], \"dtick\": 0.05,\n",
    "            \"showgrid\": True, \"gridcolor\": \"lightgray\",\n",
    "            \"zeroline\": True, \"zerolinecolor\": 'black', \"zerolinewidth\": 1,\n",
    "            \"showline\": True, \"linewidth\": 1, \"linecolor\": \"black\", \"mirror\": True},\n",
    "    legend_tracegroupgap=20\n",
    ")\n",
    "fig.update_xaxes = {\n",
    "    \"dtick\": 0.2,\n",
    "    \"showgrid\": False,\n",
    "    \"zeroline\": False\n",
    "}\n",
    "fig.update_yaxes = {\n",
    "    \"range\": [-0.1, 0.1],\n",
    "    \"dtick\": 0.1,\n",
    "    \"title\": \"Residuals[m]\",\n",
    "    \"showgrid\": True,\n",
    "    \"zeroline\": True\n",
    "}\n",
    "fig.show()\n",
    "fig.write_html(\"./Results/4+18/CP_Residuals-stdvariation.html\")"
   ]
  },
  {
   "cell_type": "code",
   "execution_count": 53,
   "metadata": {},
   "outputs": [
    {
     "data": {
      "application/vnd.plotly.v1+json": {
       "config": {
        "plotlyServerURL": "https://plot.ly"
       },
       "data": [
        {
         "legendgroup": "Constellation (a)",
         "marker": {
          "color": "navy"
         },
         "name": "Constellation (a)",
         "opacity": 0.6,
         "type": "scatter",
         "x": [
          "101",
          "102",
          "105",
          "108",
          "109",
          "111",
          "112",
          "115",
          "118",
          "119",
          "121",
          "122",
          "124",
          "125",
          "127",
          "128",
          "130",
          "131"
         ],
         "xaxis": "x",
         "y": [
          0.009,
          0.014,
          0.001,
          0.037,
          0.022,
          0.002,
          0.025,
          -0.002,
          -0.012,
          -0.039,
          -0.015,
          -0.031,
          0.002,
          -0.013,
          -0.002,
          0.037,
          0.008,
          0.019
         ],
         "yaxis": "y"
        },
        {
         "legendgroup": "Constellation (a)",
         "marker": {
          "color": "navy"
         },
         "name": "Constellation (a)",
         "opacity": 0.6,
         "showlegend": false,
         "type": "scatter",
         "x": [
          "101",
          "102",
          "105",
          "108",
          "109",
          "111",
          "112",
          "115",
          "118",
          "119",
          "121",
          "122",
          "124",
          "125",
          "127",
          "128",
          "130",
          "131"
         ],
         "xaxis": "x3",
         "y": [
          -0.005,
          0.009,
          -0.014,
          -0.005,
          -0.009,
          0.006,
          0.01,
          0.043,
          0.051,
          0.067,
          0.011,
          0.029,
          0.012,
          -0.025,
          -0.005,
          0.007,
          -0.002,
          -0.004
         ],
         "yaxis": "y3"
        },
        {
         "legendgroup": "Constellation (a)",
         "marker": {
          "color": "navy"
         },
         "name": "Constellation (a)",
         "opacity": 0.6,
         "showlegend": false,
         "type": "scatter",
         "x": [
          "101",
          "102",
          "105",
          "108",
          "109",
          "111",
          "112",
          "115",
          "118",
          "119",
          "121",
          "122",
          "124",
          "125",
          "127",
          "128",
          "130",
          "131"
         ],
         "xaxis": "x5",
         "y": [
          0.018,
          0.077,
          -0.034,
          -0.09,
          0.016,
          -0.008,
          -0.033,
          -0.052,
          -0.075,
          -0.016,
          -0.031,
          0.002,
          0.003,
          0.03,
          -0.017,
          -0.102,
          -0.036,
          0.002
         ],
         "yaxis": "y5"
        },
        {
         "legendgroup": "Constellation (a)",
         "marker": {
          "color": "navy"
         },
         "name": "Constellation (a)",
         "opacity": 0.6,
         "showlegend": false,
         "type": "scatter",
         "x": [
          "101",
          "102",
          "105",
          "108",
          "109",
          "111",
          "112",
          "115",
          "118",
          "119",
          "121",
          "122",
          "124",
          "125",
          "127",
          "128",
          "130",
          "131"
         ],
         "xaxis": "x2",
         "y": [
          -0.009,
          0.005,
          -0.007,
          0.011,
          0.02,
          -0.019,
          0.013,
          -0.016,
          0.016,
          -0.008,
          -0.034,
          -0.03,
          -0.034,
          -0.036,
          -0.028,
          -0.03,
          -0.033,
          -0.02
         ],
         "yaxis": "y2"
        },
        {
         "legendgroup": "Constellation (a)",
         "marker": {
          "color": "navy"
         },
         "name": "Constellation (a)",
         "opacity": 0.6,
         "showlegend": false,
         "type": "scatter",
         "x": [
          "101",
          "102",
          "105",
          "108",
          "109",
          "111",
          "112",
          "115",
          "118",
          "119",
          "121",
          "122",
          "124",
          "125",
          "127",
          "128",
          "130",
          "131"
         ],
         "xaxis": "x4",
         "y": [
          0,
          -0.01,
          0.02,
          0.036,
          0.028,
          0.004,
          -0.011,
          0.023,
          0.029,
          0.021,
          0.004,
          0.016,
          0.037,
          0.003,
          0.028,
          0.014,
          0.006,
          -0.004
         ],
         "yaxis": "y4"
        },
        {
         "legendgroup": "Constellation (a)",
         "marker": {
          "color": "navy"
         },
         "name": "Constellation (a)",
         "opacity": 0.6,
         "showlegend": false,
         "type": "scatter",
         "x": [
          "101",
          "102",
          "105",
          "108",
          "109",
          "111",
          "112",
          "115",
          "118",
          "119",
          "121",
          "122",
          "124",
          "125",
          "127",
          "128",
          "130",
          "131"
         ],
         "xaxis": "x6",
         "y": [
          0.022,
          0.04,
          -0.005,
          -0.04,
          -0.106,
          -0.084,
          -0.106,
          0.028,
          0.099,
          0.016,
          -0.009,
          0.04,
          0.009,
          0.053,
          0.011,
          -0.021,
          -0.014,
          0.035
         ],
         "yaxis": "y6"
        },
        {
         "legendgroup": "Constellation (b)",
         "marker": {
          "color": "red"
         },
         "name": "Constellation (b)",
         "opacity": 0.6,
         "type": "scatter",
         "x": [
          "101",
          "102",
          "105",
          "108",
          "109",
          "111",
          "112",
          "115",
          "118",
          "119",
          "121",
          "122",
          "124",
          "125",
          "127",
          "128",
          "130",
          "131"
         ],
         "xaxis": "x",
         "y": [
          -0.002,
          0.003,
          -0.007,
          0.05,
          0.035,
          0.021,
          0.044,
          -0.009,
          -0.026,
          -0.053,
          -0.028,
          -0.043,
          -0.007,
          -0.02,
          -0.007,
          0.035,
          0.012,
          0.021
         ],
         "yaxis": "y"
        },
        {
         "legendgroup": "Constellation (b)",
         "marker": {
          "color": "red"
         },
         "name": "Constellation (b)",
         "opacity": 0.6,
         "showlegend": false,
         "type": "scatter",
         "x": [
          "101",
          "102",
          "105",
          "108",
          "109",
          "111",
          "112",
          "115",
          "118",
          "119",
          "121",
          "122",
          "124",
          "125",
          "127",
          "128",
          "130",
          "131"
         ],
         "xaxis": "x3",
         "y": [
          -0.012,
          0.002,
          -0.014,
          0.005,
          0.001,
          0.003,
          0.008,
          0.035,
          0.051,
          0.067,
          0.007,
          0.024,
          0.01,
          -0.032,
          -0.004,
          0,
          -0.007,
          -0.001
         ],
         "yaxis": "y3"
        },
        {
         "legendgroup": "Constellation (b)",
         "marker": {
          "color": "red"
         },
         "name": "Constellation (b)",
         "opacity": 0.6,
         "showlegend": false,
         "type": "scatter",
         "x": [
          "101",
          "102",
          "105",
          "108",
          "109",
          "111",
          "112",
          "115",
          "118",
          "119",
          "121",
          "122",
          "124",
          "125",
          "127",
          "128",
          "130",
          "131"
         ],
         "xaxis": "x5",
         "y": [
          0.026,
          0.084,
          -0.052,
          -0.106,
          0.001,
          -0.028,
          -0.052,
          -0.071,
          -0.073,
          -0.012,
          -0.039,
          -0.011,
          -0.015,
          0.011,
          -0.037,
          -0.125,
          -0.061,
          -0.02
         ],
         "yaxis": "y5"
        },
        {
         "legendgroup": "Constellation (b)",
         "marker": {
          "color": "red"
         },
         "name": "Constellation (b)",
         "opacity": 0.6,
         "showlegend": false,
         "type": "scatter",
         "x": [
          "101",
          "102",
          "105",
          "108",
          "109",
          "111",
          "112",
          "115",
          "118",
          "119",
          "121",
          "122",
          "124",
          "125",
          "127",
          "128",
          "130",
          "131"
         ],
         "xaxis": "x2",
         "y": [
          -0.009,
          0.004,
          -0.018,
          0.011,
          0.02,
          -0.008,
          0.025,
          -0.021,
          0.015,
          -0.008,
          -0.042,
          -0.036,
          -0.044,
          -0.042,
          -0.038,
          -0.033,
          -0.034,
          -0.025
         ],
         "yaxis": "y2"
        },
        {
         "legendgroup": "Constellation (b)",
         "marker": {
          "color": "red"
         },
         "name": "Constellation (b)",
         "opacity": 0.6,
         "showlegend": false,
         "type": "scatter",
         "x": [
          "101",
          "102",
          "105",
          "108",
          "109",
          "111",
          "112",
          "115",
          "118",
          "119",
          "121",
          "122",
          "124",
          "125",
          "127",
          "128",
          "130",
          "131"
         ],
         "xaxis": "x4",
         "y": [
          -0.021,
          -0.028,
          0.017,
          0.054,
          0.047,
          0.01,
          -0.005,
          0.017,
          0.022,
          0.014,
          -0.007,
          0.008,
          0.032,
          -0.003,
          0.027,
          0.011,
          0.006,
          0.001
         ],
         "yaxis": "y4"
        },
        {
         "legendgroup": "Constellation (b)",
         "marker": {
          "color": "red"
         },
         "name": "Constellation (b)",
         "opacity": 0.6,
         "showlegend": false,
         "type": "scatter",
         "x": [
          "101",
          "102",
          "105",
          "108",
          "109",
          "111",
          "112",
          "115",
          "118",
          "119",
          "121",
          "122",
          "124",
          "125",
          "127",
          "128",
          "130",
          "131"
         ],
         "xaxis": "x6",
         "y": [
          0.046,
          0.059,
          -0.011,
          -0.061,
          -0.128,
          -0.116,
          -0.138,
          0.018,
          0.109,
          0.027,
          -0.003,
          0.04,
          0.004,
          0.043,
          0,
          -0.037,
          -0.034,
          0.017
         ],
         "yaxis": "y6"
        }
       ],
       "layout": {
        "annotations": [
         {
          "font": {
           "size": 16
          },
          "showarrow": false,
          "text": "[UCE M3]ChP Residual-X",
          "x": 0.225,
          "xanchor": "center",
          "xref": "paper",
          "y": 1,
          "yanchor": "bottom",
          "yref": "paper"
         },
         {
          "font": {
           "size": 16
          },
          "showarrow": false,
          "text": "[UCE 4.1]ChP Residual-X",
          "x": 0.775,
          "xanchor": "center",
          "xref": "paper",
          "y": 1,
          "yanchor": "bottom",
          "yref": "paper"
         },
         {
          "font": {
           "size": 16
          },
          "showarrow": false,
          "text": "[UCE M3]ChP Residual-Y",
          "x": 0.225,
          "xanchor": "center",
          "xref": "paper",
          "y": 0.6111111111111112,
          "yanchor": "bottom",
          "yref": "paper"
         },
         {
          "font": {
           "size": 16
          },
          "showarrow": false,
          "text": "[UCE 4.1]ChP Residual-Y",
          "x": 0.775,
          "xanchor": "center",
          "xref": "paper",
          "y": 0.6111111111111112,
          "yanchor": "bottom",
          "yref": "paper"
         },
         {
          "font": {
           "size": 16
          },
          "showarrow": false,
          "text": "[UCE M3]ChP Residual-Z",
          "x": 0.225,
          "xanchor": "center",
          "xref": "paper",
          "y": 0.22222222222222224,
          "yanchor": "bottom",
          "yref": "paper"
         },
         {
          "font": {
           "size": 16
          },
          "showarrow": false,
          "text": "[UCE 4.1]ChP Residual-Z",
          "x": 0.775,
          "xanchor": "center",
          "xref": "paper",
          "y": 0.22222222222222224,
          "yanchor": "bottom",
          "yref": "paper"
         }
        ],
        "legend": {
         "tracegroupgap": 20
        },
        "plot_bgcolor": "white",
        "template": {
         "data": {
          "bar": [
           {
            "error_x": {
             "color": "#2a3f5f"
            },
            "error_y": {
             "color": "#2a3f5f"
            },
            "marker": {
             "line": {
              "color": "#E5ECF6",
              "width": 0.5
             },
             "pattern": {
              "fillmode": "overlay",
              "size": 10,
              "solidity": 0.2
             }
            },
            "type": "bar"
           }
          ],
          "barpolar": [
           {
            "marker": {
             "line": {
              "color": "#E5ECF6",
              "width": 0.5
             },
             "pattern": {
              "fillmode": "overlay",
              "size": 10,
              "solidity": 0.2
             }
            },
            "type": "barpolar"
           }
          ],
          "carpet": [
           {
            "aaxis": {
             "endlinecolor": "#2a3f5f",
             "gridcolor": "white",
             "linecolor": "white",
             "minorgridcolor": "white",
             "startlinecolor": "#2a3f5f"
            },
            "baxis": {
             "endlinecolor": "#2a3f5f",
             "gridcolor": "white",
             "linecolor": "white",
             "minorgridcolor": "white",
             "startlinecolor": "#2a3f5f"
            },
            "type": "carpet"
           }
          ],
          "choropleth": [
           {
            "colorbar": {
             "outlinewidth": 0,
             "ticks": ""
            },
            "type": "choropleth"
           }
          ],
          "contour": [
           {
            "colorbar": {
             "outlinewidth": 0,
             "ticks": ""
            },
            "colorscale": [
             [
              0,
              "#0d0887"
             ],
             [
              0.1111111111111111,
              "#46039f"
             ],
             [
              0.2222222222222222,
              "#7201a8"
             ],
             [
              0.3333333333333333,
              "#9c179e"
             ],
             [
              0.4444444444444444,
              "#bd3786"
             ],
             [
              0.5555555555555556,
              "#d8576b"
             ],
             [
              0.6666666666666666,
              "#ed7953"
             ],
             [
              0.7777777777777778,
              "#fb9f3a"
             ],
             [
              0.8888888888888888,
              "#fdca26"
             ],
             [
              1,
              "#f0f921"
             ]
            ],
            "type": "contour"
           }
          ],
          "contourcarpet": [
           {
            "colorbar": {
             "outlinewidth": 0,
             "ticks": ""
            },
            "type": "contourcarpet"
           }
          ],
          "heatmap": [
           {
            "colorbar": {
             "outlinewidth": 0,
             "ticks": ""
            },
            "colorscale": [
             [
              0,
              "#0d0887"
             ],
             [
              0.1111111111111111,
              "#46039f"
             ],
             [
              0.2222222222222222,
              "#7201a8"
             ],
             [
              0.3333333333333333,
              "#9c179e"
             ],
             [
              0.4444444444444444,
              "#bd3786"
             ],
             [
              0.5555555555555556,
              "#d8576b"
             ],
             [
              0.6666666666666666,
              "#ed7953"
             ],
             [
              0.7777777777777778,
              "#fb9f3a"
             ],
             [
              0.8888888888888888,
              "#fdca26"
             ],
             [
              1,
              "#f0f921"
             ]
            ],
            "type": "heatmap"
           }
          ],
          "heatmapgl": [
           {
            "colorbar": {
             "outlinewidth": 0,
             "ticks": ""
            },
            "colorscale": [
             [
              0,
              "#0d0887"
             ],
             [
              0.1111111111111111,
              "#46039f"
             ],
             [
              0.2222222222222222,
              "#7201a8"
             ],
             [
              0.3333333333333333,
              "#9c179e"
             ],
             [
              0.4444444444444444,
              "#bd3786"
             ],
             [
              0.5555555555555556,
              "#d8576b"
             ],
             [
              0.6666666666666666,
              "#ed7953"
             ],
             [
              0.7777777777777778,
              "#fb9f3a"
             ],
             [
              0.8888888888888888,
              "#fdca26"
             ],
             [
              1,
              "#f0f921"
             ]
            ],
            "type": "heatmapgl"
           }
          ],
          "histogram": [
           {
            "marker": {
             "pattern": {
              "fillmode": "overlay",
              "size": 10,
              "solidity": 0.2
             }
            },
            "type": "histogram"
           }
          ],
          "histogram2d": [
           {
            "colorbar": {
             "outlinewidth": 0,
             "ticks": ""
            },
            "colorscale": [
             [
              0,
              "#0d0887"
             ],
             [
              0.1111111111111111,
              "#46039f"
             ],
             [
              0.2222222222222222,
              "#7201a8"
             ],
             [
              0.3333333333333333,
              "#9c179e"
             ],
             [
              0.4444444444444444,
              "#bd3786"
             ],
             [
              0.5555555555555556,
              "#d8576b"
             ],
             [
              0.6666666666666666,
              "#ed7953"
             ],
             [
              0.7777777777777778,
              "#fb9f3a"
             ],
             [
              0.8888888888888888,
              "#fdca26"
             ],
             [
              1,
              "#f0f921"
             ]
            ],
            "type": "histogram2d"
           }
          ],
          "histogram2dcontour": [
           {
            "colorbar": {
             "outlinewidth": 0,
             "ticks": ""
            },
            "colorscale": [
             [
              0,
              "#0d0887"
             ],
             [
              0.1111111111111111,
              "#46039f"
             ],
             [
              0.2222222222222222,
              "#7201a8"
             ],
             [
              0.3333333333333333,
              "#9c179e"
             ],
             [
              0.4444444444444444,
              "#bd3786"
             ],
             [
              0.5555555555555556,
              "#d8576b"
             ],
             [
              0.6666666666666666,
              "#ed7953"
             ],
             [
              0.7777777777777778,
              "#fb9f3a"
             ],
             [
              0.8888888888888888,
              "#fdca26"
             ],
             [
              1,
              "#f0f921"
             ]
            ],
            "type": "histogram2dcontour"
           }
          ],
          "mesh3d": [
           {
            "colorbar": {
             "outlinewidth": 0,
             "ticks": ""
            },
            "type": "mesh3d"
           }
          ],
          "parcoords": [
           {
            "line": {
             "colorbar": {
              "outlinewidth": 0,
              "ticks": ""
             }
            },
            "type": "parcoords"
           }
          ],
          "pie": [
           {
            "automargin": true,
            "type": "pie"
           }
          ],
          "scatter": [
           {
            "fillpattern": {
             "fillmode": "overlay",
             "size": 10,
             "solidity": 0.2
            },
            "type": "scatter"
           }
          ],
          "scatter3d": [
           {
            "line": {
             "colorbar": {
              "outlinewidth": 0,
              "ticks": ""
             }
            },
            "marker": {
             "colorbar": {
              "outlinewidth": 0,
              "ticks": ""
             }
            },
            "type": "scatter3d"
           }
          ],
          "scattercarpet": [
           {
            "marker": {
             "colorbar": {
              "outlinewidth": 0,
              "ticks": ""
             }
            },
            "type": "scattercarpet"
           }
          ],
          "scattergeo": [
           {
            "marker": {
             "colorbar": {
              "outlinewidth": 0,
              "ticks": ""
             }
            },
            "type": "scattergeo"
           }
          ],
          "scattergl": [
           {
            "marker": {
             "colorbar": {
              "outlinewidth": 0,
              "ticks": ""
             }
            },
            "type": "scattergl"
           }
          ],
          "scattermapbox": [
           {
            "marker": {
             "colorbar": {
              "outlinewidth": 0,
              "ticks": ""
             }
            },
            "type": "scattermapbox"
           }
          ],
          "scatterpolar": [
           {
            "marker": {
             "colorbar": {
              "outlinewidth": 0,
              "ticks": ""
             }
            },
            "type": "scatterpolar"
           }
          ],
          "scatterpolargl": [
           {
            "marker": {
             "colorbar": {
              "outlinewidth": 0,
              "ticks": ""
             }
            },
            "type": "scatterpolargl"
           }
          ],
          "scatterternary": [
           {
            "marker": {
             "colorbar": {
              "outlinewidth": 0,
              "ticks": ""
             }
            },
            "type": "scatterternary"
           }
          ],
          "surface": [
           {
            "colorbar": {
             "outlinewidth": 0,
             "ticks": ""
            },
            "colorscale": [
             [
              0,
              "#0d0887"
             ],
             [
              0.1111111111111111,
              "#46039f"
             ],
             [
              0.2222222222222222,
              "#7201a8"
             ],
             [
              0.3333333333333333,
              "#9c179e"
             ],
             [
              0.4444444444444444,
              "#bd3786"
             ],
             [
              0.5555555555555556,
              "#d8576b"
             ],
             [
              0.6666666666666666,
              "#ed7953"
             ],
             [
              0.7777777777777778,
              "#fb9f3a"
             ],
             [
              0.8888888888888888,
              "#fdca26"
             ],
             [
              1,
              "#f0f921"
             ]
            ],
            "type": "surface"
           }
          ],
          "table": [
           {
            "cells": {
             "fill": {
              "color": "#EBF0F8"
             },
             "line": {
              "color": "white"
             }
            },
            "header": {
             "fill": {
              "color": "#C8D4E3"
             },
             "line": {
              "color": "white"
             }
            },
            "type": "table"
           }
          ]
         },
         "layout": {
          "annotationdefaults": {
           "arrowcolor": "#2a3f5f",
           "arrowhead": 0,
           "arrowwidth": 1
          },
          "autotypenumbers": "strict",
          "coloraxis": {
           "colorbar": {
            "outlinewidth": 0,
            "ticks": ""
           }
          },
          "colorscale": {
           "diverging": [
            [
             0,
             "#8e0152"
            ],
            [
             0.1,
             "#c51b7d"
            ],
            [
             0.2,
             "#de77ae"
            ],
            [
             0.3,
             "#f1b6da"
            ],
            [
             0.4,
             "#fde0ef"
            ],
            [
             0.5,
             "#f7f7f7"
            ],
            [
             0.6,
             "#e6f5d0"
            ],
            [
             0.7,
             "#b8e186"
            ],
            [
             0.8,
             "#7fbc41"
            ],
            [
             0.9,
             "#4d9221"
            ],
            [
             1,
             "#276419"
            ]
           ],
           "sequential": [
            [
             0,
             "#0d0887"
            ],
            [
             0.1111111111111111,
             "#46039f"
            ],
            [
             0.2222222222222222,
             "#7201a8"
            ],
            [
             0.3333333333333333,
             "#9c179e"
            ],
            [
             0.4444444444444444,
             "#bd3786"
            ],
            [
             0.5555555555555556,
             "#d8576b"
            ],
            [
             0.6666666666666666,
             "#ed7953"
            ],
            [
             0.7777777777777778,
             "#fb9f3a"
            ],
            [
             0.8888888888888888,
             "#fdca26"
            ],
            [
             1,
             "#f0f921"
            ]
           ],
           "sequentialminus": [
            [
             0,
             "#0d0887"
            ],
            [
             0.1111111111111111,
             "#46039f"
            ],
            [
             0.2222222222222222,
             "#7201a8"
            ],
            [
             0.3333333333333333,
             "#9c179e"
            ],
            [
             0.4444444444444444,
             "#bd3786"
            ],
            [
             0.5555555555555556,
             "#d8576b"
            ],
            [
             0.6666666666666666,
             "#ed7953"
            ],
            [
             0.7777777777777778,
             "#fb9f3a"
            ],
            [
             0.8888888888888888,
             "#fdca26"
            ],
            [
             1,
             "#f0f921"
            ]
           ]
          },
          "colorway": [
           "#636efa",
           "#EF553B",
           "#00cc96",
           "#ab63fa",
           "#FFA15A",
           "#19d3f3",
           "#FF6692",
           "#B6E880",
           "#FF97FF",
           "#FECB52"
          ],
          "font": {
           "color": "#2a3f5f"
          },
          "geo": {
           "bgcolor": "white",
           "lakecolor": "white",
           "landcolor": "#E5ECF6",
           "showlakes": true,
           "showland": true,
           "subunitcolor": "white"
          },
          "hoverlabel": {
           "align": "left"
          },
          "hovermode": "closest",
          "mapbox": {
           "style": "light"
          },
          "paper_bgcolor": "white",
          "plot_bgcolor": "#E5ECF6",
          "polar": {
           "angularaxis": {
            "gridcolor": "white",
            "linecolor": "white",
            "ticks": ""
           },
           "bgcolor": "#E5ECF6",
           "radialaxis": {
            "gridcolor": "white",
            "linecolor": "white",
            "ticks": ""
           }
          },
          "scene": {
           "xaxis": {
            "backgroundcolor": "#E5ECF6",
            "gridcolor": "white",
            "gridwidth": 2,
            "linecolor": "white",
            "showbackground": true,
            "ticks": "",
            "zerolinecolor": "white"
           },
           "yaxis": {
            "backgroundcolor": "#E5ECF6",
            "gridcolor": "white",
            "gridwidth": 2,
            "linecolor": "white",
            "showbackground": true,
            "ticks": "",
            "zerolinecolor": "white"
           },
           "zaxis": {
            "backgroundcolor": "#E5ECF6",
            "gridcolor": "white",
            "gridwidth": 2,
            "linecolor": "white",
            "showbackground": true,
            "ticks": "",
            "zerolinecolor": "white"
           }
          },
          "shapedefaults": {
           "line": {
            "color": "#2a3f5f"
           }
          },
          "ternary": {
           "aaxis": {
            "gridcolor": "white",
            "linecolor": "white",
            "ticks": ""
           },
           "baxis": {
            "gridcolor": "white",
            "linecolor": "white",
            "ticks": ""
           },
           "bgcolor": "#E5ECF6",
           "caxis": {
            "gridcolor": "white",
            "linecolor": "white",
            "ticks": ""
           }
          },
          "title": {
           "x": 0.05
          },
          "xaxis": {
           "automargin": true,
           "gridcolor": "white",
           "linecolor": "white",
           "ticks": "",
           "title": {
            "standoff": 15
           },
           "zerolinecolor": "white",
           "zerolinewidth": 2
          },
          "yaxis": {
           "automargin": true,
           "gridcolor": "white",
           "linecolor": "white",
           "ticks": "",
           "title": {
            "standoff": 15
           },
           "zerolinecolor": "white",
           "zerolinewidth": 2
          }
         }
        },
        "title": {
         "text": "[4GCP+18CP] Residuals at check points in Match-AT projects using different A-priori Std.Dev.constellation"
        },
        "xaxis": {
         "anchor": "y",
         "domain": [
          0,
          0.45
         ],
         "linecolor": "black",
         "linewidth": 1,
         "mirror": true,
         "showline": true,
         "zeroline": true
        },
        "xaxis2": {
         "anchor": "y2",
         "domain": [
          0.55,
          1
         ],
         "linecolor": "black",
         "linewidth": 1,
         "mirror": true,
         "showline": true,
         "zeroline": true
        },
        "xaxis3": {
         "anchor": "y3",
         "domain": [
          0,
          0.45
         ],
         "linecolor": "black",
         "linewidth": 1,
         "mirror": true,
         "showline": true,
         "zeroline": true
        },
        "xaxis4": {
         "anchor": "y4",
         "domain": [
          0.55,
          1
         ],
         "linecolor": "black",
         "linewidth": 1,
         "mirror": true,
         "showline": true,
         "zeroline": true
        },
        "xaxis5": {
         "anchor": "y5",
         "domain": [
          0,
          0.45
         ],
         "linecolor": "black",
         "linewidth": 1,
         "mirror": true,
         "showline": true,
         "zeroline": true
        },
        "xaxis6": {
         "anchor": "y6",
         "domain": [
          0.55,
          1
         ],
         "linecolor": "black",
         "linewidth": 1,
         "mirror": true,
         "showline": true,
         "zeroline": true
        },
        "yaxis": {
         "anchor": "x",
         "domain": [
          0.7777777777777778,
          1
         ],
         "dtick": 0.05,
         "gridcolor": "lightgray",
         "linecolor": "black",
         "linewidth": 1,
         "mirror": true,
         "range": [
          -0.15,
          0.15
         ],
         "showgrid": true,
         "showline": true,
         "zeroline": true,
         "zerolinecolor": "black",
         "zerolinewidth": 1
        },
        "yaxis2": {
         "anchor": "x2",
         "domain": [
          0.7777777777777778,
          1
         ],
         "dtick": 0.05,
         "gridcolor": "lightgray",
         "linecolor": "black",
         "linewidth": 1,
         "mirror": true,
         "range": [
          -0.15,
          0.15
         ],
         "showgrid": true,
         "showline": true,
         "zeroline": true,
         "zerolinecolor": "black",
         "zerolinewidth": 1
        },
        "yaxis3": {
         "anchor": "x3",
         "domain": [
          0.3888888888888889,
          0.6111111111111112
         ],
         "dtick": 0.05,
         "gridcolor": "lightgray",
         "linecolor": "black",
         "linewidth": 1,
         "mirror": true,
         "range": [
          -0.15,
          0.15
         ],
         "showgrid": true,
         "showline": true,
         "zeroline": true,
         "zerolinecolor": "black",
         "zerolinewidth": 1
        },
        "yaxis4": {
         "anchor": "x4",
         "domain": [
          0.3888888888888889,
          0.6111111111111112
         ],
         "dtick": 0.05,
         "gridcolor": "lightgray",
         "linecolor": "black",
         "linewidth": 1,
         "mirror": true,
         "range": [
          -0.15,
          0.15
         ],
         "showgrid": true,
         "showline": true,
         "zeroline": true,
         "zerolinecolor": "black",
         "zerolinewidth": 1
        },
        "yaxis5": {
         "anchor": "x5",
         "domain": [
          0,
          0.22222222222222224
         ],
         "dtick": 0.05,
         "gridcolor": "lightgray",
         "linecolor": "black",
         "linewidth": 1,
         "mirror": true,
         "range": [
          -0.15,
          0.15
         ],
         "showgrid": true,
         "showline": true,
         "zeroline": true,
         "zerolinecolor": "black",
         "zerolinewidth": 1
        },
        "yaxis6": {
         "anchor": "x6",
         "domain": [
          0,
          0.22222222222222224
         ],
         "dtick": 0.05,
         "gridcolor": "lightgray",
         "linecolor": "black",
         "linewidth": 1,
         "mirror": true,
         "range": [
          -0.15,
          0.15
         ],
         "showgrid": true,
         "showline": true,
         "zeroline": true,
         "zerolinecolor": "black",
         "zerolinewidth": 1
        }
       }
      }
     },
     "metadata": {},
     "output_type": "display_data"
    }
   ],
   "source": [
    "\"\"\"Parallel comparison of UCE-M3 and UCE-4.1: [4GCP + 18CP] Residuals-SCATTERPLOT\"\"\"\n",
    "project_uce3_list = [prj_4GCP_uce_m3, prj_4GCP_uce_m3_LW]\n",
    "project_uce4_list = [prj_4GCP_uce_4, prj_4GCP_uce_4_LW]\n",
    "colors = ['navy', 'red']\n",
    "std_setting_list = ['Constellation (a)', 'Constellation (b)']\n",
    "fig = make_subplots(rows=3, cols=2, subplot_titles=[\n",
    "                    \"[UCE M3]ChP Residual-X\", \"[UCE 4.1]ChP Residual-X\",\n",
    "                    \"[UCE M3]ChP Residual-Y\", \"[UCE 4.1]ChP Residual-Y\",\n",
    "                    \"[UCE M3]ChP Residual-Z\", \"[UCE 4.1]ChP Residual-Z\"])\n",
    "for prj_uce3, prj_uce4, color, std_setting in zip(project_uce3_list, project_uce4_list, colors, std_setting_list):\n",
    "    fig.append_trace(go.Scatter(\n",
    "        name=std_setting,\n",
    "        x=[str(id) for id in prj_uce3.cp_id],\n",
    "        y=prj_uce3.cp_residual[:, 0],\n",
    "        marker_color=color,\n",
    "        legendgroup=std_setting\n",
    "    ),\n",
    "        row=1,\n",
    "        col=1\n",
    "    )\n",
    "    fig.append_trace(go.Scatter(\n",
    "        name=std_setting,\n",
    "        x=[str(id) for id in prj_uce3.cp_id],\n",
    "        y=prj_uce3.cp_residual[:, 1],\n",
    "        marker_color=color,\n",
    "        legendgroup=std_setting,\n",
    "        showlegend=False\n",
    "    ),\n",
    "        row=2,\n",
    "        col=1\n",
    "    )\n",
    "    fig.append_trace(go.Scatter(\n",
    "        name=std_setting,\n",
    "        x=[str(id) for id in prj_uce3.cp_id],\n",
    "        y=prj_uce3.cp_residual[:, 2],\n",
    "        marker_color=color,\n",
    "        legendgroup=std_setting,\n",
    "        showlegend=False\n",
    "    ),\n",
    "        row=3,\n",
    "        col=1\n",
    "    )\n",
    "    fig.append_trace(go.Scatter(\n",
    "        name=std_setting,\n",
    "        x=[str(id) for id in prj_uce4.cp_id],\n",
    "        y=prj_uce4.cp_residual[:, 0],\n",
    "        marker_color=color,\n",
    "        legendgroup=std_setting,\n",
    "        showlegend=False\n",
    "    ),\n",
    "        row=1,\n",
    "        col=2\n",
    "    )\n",
    "    fig.append_trace(go.Scatter(\n",
    "        name=std_setting,\n",
    "        x=[str(id) for id in prj_uce4.cp_id],\n",
    "        y=prj_uce4.cp_residual[:, 1],\n",
    "        marker_color=color,\n",
    "        legendgroup=std_setting,\n",
    "        showlegend=False\n",
    "    ),\n",
    "        row=2,\n",
    "        col=2\n",
    "    )\n",
    "    fig.append_trace(go.Scatter(\n",
    "        name=std_setting,\n",
    "        x=[str(id) for id in prj_uce4.cp_id],\n",
    "        y=prj_uce4.cp_residual[:, 2],\n",
    "        marker_color=color,\n",
    "        legendgroup=std_setting,\n",
    "        showlegend=False\n",
    "    ),\n",
    "        row=3,\n",
    "        col=2\n",
    "    )\n",
    "\n",
    "fig.update_traces(opacity=0.6)\n",
    "fig.update_layout(\n",
    "    title='[4GCP+18CP] Residuals at check points in Match-AT projects using different A-priori Std.Dev.constellation',\n",
    "    plot_bgcolor='white',\n",
    "    xaxis1={\"zeroline\": True, \"showline\": True,\n",
    "            \"linewidth\": 1, \"linecolor\": \"black\", \"mirror\": True},\n",
    "    yaxis1={\"range\": [-0.15, 0.15], \"dtick\": 0.05,\n",
    "            \"showgrid\": True, \"gridcolor\": \"lightgray\",\n",
    "            \"zeroline\": True, \"zerolinecolor\": 'black', \"zerolinewidth\": 1,\n",
    "            \"showline\": True, \"linewidth\": 1, \"linecolor\": \"black\", \"mirror\": True},\n",
    "    xaxis2={\"zeroline\": True, \"showline\": True,\n",
    "            \"linewidth\": 1, \"linecolor\": \"black\", \"mirror\": True},\n",
    "    yaxis2={\"range\": [-0.15, 0.15], \"dtick\": 0.05,\n",
    "            \"showgrid\": True, \"gridcolor\": \"lightgray\",\n",
    "            \"zeroline\": True, \"zerolinecolor\": 'black', \"zerolinewidth\": 1,\n",
    "            \"showline\": True, \"linewidth\": 1, \"linecolor\": \"black\", \"mirror\": True},\n",
    "    xaxis3={\"zeroline\": True, \"showline\": True,\n",
    "            \"linewidth\": 1, \"linecolor\": \"black\", \"mirror\": True},\n",
    "    yaxis3={\"range\": [-0.15, 0.15], \"dtick\": 0.05,\n",
    "            \"showgrid\": True, \"gridcolor\": \"lightgray\",\n",
    "            \"zeroline\": True, \"zerolinecolor\": 'black', \"zerolinewidth\": 1,\n",
    "            \"showline\": True, \"linewidth\": 1, \"linecolor\": \"black\", \"mirror\": True},\n",
    "    xaxis4={\"zeroline\": True, \"showline\": True,\n",
    "            \"linewidth\": 1, \"linecolor\": \"black\", \"mirror\": True},\n",
    "    yaxis4={\"range\": [-0.15, 0.15], \"dtick\": 0.05,\n",
    "            \"showgrid\": True, \"gridcolor\": \"lightgray\",\n",
    "            \"zeroline\": True, \"zerolinecolor\": 'black', \"zerolinewidth\": 1,\n",
    "            \"showline\": True, \"linewidth\": 1, \"linecolor\": \"black\", \"mirror\": True},\n",
    "    xaxis5={\"zeroline\": True, \"showline\": True,\n",
    "            \"linewidth\": 1, \"linecolor\": \"black\", \"mirror\": True},\n",
    "    yaxis5={\"range\": [-0.15, 0.15], \"dtick\": 0.05,\n",
    "            \"showgrid\": True, \"gridcolor\": \"lightgray\",\n",
    "            \"zeroline\": True, \"zerolinecolor\": 'black', \"zerolinewidth\": 1,\n",
    "            \"showline\": True, \"linewidth\": 1, \"linecolor\": \"black\", \"mirror\": True},\n",
    "    xaxis6={\"zeroline\": True, \"showline\": True,\n",
    "            \"linewidth\": 1, \"linecolor\": \"black\", \"mirror\": True},\n",
    "    yaxis6={\"range\": [-0.15, 0.15], \"dtick\": 0.05,\n",
    "            \"showgrid\": True, \"gridcolor\": \"lightgray\",\n",
    "            \"zeroline\": True, \"zerolinecolor\": 'black', \"zerolinewidth\": 1,\n",
    "            \"showline\": True, \"linewidth\": 1, \"linecolor\": \"black\", \"mirror\": True},\n",
    "    legend_tracegroupgap=20\n",
    ")\n",
    "fig.update_xaxes = {\n",
    "    \"dtick\": 0.2,\n",
    "    \"showgrid\": False,\n",
    "    \"zeroline\": False\n",
    "}\n",
    "fig.show()\n",
    "fig.write_html(\n",
    "    \"./Results/4+18/CP_Residuals-stdvariation-more_camera_systems.html\")"
   ]
  },
  {
   "cell_type": "code",
   "execution_count": 54,
   "metadata": {},
   "outputs": [
    {
     "data": {
      "application/vnd.plotly.v1+json": {
       "config": {
        "plotlyServerURL": "https://plot.ly"
       },
       "data": [
        {
         "legendgroup": "Constellation (a)",
         "marker": {
          "color": "navy"
         },
         "name": "Constellation (a)",
         "opacity": 0.6,
         "type": "scatter",
         "x": [
          "101",
          "102",
          "105",
          "108",
          "109",
          "111",
          "112",
          "115",
          "118",
          "119",
          "121",
          "122",
          "124",
          "125",
          "127",
          "128",
          "130",
          "131"
         ],
         "xaxis": "x",
         "y": [
          -0.015,
          -0.01,
          0.01,
          0.021,
          0.01,
          -0.014,
          0.004,
          -0.007,
          -0.001,
          0.011,
          -0.013,
          0.014,
          -0.013,
          -0.039,
          0.003,
          -0.025,
          -0.008,
          0.005
         ],
         "yaxis": "y"
        },
        {
         "legendgroup": "Constellation (a)",
         "marker": {
          "color": "navy"
         },
         "name": "Constellation (a)",
         "opacity": 0.6,
         "showlegend": false,
         "type": "scatter",
         "x": [
          "101",
          "102",
          "105",
          "108",
          "109",
          "111",
          "112",
          "115",
          "118",
          "119",
          "121",
          "122",
          "124",
          "125",
          "127",
          "128",
          "130",
          "131"
         ],
         "xaxis": "x3",
         "y": [
          0.01,
          0.005,
          0.029,
          0.021,
          0.01,
          -0.068,
          -0.04,
          -0.004,
          0.036,
          0.027,
          0.01,
          0.012,
          0.032,
          -0.032,
          0.004,
          -0.014,
          0.005,
          -0.009
         ],
         "yaxis": "y3"
        },
        {
         "legendgroup": "Constellation (a)",
         "marker": {
          "color": "navy"
         },
         "name": "Constellation (a)",
         "opacity": 0.6,
         "showlegend": false,
         "type": "scatter",
         "x": [
          "101",
          "102",
          "105",
          "108",
          "109",
          "111",
          "112",
          "115",
          "118",
          "119",
          "121",
          "122",
          "124",
          "125",
          "127",
          "128",
          "130",
          "131"
         ],
         "xaxis": "x5",
         "y": [
          0.003,
          0.011,
          -0.059,
          -0.053,
          0.005,
          0.003,
          -0.014,
          -0.002,
          0.016,
          0.074,
          -0.05,
          -0.064,
          -0.088,
          -0.021,
          -0.057,
          -0.056,
          -0.026,
          0.012
         ],
         "yaxis": "y5"
        },
        {
         "legendgroup": "Constellation (a)",
         "marker": {
          "color": "navy"
         },
         "name": "Constellation (a)",
         "opacity": 0.6,
         "showlegend": false,
         "type": "scatter",
         "x": [
          "101",
          "102",
          "105",
          "108",
          "109",
          "111",
          "112",
          "115",
          "118",
          "119",
          "121",
          "122",
          "124",
          "125",
          "127",
          "128",
          "130",
          "131"
         ],
         "xaxis": "x2",
         "y": [
          0.055,
          0.058,
          0.017,
          -0.009,
          0.002,
          -0.05,
          -0.023,
          -0.02,
          0.027,
          0.022,
          0.011,
          0.007,
          0.024,
          -0.021,
          -0.002,
          -0.05,
          -0.032,
          -0.024
         ],
         "yaxis": "y2"
        },
        {
         "legendgroup": "Constellation (a)",
         "marker": {
          "color": "navy"
         },
         "name": "Constellation (a)",
         "opacity": 0.6,
         "showlegend": false,
         "type": "scatter",
         "x": [
          "101",
          "102",
          "105",
          "108",
          "109",
          "111",
          "112",
          "115",
          "118",
          "119",
          "121",
          "122",
          "124",
          "125",
          "127",
          "128",
          "130",
          "131"
         ],
         "xaxis": "x4",
         "y": [
          0.013,
          0.036,
          0.053,
          0.065,
          -0.015,
          -0.047,
          -0.037,
          -0.002,
          -0.014,
          -0.022,
          0.017,
          -0.012,
          0.029,
          -0.031,
          0.017,
          -0.015,
          -0.013,
          0.02
         ],
         "yaxis": "y4"
        },
        {
         "legendgroup": "Constellation (a)",
         "marker": {
          "color": "navy"
         },
         "name": "Constellation (a)",
         "opacity": 0.6,
         "showlegend": false,
         "type": "scatter",
         "x": [
          "101",
          "102",
          "105",
          "108",
          "109",
          "111",
          "112",
          "115",
          "118",
          "119",
          "121",
          "122",
          "124",
          "125",
          "127",
          "128",
          "130",
          "131"
         ],
         "xaxis": "x6",
         "y": [
          -0.029,
          -0.045,
          -0.028,
          -0.063,
          -0.014,
          -0.058,
          -0.056,
          -0.039,
          -0.024,
          -0.002,
          0.04,
          0.03,
          0.03,
          0.066,
          0.05,
          0.093,
          0.029,
          0.038
         ],
         "yaxis": "y6"
        },
        {
         "legendgroup": "Constellation (b)",
         "marker": {
          "color": "red"
         },
         "name": "Constellation (b)",
         "opacity": 0.6,
         "type": "scatter",
         "x": [
          "101",
          "102",
          "105",
          "108",
          "109",
          "111",
          "112",
          "115",
          "118",
          "119",
          "121",
          "122",
          "124",
          "125",
          "127",
          "128",
          "130",
          "131"
         ],
         "xaxis": "x",
         "y": [
          -0.048,
          -0.043,
          0.007,
          0.072,
          0.062,
          0.033,
          0.05,
          -0.017,
          -0.037,
          -0.025,
          -0.036,
          -0.007,
          -0.021,
          -0.048,
          0.009,
          -0.021,
          0.009,
          0.026
         ],
         "yaxis": "y"
        },
        {
         "legendgroup": "Constellation (b)",
         "marker": {
          "color": "red"
         },
         "name": "Constellation (b)",
         "opacity": 0.6,
         "showlegend": false,
         "type": "scatter",
         "x": [
          "101",
          "102",
          "105",
          "108",
          "109",
          "111",
          "112",
          "115",
          "118",
          "119",
          "121",
          "122",
          "124",
          "125",
          "127",
          "128",
          "130",
          "131"
         ],
         "xaxis": "x3",
         "y": [
          0.021,
          0.016,
          0.042,
          0.028,
          0.018,
          -0.095,
          -0.067,
          -0.016,
          0.036,
          0.027,
          0.018,
          0.011,
          0.04,
          -0.039,
          0.013,
          -0.026,
          -0.009,
          -0.004
         ],
         "yaxis": "y3"
        },
        {
         "legendgroup": "Constellation (b)",
         "marker": {
          "color": "red"
         },
         "name": "Constellation (b)",
         "opacity": 0.6,
         "showlegend": false,
         "type": "scatter",
         "x": [
          "101",
          "102",
          "105",
          "108",
          "109",
          "111",
          "112",
          "115",
          "118",
          "119",
          "121",
          "122",
          "124",
          "125",
          "127",
          "128",
          "130",
          "131"
         ],
         "xaxis": "x5",
         "y": [
          0.033,
          0.041,
          -0.068,
          -0.051,
          0.007,
          -0.005,
          -0.022,
          -0.02,
          0.036,
          0.095,
          -0.038,
          -0.061,
          -0.095,
          -0.036,
          -0.072,
          -0.078,
          -0.047,
          -0.006
         ],
         "yaxis": "y5"
        },
        {
         "legendgroup": "Constellation (b)",
         "marker": {
          "color": "red"
         },
         "name": "Constellation (b)",
         "opacity": 0.6,
         "showlegend": false,
         "type": "scatter",
         "x": [
          "101",
          "102",
          "105",
          "108",
          "109",
          "111",
          "112",
          "115",
          "118",
          "119",
          "121",
          "122",
          "124",
          "125",
          "127",
          "128",
          "130",
          "131"
         ],
         "xaxis": "x2",
         "y": [
          0.095,
          0.099,
          0.008,
          -0.027,
          -0.017,
          -0.067,
          -0.041,
          -0.023,
          0.059,
          0.054,
          0.025,
          0.017,
          0.019,
          -0.025,
          -0.015,
          -0.062,
          -0.049,
          -0.041
         ],
         "yaxis": "y2"
        },
        {
         "legendgroup": "Constellation (b)",
         "marker": {
          "color": "red"
         },
         "name": "Constellation (b)",
         "opacity": 0.6,
         "showlegend": false,
         "type": "scatter",
         "x": [
          "101",
          "102",
          "105",
          "108",
          "109",
          "111",
          "112",
          "115",
          "118",
          "119",
          "121",
          "122",
          "124",
          "125",
          "127",
          "128",
          "130",
          "131"
         ],
         "xaxis": "x4",
         "y": [
          0,
          0.025,
          0.049,
          0.074,
          -0.007,
          -0.042,
          -0.033,
          0.009,
          0,
          -0.007,
          0.009,
          -0.008,
          0.025,
          -0.024,
          0.017,
          -0.006,
          -0.006,
          0.024
         ],
         "yaxis": "y4"
        },
        {
         "legendgroup": "Constellation (b)",
         "marker": {
          "color": "red"
         },
         "name": "Constellation (b)",
         "opacity": 0.6,
         "showlegend": false,
         "type": "scatter",
         "x": [
          "101",
          "102",
          "105",
          "108",
          "109",
          "111",
          "112",
          "115",
          "118",
          "119",
          "121",
          "122",
          "124",
          "125",
          "127",
          "128",
          "130",
          "131"
         ],
         "xaxis": "x6",
         "y": [
          -0.021,
          -0.04,
          -0.024,
          -0.087,
          -0.038,
          -0.085,
          -0.083,
          -0.03,
          -0.023,
          -0.001,
          0.056,
          0.043,
          0.037,
          0.075,
          0.048,
          0.093,
          0.021,
          0.029
         ],
         "yaxis": "y6"
        }
       ],
       "layout": {
        "annotations": [
         {
          "font": {
           "size": 16
          },
          "showarrow": false,
          "text": "[DMC-4]ChP Residual-X",
          "x": 0.225,
          "xanchor": "center",
          "xref": "paper",
          "y": 1,
          "yanchor": "bottom",
          "yref": "paper"
         },
         {
          "font": {
           "size": 16
          },
          "showarrow": false,
          "text": "[UM-2]ChP Residual-X",
          "x": 0.775,
          "xanchor": "center",
          "xref": "paper",
          "y": 1,
          "yanchor": "bottom",
          "yref": "paper"
         },
         {
          "font": {
           "size": 16
          },
          "showarrow": false,
          "text": "[DMC-4]ChP Residual-Y",
          "x": 0.225,
          "xanchor": "center",
          "xref": "paper",
          "y": 0.6111111111111112,
          "yanchor": "bottom",
          "yref": "paper"
         },
         {
          "font": {
           "size": 16
          },
          "showarrow": false,
          "text": "[UM-2]ChP Residual-Y",
          "x": 0.775,
          "xanchor": "center",
          "xref": "paper",
          "y": 0.6111111111111112,
          "yanchor": "bottom",
          "yref": "paper"
         },
         {
          "font": {
           "size": 16
          },
          "showarrow": false,
          "text": "[DMC-4]ChP Residual-Z",
          "x": 0.225,
          "xanchor": "center",
          "xref": "paper",
          "y": 0.22222222222222224,
          "yanchor": "bottom",
          "yref": "paper"
         },
         {
          "font": {
           "size": 16
          },
          "showarrow": false,
          "text": "[UM-2]ChP Residual-Z",
          "x": 0.775,
          "xanchor": "center",
          "xref": "paper",
          "y": 0.22222222222222224,
          "yanchor": "bottom",
          "yref": "paper"
         }
        ],
        "legend": {
         "tracegroupgap": 20
        },
        "plot_bgcolor": "white",
        "template": {
         "data": {
          "bar": [
           {
            "error_x": {
             "color": "#2a3f5f"
            },
            "error_y": {
             "color": "#2a3f5f"
            },
            "marker": {
             "line": {
              "color": "#E5ECF6",
              "width": 0.5
             },
             "pattern": {
              "fillmode": "overlay",
              "size": 10,
              "solidity": 0.2
             }
            },
            "type": "bar"
           }
          ],
          "barpolar": [
           {
            "marker": {
             "line": {
              "color": "#E5ECF6",
              "width": 0.5
             },
             "pattern": {
              "fillmode": "overlay",
              "size": 10,
              "solidity": 0.2
             }
            },
            "type": "barpolar"
           }
          ],
          "carpet": [
           {
            "aaxis": {
             "endlinecolor": "#2a3f5f",
             "gridcolor": "white",
             "linecolor": "white",
             "minorgridcolor": "white",
             "startlinecolor": "#2a3f5f"
            },
            "baxis": {
             "endlinecolor": "#2a3f5f",
             "gridcolor": "white",
             "linecolor": "white",
             "minorgridcolor": "white",
             "startlinecolor": "#2a3f5f"
            },
            "type": "carpet"
           }
          ],
          "choropleth": [
           {
            "colorbar": {
             "outlinewidth": 0,
             "ticks": ""
            },
            "type": "choropleth"
           }
          ],
          "contour": [
           {
            "colorbar": {
             "outlinewidth": 0,
             "ticks": ""
            },
            "colorscale": [
             [
              0,
              "#0d0887"
             ],
             [
              0.1111111111111111,
              "#46039f"
             ],
             [
              0.2222222222222222,
              "#7201a8"
             ],
             [
              0.3333333333333333,
              "#9c179e"
             ],
             [
              0.4444444444444444,
              "#bd3786"
             ],
             [
              0.5555555555555556,
              "#d8576b"
             ],
             [
              0.6666666666666666,
              "#ed7953"
             ],
             [
              0.7777777777777778,
              "#fb9f3a"
             ],
             [
              0.8888888888888888,
              "#fdca26"
             ],
             [
              1,
              "#f0f921"
             ]
            ],
            "type": "contour"
           }
          ],
          "contourcarpet": [
           {
            "colorbar": {
             "outlinewidth": 0,
             "ticks": ""
            },
            "type": "contourcarpet"
           }
          ],
          "heatmap": [
           {
            "colorbar": {
             "outlinewidth": 0,
             "ticks": ""
            },
            "colorscale": [
             [
              0,
              "#0d0887"
             ],
             [
              0.1111111111111111,
              "#46039f"
             ],
             [
              0.2222222222222222,
              "#7201a8"
             ],
             [
              0.3333333333333333,
              "#9c179e"
             ],
             [
              0.4444444444444444,
              "#bd3786"
             ],
             [
              0.5555555555555556,
              "#d8576b"
             ],
             [
              0.6666666666666666,
              "#ed7953"
             ],
             [
              0.7777777777777778,
              "#fb9f3a"
             ],
             [
              0.8888888888888888,
              "#fdca26"
             ],
             [
              1,
              "#f0f921"
             ]
            ],
            "type": "heatmap"
           }
          ],
          "heatmapgl": [
           {
            "colorbar": {
             "outlinewidth": 0,
             "ticks": ""
            },
            "colorscale": [
             [
              0,
              "#0d0887"
             ],
             [
              0.1111111111111111,
              "#46039f"
             ],
             [
              0.2222222222222222,
              "#7201a8"
             ],
             [
              0.3333333333333333,
              "#9c179e"
             ],
             [
              0.4444444444444444,
              "#bd3786"
             ],
             [
              0.5555555555555556,
              "#d8576b"
             ],
             [
              0.6666666666666666,
              "#ed7953"
             ],
             [
              0.7777777777777778,
              "#fb9f3a"
             ],
             [
              0.8888888888888888,
              "#fdca26"
             ],
             [
              1,
              "#f0f921"
             ]
            ],
            "type": "heatmapgl"
           }
          ],
          "histogram": [
           {
            "marker": {
             "pattern": {
              "fillmode": "overlay",
              "size": 10,
              "solidity": 0.2
             }
            },
            "type": "histogram"
           }
          ],
          "histogram2d": [
           {
            "colorbar": {
             "outlinewidth": 0,
             "ticks": ""
            },
            "colorscale": [
             [
              0,
              "#0d0887"
             ],
             [
              0.1111111111111111,
              "#46039f"
             ],
             [
              0.2222222222222222,
              "#7201a8"
             ],
             [
              0.3333333333333333,
              "#9c179e"
             ],
             [
              0.4444444444444444,
              "#bd3786"
             ],
             [
              0.5555555555555556,
              "#d8576b"
             ],
             [
              0.6666666666666666,
              "#ed7953"
             ],
             [
              0.7777777777777778,
              "#fb9f3a"
             ],
             [
              0.8888888888888888,
              "#fdca26"
             ],
             [
              1,
              "#f0f921"
             ]
            ],
            "type": "histogram2d"
           }
          ],
          "histogram2dcontour": [
           {
            "colorbar": {
             "outlinewidth": 0,
             "ticks": ""
            },
            "colorscale": [
             [
              0,
              "#0d0887"
             ],
             [
              0.1111111111111111,
              "#46039f"
             ],
             [
              0.2222222222222222,
              "#7201a8"
             ],
             [
              0.3333333333333333,
              "#9c179e"
             ],
             [
              0.4444444444444444,
              "#bd3786"
             ],
             [
              0.5555555555555556,
              "#d8576b"
             ],
             [
              0.6666666666666666,
              "#ed7953"
             ],
             [
              0.7777777777777778,
              "#fb9f3a"
             ],
             [
              0.8888888888888888,
              "#fdca26"
             ],
             [
              1,
              "#f0f921"
             ]
            ],
            "type": "histogram2dcontour"
           }
          ],
          "mesh3d": [
           {
            "colorbar": {
             "outlinewidth": 0,
             "ticks": ""
            },
            "type": "mesh3d"
           }
          ],
          "parcoords": [
           {
            "line": {
             "colorbar": {
              "outlinewidth": 0,
              "ticks": ""
             }
            },
            "type": "parcoords"
           }
          ],
          "pie": [
           {
            "automargin": true,
            "type": "pie"
           }
          ],
          "scatter": [
           {
            "fillpattern": {
             "fillmode": "overlay",
             "size": 10,
             "solidity": 0.2
            },
            "type": "scatter"
           }
          ],
          "scatter3d": [
           {
            "line": {
             "colorbar": {
              "outlinewidth": 0,
              "ticks": ""
             }
            },
            "marker": {
             "colorbar": {
              "outlinewidth": 0,
              "ticks": ""
             }
            },
            "type": "scatter3d"
           }
          ],
          "scattercarpet": [
           {
            "marker": {
             "colorbar": {
              "outlinewidth": 0,
              "ticks": ""
             }
            },
            "type": "scattercarpet"
           }
          ],
          "scattergeo": [
           {
            "marker": {
             "colorbar": {
              "outlinewidth": 0,
              "ticks": ""
             }
            },
            "type": "scattergeo"
           }
          ],
          "scattergl": [
           {
            "marker": {
             "colorbar": {
              "outlinewidth": 0,
              "ticks": ""
             }
            },
            "type": "scattergl"
           }
          ],
          "scattermapbox": [
           {
            "marker": {
             "colorbar": {
              "outlinewidth": 0,
              "ticks": ""
             }
            },
            "type": "scattermapbox"
           }
          ],
          "scatterpolar": [
           {
            "marker": {
             "colorbar": {
              "outlinewidth": 0,
              "ticks": ""
             }
            },
            "type": "scatterpolar"
           }
          ],
          "scatterpolargl": [
           {
            "marker": {
             "colorbar": {
              "outlinewidth": 0,
              "ticks": ""
             }
            },
            "type": "scatterpolargl"
           }
          ],
          "scatterternary": [
           {
            "marker": {
             "colorbar": {
              "outlinewidth": 0,
              "ticks": ""
             }
            },
            "type": "scatterternary"
           }
          ],
          "surface": [
           {
            "colorbar": {
             "outlinewidth": 0,
             "ticks": ""
            },
            "colorscale": [
             [
              0,
              "#0d0887"
             ],
             [
              0.1111111111111111,
              "#46039f"
             ],
             [
              0.2222222222222222,
              "#7201a8"
             ],
             [
              0.3333333333333333,
              "#9c179e"
             ],
             [
              0.4444444444444444,
              "#bd3786"
             ],
             [
              0.5555555555555556,
              "#d8576b"
             ],
             [
              0.6666666666666666,
              "#ed7953"
             ],
             [
              0.7777777777777778,
              "#fb9f3a"
             ],
             [
              0.8888888888888888,
              "#fdca26"
             ],
             [
              1,
              "#f0f921"
             ]
            ],
            "type": "surface"
           }
          ],
          "table": [
           {
            "cells": {
             "fill": {
              "color": "#EBF0F8"
             },
             "line": {
              "color": "white"
             }
            },
            "header": {
             "fill": {
              "color": "#C8D4E3"
             },
             "line": {
              "color": "white"
             }
            },
            "type": "table"
           }
          ]
         },
         "layout": {
          "annotationdefaults": {
           "arrowcolor": "#2a3f5f",
           "arrowhead": 0,
           "arrowwidth": 1
          },
          "autotypenumbers": "strict",
          "coloraxis": {
           "colorbar": {
            "outlinewidth": 0,
            "ticks": ""
           }
          },
          "colorscale": {
           "diverging": [
            [
             0,
             "#8e0152"
            ],
            [
             0.1,
             "#c51b7d"
            ],
            [
             0.2,
             "#de77ae"
            ],
            [
             0.3,
             "#f1b6da"
            ],
            [
             0.4,
             "#fde0ef"
            ],
            [
             0.5,
             "#f7f7f7"
            ],
            [
             0.6,
             "#e6f5d0"
            ],
            [
             0.7,
             "#b8e186"
            ],
            [
             0.8,
             "#7fbc41"
            ],
            [
             0.9,
             "#4d9221"
            ],
            [
             1,
             "#276419"
            ]
           ],
           "sequential": [
            [
             0,
             "#0d0887"
            ],
            [
             0.1111111111111111,
             "#46039f"
            ],
            [
             0.2222222222222222,
             "#7201a8"
            ],
            [
             0.3333333333333333,
             "#9c179e"
            ],
            [
             0.4444444444444444,
             "#bd3786"
            ],
            [
             0.5555555555555556,
             "#d8576b"
            ],
            [
             0.6666666666666666,
             "#ed7953"
            ],
            [
             0.7777777777777778,
             "#fb9f3a"
            ],
            [
             0.8888888888888888,
             "#fdca26"
            ],
            [
             1,
             "#f0f921"
            ]
           ],
           "sequentialminus": [
            [
             0,
             "#0d0887"
            ],
            [
             0.1111111111111111,
             "#46039f"
            ],
            [
             0.2222222222222222,
             "#7201a8"
            ],
            [
             0.3333333333333333,
             "#9c179e"
            ],
            [
             0.4444444444444444,
             "#bd3786"
            ],
            [
             0.5555555555555556,
             "#d8576b"
            ],
            [
             0.6666666666666666,
             "#ed7953"
            ],
            [
             0.7777777777777778,
             "#fb9f3a"
            ],
            [
             0.8888888888888888,
             "#fdca26"
            ],
            [
             1,
             "#f0f921"
            ]
           ]
          },
          "colorway": [
           "#636efa",
           "#EF553B",
           "#00cc96",
           "#ab63fa",
           "#FFA15A",
           "#19d3f3",
           "#FF6692",
           "#B6E880",
           "#FF97FF",
           "#FECB52"
          ],
          "font": {
           "color": "#2a3f5f"
          },
          "geo": {
           "bgcolor": "white",
           "lakecolor": "white",
           "landcolor": "#E5ECF6",
           "showlakes": true,
           "showland": true,
           "subunitcolor": "white"
          },
          "hoverlabel": {
           "align": "left"
          },
          "hovermode": "closest",
          "mapbox": {
           "style": "light"
          },
          "paper_bgcolor": "white",
          "plot_bgcolor": "#E5ECF6",
          "polar": {
           "angularaxis": {
            "gridcolor": "white",
            "linecolor": "white",
            "ticks": ""
           },
           "bgcolor": "#E5ECF6",
           "radialaxis": {
            "gridcolor": "white",
            "linecolor": "white",
            "ticks": ""
           }
          },
          "scene": {
           "xaxis": {
            "backgroundcolor": "#E5ECF6",
            "gridcolor": "white",
            "gridwidth": 2,
            "linecolor": "white",
            "showbackground": true,
            "ticks": "",
            "zerolinecolor": "white"
           },
           "yaxis": {
            "backgroundcolor": "#E5ECF6",
            "gridcolor": "white",
            "gridwidth": 2,
            "linecolor": "white",
            "showbackground": true,
            "ticks": "",
            "zerolinecolor": "white"
           },
           "zaxis": {
            "backgroundcolor": "#E5ECF6",
            "gridcolor": "white",
            "gridwidth": 2,
            "linecolor": "white",
            "showbackground": true,
            "ticks": "",
            "zerolinecolor": "white"
           }
          },
          "shapedefaults": {
           "line": {
            "color": "#2a3f5f"
           }
          },
          "ternary": {
           "aaxis": {
            "gridcolor": "white",
            "linecolor": "white",
            "ticks": ""
           },
           "baxis": {
            "gridcolor": "white",
            "linecolor": "white",
            "ticks": ""
           },
           "bgcolor": "#E5ECF6",
           "caxis": {
            "gridcolor": "white",
            "linecolor": "white",
            "ticks": ""
           }
          },
          "title": {
           "x": 0.05
          },
          "xaxis": {
           "automargin": true,
           "gridcolor": "white",
           "linecolor": "white",
           "ticks": "",
           "title": {
            "standoff": 15
           },
           "zerolinecolor": "white",
           "zerolinewidth": 2
          },
          "yaxis": {
           "automargin": true,
           "gridcolor": "white",
           "linecolor": "white",
           "ticks": "",
           "title": {
            "standoff": 15
           },
           "zerolinecolor": "white",
           "zerolinewidth": 2
          }
         }
        },
        "title": {
         "text": "[15GCP+18CP] Residuals at check points in Match-AT projects using different A-priori Std.Dev.constellation"
        },
        "xaxis": {
         "anchor": "y",
         "domain": [
          0,
          0.45
         ],
         "linecolor": "black",
         "linewidth": 1,
         "mirror": true,
         "showline": true,
         "zeroline": true
        },
        "xaxis2": {
         "anchor": "y2",
         "domain": [
          0.55,
          1
         ],
         "linecolor": "black",
         "linewidth": 1,
         "mirror": true,
         "showline": true,
         "zeroline": true
        },
        "xaxis3": {
         "anchor": "y3",
         "domain": [
          0,
          0.45
         ],
         "linecolor": "black",
         "linewidth": 1,
         "mirror": true,
         "showline": true,
         "zeroline": true
        },
        "xaxis4": {
         "anchor": "y4",
         "domain": [
          0.55,
          1
         ],
         "linecolor": "black",
         "linewidth": 1,
         "mirror": true,
         "showline": true,
         "zeroline": true
        },
        "xaxis5": {
         "anchor": "y5",
         "domain": [
          0,
          0.45
         ],
         "linecolor": "black",
         "linewidth": 1,
         "mirror": true,
         "showline": true,
         "zeroline": true
        },
        "xaxis6": {
         "anchor": "y6",
         "domain": [
          0.55,
          1
         ],
         "linecolor": "black",
         "linewidth": 1,
         "mirror": true,
         "showline": true,
         "zeroline": true
        },
        "yaxis": {
         "anchor": "x",
         "domain": [
          0.7777777777777778,
          1
         ],
         "dtick": 0.05,
         "gridcolor": "lightgray",
         "linecolor": "black",
         "linewidth": 1,
         "mirror": true,
         "range": [
          -0.15,
          0.15
         ],
         "showgrid": true,
         "showline": true,
         "zeroline": true,
         "zerolinecolor": "black",
         "zerolinewidth": 1
        },
        "yaxis2": {
         "anchor": "x2",
         "domain": [
          0.7777777777777778,
          1
         ],
         "dtick": 0.05,
         "gridcolor": "lightgray",
         "linecolor": "black",
         "linewidth": 1,
         "mirror": true,
         "range": [
          -0.15,
          0.15
         ],
         "showgrid": true,
         "showline": true,
         "zeroline": true,
         "zerolinecolor": "black",
         "zerolinewidth": 1
        },
        "yaxis3": {
         "anchor": "x3",
         "domain": [
          0.3888888888888889,
          0.6111111111111112
         ],
         "dtick": 0.05,
         "gridcolor": "lightgray",
         "linecolor": "black",
         "linewidth": 1,
         "mirror": true,
         "range": [
          -0.15,
          0.15
         ],
         "showgrid": true,
         "showline": true,
         "zeroline": true,
         "zerolinecolor": "black",
         "zerolinewidth": 1
        },
        "yaxis4": {
         "anchor": "x4",
         "domain": [
          0.3888888888888889,
          0.6111111111111112
         ],
         "dtick": 0.05,
         "gridcolor": "lightgray",
         "linecolor": "black",
         "linewidth": 1,
         "mirror": true,
         "range": [
          -0.15,
          0.15
         ],
         "showgrid": true,
         "showline": true,
         "zeroline": true,
         "zerolinecolor": "black",
         "zerolinewidth": 1
        },
        "yaxis5": {
         "anchor": "x5",
         "domain": [
          0,
          0.22222222222222224
         ],
         "dtick": 0.05,
         "gridcolor": "lightgray",
         "linecolor": "black",
         "linewidth": 1,
         "mirror": true,
         "range": [
          -0.15,
          0.15
         ],
         "showgrid": true,
         "showline": true,
         "zeroline": true,
         "zerolinecolor": "black",
         "zerolinewidth": 1
        },
        "yaxis6": {
         "anchor": "x6",
         "domain": [
          0,
          0.22222222222222224
         ],
         "dtick": 0.05,
         "gridcolor": "lightgray",
         "linecolor": "black",
         "linewidth": 1,
         "mirror": true,
         "range": [
          -0.15,
          0.15
         ],
         "showgrid": true,
         "showline": true,
         "zeroline": true,
         "zerolinecolor": "black",
         "zerolinewidth": 1
        }
       }
      }
     },
     "metadata": {},
     "output_type": "display_data"
    }
   ],
   "source": [
    "\"\"\"Parallel comparison of IGI UM-2 and Leica DMC-4: [15GCP + 18CP] Residuals-SCATTERPLOT\"\"\"\n",
    "project_leica_list = [prj_15GCP_leica, prj_15GCP_leica_LW]\n",
    "project_igi_list = [prj_15GCP_igi, prj_15GCP_igi_LW]\n",
    "colors = ['navy', 'red']\n",
    "std_setting_list = ['Constellation (a)', 'Constellation (b)']\n",
    "fig = make_subplots(rows=3, cols=2, subplot_titles=[\n",
    "                    \"[DMC-4]ChP Residual-X\", \"[UM-2]ChP Residual-X\",\n",
    "                    \"[DMC-4]ChP Residual-Y\", \"[UM-2]ChP Residual-Y\",\n",
    "                    \"[DMC-4]ChP Residual-Z\", \"[UM-2]ChP Residual-Z\"])\n",
    "for prj_leica, prj_igi, color, std_setting in zip(project_leica_list, project_igi_list, colors, std_setting_list):\n",
    "    fig.append_trace(go.Scatter(\n",
    "        name=std_setting,\n",
    "        x=[str(id) for id in prj_leica.cp_id],\n",
    "        y=prj_leica.cp_residual[:, 0],\n",
    "        marker_color=color,\n",
    "        legendgroup=std_setting\n",
    "    ),\n",
    "        row=1,\n",
    "        col=1\n",
    "    )\n",
    "    fig.append_trace(go.Scatter(\n",
    "        name=std_setting,\n",
    "        x=[str(id) for id in prj_leica.cp_id],\n",
    "        y=prj_leica.cp_residual[:, 1],\n",
    "        marker_color=color,\n",
    "        legendgroup=std_setting,\n",
    "        showlegend=False\n",
    "    ),\n",
    "        row=2,\n",
    "        col=1\n",
    "    )\n",
    "    fig.append_trace(go.Scatter(\n",
    "        name=std_setting,\n",
    "        x=[str(id) for id in prj_leica.cp_id],\n",
    "        y=prj_leica.cp_residual[:, 2],\n",
    "        marker_color=color,\n",
    "        legendgroup=std_setting,\n",
    "        showlegend=False\n",
    "    ),\n",
    "        row=3,\n",
    "        col=1\n",
    "    )\n",
    "    fig.append_trace(go.Scatter(\n",
    "        name=std_setting,\n",
    "        x=[str(id) for id in prj_igi.cp_id],\n",
    "        y=prj_igi.cp_residual[:, 0],\n",
    "        marker_color=color,\n",
    "        legendgroup=std_setting,\n",
    "        showlegend=False\n",
    "    ),\n",
    "        row=1,\n",
    "        col=2\n",
    "    )\n",
    "    fig.append_trace(go.Scatter(\n",
    "        name=std_setting,\n",
    "        x=[str(id) for id in prj_igi.cp_id],\n",
    "        y=prj_igi.cp_residual[:, 1],\n",
    "        marker_color=color,\n",
    "        legendgroup=std_setting,\n",
    "        showlegend=False\n",
    "    ),\n",
    "        row=2,\n",
    "        col=2\n",
    "    )\n",
    "    fig.append_trace(go.Scatter(\n",
    "        name=std_setting,\n",
    "        x=[str(id) for id in prj_igi.cp_id],\n",
    "        y=prj_igi.cp_residual[:, 2],\n",
    "        marker_color=color,\n",
    "        legendgroup=std_setting,\n",
    "        showlegend=False\n",
    "    ),\n",
    "        row=3,\n",
    "        col=2\n",
    "    )\n",
    "\n",
    "fig.update_traces(opacity=0.6)\n",
    "fig.update_layout(\n",
    "    title='[15GCP+18CP] Residuals at check points in Match-AT projects using different A-priori Std.Dev.constellation',\n",
    "    plot_bgcolor='white',\n",
    "    xaxis1={\"zeroline\": True, \"showline\": True,\n",
    "            \"linewidth\": 1, \"linecolor\": \"black\", \"mirror\": True},\n",
    "    yaxis1={\"range\": [-0.15, 0.15], \"dtick\": 0.05,\n",
    "            \"showgrid\": True, \"gridcolor\": \"lightgray\",\n",
    "            \"zeroline\": True, \"zerolinecolor\": 'black', \"zerolinewidth\": 1,\n",
    "            \"showline\": True, \"linewidth\": 1, \"linecolor\": \"black\", \"mirror\": True},\n",
    "    xaxis2={\"zeroline\": True, \"showline\": True,\n",
    "            \"linewidth\": 1, \"linecolor\": \"black\", \"mirror\": True},\n",
    "    yaxis2={\"range\": [-0.15, 0.15], \"dtick\": 0.05,\n",
    "            \"showgrid\": True, \"gridcolor\": \"lightgray\",\n",
    "            \"zeroline\": True, \"zerolinecolor\": 'black', \"zerolinewidth\": 1,\n",
    "            \"showline\": True, \"linewidth\": 1, \"linecolor\": \"black\", \"mirror\": True},\n",
    "    xaxis3={\"zeroline\": True, \"showline\": True,\n",
    "            \"linewidth\": 1, \"linecolor\": \"black\", \"mirror\": True},\n",
    "    yaxis3={\"range\": [-0.15, 0.15], \"dtick\": 0.05,\n",
    "            \"showgrid\": True, \"gridcolor\": \"lightgray\",\n",
    "            \"zeroline\": True, \"zerolinecolor\": 'black', \"zerolinewidth\": 1,\n",
    "            \"showline\": True, \"linewidth\": 1, \"linecolor\": \"black\", \"mirror\": True},\n",
    "    xaxis4={\"zeroline\": True, \"showline\": True,\n",
    "            \"linewidth\": 1, \"linecolor\": \"black\", \"mirror\": True},\n",
    "    yaxis4={\"range\": [-0.15, 0.15], \"dtick\": 0.05,\n",
    "            \"showgrid\": True, \"gridcolor\": \"lightgray\",\n",
    "            \"zeroline\": True, \"zerolinecolor\": 'black', \"zerolinewidth\": 1,\n",
    "            \"showline\": True, \"linewidth\": 1, \"linecolor\": \"black\", \"mirror\": True},\n",
    "    xaxis5={\"zeroline\": True, \"showline\": True,\n",
    "            \"linewidth\": 1, \"linecolor\": \"black\", \"mirror\": True},\n",
    "    yaxis5={\"range\": [-0.15, 0.15], \"dtick\": 0.05,\n",
    "            \"showgrid\": True, \"gridcolor\": \"lightgray\",\n",
    "            \"zeroline\": True, \"zerolinecolor\": 'black', \"zerolinewidth\": 1,\n",
    "            \"showline\": True, \"linewidth\": 1, \"linecolor\": \"black\", \"mirror\": True},\n",
    "    xaxis6={\"zeroline\": True, \"showline\": True,\n",
    "            \"linewidth\": 1, \"linecolor\": \"black\", \"mirror\": True},\n",
    "    yaxis6={\"range\": [-0.15, 0.15], \"dtick\": 0.05,\n",
    "            \"showgrid\": True, \"gridcolor\": \"lightgray\",\n",
    "            \"zeroline\": True, \"zerolinecolor\": 'black', \"zerolinewidth\": 1,\n",
    "            \"showline\": True, \"linewidth\": 1, \"linecolor\": \"black\", \"mirror\": True},\n",
    "    legend_tracegroupgap=20\n",
    ")\n",
    "fig.update_xaxes = {\n",
    "    \"dtick\": 0.2,\n",
    "    \"showgrid\": False,\n",
    "    \"zeroline\": False\n",
    "}\n",
    "\n",
    "fig.show()\n",
    "fig.write_html(\"./Results/15+18/CP_Residuals-stdvariation.html\")"
   ]
  },
  {
   "cell_type": "code",
   "execution_count": 55,
   "metadata": {},
   "outputs": [
    {
     "data": {
      "application/vnd.plotly.v1+json": {
       "config": {
        "plotlyServerURL": "https://plot.ly"
       },
       "data": [
        {
         "legendgroup": "Constellation (a)",
         "marker": {
          "color": "navy"
         },
         "name": "Constellation (a)",
         "opacity": 0.6,
         "type": "scatter",
         "x": [
          "101",
          "102",
          "105",
          "108",
          "109",
          "111",
          "112",
          "115",
          "118",
          "119",
          "121",
          "122",
          "124",
          "125",
          "127",
          "128",
          "130",
          "131"
         ],
         "xaxis": "x",
         "y": [
          0.017,
          0.022,
          0.017,
          0.048,
          0.033,
          0.014,
          0.038,
          0.017,
          -0.004,
          -0.031,
          -0.002,
          -0.015,
          0.018,
          0.005,
          0.012,
          0.053,
          0.023,
          0.033
         ],
         "yaxis": "y"
        },
        {
         "legendgroup": "Constellation (a)",
         "marker": {
          "color": "navy"
         },
         "name": "Constellation (a)",
         "opacity": 0.6,
         "showlegend": false,
         "type": "scatter",
         "x": [
          "101",
          "102",
          "105",
          "108",
          "109",
          "111",
          "112",
          "115",
          "118",
          "119",
          "121",
          "122",
          "124",
          "125",
          "127",
          "128",
          "130",
          "131"
         ],
         "xaxis": "x3",
         "y": [
          -0.011,
          0.003,
          -0.02,
          -0.008,
          -0.013,
          0.005,
          0.009,
          0.037,
          0.038,
          0.053,
          0.004,
          0.02,
          0.005,
          -0.032,
          -0.011,
          0.003,
          -0.005,
          -0.008
         ],
         "yaxis": "y3"
        },
        {
         "legendgroup": "Constellation (a)",
         "marker": {
          "color": "navy"
         },
         "name": "Constellation (a)",
         "opacity": 0.6,
         "showlegend": false,
         "type": "scatter",
         "x": [
          "101",
          "102",
          "105",
          "108",
          "109",
          "111",
          "112",
          "115",
          "118",
          "119",
          "121",
          "122",
          "124",
          "125",
          "127",
          "128",
          "130",
          "131"
         ],
         "xaxis": "x5",
         "y": [
          0.016,
          0.075,
          -0.027,
          -0.077,
          0.03,
          0.003,
          -0.022,
          -0.044,
          -0.077,
          -0.017,
          -0.03,
          0.004,
          0.008,
          0.036,
          -0.007,
          -0.091,
          -0.023,
          0.016
         ],
         "yaxis": "y5"
        },
        {
         "legendgroup": "Constellation (a)",
         "marker": {
          "color": "navy"
         },
         "name": "Constellation (a)",
         "opacity": 0.6,
         "showlegend": false,
         "type": "scatter",
         "x": [
          "101",
          "102",
          "105",
          "108",
          "109",
          "111",
          "112",
          "115",
          "118",
          "119",
          "121",
          "122",
          "124",
          "125",
          "127",
          "128",
          "130",
          "131"
         ],
         "xaxis": "x2",
         "y": [
          0.013,
          0.027,
          0.022,
          0.017,
          0.025,
          -0.008,
          0.025,
          0.013,
          0.031,
          0.007,
          -0.005,
          -0.003,
          -0.005,
          -0.008,
          -0.003,
          -0.004,
          -0.012,
          -0.001
         ],
         "yaxis": "y2"
        },
        {
         "legendgroup": "Constellation (a)",
         "marker": {
          "color": "navy"
         },
         "name": "Constellation (a)",
         "opacity": 0.6,
         "showlegend": false,
         "type": "scatter",
         "x": [
          "101",
          "102",
          "105",
          "108",
          "109",
          "111",
          "112",
          "115",
          "118",
          "119",
          "121",
          "122",
          "124",
          "125",
          "127",
          "128",
          "130",
          "131"
         ],
         "xaxis": "x4",
         "y": [
          0,
          -0.01,
          0.003,
          0.023,
          0.015,
          0.003,
          -0.012,
          0.01,
          0.019,
          0.011,
          -0.005,
          0.003,
          0.022,
          -0.01,
          0.01,
          0.004,
          -0.002,
          -0.019
         ],
         "yaxis": "y4"
        },
        {
         "legendgroup": "Constellation (a)",
         "marker": {
          "color": "navy"
         },
         "name": "Constellation (a)",
         "opacity": 0.6,
         "showlegend": false,
         "type": "scatter",
         "x": [
          "101",
          "102",
          "105",
          "108",
          "109",
          "111",
          "112",
          "115",
          "118",
          "119",
          "121",
          "122",
          "124",
          "125",
          "127",
          "128",
          "130",
          "131"
         ],
         "xaxis": "x6",
         "y": [
          0.023,
          0.041,
          0.013,
          -0.029,
          -0.096,
          -0.081,
          -0.103,
          0.028,
          0.088,
          0.005,
          -0.003,
          0.039,
          0.024,
          0.056,
          0.028,
          -0.015,
          -0.007,
          0.049
         ],
         "yaxis": "y6"
        },
        {
         "legendgroup": "Constellation (b)",
         "marker": {
          "color": "red"
         },
         "name": "Constellation (b)",
         "opacity": 0.6,
         "type": "scatter",
         "x": [
          "101",
          "102",
          "105",
          "108",
          "109",
          "111",
          "112",
          "115",
          "118",
          "119",
          "121",
          "122",
          "124",
          "125",
          "127",
          "128",
          "130",
          "131"
         ],
         "xaxis": "x",
         "y": [
          0.015,
          0.02,
          0.012,
          0.06,
          0.045,
          0.031,
          0.054,
          0.012,
          -0.007,
          -0.034,
          -0.008,
          -0.022,
          0.013,
          0,
          0.011,
          0.054,
          0.028,
          0.036
         ],
         "yaxis": "y"
        },
        {
         "legendgroup": "Constellation (b)",
         "marker": {
          "color": "red"
         },
         "name": "Constellation (b)",
         "opacity": 0.6,
         "showlegend": false,
         "type": "scatter",
         "x": [
          "101",
          "102",
          "105",
          "108",
          "109",
          "111",
          "112",
          "115",
          "118",
          "119",
          "121",
          "122",
          "124",
          "125",
          "127",
          "128",
          "130",
          "131"
         ],
         "xaxis": "x3",
         "y": [
          -0.016,
          -0.002,
          -0.019,
          0,
          -0.004,
          0.004,
          0.008,
          0.032,
          0.043,
          0.059,
          0.002,
          0.019,
          0.006,
          -0.035,
          -0.008,
          -0.001,
          -0.008,
          -0.005
         ],
         "yaxis": "y3"
        },
        {
         "legendgroup": "Constellation (b)",
         "marker": {
          "color": "red"
         },
         "name": "Constellation (b)",
         "opacity": 0.6,
         "showlegend": false,
         "type": "scatter",
         "x": [
          "101",
          "102",
          "105",
          "108",
          "109",
          "111",
          "112",
          "115",
          "118",
          "119",
          "121",
          "122",
          "124",
          "125",
          "127",
          "128",
          "130",
          "131"
         ],
         "xaxis": "x5",
         "y": [
          0.031,
          0.09,
          -0.033,
          -0.083,
          0.024,
          -0.006,
          -0.03,
          -0.052,
          -0.067,
          -0.006,
          -0.029,
          0.002,
          0.002,
          0.028,
          -0.015,
          -0.103,
          -0.036,
          0.004
         ],
         "yaxis": "y5"
        },
        {
         "legendgroup": "Constellation (b)",
         "marker": {
          "color": "red"
         },
         "name": "Constellation (b)",
         "opacity": 0.6,
         "showlegend": false,
         "type": "scatter",
         "x": [
          "101",
          "102",
          "105",
          "108",
          "109",
          "111",
          "112",
          "115",
          "118",
          "119",
          "121",
          "122",
          "124",
          "125",
          "127",
          "128",
          "130",
          "131"
         ],
         "xaxis": "x2",
         "y": [
          0.021,
          0.034,
          0.014,
          0.024,
          0.032,
          0.006,
          0.039,
          0.008,
          0.041,
          0.017,
          -0.009,
          -0.005,
          -0.012,
          -0.012,
          -0.009,
          -0.007,
          -0.011,
          -0.002
         ],
         "yaxis": "y2"
        },
        {
         "legendgroup": "Constellation (b)",
         "marker": {
          "color": "red"
         },
         "name": "Constellation (b)",
         "opacity": 0.6,
         "showlegend": false,
         "type": "scatter",
         "x": [
          "101",
          "102",
          "105",
          "108",
          "109",
          "111",
          "112",
          "115",
          "118",
          "119",
          "121",
          "122",
          "124",
          "125",
          "127",
          "128",
          "130",
          "131"
         ],
         "xaxis": "x4",
         "y": [
          -0.021,
          -0.028,
          0.005,
          0.039,
          0.032,
          0.006,
          -0.009,
          0.01,
          0.018,
          0.01,
          -0.012,
          0.001,
          0.022,
          -0.01,
          0.015,
          0.004,
          -0.001,
          -0.012
         ],
         "yaxis": "y4"
        },
        {
         "legendgroup": "Constellation (b)",
         "marker": {
          "color": "red"
         },
         "name": "Constellation (b)",
         "opacity": 0.6,
         "showlegend": false,
         "type": "scatter",
         "x": [
          "101",
          "102",
          "105",
          "108",
          "109",
          "111",
          "112",
          "115",
          "118",
          "119",
          "121",
          "122",
          "124",
          "125",
          "127",
          "128",
          "130",
          "131"
         ],
         "xaxis": "x6",
         "y": [
          0.049,
          0.063,
          0.008,
          -0.045,
          -0.112,
          -0.101,
          -0.123,
          0.03,
          0.107,
          0.025,
          0.006,
          0.048,
          0.021,
          0.057,
          0.022,
          -0.019,
          -0.015,
          0.039
         ],
         "yaxis": "y6"
        }
       ],
       "layout": {
        "annotations": [
         {
          "font": {
           "size": 16
          },
          "showarrow": false,
          "text": "[UCE M3]CP Residual-X",
          "x": 0.225,
          "xanchor": "center",
          "xref": "paper",
          "y": 1,
          "yanchor": "bottom",
          "yref": "paper"
         },
         {
          "font": {
           "size": 16
          },
          "showarrow": false,
          "text": "[UCE 4.1]CP Residual-X",
          "x": 0.775,
          "xanchor": "center",
          "xref": "paper",
          "y": 1,
          "yanchor": "bottom",
          "yref": "paper"
         },
         {
          "font": {
           "size": 16
          },
          "showarrow": false,
          "text": "[UCE M3]CP Residual-Y",
          "x": 0.225,
          "xanchor": "center",
          "xref": "paper",
          "y": 0.6111111111111112,
          "yanchor": "bottom",
          "yref": "paper"
         },
         {
          "font": {
           "size": 16
          },
          "showarrow": false,
          "text": "[UCE 4.1]CP Residual-Y",
          "x": 0.775,
          "xanchor": "center",
          "xref": "paper",
          "y": 0.6111111111111112,
          "yanchor": "bottom",
          "yref": "paper"
         },
         {
          "font": {
           "size": 16
          },
          "showarrow": false,
          "text": "[UCE M3]CP Residual-Z",
          "x": 0.225,
          "xanchor": "center",
          "xref": "paper",
          "y": 0.22222222222222224,
          "yanchor": "bottom",
          "yref": "paper"
         },
         {
          "font": {
           "size": 16
          },
          "showarrow": false,
          "text": "[UCE 4.1]CP Residual-Z",
          "x": 0.775,
          "xanchor": "center",
          "xref": "paper",
          "y": 0.22222222222222224,
          "yanchor": "bottom",
          "yref": "paper"
         }
        ],
        "legend": {
         "tracegroupgap": 20
        },
        "plot_bgcolor": "white",
        "template": {
         "data": {
          "bar": [
           {
            "error_x": {
             "color": "#2a3f5f"
            },
            "error_y": {
             "color": "#2a3f5f"
            },
            "marker": {
             "line": {
              "color": "#E5ECF6",
              "width": 0.5
             },
             "pattern": {
              "fillmode": "overlay",
              "size": 10,
              "solidity": 0.2
             }
            },
            "type": "bar"
           }
          ],
          "barpolar": [
           {
            "marker": {
             "line": {
              "color": "#E5ECF6",
              "width": 0.5
             },
             "pattern": {
              "fillmode": "overlay",
              "size": 10,
              "solidity": 0.2
             }
            },
            "type": "barpolar"
           }
          ],
          "carpet": [
           {
            "aaxis": {
             "endlinecolor": "#2a3f5f",
             "gridcolor": "white",
             "linecolor": "white",
             "minorgridcolor": "white",
             "startlinecolor": "#2a3f5f"
            },
            "baxis": {
             "endlinecolor": "#2a3f5f",
             "gridcolor": "white",
             "linecolor": "white",
             "minorgridcolor": "white",
             "startlinecolor": "#2a3f5f"
            },
            "type": "carpet"
           }
          ],
          "choropleth": [
           {
            "colorbar": {
             "outlinewidth": 0,
             "ticks": ""
            },
            "type": "choropleth"
           }
          ],
          "contour": [
           {
            "colorbar": {
             "outlinewidth": 0,
             "ticks": ""
            },
            "colorscale": [
             [
              0,
              "#0d0887"
             ],
             [
              0.1111111111111111,
              "#46039f"
             ],
             [
              0.2222222222222222,
              "#7201a8"
             ],
             [
              0.3333333333333333,
              "#9c179e"
             ],
             [
              0.4444444444444444,
              "#bd3786"
             ],
             [
              0.5555555555555556,
              "#d8576b"
             ],
             [
              0.6666666666666666,
              "#ed7953"
             ],
             [
              0.7777777777777778,
              "#fb9f3a"
             ],
             [
              0.8888888888888888,
              "#fdca26"
             ],
             [
              1,
              "#f0f921"
             ]
            ],
            "type": "contour"
           }
          ],
          "contourcarpet": [
           {
            "colorbar": {
             "outlinewidth": 0,
             "ticks": ""
            },
            "type": "contourcarpet"
           }
          ],
          "heatmap": [
           {
            "colorbar": {
             "outlinewidth": 0,
             "ticks": ""
            },
            "colorscale": [
             [
              0,
              "#0d0887"
             ],
             [
              0.1111111111111111,
              "#46039f"
             ],
             [
              0.2222222222222222,
              "#7201a8"
             ],
             [
              0.3333333333333333,
              "#9c179e"
             ],
             [
              0.4444444444444444,
              "#bd3786"
             ],
             [
              0.5555555555555556,
              "#d8576b"
             ],
             [
              0.6666666666666666,
              "#ed7953"
             ],
             [
              0.7777777777777778,
              "#fb9f3a"
             ],
             [
              0.8888888888888888,
              "#fdca26"
             ],
             [
              1,
              "#f0f921"
             ]
            ],
            "type": "heatmap"
           }
          ],
          "heatmapgl": [
           {
            "colorbar": {
             "outlinewidth": 0,
             "ticks": ""
            },
            "colorscale": [
             [
              0,
              "#0d0887"
             ],
             [
              0.1111111111111111,
              "#46039f"
             ],
             [
              0.2222222222222222,
              "#7201a8"
             ],
             [
              0.3333333333333333,
              "#9c179e"
             ],
             [
              0.4444444444444444,
              "#bd3786"
             ],
             [
              0.5555555555555556,
              "#d8576b"
             ],
             [
              0.6666666666666666,
              "#ed7953"
             ],
             [
              0.7777777777777778,
              "#fb9f3a"
             ],
             [
              0.8888888888888888,
              "#fdca26"
             ],
             [
              1,
              "#f0f921"
             ]
            ],
            "type": "heatmapgl"
           }
          ],
          "histogram": [
           {
            "marker": {
             "pattern": {
              "fillmode": "overlay",
              "size": 10,
              "solidity": 0.2
             }
            },
            "type": "histogram"
           }
          ],
          "histogram2d": [
           {
            "colorbar": {
             "outlinewidth": 0,
             "ticks": ""
            },
            "colorscale": [
             [
              0,
              "#0d0887"
             ],
             [
              0.1111111111111111,
              "#46039f"
             ],
             [
              0.2222222222222222,
              "#7201a8"
             ],
             [
              0.3333333333333333,
              "#9c179e"
             ],
             [
              0.4444444444444444,
              "#bd3786"
             ],
             [
              0.5555555555555556,
              "#d8576b"
             ],
             [
              0.6666666666666666,
              "#ed7953"
             ],
             [
              0.7777777777777778,
              "#fb9f3a"
             ],
             [
              0.8888888888888888,
              "#fdca26"
             ],
             [
              1,
              "#f0f921"
             ]
            ],
            "type": "histogram2d"
           }
          ],
          "histogram2dcontour": [
           {
            "colorbar": {
             "outlinewidth": 0,
             "ticks": ""
            },
            "colorscale": [
             [
              0,
              "#0d0887"
             ],
             [
              0.1111111111111111,
              "#46039f"
             ],
             [
              0.2222222222222222,
              "#7201a8"
             ],
             [
              0.3333333333333333,
              "#9c179e"
             ],
             [
              0.4444444444444444,
              "#bd3786"
             ],
             [
              0.5555555555555556,
              "#d8576b"
             ],
             [
              0.6666666666666666,
              "#ed7953"
             ],
             [
              0.7777777777777778,
              "#fb9f3a"
             ],
             [
              0.8888888888888888,
              "#fdca26"
             ],
             [
              1,
              "#f0f921"
             ]
            ],
            "type": "histogram2dcontour"
           }
          ],
          "mesh3d": [
           {
            "colorbar": {
             "outlinewidth": 0,
             "ticks": ""
            },
            "type": "mesh3d"
           }
          ],
          "parcoords": [
           {
            "line": {
             "colorbar": {
              "outlinewidth": 0,
              "ticks": ""
             }
            },
            "type": "parcoords"
           }
          ],
          "pie": [
           {
            "automargin": true,
            "type": "pie"
           }
          ],
          "scatter": [
           {
            "fillpattern": {
             "fillmode": "overlay",
             "size": 10,
             "solidity": 0.2
            },
            "type": "scatter"
           }
          ],
          "scatter3d": [
           {
            "line": {
             "colorbar": {
              "outlinewidth": 0,
              "ticks": ""
             }
            },
            "marker": {
             "colorbar": {
              "outlinewidth": 0,
              "ticks": ""
             }
            },
            "type": "scatter3d"
           }
          ],
          "scattercarpet": [
           {
            "marker": {
             "colorbar": {
              "outlinewidth": 0,
              "ticks": ""
             }
            },
            "type": "scattercarpet"
           }
          ],
          "scattergeo": [
           {
            "marker": {
             "colorbar": {
              "outlinewidth": 0,
              "ticks": ""
             }
            },
            "type": "scattergeo"
           }
          ],
          "scattergl": [
           {
            "marker": {
             "colorbar": {
              "outlinewidth": 0,
              "ticks": ""
             }
            },
            "type": "scattergl"
           }
          ],
          "scattermapbox": [
           {
            "marker": {
             "colorbar": {
              "outlinewidth": 0,
              "ticks": ""
             }
            },
            "type": "scattermapbox"
           }
          ],
          "scatterpolar": [
           {
            "marker": {
             "colorbar": {
              "outlinewidth": 0,
              "ticks": ""
             }
            },
            "type": "scatterpolar"
           }
          ],
          "scatterpolargl": [
           {
            "marker": {
             "colorbar": {
              "outlinewidth": 0,
              "ticks": ""
             }
            },
            "type": "scatterpolargl"
           }
          ],
          "scatterternary": [
           {
            "marker": {
             "colorbar": {
              "outlinewidth": 0,
              "ticks": ""
             }
            },
            "type": "scatterternary"
           }
          ],
          "surface": [
           {
            "colorbar": {
             "outlinewidth": 0,
             "ticks": ""
            },
            "colorscale": [
             [
              0,
              "#0d0887"
             ],
             [
              0.1111111111111111,
              "#46039f"
             ],
             [
              0.2222222222222222,
              "#7201a8"
             ],
             [
              0.3333333333333333,
              "#9c179e"
             ],
             [
              0.4444444444444444,
              "#bd3786"
             ],
             [
              0.5555555555555556,
              "#d8576b"
             ],
             [
              0.6666666666666666,
              "#ed7953"
             ],
             [
              0.7777777777777778,
              "#fb9f3a"
             ],
             [
              0.8888888888888888,
              "#fdca26"
             ],
             [
              1,
              "#f0f921"
             ]
            ],
            "type": "surface"
           }
          ],
          "table": [
           {
            "cells": {
             "fill": {
              "color": "#EBF0F8"
             },
             "line": {
              "color": "white"
             }
            },
            "header": {
             "fill": {
              "color": "#C8D4E3"
             },
             "line": {
              "color": "white"
             }
            },
            "type": "table"
           }
          ]
         },
         "layout": {
          "annotationdefaults": {
           "arrowcolor": "#2a3f5f",
           "arrowhead": 0,
           "arrowwidth": 1
          },
          "autotypenumbers": "strict",
          "coloraxis": {
           "colorbar": {
            "outlinewidth": 0,
            "ticks": ""
           }
          },
          "colorscale": {
           "diverging": [
            [
             0,
             "#8e0152"
            ],
            [
             0.1,
             "#c51b7d"
            ],
            [
             0.2,
             "#de77ae"
            ],
            [
             0.3,
             "#f1b6da"
            ],
            [
             0.4,
             "#fde0ef"
            ],
            [
             0.5,
             "#f7f7f7"
            ],
            [
             0.6,
             "#e6f5d0"
            ],
            [
             0.7,
             "#b8e186"
            ],
            [
             0.8,
             "#7fbc41"
            ],
            [
             0.9,
             "#4d9221"
            ],
            [
             1,
             "#276419"
            ]
           ],
           "sequential": [
            [
             0,
             "#0d0887"
            ],
            [
             0.1111111111111111,
             "#46039f"
            ],
            [
             0.2222222222222222,
             "#7201a8"
            ],
            [
             0.3333333333333333,
             "#9c179e"
            ],
            [
             0.4444444444444444,
             "#bd3786"
            ],
            [
             0.5555555555555556,
             "#d8576b"
            ],
            [
             0.6666666666666666,
             "#ed7953"
            ],
            [
             0.7777777777777778,
             "#fb9f3a"
            ],
            [
             0.8888888888888888,
             "#fdca26"
            ],
            [
             1,
             "#f0f921"
            ]
           ],
           "sequentialminus": [
            [
             0,
             "#0d0887"
            ],
            [
             0.1111111111111111,
             "#46039f"
            ],
            [
             0.2222222222222222,
             "#7201a8"
            ],
            [
             0.3333333333333333,
             "#9c179e"
            ],
            [
             0.4444444444444444,
             "#bd3786"
            ],
            [
             0.5555555555555556,
             "#d8576b"
            ],
            [
             0.6666666666666666,
             "#ed7953"
            ],
            [
             0.7777777777777778,
             "#fb9f3a"
            ],
            [
             0.8888888888888888,
             "#fdca26"
            ],
            [
             1,
             "#f0f921"
            ]
           ]
          },
          "colorway": [
           "#636efa",
           "#EF553B",
           "#00cc96",
           "#ab63fa",
           "#FFA15A",
           "#19d3f3",
           "#FF6692",
           "#B6E880",
           "#FF97FF",
           "#FECB52"
          ],
          "font": {
           "color": "#2a3f5f"
          },
          "geo": {
           "bgcolor": "white",
           "lakecolor": "white",
           "landcolor": "#E5ECF6",
           "showlakes": true,
           "showland": true,
           "subunitcolor": "white"
          },
          "hoverlabel": {
           "align": "left"
          },
          "hovermode": "closest",
          "mapbox": {
           "style": "light"
          },
          "paper_bgcolor": "white",
          "plot_bgcolor": "#E5ECF6",
          "polar": {
           "angularaxis": {
            "gridcolor": "white",
            "linecolor": "white",
            "ticks": ""
           },
           "bgcolor": "#E5ECF6",
           "radialaxis": {
            "gridcolor": "white",
            "linecolor": "white",
            "ticks": ""
           }
          },
          "scene": {
           "xaxis": {
            "backgroundcolor": "#E5ECF6",
            "gridcolor": "white",
            "gridwidth": 2,
            "linecolor": "white",
            "showbackground": true,
            "ticks": "",
            "zerolinecolor": "white"
           },
           "yaxis": {
            "backgroundcolor": "#E5ECF6",
            "gridcolor": "white",
            "gridwidth": 2,
            "linecolor": "white",
            "showbackground": true,
            "ticks": "",
            "zerolinecolor": "white"
           },
           "zaxis": {
            "backgroundcolor": "#E5ECF6",
            "gridcolor": "white",
            "gridwidth": 2,
            "linecolor": "white",
            "showbackground": true,
            "ticks": "",
            "zerolinecolor": "white"
           }
          },
          "shapedefaults": {
           "line": {
            "color": "#2a3f5f"
           }
          },
          "ternary": {
           "aaxis": {
            "gridcolor": "white",
            "linecolor": "white",
            "ticks": ""
           },
           "baxis": {
            "gridcolor": "white",
            "linecolor": "white",
            "ticks": ""
           },
           "bgcolor": "#E5ECF6",
           "caxis": {
            "gridcolor": "white",
            "linecolor": "white",
            "ticks": ""
           }
          },
          "title": {
           "x": 0.05
          },
          "xaxis": {
           "automargin": true,
           "gridcolor": "white",
           "linecolor": "white",
           "ticks": "",
           "title": {
            "standoff": 15
           },
           "zerolinecolor": "white",
           "zerolinewidth": 2
          },
          "yaxis": {
           "automargin": true,
           "gridcolor": "white",
           "linecolor": "white",
           "ticks": "",
           "title": {
            "standoff": 15
           },
           "zerolinecolor": "white",
           "zerolinewidth": 2
          }
         }
        },
        "title": {
         "text": "[15GCP+18CP] Residuals at check points in Match-AT projects using different A-priori Std.Dev.constellation"
        },
        "xaxis": {
         "anchor": "y",
         "domain": [
          0,
          0.45
         ],
         "linecolor": "black",
         "linewidth": 1,
         "mirror": true,
         "showline": true,
         "zeroline": true
        },
        "xaxis2": {
         "anchor": "y2",
         "domain": [
          0.55,
          1
         ],
         "linecolor": "black",
         "linewidth": 1,
         "mirror": true,
         "showline": true,
         "zeroline": true
        },
        "xaxis3": {
         "anchor": "y3",
         "domain": [
          0,
          0.45
         ],
         "linecolor": "black",
         "linewidth": 1,
         "mirror": true,
         "showline": true,
         "zeroline": true
        },
        "xaxis4": {
         "anchor": "y4",
         "domain": [
          0.55,
          1
         ],
         "linecolor": "black",
         "linewidth": 1,
         "mirror": true,
         "showline": true,
         "zeroline": true
        },
        "xaxis5": {
         "anchor": "y5",
         "domain": [
          0,
          0.45
         ],
         "linecolor": "black",
         "linewidth": 1,
         "mirror": true,
         "showline": true,
         "zeroline": true
        },
        "xaxis6": {
         "anchor": "y6",
         "domain": [
          0.55,
          1
         ],
         "linecolor": "black",
         "linewidth": 1,
         "mirror": true,
         "showline": true,
         "zeroline": true
        },
        "yaxis": {
         "anchor": "x",
         "domain": [
          0.7777777777777778,
          1
         ],
         "dtick": 0.05,
         "gridcolor": "lightgray",
         "linecolor": "black",
         "linewidth": 1,
         "mirror": true,
         "range": [
          -0.15,
          0.15
         ],
         "showgrid": true,
         "showline": true,
         "zeroline": true,
         "zerolinecolor": "black",
         "zerolinewidth": 1
        },
        "yaxis2": {
         "anchor": "x2",
         "domain": [
          0.7777777777777778,
          1
         ],
         "dtick": 0.05,
         "gridcolor": "lightgray",
         "linecolor": "black",
         "linewidth": 1,
         "mirror": true,
         "range": [
          -0.15,
          0.15
         ],
         "showgrid": true,
         "showline": true,
         "zeroline": true,
         "zerolinecolor": "black",
         "zerolinewidth": 1
        },
        "yaxis3": {
         "anchor": "x3",
         "domain": [
          0.3888888888888889,
          0.6111111111111112
         ],
         "dtick": 0.05,
         "gridcolor": "lightgray",
         "linecolor": "black",
         "linewidth": 1,
         "mirror": true,
         "range": [
          -0.15,
          0.15
         ],
         "showgrid": true,
         "showline": true,
         "zeroline": true,
         "zerolinecolor": "black",
         "zerolinewidth": 1
        },
        "yaxis4": {
         "anchor": "x4",
         "domain": [
          0.3888888888888889,
          0.6111111111111112
         ],
         "dtick": 0.05,
         "gridcolor": "lightgray",
         "linecolor": "black",
         "linewidth": 1,
         "mirror": true,
         "range": [
          -0.15,
          0.15
         ],
         "showgrid": true,
         "showline": true,
         "zeroline": true,
         "zerolinecolor": "black",
         "zerolinewidth": 1
        },
        "yaxis5": {
         "anchor": "x5",
         "domain": [
          0,
          0.22222222222222224
         ],
         "dtick": 0.05,
         "gridcolor": "lightgray",
         "linecolor": "black",
         "linewidth": 1,
         "mirror": true,
         "range": [
          -0.15,
          0.15
         ],
         "showgrid": true,
         "showline": true,
         "zeroline": true,
         "zerolinecolor": "black",
         "zerolinewidth": 1
        },
        "yaxis6": {
         "anchor": "x6",
         "domain": [
          0,
          0.22222222222222224
         ],
         "dtick": 0.05,
         "gridcolor": "lightgray",
         "linecolor": "black",
         "linewidth": 1,
         "mirror": true,
         "range": [
          -0.15,
          0.15
         ],
         "showgrid": true,
         "showline": true,
         "zeroline": true,
         "zerolinecolor": "black",
         "zerolinewidth": 1
        }
       }
      }
     },
     "metadata": {},
     "output_type": "display_data"
    }
   ],
   "source": [
    "\"\"\"Parallel comparison of UCE-M3 and UCE-4.1: [15GCP + 18CP] Residuals-SCATTERPLOT\"\"\"\n",
    "project_uce3_list = [prj_15GCP_uce_m3, prj_15GCP_uce_m3_LW]\n",
    "project_uce4_list = [prj_15GCP_uce_4, prj_15GCP_uce_4_LW]\n",
    "colors = ['navy', 'red']\n",
    "std_setting_list = ['Constellation (a)', 'Constellation (b)']\n",
    "fig = make_subplots(rows=3, cols=2, subplot_titles=[\n",
    "                    \"[UCE M3]CP Residual-X\", \"[UCE 4.1]CP Residual-X\",\n",
    "                    \"[UCE M3]CP Residual-Y\", \"[UCE 4.1]CP Residual-Y\",\n",
    "                    \"[UCE M3]CP Residual-Z\", \"[UCE 4.1]CP Residual-Z\"])\n",
    "for prj_uce3, prj_uce4, color, std_setting in zip(project_uce3_list, project_uce4_list, colors, std_setting_list):\n",
    "    fig.append_trace(go.Scatter(\n",
    "        name=std_setting,\n",
    "        x=[str(id) for id in prj_uce3.cp_id],\n",
    "        y=prj_uce3.cp_residual[:, 0],\n",
    "        marker_color=color,\n",
    "        legendgroup=std_setting\n",
    "    ),\n",
    "        row=1,\n",
    "        col=1\n",
    "    )\n",
    "    fig.append_trace(go.Scatter(\n",
    "        name=std_setting,\n",
    "        x=[str(id) for id in prj_uce3.cp_id],\n",
    "        y=prj_uce3.cp_residual[:, 1],\n",
    "        marker_color=color,\n",
    "        legendgroup=std_setting,\n",
    "        showlegend=False\n",
    "    ),\n",
    "        row=2,\n",
    "        col=1\n",
    "    )\n",
    "    fig.append_trace(go.Scatter(\n",
    "        name=std_setting,\n",
    "        x=[str(id) for id in prj_uce3.cp_id],\n",
    "        y=prj_uce3.cp_residual[:, 2],\n",
    "        marker_color=color,\n",
    "        legendgroup=std_setting,\n",
    "        showlegend=False\n",
    "    ),\n",
    "        row=3,\n",
    "        col=1\n",
    "    )\n",
    "    fig.append_trace(go.Scatter(\n",
    "        name=std_setting,\n",
    "        x=[str(id) for id in prj_uce4.cp_id],\n",
    "        y=prj_uce4.cp_residual[:, 0],\n",
    "        marker_color=color,\n",
    "        legendgroup=std_setting,\n",
    "        showlegend=False\n",
    "    ),\n",
    "        row=1,\n",
    "        col=2\n",
    "    )\n",
    "    fig.append_trace(go.Scatter(\n",
    "        name=std_setting,\n",
    "        x=[str(id) for id in prj_uce4.cp_id],\n",
    "        y=prj_uce4.cp_residual[:, 1],\n",
    "        marker_color=color,\n",
    "        legendgroup=std_setting,\n",
    "        showlegend=False\n",
    "    ),\n",
    "        row=2,\n",
    "        col=2\n",
    "    )\n",
    "    fig.append_trace(go.Scatter(\n",
    "        name=std_setting,\n",
    "        x=[str(id) for id in prj_uce4.cp_id],\n",
    "        y=prj_uce4.cp_residual[:, 2],\n",
    "        marker_color=color,\n",
    "        legendgroup=std_setting,\n",
    "        showlegend=False\n",
    "    ),\n",
    "        row=3,\n",
    "        col=2\n",
    "    )\n",
    "\n",
    "fig.update_traces(opacity=0.6)\n",
    "fig.update_layout(\n",
    "    title='[15GCP+18CP] Residuals at check points in Match-AT projects using different A-priori Std.Dev.constellation',\n",
    "    plot_bgcolor='white',\n",
    "    xaxis1={\"zeroline\": True, \"showline\": True,\n",
    "            \"linewidth\": 1, \"linecolor\": \"black\", \"mirror\": True},\n",
    "    yaxis1={\"range\": [-0.15, 0.15], \"dtick\": 0.05,\n",
    "            \"showgrid\": True, \"gridcolor\": \"lightgray\",\n",
    "            \"zeroline\": True, \"zerolinecolor\": 'black', \"zerolinewidth\": 1,\n",
    "            \"showline\": True, \"linewidth\": 1, \"linecolor\": \"black\", \"mirror\": True},\n",
    "    xaxis2={\"zeroline\": True, \"showline\": True,\n",
    "            \"linewidth\": 1, \"linecolor\": \"black\", \"mirror\": True},\n",
    "    yaxis2={\"range\": [-0.15, 0.15], \"dtick\": 0.05,\n",
    "            \"showgrid\": True, \"gridcolor\": \"lightgray\",\n",
    "            \"zeroline\": True, \"zerolinecolor\": 'black', \"zerolinewidth\": 1,\n",
    "            \"showline\": True, \"linewidth\": 1, \"linecolor\": \"black\", \"mirror\": True},\n",
    "    xaxis3={\"zeroline\": True, \"showline\": True,\n",
    "            \"linewidth\": 1, \"linecolor\": \"black\", \"mirror\": True},\n",
    "    yaxis3={\"range\": [-0.15, 0.15], \"dtick\": 0.05,\n",
    "            \"showgrid\": True, \"gridcolor\": \"lightgray\",\n",
    "            \"zeroline\": True, \"zerolinecolor\": 'black', \"zerolinewidth\": 1,\n",
    "            \"showline\": True, \"linewidth\": 1, \"linecolor\": \"black\", \"mirror\": True},\n",
    "    xaxis4={\"zeroline\": True, \"showline\": True,\n",
    "            \"linewidth\": 1, \"linecolor\": \"black\", \"mirror\": True},\n",
    "    yaxis4={\"range\": [-0.15, 0.15], \"dtick\": 0.05,\n",
    "            \"showgrid\": True, \"gridcolor\": \"lightgray\",\n",
    "            \"zeroline\": True, \"zerolinecolor\": 'black', \"zerolinewidth\": 1,\n",
    "            \"showline\": True, \"linewidth\": 1, \"linecolor\": \"black\", \"mirror\": True},\n",
    "    xaxis5={\"zeroline\": True, \"showline\": True,\n",
    "            \"linewidth\": 1, \"linecolor\": \"black\", \"mirror\": True},\n",
    "    yaxis5={\"range\": [-0.15, 0.15], \"dtick\": 0.05,\n",
    "            \"showgrid\": True, \"gridcolor\": \"lightgray\",\n",
    "            \"zeroline\": True, \"zerolinecolor\": 'black', \"zerolinewidth\": 1,\n",
    "            \"showline\": True, \"linewidth\": 1, \"linecolor\": \"black\", \"mirror\": True},\n",
    "    xaxis6={\"zeroline\": True, \"showline\": True,\n",
    "            \"linewidth\": 1, \"linecolor\": \"black\", \"mirror\": True},\n",
    "    yaxis6={\"range\": [-0.15, 0.15], \"dtick\": 0.05,\n",
    "            \"showgrid\": True, \"gridcolor\": \"lightgray\",\n",
    "            \"zeroline\": True, \"zerolinecolor\": 'black', \"zerolinewidth\": 1,\n",
    "            \"showline\": True, \"linewidth\": 1, \"linecolor\": \"black\", \"mirror\": True},\n",
    "    legend_tracegroupgap=20\n",
    ")\n",
    "fig.update_xaxes = {\n",
    "    \"dtick\": 0.2,\n",
    "    \"showgrid\": False,\n",
    "    \"zeroline\": False\n",
    "}\n",
    "\n",
    "fig.show()\n",
    "fig.write_html(\n",
    "    \"./Results/15+18/CP_Residuals-stdvariation-more_camera_systems.html\")"
   ]
  },
  {
   "cell_type": "code",
   "execution_count": null,
   "metadata": {},
   "outputs": [],
   "source": [
    "# # Line scatter of EO parameters residuals\n",
    "\n",
    "# \"\"\"\n",
    "# Compare the results from inpho projets, with Match-AT setting: GNSS and shifts for all on, IMU on\\off. Earth curvature and Refraction correction: on\n",
    "# 15 GCPs\n",
    "# case 1: GNSS + IMU\n",
    "# case 2: GNSS only\n",
    "# \"\"\"\n",
    "# prj_names = [prj_15GCP_corr_on_imu_on, prj_15GCP_corr_on_imu_off]\n",
    "# EO_params = ['px', 'py', 'pz', 'omega', 'phi', 'kappa']\n",
    "# fig = make_subplots(rows=2, cols=2, subplot_titles=[\n",
    "# \"residual in px/py/pz [m] - GNSS + IMU\",\n",
    "# \"residual in omega/phi/kappa [grad] - GNSS + IMU\",\n",
    "# \"residual in px/py/pz [m] - GNSS only\",\n",
    "# \"residual in omega/phi/kappa [grad] - GNSS only\"])\n",
    "\n",
    "# # fig = go.Figure()\n",
    "\n",
    "# x_axis = prj_names[0].img_id\n",
    "# RMS_EO_params = []\n",
    "# for ind_prj, prj_name in enumerate(prj_names):\n",
    "# RMS_EO_params_per_img = []\n",
    "# for ind_eo, EO_param in enumerate(EO_params):\n",
    "# y_axis = np.array([res[ind_eo]for res in prj_name.EO_residual])\n",
    "# fig.add_trace(go.Scatter(\n",
    "# mode='lines',\n",
    "# x=x_axis,\n",
    "# y=y_axis,\n",
    "# legendgroup=EO_param + \" residual - case \" + str(ind_prj + 1),\n",
    "# showlegend=True,\n",
    "# name=EO_param + \" residual - case \" + str(ind_prj + 1)\n",
    "# ),\n",
    "# row=ind_prj + 1,\n",
    "# col=int(ind_eo / 3) + 1\n",
    "# )\n",
    "# RMS_EO_params_per_img.append(np.sqrt(np.mean(y_axis\\*\\*2)))\n",
    "# RMS_EO_params.append(RMS_EO_params_per_img)\n",
    "\n",
    "# fig.update_layout(\n",
    "# xaxis=dict(\n",
    "# showexponent='all',\n",
    "# exponentformat='e'\n",
    "# )\n",
    "# )\n",
    "# fig.show()\n"
   ]
  },
  {
   "cell_type": "code",
   "execution_count": null,
   "metadata": {},
   "outputs": [],
   "source": [
    "# # Tie points check - Line scatter\n",
    "\n",
    "# # Compare the projects in <test_priori> folder. The priori of GNSS and IMU observations is set to be 10m, 1000m and none for the bundle adjustment\n",
    "\n",
    "# prj_names = [project_10m_std, project_1000m_std, project_none]\n",
    "# legend_names = ['10m', '1000m', 'none']\n",
    "# EO_params = ['px', 'py', 'pz', 'omega', 'phi', 'kappa']\n",
    "# diff_eo = [np.array([project_10m_std.tie_points]) - np.array([project_1000m_std.tie_points]),\n",
    "# np.array([project_10m_std.tie_points]) -\n",
    "# np.array([project_none.tie_points]),\n",
    "# np.array([project_1000m_std.tie_points]) -\n",
    "# np.array([project_none.tie_points]),\n",
    "# ]\n",
    "# for i, diff_matrix in enumerate(diff_eo):\n",
    "# diff_eo[i] = np.reshape(diff_matrix, [diff_matrix.shape[1], 6])\n",
    "# legend_diff_names = ['10m/ 1000m', '10m/ none', '1000m/ none']\n",
    "# fig1 = make_subplots(rows=2, cols=1,\n",
    "# subplot_titles=[\"px/py/pz [m] - test priori\",\n",
    "# \"omega/phi/kappa [grad] - test priori\"],\n",
    "# shared_xaxes=True)\n",
    "# x_axis = prj_names[0].tie_point_id\n",
    "# for ind_prj, prj_name in enumerate(prj_names):\n",
    "# for ind_eo, EO_param in enumerate(EO_params):\n",
    "# y_axis = np.array([eo[ind_eo]for eo in prj_name.tie_points])\n",
    "# fig1.add_trace(go.Scatter(\n",
    "# mode='lines',\n",
    "# x=x_axis,\n",
    "# y=y_axis,\n",
    "# legendgroup=EO_param,\n",
    "# showlegend=True,\n",
    "# name=EO_param + \" - \" + legend_names[ind_prj]\n",
    "# ),\n",
    "# row=int(ind_eo / 3) + 1,\n",
    "# col=1\n",
    "# )\n",
    "# fig1.update_layout(\n",
    "# xaxis=dict(\n",
    "# showexponent='all',\n",
    "# exponentformat='e'\n",
    "# )\n",
    "# )\n",
    "# fig1.show()\n",
    "\n",
    "# fig2 = make_subplots(rows=2, cols=3,\n",
    "# subplot_titles=[\"diff in px/py/pz [m] - 10m/1000m\",\n",
    "# \"diff in px/py/pz [m] - 10m/none\",\n",
    "# \"diff in px/py/pz [m] - 1000m/none\",\n",
    "# \"diff in omega/phi/kappa [grad] - 10m/1000m\",\n",
    "# \"diff in omega/phi/kappa [grad] - 10m/none\",\n",
    "# \"diff in omega/phi/kappa [grad] - 1000m/none\"],\n",
    "# shared_xaxes=True)\n",
    "# for ind_diff_matrix, diff_matrix in enumerate(diff_eo):\n",
    "# for ind_eo_2, EO_param_2 in enumerate(EO_params):\n",
    "# y1_axis = diff_matrix[:, ind_eo_2]\n",
    "# fig2.add_trace(go.Scatter(\n",
    "# mode='lines',\n",
    "# x=x_axis,\n",
    "# y=y1_axis,\n",
    "# legendgroup=EO_param_2,\n",
    "# showlegend=True,\n",
    "# name=\"diff \" + EO_param_2 + \" -\" +\n",
    "# legend_diff_names[ind_diff_matrix]\n",
    "# ),\n",
    "# row=int(ind_eo_2 / 3) + 1,\n",
    "# col=ind_diff_matrix + 1\n",
    "# )\n",
    "# fig2.update_layout(\n",
    "# xaxis=dict(\n",
    "# showexponent='all',\n",
    "# exponentformat='e'\n",
    "# )\n",
    "# )\n",
    "# fig2.show()\n"
   ]
  }
 ],
 "metadata": {
  "kernelspec": {
   "display_name": ".venv",
   "language": "python",
   "name": "python3"
  },
  "language_info": {
   "codemirror_mode": {
    "name": "ipython",
    "version": 3
   },
   "file_extension": ".py",
   "mimetype": "text/x-python",
   "name": "python",
   "nbconvert_exporter": "python",
   "pygments_lexer": "ipython3",
   "version": "3.9.13"
  },
  "orig_nbformat": 4
 },
 "nbformat": 4,
 "nbformat_minor": 2
}
