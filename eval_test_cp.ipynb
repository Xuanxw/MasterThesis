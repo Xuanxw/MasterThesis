{
 "cells": [
  {
   "cell_type": "code",
   "execution_count": 1,
   "metadata": {},
   "outputs": [],
   "source": [
    "import os\n",
    "import numpy as np\n",
    "import plotly.graph_objects as go"
   ]
  },
  {
   "cell_type": "code",
   "execution_count": 2,
   "metadata": {},
   "outputs": [],
   "source": [
    "cp_23_file = open(\n",
    "    \"/Users/wangxuanxuan/Documents/MasterThesis/Testing current large format mapping cameras/Trimble_Inpho/Ref-dataset/Kontrollpunkte_utm32.txt\")\n",
    "cp_23_lines = [line1.rstrip() for line1 in cp_23_file.readlines()]\n",
    "cp_old_file = open(\n",
    "    \"/Users/wangxuanxuan/Documents/MasterThesis/Testing current large format mapping cameras/Trimble_Inpho/Ref-dataset/checkpoints_rgb.txt\")\n",
    "cp_old_lines = [line2.rstrip() for line2 in cp_old_file.readlines()]\n",
    "cp_23 = []\n",
    "cp_old = []\n",
    "for line1, line2 in zip(cp_23_lines, cp_old_lines):\n",
    "    line_23 = [float(l1) for l1 in line1.split(' ') if l1]\n",
    "    line_old = [float(l2) for l2 in line2.split(' ') if l2]\n",
    "    cp_23.append(line_23)\n",
    "    cp_old.append(line_old)\n",
    "cp_ind = [int(cpt[0]) for cpt in cp_23]\n",
    "cp_23 = np.array(cp_23)\n",
    "cp_old = np.array(cp_old)"
   ]
  },
  {
   "cell_type": "code",
   "execution_count": 3,
   "metadata": {},
   "outputs": [],
   "source": [
    "cp_coord_23 = cp_23[:, 1:4]\n",
    "cp_coord_old = cp_old[:, 1:4]\n",
    "diff_cp = np.subtract(cp_coord_23, cp_coord_old)"
   ]
  },
  {
   "cell_type": "code",
   "execution_count": 7,
   "metadata": {},
   "outputs": [
    {
     "data": {
      "application/vnd.plotly.v1+json": {
       "config": {
        "plotlyServerURL": "https://plot.ly"
       },
       "data": [
        {
         "marker": {
          "color": "#0343df"
         },
         "name": "Easting X",
         "type": "bar",
         "x": [
          0,
          1,
          2,
          3,
          4,
          5,
          6,
          7,
          8,
          9,
          10,
          11,
          12,
          13,
          14,
          15,
          16,
          17,
          18,
          19,
          20,
          21,
          22,
          23,
          24,
          25,
          26,
          27,
          28,
          29,
          30,
          31,
          32,
          33,
          34,
          35,
          36,
          37,
          38,
          39,
          40,
          41,
          42,
          43,
          44,
          45,
          46,
          47,
          48,
          49,
          50,
          51,
          52,
          53,
          54,
          55,
          56,
          57,
          58,
          59,
          60,
          61,
          62,
          63,
          64,
          65,
          66,
          67,
          68,
          69,
          70,
          71,
          72,
          73,
          74,
          75,
          76
         ],
         "y": [
          -0.88076099997852,
          -0.7137230000225827,
          -0.18760699999984354,
          -0.891760999977123,
          -0.28043400001479313,
          -0.6910050000296906,
          -0.10674300004029647,
          -0.8463759999722242,
          -0.6887060000444762,
          -0.9117799999658018,
          -0.8343640000093728,
          -0.7086430000490509,
          -0.7828149999841116,
          -0.6603959999629296,
          -0.41681800002697855,
          -0.44978600001195446,
          -0.5782730000209995,
          -0.8015669999876991,
          -0.9255910000065342,
          -0.9820729999919422,
          -0.5938650000025518,
          -0.818872999981977,
          -0.1596690000151284,
          -0.2632549999980256,
          -0.21714899997459725,
          -0.3915510000078939,
          -0.7354829999967478,
          -0.11126199999125674,
          -0.25774299999466166,
          -0.45178100001066923,
          -0.9018440000363626,
          -0.4710579999955371,
          -0.3542499999748543,
          -0.5360190000501461,
          -0.8700509999762289,
          -0.7582569999503903,
          -0.5436029999982566,
          -0.1252669999958016,
          -0.10036099998978898,
          -0.14751100004650652,
          -0.7585410000174306,
          -0.2256080000079237,
          -0.09448299999348819,
          -0.20433900004718453,
          -0.9381460000295192,
          -0.7374860000563785,
          -0.513868999958504,
          -0.18744900001911446,
          -0.7728669999632984,
          -0.2031700000516139,
          -0.9480360000161454,
          -0.9191979999886826,
          -0.18358900002203882,
          -0.2769030000199564,
          -0.543478999985382,
          -0.29711799998767674,
          -0.4454620000324212,
          -0.6242649999912828,
          -0.5867269999580458,
          -0.8117390000261366,
          -0.4269549999735318,
          -0.8696089999866672,
          -0.5624730000272393,
          -0.602889999980107,
          -0.09801699995296076,
          -0.8327149999677204,
          -0.8429599999799393,
          -0.5604490000405349,
          -0.20844100002432242,
          -0.4612529999576509,
          -0.2565609999583103,
          -0.2698539999546483,
          -0.9263510000309907,
          -0.2880549999536015,
          -0.7363619999960065,
          -0.2825859999866225,
          -0.6102979999850504
         ]
        },
        {
         "marker": {
          "color": "#e50000"
         },
         "name": "Northing Y",
         "type": "bar",
         "x": [
          0,
          1,
          2,
          3,
          4,
          5,
          6,
          7,
          8,
          9,
          10,
          11,
          12,
          13,
          14,
          15,
          16,
          17,
          18,
          19,
          20,
          21,
          22,
          23,
          24,
          25,
          26,
          27,
          28,
          29,
          30,
          31,
          32,
          33,
          34,
          35,
          36,
          37,
          38,
          39,
          40,
          41,
          42,
          43,
          44,
          45,
          46,
          47,
          48,
          49,
          50,
          51,
          52,
          53,
          54,
          55,
          56,
          57,
          58,
          59,
          60,
          61,
          62,
          63,
          64,
          65,
          66,
          67,
          68,
          69,
          70,
          71,
          72,
          73,
          74,
          75,
          76
         ],
         "y": [
          -0.15741499979048967,
          -0.23969100043177605,
          -0.8186560003086925,
          -0.6638599997386336,
          -0.7302709994837642,
          -0.6816739998757839,
          -0.23793199937790632,
          -0.5051229996606708,
          -0.8371500000357628,
          -0.560996999964118,
          -0.45949000027030706,
          -0.676281999796629,
          -0.8512909999117255,
          -0.4734749998897314,
          -0.053712000139057636,
          -0.8134830007329583,
          -0.4077260000631213,
          -0.5065550003200769,
          -0.814852999523282,
          -0.5049040000885725,
          -0.16109600011259317,
          -0.9214939996600151,
          -0.23559499997645617,
          0.023308999836444855,
          -0.342637000605464,
          -0.8703070003539324,
          -0.22467999998480082,
          -0.4279660005122423,
          -0.5942640006542206,
          -0.34016900043934584,
          -0.48106000013649464,
          -0.4568950003013015,
          -0.21183700021356344,
          -0.02725300006568432,
          -0.35248899925500154,
          -0.8959670001640916,
          -0.48713000025600195,
          -0.9296699995175004,
          0.01628500036895275,
          -0.44585200026631355,
          -0.3741509998217225,
          -0.07175000011920929,
          -0.932388000190258,
          -0.14252099953591824,
          -0.8054590001702309,
          -0.5898460000753403,
          -0.5671779997646809,
          -0.16464299988001585,
          -0.7831979999318719,
          -0.3215960003435612,
          -0.47765700053423643,
          -0.8917530002072453,
          -0.47027300018817186,
          -0.9739100001752377,
          -0.2548759998753667,
          -0.858598000369966,
          -0.8163780001923442,
          -0.8096940005198121,
          -0.7136240005493164,
          0.01259899977594614,
          -0.061185999773442745,
          -0.7438970003277063,
          -0.3166930004954338,
          -0.08517700061202049,
          -0.44352000020444393,
          -0.9571390002965927,
          -0.14607900008559227,
          -0.30518099945038557,
          -0.08892199955880642,
          -0.48604500014334917,
          -0.4039159994572401,
          -0.9620150001719594,
          -0.9005809994414449,
          -0.8063500002026558,
          -0.18245999980717897,
          -0.22924300003796816,
          -0.5265530003234744
         ]
        },
        {
         "marker": {
          "color": "#ffff14"
         },
         "name": "Height Z",
         "type": "bar",
         "x": [
          0,
          1,
          2,
          3,
          4,
          5,
          6,
          7,
          8,
          9,
          10,
          11,
          12,
          13,
          14,
          15,
          16,
          17,
          18,
          19,
          20,
          21,
          22,
          23,
          24,
          25,
          26,
          27,
          28,
          29,
          30,
          31,
          32,
          33,
          34,
          35,
          36,
          37,
          38,
          39,
          40,
          41,
          42,
          43,
          44,
          45,
          46,
          47,
          48,
          49,
          50,
          51,
          52,
          53,
          54,
          55,
          56,
          57,
          58,
          59,
          60,
          61,
          62,
          63,
          64,
          65,
          66,
          67,
          68,
          69,
          70,
          71,
          72,
          73,
          74,
          75,
          76
         ],
         "y": [
          -0.7384000000000128,
          -0.9508000000000152,
          -0.015100000000018099,
          -0.4964999999999975,
          -0.4993999999999801,
          -0.29169999999999163,
          -0.8466000000000236,
          -0.3738999999999919,
          -0.2488999999999919,
          -0.054200000000008686,
          -1.0083000000000197,
          -0.40500000000002956,
          -0.08980000000002519,
          -0.6023999999999887,
          -0.7627999999999702,
          -0.4589000000000283,
          -0.31970000000001164,
          -0.4356999999999971,
          -0.233099999999979,
          -0.4019999999999868,
          -0.23349999999999227,
          -0.27710000000001855,
          -0.6383999999999901,
          -0.5618999999999801,
          -0.19369999999997844,
          -0.5320999999999856,
          -0.6295000000000073,
          -0.0968000000000302,
          -0.11720000000002528,
          -1.0025999999999726,
          -0.3410999999999831,
          -0.998299999999972,
          -0.17359999999999332,
          -0.31330000000002656,
          -0.7559999999999718,
          -0.5106000000000108,
          -0.47479999999995925,
          -0.148399999999981,
          -0.49869999999998527,
          -0.014200000000016644,
          -1.0079000000000065,
          -0.06639999999998736,
          -0.39879999999999427,
          -0.38630000000000564,
          -0.18190000000001305,
          -0.9361000000000104,
          -0.17089999999996053,
          -0.6324000000000183,
          -0.5126999999999953,
          -0.9218000000000188,
          -0.8213000000000079,
          -0.6050999999999931,
          -0.6652000000000271,
          -0.5701999999999998,
          -0.6535000000000082,
          -0.7662000000000262,
          -0.9569999999999936,
          -0.8512000000000057,
          -0.41730000000001155,
          -0.37630000000001473,
          -0.22129999999998518,
          -0.04460000000000264,
          -0.8620999999999981,
          -0.10199999999997544,
          -0.42959999999999354,
          -0.91700000000003,
          -0.048699999999996635,
          -0.18500000000000227,
          -0.01890000000003056,
          -0.202699999999993,
          -0.8215000000000146,
          -0.911200000000008,
          -0.6315000000000168,
          -0.21139999999996917,
          -0.03870000000000573,
          -0.20769999999998845,
          -0.46240000000000236
         ]
        }
       ],
       "layout": {
        "template": {
         "data": {
          "bar": [
           {
            "error_x": {
             "color": "#2a3f5f"
            },
            "error_y": {
             "color": "#2a3f5f"
            },
            "marker": {
             "line": {
              "color": "#E5ECF6",
              "width": 0.5
             },
             "pattern": {
              "fillmode": "overlay",
              "size": 10,
              "solidity": 0.2
             }
            },
            "type": "bar"
           }
          ],
          "barpolar": [
           {
            "marker": {
             "line": {
              "color": "#E5ECF6",
              "width": 0.5
             },
             "pattern": {
              "fillmode": "overlay",
              "size": 10,
              "solidity": 0.2
             }
            },
            "type": "barpolar"
           }
          ],
          "carpet": [
           {
            "aaxis": {
             "endlinecolor": "#2a3f5f",
             "gridcolor": "white",
             "linecolor": "white",
             "minorgridcolor": "white",
             "startlinecolor": "#2a3f5f"
            },
            "baxis": {
             "endlinecolor": "#2a3f5f",
             "gridcolor": "white",
             "linecolor": "white",
             "minorgridcolor": "white",
             "startlinecolor": "#2a3f5f"
            },
            "type": "carpet"
           }
          ],
          "choropleth": [
           {
            "colorbar": {
             "outlinewidth": 0,
             "ticks": ""
            },
            "type": "choropleth"
           }
          ],
          "contour": [
           {
            "colorbar": {
             "outlinewidth": 0,
             "ticks": ""
            },
            "colorscale": [
             [
              0,
              "#0d0887"
             ],
             [
              0.1111111111111111,
              "#46039f"
             ],
             [
              0.2222222222222222,
              "#7201a8"
             ],
             [
              0.3333333333333333,
              "#9c179e"
             ],
             [
              0.4444444444444444,
              "#bd3786"
             ],
             [
              0.5555555555555556,
              "#d8576b"
             ],
             [
              0.6666666666666666,
              "#ed7953"
             ],
             [
              0.7777777777777778,
              "#fb9f3a"
             ],
             [
              0.8888888888888888,
              "#fdca26"
             ],
             [
              1,
              "#f0f921"
             ]
            ],
            "type": "contour"
           }
          ],
          "contourcarpet": [
           {
            "colorbar": {
             "outlinewidth": 0,
             "ticks": ""
            },
            "type": "contourcarpet"
           }
          ],
          "heatmap": [
           {
            "colorbar": {
             "outlinewidth": 0,
             "ticks": ""
            },
            "colorscale": [
             [
              0,
              "#0d0887"
             ],
             [
              0.1111111111111111,
              "#46039f"
             ],
             [
              0.2222222222222222,
              "#7201a8"
             ],
             [
              0.3333333333333333,
              "#9c179e"
             ],
             [
              0.4444444444444444,
              "#bd3786"
             ],
             [
              0.5555555555555556,
              "#d8576b"
             ],
             [
              0.6666666666666666,
              "#ed7953"
             ],
             [
              0.7777777777777778,
              "#fb9f3a"
             ],
             [
              0.8888888888888888,
              "#fdca26"
             ],
             [
              1,
              "#f0f921"
             ]
            ],
            "type": "heatmap"
           }
          ],
          "heatmapgl": [
           {
            "colorbar": {
             "outlinewidth": 0,
             "ticks": ""
            },
            "colorscale": [
             [
              0,
              "#0d0887"
             ],
             [
              0.1111111111111111,
              "#46039f"
             ],
             [
              0.2222222222222222,
              "#7201a8"
             ],
             [
              0.3333333333333333,
              "#9c179e"
             ],
             [
              0.4444444444444444,
              "#bd3786"
             ],
             [
              0.5555555555555556,
              "#d8576b"
             ],
             [
              0.6666666666666666,
              "#ed7953"
             ],
             [
              0.7777777777777778,
              "#fb9f3a"
             ],
             [
              0.8888888888888888,
              "#fdca26"
             ],
             [
              1,
              "#f0f921"
             ]
            ],
            "type": "heatmapgl"
           }
          ],
          "histogram": [
           {
            "marker": {
             "pattern": {
              "fillmode": "overlay",
              "size": 10,
              "solidity": 0.2
             }
            },
            "type": "histogram"
           }
          ],
          "histogram2d": [
           {
            "colorbar": {
             "outlinewidth": 0,
             "ticks": ""
            },
            "colorscale": [
             [
              0,
              "#0d0887"
             ],
             [
              0.1111111111111111,
              "#46039f"
             ],
             [
              0.2222222222222222,
              "#7201a8"
             ],
             [
              0.3333333333333333,
              "#9c179e"
             ],
             [
              0.4444444444444444,
              "#bd3786"
             ],
             [
              0.5555555555555556,
              "#d8576b"
             ],
             [
              0.6666666666666666,
              "#ed7953"
             ],
             [
              0.7777777777777778,
              "#fb9f3a"
             ],
             [
              0.8888888888888888,
              "#fdca26"
             ],
             [
              1,
              "#f0f921"
             ]
            ],
            "type": "histogram2d"
           }
          ],
          "histogram2dcontour": [
           {
            "colorbar": {
             "outlinewidth": 0,
             "ticks": ""
            },
            "colorscale": [
             [
              0,
              "#0d0887"
             ],
             [
              0.1111111111111111,
              "#46039f"
             ],
             [
              0.2222222222222222,
              "#7201a8"
             ],
             [
              0.3333333333333333,
              "#9c179e"
             ],
             [
              0.4444444444444444,
              "#bd3786"
             ],
             [
              0.5555555555555556,
              "#d8576b"
             ],
             [
              0.6666666666666666,
              "#ed7953"
             ],
             [
              0.7777777777777778,
              "#fb9f3a"
             ],
             [
              0.8888888888888888,
              "#fdca26"
             ],
             [
              1,
              "#f0f921"
             ]
            ],
            "type": "histogram2dcontour"
           }
          ],
          "mesh3d": [
           {
            "colorbar": {
             "outlinewidth": 0,
             "ticks": ""
            },
            "type": "mesh3d"
           }
          ],
          "parcoords": [
           {
            "line": {
             "colorbar": {
              "outlinewidth": 0,
              "ticks": ""
             }
            },
            "type": "parcoords"
           }
          ],
          "pie": [
           {
            "automargin": true,
            "type": "pie"
           }
          ],
          "scatter": [
           {
            "fillpattern": {
             "fillmode": "overlay",
             "size": 10,
             "solidity": 0.2
            },
            "type": "scatter"
           }
          ],
          "scatter3d": [
           {
            "line": {
             "colorbar": {
              "outlinewidth": 0,
              "ticks": ""
             }
            },
            "marker": {
             "colorbar": {
              "outlinewidth": 0,
              "ticks": ""
             }
            },
            "type": "scatter3d"
           }
          ],
          "scattercarpet": [
           {
            "marker": {
             "colorbar": {
              "outlinewidth": 0,
              "ticks": ""
             }
            },
            "type": "scattercarpet"
           }
          ],
          "scattergeo": [
           {
            "marker": {
             "colorbar": {
              "outlinewidth": 0,
              "ticks": ""
             }
            },
            "type": "scattergeo"
           }
          ],
          "scattergl": [
           {
            "marker": {
             "colorbar": {
              "outlinewidth": 0,
              "ticks": ""
             }
            },
            "type": "scattergl"
           }
          ],
          "scattermapbox": [
           {
            "marker": {
             "colorbar": {
              "outlinewidth": 0,
              "ticks": ""
             }
            },
            "type": "scattermapbox"
           }
          ],
          "scatterpolar": [
           {
            "marker": {
             "colorbar": {
              "outlinewidth": 0,
              "ticks": ""
             }
            },
            "type": "scatterpolar"
           }
          ],
          "scatterpolargl": [
           {
            "marker": {
             "colorbar": {
              "outlinewidth": 0,
              "ticks": ""
             }
            },
            "type": "scatterpolargl"
           }
          ],
          "scatterternary": [
           {
            "marker": {
             "colorbar": {
              "outlinewidth": 0,
              "ticks": ""
             }
            },
            "type": "scatterternary"
           }
          ],
          "surface": [
           {
            "colorbar": {
             "outlinewidth": 0,
             "ticks": ""
            },
            "colorscale": [
             [
              0,
              "#0d0887"
             ],
             [
              0.1111111111111111,
              "#46039f"
             ],
             [
              0.2222222222222222,
              "#7201a8"
             ],
             [
              0.3333333333333333,
              "#9c179e"
             ],
             [
              0.4444444444444444,
              "#bd3786"
             ],
             [
              0.5555555555555556,
              "#d8576b"
             ],
             [
              0.6666666666666666,
              "#ed7953"
             ],
             [
              0.7777777777777778,
              "#fb9f3a"
             ],
             [
              0.8888888888888888,
              "#fdca26"
             ],
             [
              1,
              "#f0f921"
             ]
            ],
            "type": "surface"
           }
          ],
          "table": [
           {
            "cells": {
             "fill": {
              "color": "#EBF0F8"
             },
             "line": {
              "color": "white"
             }
            },
            "header": {
             "fill": {
              "color": "#C8D4E3"
             },
             "line": {
              "color": "white"
             }
            },
            "type": "table"
           }
          ]
         },
         "layout": {
          "annotationdefaults": {
           "arrowcolor": "#2a3f5f",
           "arrowhead": 0,
           "arrowwidth": 1
          },
          "autotypenumbers": "strict",
          "coloraxis": {
           "colorbar": {
            "outlinewidth": 0,
            "ticks": ""
           }
          },
          "colorscale": {
           "diverging": [
            [
             0,
             "#8e0152"
            ],
            [
             0.1,
             "#c51b7d"
            ],
            [
             0.2,
             "#de77ae"
            ],
            [
             0.3,
             "#f1b6da"
            ],
            [
             0.4,
             "#fde0ef"
            ],
            [
             0.5,
             "#f7f7f7"
            ],
            [
             0.6,
             "#e6f5d0"
            ],
            [
             0.7,
             "#b8e186"
            ],
            [
             0.8,
             "#7fbc41"
            ],
            [
             0.9,
             "#4d9221"
            ],
            [
             1,
             "#276419"
            ]
           ],
           "sequential": [
            [
             0,
             "#0d0887"
            ],
            [
             0.1111111111111111,
             "#46039f"
            ],
            [
             0.2222222222222222,
             "#7201a8"
            ],
            [
             0.3333333333333333,
             "#9c179e"
            ],
            [
             0.4444444444444444,
             "#bd3786"
            ],
            [
             0.5555555555555556,
             "#d8576b"
            ],
            [
             0.6666666666666666,
             "#ed7953"
            ],
            [
             0.7777777777777778,
             "#fb9f3a"
            ],
            [
             0.8888888888888888,
             "#fdca26"
            ],
            [
             1,
             "#f0f921"
            ]
           ],
           "sequentialminus": [
            [
             0,
             "#0d0887"
            ],
            [
             0.1111111111111111,
             "#46039f"
            ],
            [
             0.2222222222222222,
             "#7201a8"
            ],
            [
             0.3333333333333333,
             "#9c179e"
            ],
            [
             0.4444444444444444,
             "#bd3786"
            ],
            [
             0.5555555555555556,
             "#d8576b"
            ],
            [
             0.6666666666666666,
             "#ed7953"
            ],
            [
             0.7777777777777778,
             "#fb9f3a"
            ],
            [
             0.8888888888888888,
             "#fdca26"
            ],
            [
             1,
             "#f0f921"
            ]
           ]
          },
          "colorway": [
           "#636efa",
           "#EF553B",
           "#00cc96",
           "#ab63fa",
           "#FFA15A",
           "#19d3f3",
           "#FF6692",
           "#B6E880",
           "#FF97FF",
           "#FECB52"
          ],
          "font": {
           "color": "#2a3f5f"
          },
          "geo": {
           "bgcolor": "white",
           "lakecolor": "white",
           "landcolor": "#E5ECF6",
           "showlakes": true,
           "showland": true,
           "subunitcolor": "white"
          },
          "hoverlabel": {
           "align": "left"
          },
          "hovermode": "closest",
          "mapbox": {
           "style": "light"
          },
          "paper_bgcolor": "white",
          "plot_bgcolor": "#E5ECF6",
          "polar": {
           "angularaxis": {
            "gridcolor": "white",
            "linecolor": "white",
            "ticks": ""
           },
           "bgcolor": "#E5ECF6",
           "radialaxis": {
            "gridcolor": "white",
            "linecolor": "white",
            "ticks": ""
           }
          },
          "scene": {
           "xaxis": {
            "backgroundcolor": "#E5ECF6",
            "gridcolor": "white",
            "gridwidth": 2,
            "linecolor": "white",
            "showbackground": true,
            "ticks": "",
            "zerolinecolor": "white"
           },
           "yaxis": {
            "backgroundcolor": "#E5ECF6",
            "gridcolor": "white",
            "gridwidth": 2,
            "linecolor": "white",
            "showbackground": true,
            "ticks": "",
            "zerolinecolor": "white"
           },
           "zaxis": {
            "backgroundcolor": "#E5ECF6",
            "gridcolor": "white",
            "gridwidth": 2,
            "linecolor": "white",
            "showbackground": true,
            "ticks": "",
            "zerolinecolor": "white"
           }
          },
          "shapedefaults": {
           "line": {
            "color": "#2a3f5f"
           }
          },
          "ternary": {
           "aaxis": {
            "gridcolor": "white",
            "linecolor": "white",
            "ticks": ""
           },
           "baxis": {
            "gridcolor": "white",
            "linecolor": "white",
            "ticks": ""
           },
           "bgcolor": "#E5ECF6",
           "caxis": {
            "gridcolor": "white",
            "linecolor": "white",
            "ticks": ""
           }
          },
          "title": {
           "x": 0.05
          },
          "xaxis": {
           "automargin": true,
           "gridcolor": "white",
           "linecolor": "white",
           "ticks": "",
           "title": {
            "standoff": 15
           },
           "zerolinecolor": "white",
           "zerolinewidth": 2
          },
          "yaxis": {
           "automargin": true,
           "gridcolor": "white",
           "linecolor": "white",
           "ticks": "",
           "title": {
            "standoff": 15
           },
           "zerolinecolor": "white",
           "zerolinewidth": 2
          }
         }
        },
        "title": {
         "text": "Difference between check points coordinates",
         "x": 0.5
        },
        "xaxis": {
         "tickmode": "array",
         "ticktext": [
          2213,
          2223,
          2233,
          2253,
          2263,
          2264,
          2303,
          2393,
          2403,
          2423,
          2433,
          2463,
          2464,
          2473,
          2483,
          2493,
          2503,
          2513,
          2523,
          2533,
          2553,
          2583,
          2773,
          2803,
          2813,
          2833,
          2853,
          2873,
          2893,
          2903,
          2913,
          2999,
          3005,
          3008,
          3013,
          3018,
          3019,
          3025,
          3026,
          9002,
          106019,
          110019,
          205019,
          207019,
          208019,
          211019,
          301019,
          302019,
          304019,
          305019,
          306029,
          307019,
          308019,
          311019,
          401029,
          402019,
          405019,
          405109,
          405209,
          411029,
          411039,
          412019,
          502029,
          506019,
          508019,
          512019,
          2031019,
          2031079,
          2031089,
          2041019,
          3031049,
          3031069,
          3031079,
          3051019,
          4031059,
          4041069,
          4041089
         ],
         "tickvals": [
          0,
          1,
          2,
          3,
          4,
          5,
          6,
          7,
          8,
          9,
          10,
          11,
          12,
          13,
          14,
          15,
          16,
          17,
          18,
          19,
          20,
          21,
          22,
          23,
          24,
          25,
          26,
          27,
          28,
          29,
          30,
          31,
          32,
          33,
          34,
          35,
          36,
          37,
          38,
          39,
          40,
          41,
          42,
          43,
          44,
          45,
          46,
          47,
          48,
          49,
          50,
          51,
          52,
          53,
          54,
          55,
          56,
          57,
          58,
          59,
          60,
          61,
          62,
          63,
          64,
          65,
          66,
          67,
          68,
          69,
          70,
          71,
          72,
          73,
          74,
          75,
          76
         ]
        },
        "yaxis": {
         "title": {
          "text": "Differences [m]"
         }
        }
       }
      }
     },
     "metadata": {},
     "output_type": "display_data"
    }
   ],
   "source": [
    "x = list(range(len(cp_ind)))\n",
    "bar_plots = [\n",
    "    go.Bar(x=x, y=diff_cp[:, 0], name='Easting X', marker=go.bar.Marker(color='#0343df')),\n",
    "    go.Bar(x=x, y=diff_cp[:, 1], name='Northing Y', marker=go.bar.Marker(color='#e50000')),\n",
    "    go.Bar(x=x, y=diff_cp[:, 2], name='Height Z', marker=go.bar.Marker(color='#ffff14'))\n",
    "]\n",
    "layout = go.Layout(\n",
    "    title=go.layout.Title(text=\"Difference between check points coordinates\", x=0.5),\n",
    "    yaxis_title=\"Differences [m]\",\n",
    "    xaxis_tickmode=\"array\",\n",
    "    xaxis_tickvals=x,\n",
    "    xaxis_ticktext=tuple(cp_ind)\n",
    ")\n",
    "fig = go.Figure(data=bar_plots, layout=layout)\n",
    "fig.show()"
   ]
  }
 ],
 "metadata": {
  "kernelspec": {
   "display_name": ".venv",
   "language": "python",
   "name": "python3"
  },
  "language_info": {
   "codemirror_mode": {
    "name": "ipython",
    "version": 3
   },
   "file_extension": ".py",
   "mimetype": "text/x-python",
   "name": "python",
   "nbconvert_exporter": "python",
   "pygments_lexer": "ipython3",
   "version": "3.9.13"
  },
  "orig_nbformat": 4
 },
 "nbformat": 4,
 "nbformat_minor": 2
}
